{
 "cells": [
  {
   "cell_type": "markdown",
   "metadata": {},
   "source": [
    "# 목표\n",
    "\n",
    "- 관세청 영문 문장 데이터 추가"
   ]
  },
  {
   "cell_type": "markdown",
   "metadata": {},
   "source": [
    "# Library"
   ]
  },
  {
   "cell_type": "code",
   "execution_count": null,
   "metadata": {},
   "outputs": [],
   "source": [
    "# visualization\n",
    "import matplotlib\n",
    "matplotlib.rcParams['axes.unicode_minus'] = False\n",
    "import matplotlib.pyplot as plt\n",
    "import matplotlib.font_manager as fm\n",
    "fe = fm.FontEntry(\n",
    "    fname=r'.venv/Lib/site-packages/matplotlib/mpl-data/fonts/ttf/NanumGothic.ttf', # ttf 파일이 저장되어 있는 경로\n",
    "    name='NanumBarunGothic')                        # 이 폰트의 원하는 이름 설정\n",
    "fm.fontManager.ttflist.insert(0, fe)              # Matplotlib에 폰트 추가\n",
    "plt.rcParams.update({'font.size': 10, 'font.family': 'NanumBarunGothic'}) # 폰트 설정\n",
    "plt.rc('font', family='NanumBarunGothic')\n",
    "import seaborn as sns\n",
    "import warnings\n",
    "warnings.filterwarnings('ignore')\n",
    "import missingno as msno"
   ]
  },
  {
   "cell_type": "code",
   "execution_count": null,
   "metadata": {},
   "outputs": [],
   "source": [
    "import os\n",
    "import re\n",
    "import json\n",
    "import yaml\n",
    "import time\n",
    "import numpy as np\n",
    "import pandas as pd\n",
    "\n",
    "from tqdm import tqdm\n",
    "from pprint import pprint\n",
    "\n",
    "from selenium.webdriver.chrome.options import Options\n",
    "from selenium.webdriver.chrome.service import Service\n",
    "from webdriver_manager.chrome import ChromeDriverManager\n",
    "from selenium import webdriver\n",
    "from selenium.webdriver.common.by import By"
   ]
  },
  {
   "cell_type": "markdown",
   "metadata": {},
   "source": [
    "# Data Load"
   ]
  },
  {
   "cell_type": "code",
   "execution_count": null,
   "metadata": {},
   "outputs": [],
   "source": [
    "text_data = pd.read_csv('./data/영문_텍스트.csv', dtype=str)\n",
    "statistics_data = pd.read_csv('./data/통계청.csv', dtype=str)\n",
    "customs_data = pd.read_csv('./data/관세청.csv', dtype=str)"
   ]
  },
  {
   "cell_type": "code",
   "execution_count": null,
   "metadata": {},
   "outputs": [],
   "source": [
    "text_data_copy = text_data.copy()\n",
    "statistics_data_copy = statistics_data.copy()\n",
    "customs_data_copy = customs_data.copy()"
   ]
  },
  {
   "cell_type": "code",
   "execution_count": null,
   "metadata": {},
   "outputs": [],
   "source": [
    "display(text_data_copy.info())\n",
    "display(statistics_data_copy.info())\n",
    "display(customs_data_copy.info())"
   ]
  },
  {
   "cell_type": "code",
   "execution_count": null,
   "metadata": {},
   "outputs": [],
   "source": [
    "customs_data_copy['HS부호'].apply(lambda x: x[:4])"
   ]
  },
  {
   "cell_type": "code",
   "execution_count": null,
   "metadata": {},
   "outputs": [],
   "source": [
    "customs_data_copy['HS부호_앞4자리'] = customs_data_copy['HS부호'].apply(lambda x: x[:4])"
   ]
  },
  {
   "cell_type": "code",
   "execution_count": null,
   "metadata": {},
   "outputs": [],
   "source": [
    "print(customs_data_copy.shape[0])\n",
    "print(customs_data_copy['HS부호_앞4자리'].nunique())\n",
    "\n",
    "# 앞 4자리로 기준 잡으면 됨 (앞4자리, 앞6자리 비교했는데 앞4자리가 공통되는 기준임)"
   ]
  },
  {
   "cell_type": "code",
   "execution_count": null,
   "metadata": {},
   "outputs": [],
   "source": [
    "customs_data_copy['HS부호_앞4자리'].unique()"
   ]
  },
  {
   "cell_type": "code",
   "execution_count": null,
   "metadata": {},
   "outputs": [],
   "source": [
    "customs_data_copy[customs_data_copy['HS부호_앞4자리'] == '0101']"
   ]
  },
  {
   "cell_type": "markdown",
   "metadata": {},
   "source": [
    "- 0101, 010121, 0101211000의 설명은 같음"
   ]
  },
  {
   "cell_type": "code",
   "execution_count": null,
   "metadata": {},
   "outputs": [],
   "source": [
    "# -------------------- 함수 모음 --------------------\n",
    "## 스크롤 끝까지\n",
    "def scroll(driver):\n",
    "    scroll_location = driver.execute_script('return document.body.scrollHeight')\n",
    "    while True:\n",
    "        driver.execute_script('window.scrollTo(0,document.body.scrollHeight)')\n",
    "        time.sleep(2)\n",
    "        scroll_height = driver.execute_script('return document.body.scrollHeight')\n",
    "        if scroll_location == scroll_height:\n",
    "            break\n",
    "        else:\n",
    "            scroll_location = driver.execute_script('return document.body.scrollHeight')\n",
    "    driver.implicitly_wait(3)\n",
    "\n",
    "\n",
    "## 스크롤 한 번만\n",
    "def scroll_one(driver):\n",
    "    driver.execute_script('window.scrollTo(0,document.body.scrollHeight)')\n",
    "    time.sleep(1)\n",
    "    driver.implicitly_wait(3)\n",
    "\n",
    "## 스크롤 위로\n",
    "def scroll_top(driver):\n",
    "    driver.execute_script('window.scrollTo(0, 0)')\n",
    "    time.sleep(1)\n",
    "    driver.implicitly_wait(3)\n",
    "\n",
    "\n",
    "## 페이지 내의 특정 스크롤 끝까지\n",
    "def scroll_element(driver, cond):\n",
    "    element = driver.find_element(By.CSS_SELECTOR, cond)\n",
    "    scroll_location = driver.execute_script('return arguments[0].scrollHeight', element)\n",
    "    while True:\n",
    "        driver.execute_script('arguments[0].scrollTop = arguments[0].scrollHeight', element)\n",
    "        time.sleep(2)\n",
    "        scroll_height = driver.execute_script('return arguments[0].scrollHeight', element)\n",
    "        if scroll_location == scroll_height:\n",
    "            break\n",
    "        else:\n",
    "            scroll_location = driver.execute_script('return arguments[0].scrollHeight', element)\n",
    "    driver.implicitly_wait(3)"
   ]
  },
  {
   "cell_type": "code",
   "execution_count": null,
   "metadata": {},
   "outputs": [],
   "source": [
    "# -------------------- 크롬 준비 --------------------\n",
    "options = Options()\n",
    "options.add_experimental_option(\"detach\", True) # 브라우저 꺼짐 방지\n",
    "options.add_argument('--start-maximized') # 브라우저 최대화 (지정도 가능: --window-size=1920, 1080)\n",
    "\n",
    "service = Service(excutable_path=ChromeDriverManager().install())"
   ]
  },
  {
   "cell_type": "code",
   "execution_count": 23,
   "metadata": {},
   "outputs": [
    {
     "name": "stderr",
     "output_type": "stream",
     "text": [
      "100%|██████████| 1352/1352 [3:59:53<00:00, 10.65s/it]  \n"
     ]
    }
   ],
   "source": [
    "driver = webdriver.Chrome(service=service, options=options)\n",
    "url = 'https://unipass.customs.go.kr/clip/index.do'\n",
    "driver.get(url=url)\n",
    "time.sleep(0.5)\n",
    "\n",
    "config = {\n",
    "    'main_kor_dsc': dict(),\n",
    "    'main_eng_dsc': dict(),\n",
    "    'all_kor_dsc': dict(),\n",
    "    'all_eng_dsc': dict(),\n",
    "}\n",
    "keywords = customs_data_copy['HS부호_앞4자리'].unique().tolist()\n",
    "\n",
    "# 세계HS 탭 클릭\n",
    "btn = driver.find_element(By.XPATH, '//*[@id=\"topmenu\"]/ul/li[3]')\n",
    "btn.click()\n",
    "time.sleep(0.5)\n",
    "\n",
    "# 관세율표 클릭\n",
    "btn = driver.find_element(By.XPATH, '//*[@id=\"leftmenu\"]/ul/li[1]/ul/li[3]')\n",
    "btn.click()\n",
    "\n",
    "for keyword in tqdm(keywords):\n",
    "    time.sleep(0.5)\n",
    "\n",
    "    # 검색어 입력\n",
    "    inp = driver.find_element(By.XPATH, '//*[@id=\"searchVal\"]')\n",
    "    inp.send_keys(f'{keyword}')\n",
    "    time.sleep(0.5)\n",
    "\n",
    "    # 검색 버튼 클릭\n",
    "    btn = driver.find_element(By.CLASS_NAME, 'btn_inlinesearch')\n",
    "    btn.click()\n",
    "    time.sleep(0.5)\n",
    "\n",
    "    # 핵심 국문 텍스트 수집\n",
    "    try:\n",
    "        parse = driver.find_element(By.XPATH, '//*[@id=\"tblLstBody\"]/tr[1]/td[4]').text\n",
    "        config['main_kor_dsc'][f'{keyword}'] = parse\n",
    "    except Exception as NoSuchElementException:\n",
    "        config['main_kor_dsc'][f'{keyword}'] = np.nan\n",
    "\n",
    "    # 핵심 영문 텍스트 수집\n",
    "    try:\n",
    "        parse = driver.find_element(By.XPATH, '//*[@id=\"tblLstBody\"]/tr[1]/td[5]').text\n",
    "        config['main_eng_dsc'][f'{keyword}'] = parse\n",
    "    except Exception as NoSuchElementException:\n",
    "        config['main_eng_dsc'][f'{keyword}'] = np.nan\n",
    "\n",
    "    scroll(driver) # 전체 페이지 스크롤 끝까지 아래로\n",
    "\n",
    "    # 국문 텍스트 전체 수집\n",
    "    scroll_element(driver, '#divLft_tab4') # 특정 페이지 스크롤 끝까지\n",
    "    parse = driver.find_element(By.XPATH, '//*[@id=\"divLft_tab4\"]').text\n",
    "    config['all_kor_dsc'][f'{keyword}'] = parse\n",
    "\n",
    "    # 영문 버튼 클릭\n",
    "    btn = driver.find_element(By.XPATH, '//*[@id=\"tab4\"]/div/div[1]/span/button[2]')\n",
    "    btn.click()\n",
    "    time.sleep(0.5)\n",
    "\n",
    "    # 영문 텍스트 전체 수집\n",
    "    scroll_element(driver, '#divLft_tab4') # 특정 페이지 스크롤 끝까지\n",
    "    parse = driver.find_element(By.XPATH, '//*[@id=\"divLft_tab4\"]').text\n",
    "    config['all_eng_dsc'][f'{keyword}'] = parse\n",
    "\n",
    "    scroll_top(driver) # 전체 페이지 스크롤 끝까지 위로\n",
    "\n",
    "    # 검색어 리셋\n",
    "    inp = driver.find_element(By.XPATH, '//*[@id=\"searchVal\"]')\n",
    "    inp.clear()\n",
    "\n",
    "driver.quit()\n",
    "\n",
    "# json 형식으로 데이터 저장\n",
    "with open('./data/customs_crawl_data.json', 'w', encoding='utf-8-sig') as file:\n",
    "    json.dump(config, file, ensure_ascii=False, indent=4)"
   ]
  },
  {
   "cell_type": "markdown",
   "metadata": {},
   "source": [
    "- 검색되지 않는 부호가 있음 (Ex. 0050, 0007)\n",
    "    - 이상치인가?"
   ]
  },
  {
   "cell_type": "code",
   "execution_count": 48,
   "metadata": {},
   "outputs": [],
   "source": [
    "keys = config['all_eng_dsc'].keys()\n",
    "values0 = config['main_kor_dsc'].values()\n",
    "values1 = config['main_eng_dsc'].values()\n",
    "values2 = config['all_kor_dsc'].values()\n",
    "values3 = config['all_eng_dsc'].values()\n",
    "\n",
    "data = {\n",
    "    'HS부호_앞4자리': keys,\n",
    "    '핵심_한글설명': values0,\n",
    "    '핵심_영어설명': values1,\n",
    "    '전체_한글설명': values2,\n",
    "    '전체_영어설명': values3,\n",
    "}\n",
    "crawl_data = pd.DataFrame(data)"
   ]
  },
  {
   "cell_type": "code",
   "execution_count": 50,
   "metadata": {},
   "outputs": [
    {
     "data": {
      "text/html": [
       "<div>\n",
       "<style scoped>\n",
       "    .dataframe tbody tr th:only-of-type {\n",
       "        vertical-align: middle;\n",
       "    }\n",
       "\n",
       "    .dataframe tbody tr th {\n",
       "        vertical-align: top;\n",
       "    }\n",
       "\n",
       "    .dataframe thead th {\n",
       "        text-align: right;\n",
       "    }\n",
       "</style>\n",
       "<table border=\"1\" class=\"dataframe\">\n",
       "  <thead>\n",
       "    <tr style=\"text-align: right;\">\n",
       "      <th></th>\n",
       "      <th>HS부호_앞4자리</th>\n",
       "      <th>핵심_한글설명</th>\n",
       "      <th>핵심_영어설명</th>\n",
       "      <th>전체_한글설명</th>\n",
       "      <th>전체_영어설명</th>\n",
       "    </tr>\n",
       "  </thead>\n",
       "  <tbody>\n",
       "    <tr>\n",
       "      <th>0</th>\n",
       "      <td>0101</td>\n",
       "      <td>살아 있는 말ㆍ당나귀ㆍ노새ㆍ버새</td>\n",
       "      <td>Live horses, asses, mules and hinnies.</td>\n",
       "      <td>01.01 - 살아 있는 말ㆍ당나귀ㆍ노새ㆍ버새(+)\\n- 말\\n0101.21 - 번...</td>\n",
       "      <td>01.01 Live horses, asses, mules and hinnies (+...</td>\n",
       "    </tr>\n",
       "    <tr>\n",
       "      <th>1</th>\n",
       "      <td>0102</td>\n",
       "      <td>살아 있는 소</td>\n",
       "      <td>Live bovine animals.</td>\n",
       "      <td>01.02 - 살아 있는 소(+)\\n- 축우(畜牛)\\n0102.21 - 번식용\\n0...</td>\n",
       "      <td>01.02 Live bovine animals (+).\\n- Cattle :\\n01...</td>\n",
       "    </tr>\n",
       "    <tr>\n",
       "      <th>2</th>\n",
       "      <td>0001</td>\n",
       "      <td>NaN</td>\n",
       "      <td>NaN</td>\n",
       "      <td>조회결과가 존재하지 않습니다.</td>\n",
       "      <td>조회결과가 존재하지 않습니다.</td>\n",
       "    </tr>\n",
       "    <tr>\n",
       "      <th>3</th>\n",
       "      <td>0103</td>\n",
       "      <td>살아 있는 돼지</td>\n",
       "      <td>Live swine.</td>\n",
       "      <td>01.03 - 살아 있는 돼지(+)\\n0103.10 - 번식용\\n- 기타\\n0103...</td>\n",
       "      <td>01.03 - Live swine (+).\\n0103.10 - Pure bred b...</td>\n",
       "    </tr>\n",
       "    <tr>\n",
       "      <th>4</th>\n",
       "      <td>0104</td>\n",
       "      <td>살아 있는 면양과 염소</td>\n",
       "      <td>Live sheep and goats.</td>\n",
       "      <td>01.04 - 살아 있는 면양과 염소\\n0104.10 - 면양\\n0104.20 - ...</td>\n",
       "      <td>01.04 - Live sheep and goats.\\n0104.10 - Sheep...</td>\n",
       "    </tr>\n",
       "  </tbody>\n",
       "</table>\n",
       "</div>"
      ],
      "text/plain": [
       "  HS부호_앞4자리            핵심_한글설명                                 핵심_영어설명  \\\n",
       "0      0101  살아 있는 말ㆍ당나귀ㆍ노새ㆍ버새  Live horses, asses, mules and hinnies.   \n",
       "1      0102            살아 있는 소                    Live bovine animals.   \n",
       "2      0001                NaN                                     NaN   \n",
       "3      0103           살아 있는 돼지                             Live swine.   \n",
       "4      0104       살아 있는 면양과 염소                   Live sheep and goats.   \n",
       "\n",
       "                                             전체_한글설명  \\\n",
       "0  01.01 - 살아 있는 말ㆍ당나귀ㆍ노새ㆍ버새(+)\\n- 말\\n0101.21 - 번...   \n",
       "1  01.02 - 살아 있는 소(+)\\n- 축우(畜牛)\\n0102.21 - 번식용\\n0...   \n",
       "2                                   조회결과가 존재하지 않습니다.   \n",
       "3  01.03 - 살아 있는 돼지(+)\\n0103.10 - 번식용\\n- 기타\\n0103...   \n",
       "4  01.04 - 살아 있는 면양과 염소\\n0104.10 - 면양\\n0104.20 - ...   \n",
       "\n",
       "                                             전체_영어설명  \n",
       "0  01.01 Live horses, asses, mules and hinnies (+...  \n",
       "1  01.02 Live bovine animals (+).\\n- Cattle :\\n01...  \n",
       "2                                   조회결과가 존재하지 않습니다.  \n",
       "3  01.03 - Live swine (+).\\n0103.10 - Pure bred b...  \n",
       "4  01.04 - Live sheep and goats.\\n0104.10 - Sheep...  "
      ]
     },
     "execution_count": 50,
     "metadata": {},
     "output_type": "execute_result"
    }
   ],
   "source": [
    "crawl_data.head()"
   ]
  },
  {
   "cell_type": "code",
   "execution_count": 49,
   "metadata": {},
   "outputs": [
    {
     "name": "stdout",
     "output_type": "stream",
     "text": [
      "<class 'pandas.core.frame.DataFrame'>\n",
      "RangeIndex: 1352 entries, 0 to 1351\n",
      "Data columns (total 5 columns):\n",
      " #   Column     Non-Null Count  Dtype \n",
      "---  ------     --------------  ----- \n",
      " 0   HS부호_앞4자리  1352 non-null   object\n",
      " 1   핵심_한글설명    1229 non-null   object\n",
      " 2   핵심_영어설명    1229 non-null   object\n",
      " 3   전체_한글설명    1352 non-null   object\n",
      " 4   전체_영어설명    1352 non-null   object\n",
      "dtypes: object(5)\n",
      "memory usage: 52.9+ KB\n"
     ]
    }
   ],
   "source": [
    "crawl_data.info()"
   ]
  },
  {
   "cell_type": "code",
   "execution_count": 67,
   "metadata": {},
   "outputs": [
    {
     "data": {
      "text/html": [
       "<div>\n",
       "<style scoped>\n",
       "    .dataframe tbody tr th:only-of-type {\n",
       "        vertical-align: middle;\n",
       "    }\n",
       "\n",
       "    .dataframe tbody tr th {\n",
       "        vertical-align: top;\n",
       "    }\n",
       "\n",
       "    .dataframe thead th {\n",
       "        text-align: right;\n",
       "    }\n",
       "</style>\n",
       "<table border=\"1\" class=\"dataframe\">\n",
       "  <thead>\n",
       "    <tr style=\"text-align: right;\">\n",
       "      <th></th>\n",
       "      <th>HS부호_앞4자리</th>\n",
       "      <th>핵심_한글설명</th>\n",
       "      <th>핵심_영어설명</th>\n",
       "      <th>전체_한글설명</th>\n",
       "      <th>전체_영어설명</th>\n",
       "    </tr>\n",
       "  </thead>\n",
       "  <tbody>\n",
       "    <tr>\n",
       "      <th>2</th>\n",
       "      <td>0001</td>\n",
       "      <td>NaN</td>\n",
       "      <td>NaN</td>\n",
       "      <td>조회결과가 존재하지 않습니다.</td>\n",
       "      <td>조회결과가 존재하지 않습니다.</td>\n",
       "    </tr>\n",
       "    <tr>\n",
       "      <th>14</th>\n",
       "      <td>0002</td>\n",
       "      <td>NaN</td>\n",
       "      <td>NaN</td>\n",
       "      <td>조회결과가 존재하지 않습니다.</td>\n",
       "      <td>조회결과가 존재하지 않습니다.</td>\n",
       "    </tr>\n",
       "    <tr>\n",
       "      <th>15</th>\n",
       "      <td>0000</td>\n",
       "      <td>NaN</td>\n",
       "      <td>NaN</td>\n",
       "      <td>조회결과가 존재하지 않습니다.</td>\n",
       "      <td>조회결과가 존재하지 않습니다.</td>\n",
       "    </tr>\n",
       "    <tr>\n",
       "      <th>20</th>\n",
       "      <td>0003</td>\n",
       "      <td>NaN</td>\n",
       "      <td>NaN</td>\n",
       "      <td>조회결과가 존재하지 않습니다.</td>\n",
       "      <td>조회결과가 존재하지 않습니다.</td>\n",
       "    </tr>\n",
       "    <tr>\n",
       "      <th>21</th>\n",
       "      <td>0030</td>\n",
       "      <td>NaN</td>\n",
       "      <td>NaN</td>\n",
       "      <td>조회결과가 존재하지 않습니다.</td>\n",
       "      <td>조회결과가 존재하지 않습니다.</td>\n",
       "    </tr>\n",
       "    <tr>\n",
       "      <th>...</th>\n",
       "      <td>...</td>\n",
       "      <td>...</td>\n",
       "      <td>...</td>\n",
       "      <td>...</td>\n",
       "      <td>...</td>\n",
       "    </tr>\n",
       "    <tr>\n",
       "      <th>1304</th>\n",
       "      <td>0930</td>\n",
       "      <td>NaN</td>\n",
       "      <td>NaN</td>\n",
       "      <td>조회결과가 존재하지 않습니다.</td>\n",
       "      <td>조회결과가 존재하지 않습니다.</td>\n",
       "    </tr>\n",
       "    <tr>\n",
       "      <th>1312</th>\n",
       "      <td>0094</td>\n",
       "      <td>NaN</td>\n",
       "      <td>NaN</td>\n",
       "      <td>조회결과가 존재하지 않습니다.</td>\n",
       "      <td>조회결과가 존재하지 않습니다.</td>\n",
       "    </tr>\n",
       "    <tr>\n",
       "      <th>1318</th>\n",
       "      <td>0095</td>\n",
       "      <td>NaN</td>\n",
       "      <td>NaN</td>\n",
       "      <td>조회결과가 존재하지 않습니다.</td>\n",
       "      <td>조회결과가 존재하지 않습니다.</td>\n",
       "    </tr>\n",
       "    <tr>\n",
       "      <th>1319</th>\n",
       "      <td>0950</td>\n",
       "      <td>NaN</td>\n",
       "      <td>NaN</td>\n",
       "      <td>조회결과가 존재하지 않습니다.</td>\n",
       "      <td>조회결과가 존재하지 않습니다.</td>\n",
       "    </tr>\n",
       "    <tr>\n",
       "      <th>1326</th>\n",
       "      <td>0096</td>\n",
       "      <td>NaN</td>\n",
       "      <td>NaN</td>\n",
       "      <td>조회결과가 존재하지 않습니다.</td>\n",
       "      <td>조회결과가 존재하지 않습니다.</td>\n",
       "    </tr>\n",
       "  </tbody>\n",
       "</table>\n",
       "<p>123 rows × 5 columns</p>\n",
       "</div>"
      ],
      "text/plain": [
       "     HS부호_앞4자리 핵심_한글설명 핵심_영어설명           전체_한글설명           전체_영어설명\n",
       "2         0001     NaN     NaN  조회결과가 존재하지 않습니다.  조회결과가 존재하지 않습니다.\n",
       "14        0002     NaN     NaN  조회결과가 존재하지 않습니다.  조회결과가 존재하지 않습니다.\n",
       "15        0000     NaN     NaN  조회결과가 존재하지 않습니다.  조회결과가 존재하지 않습니다.\n",
       "20        0003     NaN     NaN  조회결과가 존재하지 않습니다.  조회결과가 존재하지 않습니다.\n",
       "21        0030     NaN     NaN  조회결과가 존재하지 않습니다.  조회결과가 존재하지 않습니다.\n",
       "...        ...     ...     ...               ...               ...\n",
       "1304      0930     NaN     NaN  조회결과가 존재하지 않습니다.  조회결과가 존재하지 않습니다.\n",
       "1312      0094     NaN     NaN  조회결과가 존재하지 않습니다.  조회결과가 존재하지 않습니다.\n",
       "1318      0095     NaN     NaN  조회결과가 존재하지 않습니다.  조회결과가 존재하지 않습니다.\n",
       "1319      0950     NaN     NaN  조회결과가 존재하지 않습니다.  조회결과가 존재하지 않습니다.\n",
       "1326      0096     NaN     NaN  조회결과가 존재하지 않습니다.  조회결과가 존재하지 않습니다.\n",
       "\n",
       "[123 rows x 5 columns]"
      ]
     },
     "execution_count": 67,
     "metadata": {},
     "output_type": "execute_result"
    }
   ],
   "source": [
    "crawl_data[crawl_data['핵심_한글설명'].isnull()]"
   ]
  },
  {
   "cell_type": "code",
   "execution_count": 66,
   "metadata": {},
   "outputs": [
    {
     "data": {
      "text/plain": [
       "True"
      ]
     },
     "execution_count": 66,
     "metadata": {},
     "output_type": "execute_result"
    }
   ],
   "source": [
    "any(crawl_data[crawl_data['핵심_한글설명'].isnull()].index == crawl_data[crawl_data['핵심_영어설명'].isnull()].index)"
   ]
  },
  {
   "cell_type": "code",
   "execution_count": 70,
   "metadata": {},
   "outputs": [
    {
     "data": {
      "text/plain": [
       "True"
      ]
     },
     "execution_count": 70,
     "metadata": {},
     "output_type": "execute_result"
    }
   ],
   "source": [
    "any(crawl_data[crawl_data['전체_한글설명'] == '조회결과가 존재하지 않습니다.'].index == crawl_data[crawl_data['전체_영어설명'] == '조회결과가 존재하지 않습니다.'].index)"
   ]
  },
  {
   "cell_type": "code",
   "execution_count": 81,
   "metadata": {},
   "outputs": [
    {
     "name": "stdout",
     "output_type": "stream",
     "text": [
      "0\n"
     ]
    }
   ],
   "source": [
    "temp = []\n",
    "for idx in range(0, crawl_data.shape[0]):\n",
    "    if crawl_data.iloc[idx, 4] == ' ': # ''\n",
    "        temp.append(idx)\n",
    "print(len(temp))"
   ]
  },
  {
   "cell_type": "code",
   "execution_count": 82,
   "metadata": {},
   "outputs": [],
   "source": [
    "crawl_data.to_csv('./data/customs_crawl_data.csv', index=False, encoding='utf-8-sig')"
   ]
  },
  {
   "cell_type": "markdown",
   "metadata": {},
   "source": [
    "# 정규식으로 처리"
   ]
  },
  {
   "cell_type": "code",
   "execution_count": 85,
   "metadata": {},
   "outputs": [],
   "source": [
    "crawl_data = pd.read_csv('./data/customs_crawl_data.csv', dtype=str)"
   ]
  },
  {
   "cell_type": "code",
   "execution_count": 87,
   "metadata": {},
   "outputs": [
    {
     "name": "stdout",
     "output_type": "stream",
     "text": [
      "<class 'pandas.core.frame.DataFrame'>\n",
      "RangeIndex: 1352 entries, 0 to 1351\n",
      "Data columns (total 5 columns):\n",
      " #   Column     Non-Null Count  Dtype \n",
      "---  ------     --------------  ----- \n",
      " 0   HS부호_앞4자리  1352 non-null   object\n",
      " 1   핵심_한글설명    1229 non-null   object\n",
      " 2   핵심_영어설명    1229 non-null   object\n",
      " 3   전체_한글설명    1352 non-null   object\n",
      " 4   전체_영어설명    1352 non-null   object\n",
      "dtypes: object(5)\n",
      "memory usage: 52.9+ KB\n"
     ]
    }
   ],
   "source": [
    "crawl_data.info()"
   ]
  },
  {
   "cell_type": "code",
   "execution_count": 97,
   "metadata": {},
   "outputs": [],
   "source": [
    "keys = crawl_data['HS부호_앞4자리'].tolist()"
   ]
  },
  {
   "cell_type": "markdown",
   "metadata": {},
   "source": [
    "## 전체_* 컬럼 예시\n",
    "\n",
    "1. 조회결과가 아닌 경우, 두번째 파트 윗부분 버리기"
   ]
  },
  {
   "cell_type": "code",
   "execution_count": 106,
   "metadata": {},
   "outputs": [
    {
     "data": {
      "text/plain": [
       "'2935'"
      ]
     },
     "execution_count": 106,
     "metadata": {},
     "output_type": "execute_result"
    }
   ],
   "source": [
    "keys[396]"
   ]
  },
  {
   "cell_type": "code",
   "execution_count": 107,
   "metadata": {},
   "outputs": [
    {
     "name": "stdout",
     "output_type": "stream",
     "text": [
      "29.35 – 술폰아미드*\n",
      "2935.10 - 엔-메틸과불화옥탄 술폰아미드\n",
      "2935.20 - 엔-에틸과불화옥탄 술폰아미드\n",
      "2935.30 - 엔-에틸-엔-(2-히드록시에틸)과불화옥탄 술폰아미드\n",
      "2935.40 - 엔-(2-히드록시에틸)-엔-메틸과불화옥탄 술폰아미드\n",
      "2935.50 - 그 밖의 과불화옥탄 술폰아미드\n",
      "2935.90 - 기타\n",
      "술폰아미드는 (R1SO2NR2R3)의 일반식을 가지고 있으며 여기에서 R1은 이산화황(SO2) 그룹에 직접 붙어 있는 탄소 원자를 갖고 있는 여러 가지 복합물의 유기기(有機基 : organic radical)이며 R2와 R3는 수소나 그 밖의 원자이거나 여러 가지 복합물의 무기기(無機基)나 유기기(이중 결합이나 고리를 포함한다)이다. 강한 살세균제로서 의약용에 많이 사용한다. 이 호에는 특히 다음의 것을 포함한다.\n",
      "(1) N-알킬과불화옥탄 술폰아미드* : 예로서는 N-메틸과불화옥탄 술폰아미드나 N-에틸-N-(2-히드록시에틸)과불화옥탄 술폰아미드를 들 수 있다. 이 화학품들은 분해되어 과불화옥탄 술포네이트(PFOS)를 형성한다(제2904호, 제2922호, 제2923호, 제3808호와 제3824호도 참조).\n",
      "(2) 오르토톨루엔술폰아미드\n",
      "(3) 오르토술파모일벤조산\n",
      "(4) 파라술파모일벤질아민\n",
      "(5) 파라아미노벤젠술폰아미드(H2NC6H4SO2NH2)(술파닐아미드)*\n",
      "(6) 파라아미노벤젠술폰아세트아미드\n",
      "(7) 구연산 실데나필(비아그라)\n",
      "(8) 술파피리딘(INN)이나 파라아미노벤젠술폰아미도피리딘\n",
      "(9) 술파디아진(INN)이나 파라아미노벤젠술폰아미도피리미딘\n",
      "(10) 술파메라진(INN)이나 파라아미노벤젠술폰아미도메틸피리미딘\n",
      "(11) 술파티오우레아(INN)나 파라아미노벤젠술폰아미도티오우레아\n",
      "(12) 술파티아졸(INN)이나 파라아미노벤젠술폰아미도티아졸\n",
      "(13) 술폰아미드의 염화물(염소원자가 직접 질소와 결합하여 있는지에는 상관없다)(예: “클로라민”으로 알려져 있는 술폰클로라미드나 엔-클로로술폰아미드 ; “클로로티아지드”나 6-클로로-7-술파모일벤조-1,2,4-티아디아진-1,1-디옥사이드 ; 6-클로로-3,4-디히드로-7-술파모일벤조-1,2,4-티아디아진 1,1-디옥사이드)\n",
      "이 호에는 술폰아마이드 그룹의 모든 S-N 결합이 고리의 일부분인 화합물을 제외한다. 이들 물품은 제2934호의 그 밖의 헤테로고리(heterocyclic) 화합물[설탐(sultam)]이다.\n"
     ]
    }
   ],
   "source": [
    "text = crawl_data.loc[396, '전체_한글설명']\n",
    "print(text)"
   ]
  },
  {
   "cell_type": "markdown",
   "metadata": {},
   "source": [
    "## 시작!"
   ]
  },
  {
   "cell_type": "code",
   "execution_count": null,
   "metadata": {},
   "outputs": [],
   "source": [
    "def part_split(config, part_2_config):\n",
    "    for key in tqdm(keywords):\n",
    "        text = config[key]\n",
    "\n",
    "        # 텍스트 값 확인\n",
    "        if text == '조회결과가 존재하지 않습니다.':\n",
    "            part_2_config[key] = text\n",
    "\n",
    "        else:\n",
    "            # # 기호 제거 (◦, *)\n",
    "            # if '◦\\n' in text:\n",
    "            #     text = re.sub(r'\\n\\◦\\n\\◦ \\◦\\n[\\s\\S]*', '', text).strip()\n",
    "            # if '*\\n' in text:\n",
    "            #     text = re.sub(r'\\n\\*\\n\\* \\*\\n[\\s\\S]*', '', text).strip()\n",
    "\n",
    "            # # 첫번째 파트 추출\n",
    "            # pattern = r'\\d{2}\\.\\d{2} [^\\n]+'\n",
    "            # part_1 = re.search(pattern, text).group()\n",
    "            \n",
    "            # part_1_config[key] = part_1\n",
    "\n",
    "            # # 첫번째 파트 제거\n",
    "            # pattern = r'\\d{2}\\.\\d{2} [^\\n]+'\n",
    "            # text = re.sub(\n",
    "            #     pattern=pattern,\n",
    "            #     repl='',\n",
    "            #     string=text,\n",
    "            #     count=1,\n",
    "            #     flags=re.MULTILINE\n",
    "            # ).strip()\n",
    "\n",
    "            # 두번째 파트 추출 (nnnn.nn 및 - 지우기)\n",
    "            pattern = r'\\d{4}\\.\\d{2} [^\\n]+'\n",
    "            text = re.sub(\n",
    "                pattern=pattern, \n",
    "                repl='', \n",
    "                string=text\n",
    "            ).strip()\n",
    "\n",
    "            pattern = r'^- .*$'\n",
    "            part_2 = re.sub(\n",
    "                pattern=pattern, \n",
    "                repl='', \n",
    "                string=text, \n",
    "                flags=re.MULTILINE\n",
    "            ).strip()\n",
    "\n",
    "            part_2_config[key] = part_2\n",
    "\n",
    "    return part_2_config"
   ]
  }
 ],
 "metadata": {
  "kernelspec": {
   "display_name": ".venv",
   "language": "python",
   "name": "python3"
  },
  "language_info": {
   "codemirror_mode": {
    "name": "ipython",
    "version": 3
   },
   "file_extension": ".py",
   "mimetype": "text/x-python",
   "name": "python",
   "nbconvert_exporter": "python",
   "pygments_lexer": "ipython3",
   "version": "3.12.3"
  }
 },
 "nbformat": 4,
 "nbformat_minor": 2
}
