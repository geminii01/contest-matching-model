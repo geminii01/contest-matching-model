{
 "cells": [
  {
   "cell_type": "markdown",
   "metadata": {},
   "source": [
    "# 목표\n",
    "\n",
    "- 관세청 영문 문장 데이터 추가"
   ]
  },
  {
   "cell_type": "markdown",
   "metadata": {},
   "source": [
    "# Library"
   ]
  },
  {
   "cell_type": "code",
   "execution_count": 1,
   "metadata": {},
   "outputs": [],
   "source": [
    "# visualization\n",
    "import matplotlib\n",
    "matplotlib.rcParams['axes.unicode_minus'] = False\n",
    "import matplotlib.pyplot as plt\n",
    "import matplotlib.font_manager as fm\n",
    "fe = fm.FontEntry(\n",
    "    fname=r'.venv/Lib/site-packages/matplotlib/mpl-data/fonts/ttf/NanumGothic.ttf', # ttf 파일이 저장되어 있는 경로\n",
    "    name='NanumBarunGothic')                        # 이 폰트의 원하는 이름 설정\n",
    "fm.fontManager.ttflist.insert(0, fe)              # Matplotlib에 폰트 추가\n",
    "plt.rcParams.update({'font.size': 10, 'font.family': 'NanumBarunGothic'}) # 폰트 설정\n",
    "plt.rc('font', family='NanumBarunGothic')\n",
    "import seaborn as sns\n",
    "import warnings\n",
    "warnings.filterwarnings('ignore')\n",
    "import missingno as msno"
   ]
  },
  {
   "cell_type": "code",
   "execution_count": 2,
   "metadata": {},
   "outputs": [],
   "source": [
    "import os\n",
    "import re\n",
    "import time\n",
    "import pandas as pd\n",
    "\n",
    "from tqdm import tqdm\n",
    "\n",
    "from selenium.webdriver.chrome.options import Options\n",
    "from selenium.webdriver.chrome.service import Service\n",
    "from webdriver_manager.chrome import ChromeDriverManager\n",
    "from selenium import webdriver\n",
    "from selenium.webdriver.common.by import By"
   ]
  },
  {
   "cell_type": "markdown",
   "metadata": {},
   "source": [
    "# Data Load"
   ]
  },
  {
   "cell_type": "code",
   "execution_count": 3,
   "metadata": {},
   "outputs": [],
   "source": [
    "text_data = pd.read_csv('./data/영문_텍스트.csv', dtype=str)\n",
    "statistics_data = pd.read_csv('./data/통계청.csv', dtype=str)\n",
    "customs_data = pd.read_csv('./data/관세청.csv', dtype=str)"
   ]
  },
  {
   "cell_type": "code",
   "execution_count": 4,
   "metadata": {},
   "outputs": [],
   "source": [
    "text_data_copy = text_data.copy()\n",
    "statistics_data_copy = statistics_data.copy()\n",
    "customs_data_copy = customs_data.copy()"
   ]
  },
  {
   "cell_type": "code",
   "execution_count": 5,
   "metadata": {},
   "outputs": [
    {
     "name": "stdout",
     "output_type": "stream",
     "text": [
      "<class 'pandas.core.frame.DataFrame'>\n",
      "RangeIndex: 10000 entries, 0 to 9999\n",
      "Data columns (total 3 columns):\n",
      " #   Column  Non-Null Count  Dtype \n",
      "---  ------  --------------  ----- \n",
      " 0   ID      10000 non-null  object\n",
      " 1   CODE    10000 non-null  object\n",
      " 2   DSC     10000 non-null  object\n",
      "dtypes: object(3)\n",
      "memory usage: 234.5+ KB\n"
     ]
    },
    {
     "data": {
      "text/plain": [
       "None"
      ]
     },
     "metadata": {},
     "output_type": "display_data"
    },
    {
     "name": "stdout",
     "output_type": "stream",
     "text": [
      "<class 'pandas.core.frame.DataFrame'>\n",
      "RangeIndex: 6848 entries, 0 to 6847\n",
      "Data columns (total 6 columns):\n",
      " #   Column             Non-Null Count  Dtype \n",
      "---  ------             --------------  ----- \n",
      " 0   ISIC4_국제표준산업분류     2394 non-null   object\n",
      " 1   ISIC4_분류명          2393 non-null   object\n",
      " 2   KSIC10_한국표준산업분류    2933 non-null   object\n",
      " 3   KSIC10_분류명         2930 non-null   object\n",
      " 4   HS2017_관세통계통합품목분류  5637 non-null   object\n",
      " 5   HS2017_분류명         5637 non-null   object\n",
      "dtypes: object(6)\n",
      "memory usage: 321.1+ KB\n"
     ]
    },
    {
     "data": {
      "text/plain": [
       "None"
      ]
     },
     "metadata": {},
     "output_type": "display_data"
    },
    {
     "name": "stdout",
     "output_type": "stream",
     "text": [
      "<class 'pandas.core.frame.DataFrame'>\n",
      "RangeIndex: 12422 entries, 0 to 12421\n",
      "Data columns (total 5 columns):\n",
      " #   Column     Non-Null Count  Dtype \n",
      "---  ------     --------------  ----- \n",
      " 0   HS부호       12422 non-null  object\n",
      " 1   한글품목명      12422 non-null  object\n",
      " 2   영문품목명      12422 non-null  object\n",
      " 3   성질통합분류코드   11294 non-null  object\n",
      " 4   성질통합분류코드명  11294 non-null  object\n",
      "dtypes: object(5)\n",
      "memory usage: 485.4+ KB\n"
     ]
    },
    {
     "data": {
      "text/plain": [
       "None"
      ]
     },
     "metadata": {},
     "output_type": "display_data"
    }
   ],
   "source": [
    "display(text_data_copy.info())\n",
    "display(statistics_data_copy.info())\n",
    "display(customs_data_copy.info())"
   ]
  },
  {
   "cell_type": "code",
   "execution_count": 21,
   "metadata": {},
   "outputs": [
    {
     "data": {
      "text/html": [
       "<div>\n",
       "<style scoped>\n",
       "    .dataframe tbody tr th:only-of-type {\n",
       "        vertical-align: middle;\n",
       "    }\n",
       "\n",
       "    .dataframe tbody tr th {\n",
       "        vertical-align: top;\n",
       "    }\n",
       "\n",
       "    .dataframe thead th {\n",
       "        text-align: right;\n",
       "    }\n",
       "</style>\n",
       "<table border=\"1\" class=\"dataframe\">\n",
       "  <thead>\n",
       "    <tr style=\"text-align: right;\">\n",
       "      <th></th>\n",
       "      <th>HS부호</th>\n",
       "      <th>한글품목명</th>\n",
       "      <th>영문품목명</th>\n",
       "      <th>성질통합분류코드</th>\n",
       "      <th>성질통합분류코드명</th>\n",
       "    </tr>\n",
       "  </thead>\n",
       "  <tbody>\n",
       "    <tr>\n",
       "      <th>0</th>\n",
       "      <td>0101211000</td>\n",
       "      <td>농가 사육용</td>\n",
       "      <td>For farm breeding</td>\n",
       "      <td>11020101</td>\n",
       "      <td>말</td>\n",
       "    </tr>\n",
       "    <tr>\n",
       "      <th>1</th>\n",
       "      <td>0101219000</td>\n",
       "      <td>기타</td>\n",
       "      <td>Other</td>\n",
       "      <td>11020101</td>\n",
       "      <td>말</td>\n",
       "    </tr>\n",
       "    <tr>\n",
       "      <th>2</th>\n",
       "      <td>0101291000</td>\n",
       "      <td>경주말</td>\n",
       "      <td>Horses for racing</td>\n",
       "      <td>11020101</td>\n",
       "      <td>말</td>\n",
       "    </tr>\n",
       "    <tr>\n",
       "      <th>3</th>\n",
       "      <td>0101299000</td>\n",
       "      <td>기타</td>\n",
       "      <td>Other</td>\n",
       "      <td>11020101</td>\n",
       "      <td>말</td>\n",
       "    </tr>\n",
       "    <tr>\n",
       "      <th>4</th>\n",
       "      <td>0101300000</td>\n",
       "      <td>당나귀</td>\n",
       "      <td>Asses</td>\n",
       "      <td>11020190</td>\n",
       "      <td>기타 산 동물</td>\n",
       "    </tr>\n",
       "    <tr>\n",
       "      <th>...</th>\n",
       "      <td>...</td>\n",
       "      <td>...</td>\n",
       "      <td>...</td>\n",
       "      <td>...</td>\n",
       "      <td>...</td>\n",
       "    </tr>\n",
       "    <tr>\n",
       "      <th>12417</th>\n",
       "      <td>9706102000</td>\n",
       "      <td>악기류</td>\n",
       "      <td>Musical instruments</td>\n",
       "      <td>12050201</td>\n",
       "      <td>수집품 및 골동품</td>\n",
       "    </tr>\n",
       "    <tr>\n",
       "      <th>12418</th>\n",
       "      <td>9706103000</td>\n",
       "      <td>기타</td>\n",
       "      <td>Other</td>\n",
       "      <td>12050201</td>\n",
       "      <td>수집품 및 골동품</td>\n",
       "    </tr>\n",
       "    <tr>\n",
       "      <th>12419</th>\n",
       "      <td>9706901000</td>\n",
       "      <td>도자기류</td>\n",
       "      <td>Ceramics</td>\n",
       "      <td>12050201</td>\n",
       "      <td>수집품 및 골동품</td>\n",
       "    </tr>\n",
       "    <tr>\n",
       "      <th>12420</th>\n",
       "      <td>9706902000</td>\n",
       "      <td>악기류</td>\n",
       "      <td>Musical instruments</td>\n",
       "      <td>12050201</td>\n",
       "      <td>수집품 및 골동품</td>\n",
       "    </tr>\n",
       "    <tr>\n",
       "      <th>12421</th>\n",
       "      <td>9706903000</td>\n",
       "      <td>기타</td>\n",
       "      <td>Other</td>\n",
       "      <td>12050201</td>\n",
       "      <td>수집품 및 골동품</td>\n",
       "    </tr>\n",
       "  </tbody>\n",
       "</table>\n",
       "<p>12422 rows × 5 columns</p>\n",
       "</div>"
      ],
      "text/plain": [
       "             HS부호   한글품목명                영문품목명  성질통합분류코드  성질통합분류코드명\n",
       "0      0101211000  농가 사육용    For farm breeding  11020101          말\n",
       "1      0101219000      기타                Other  11020101          말\n",
       "2      0101291000     경주말    Horses for racing  11020101          말\n",
       "3      0101299000      기타                Other  11020101          말\n",
       "4      0101300000     당나귀                Asses  11020190    기타 산 동물\n",
       "...           ...     ...                  ...       ...        ...\n",
       "12417  9706102000     악기류  Musical instruments  12050201  수집품 및 골동품\n",
       "12418  9706103000      기타                Other  12050201  수집품 및 골동품\n",
       "12419  9706901000    도자기류             Ceramics  12050201  수집품 및 골동품\n",
       "12420  9706902000     악기류  Musical instruments  12050201  수집품 및 골동품\n",
       "12421  9706903000      기타                Other  12050201  수집품 및 골동품\n",
       "\n",
       "[12422 rows x 5 columns]"
      ]
     },
     "execution_count": 21,
     "metadata": {},
     "output_type": "execute_result"
    }
   ],
   "source": [
    "customs_data_copy"
   ]
  },
  {
   "cell_type": "code",
   "execution_count": 6,
   "metadata": {},
   "outputs": [],
   "source": [
    "# -------------------- 함수 모음 --------------------\n",
    "## 스크롤 끝까지\n",
    "def scroll(driver):\n",
    "    scroll_location = driver.execute_script('return document.body.scrollHeight')\n",
    "    while True:\n",
    "        driver.execute_script('window.scrollTo(0,document.body.scrollHeight)')\n",
    "        time.sleep(2)\n",
    "        scroll_height = driver.execute_script('return document.body.scrollHeight')\n",
    "        if scroll_location == scroll_height:\n",
    "            break\n",
    "        else:\n",
    "            scroll_location = driver.execute_script('return document.body.scrollHeight')\n",
    "    driver.implicitly_wait(3)\n",
    "\n",
    "\n",
    "## 스크롤 한 번만\n",
    "def scroll_one(driver):\n",
    "    driver.execute_script('window.scrollTo(0,document.body.scrollHeight)')\n",
    "    time.sleep(1)\n",
    "    driver.implicitly_wait(3)"
   ]
  },
  {
   "cell_type": "code",
   "execution_count": 7,
   "metadata": {},
   "outputs": [],
   "source": [
    "# -------------------- 크롬 준비 --------------------\n",
    "options = Options()\n",
    "options.add_experimental_option(\"detach\", True) # 브라우저 꺼짐 방지\n",
    "\n",
    "service = Service(excutable_path=ChromeDriverManager().install())"
   ]
  },
  {
   "cell_type": "code",
   "execution_count": 9,
   "metadata": {},
   "outputs": [],
   "source": [
    "driver = webdriver.Chrome(service=service, options=options)\n",
    "url = 'https://unipass.customs.go.kr/clip/index.do'\n",
    "driver.get(url=url)"
   ]
  },
  {
   "cell_type": "code",
   "execution_count": 10,
   "metadata": {},
   "outputs": [],
   "source": [
    "# 세계HS 탭 클릭\n",
    "\n",
    "# #topmenu > ul > li:nth-child(3)\n",
    "# //*[@id=\"topmenu\"]/ul/li[3]\n",
    "\n",
    "btn = driver.find_element(By.XPATH, '//*[@id=\"topmenu\"]/ul/li[3]')\n",
    "btn.click()"
   ]
  },
  {
   "cell_type": "code",
   "execution_count": 13,
   "metadata": {},
   "outputs": [],
   "source": [
    "# 관세율표 클릭\n",
    "\n",
    "btn = driver.find_element(By.XPATH, '//*[@id=\"leftmenu\"]/ul/li[1]/ul/li[3]')\n",
    "btn.click()"
   ]
  },
  {
   "cell_type": "code",
   "execution_count": 20,
   "metadata": {},
   "outputs": [],
   "source": [
    "# 2017년 클릭\n",
    "\n",
    "btn = driver.find_element(By.XPATH, '//*[@id=\"searchVo\"]/ul/li[1]/ul/li[8]/a')\n",
    "btn.click()"
   ]
  },
  {
   "cell_type": "code",
   "execution_count": 22,
   "metadata": {},
   "outputs": [],
   "source": [
    "# 검색어 입력\n",
    "\n",
    "inp = driver.find_element(By.XPATH, '//*[@id=\"searchVal\"]')\n",
    "inp.send_keys('0101211000')"
   ]
  },
  {
   "cell_type": "code",
   "execution_count": 23,
   "metadata": {},
   "outputs": [],
   "source": [
    "# 검색 버튼 클릭\n",
    "\n",
    "btn = driver.find_element(By.XPATH, '//*[@id=\"searchVo\"]/div/span/button')\n",
    "btn.click()"
   ]
  },
  {
   "cell_type": "code",
   "execution_count": 24,
   "metadata": {},
   "outputs": [],
   "source": [
    "scroll_one(driver)"
   ]
  },
  {
   "cell_type": "code",
   "execution_count": 27,
   "metadata": {},
   "outputs": [
    {
     "name": "stdout",
     "output_type": "stream",
     "text": [
      "01.01 - 살아 있는 말ㆍ당나귀ㆍ노새ㆍ버새(+)\n",
      "- 말\n",
      "0101.21 - 번식용\n",
      "0101.29 - 기타\n",
      "0101.30 - 당나귀\n",
      "0101.90 - 기타\n",
      "이 호에는 말(암컷의 말․번식용 말․거세한 말․새끼말․조랑말)․당나귀․노새와 버새를 분류한다(야생이나 가축인지에 상관없다).\n",
      "노새는 당나귀와 암컷 말과의 잡종이며, 버새는 번식용 말과 당나귀와의 교배종이다.\n",
      "◦\n",
      "◦ ◦\n",
      "[소호해설]\n",
      "소호 제0101.21호\n",
      "소호 제0101.21호에서 “번식용 동물(pure-bred breeding animals)”에는 소관 국가기관에서 “순종(pure-bred)”으로 간주하는 번식용 동물로 한정하여 분류한다.\n"
     ]
    }
   ],
   "source": [
    "# 국문 텍스트 전체 수집\n",
    "\n",
    "parse = driver.find_element(By.XPATH, '//*[@id=\"divLft_tab4\"]').text\n",
    "print(parse)"
   ]
  },
  {
   "cell_type": "code",
   "execution_count": 28,
   "metadata": {},
   "outputs": [],
   "source": [
    "# 영문 버튼 클릭\n",
    "\n",
    "btn = driver.find_element(By.XPATH, '//*[@id=\"tab4\"]/div/div[1]/span/button[2]')\n",
    "btn.click()"
   ]
  },
  {
   "cell_type": "code",
   "execution_count": 29,
   "metadata": {},
   "outputs": [
    {
     "name": "stdout",
     "output_type": "stream",
     "text": [
      "01.01 Live horses, asses, mules and hinnies (+).\n",
      "- Horses :\n",
      "0101.21 - Pure-bred breeding animals\n",
      "0101.29 - Other\n",
      "0101.30 - Asses\n",
      "0101.90 - Other\n",
      "This heading covers horses (mares, stallions, geldings, foals and ponies), asses, mules and hinnies, whether domestic or wild.\n",
      "Mules are the hybrid offspring of the ass and the mare. The hinny is bred from the stallion and the ass.\n",
      "°\n",
      "° °\n",
      "Subheading Explanatory Note.\n",
      "Subheading 0101.21\n",
      "For the purposes of subheading 0101.21, the expression “ pure bred breeding animals ” covers only those breeding animals which are regarded as “ pure bred ” by the competent national authorities.\n"
     ]
    }
   ],
   "source": [
    "# 영문 텍스트 전체 수집\n",
    "\n",
    "parse = driver.find_element(By.XPATH, '//*[@id=\"divLft_tab4\"]').text\n",
    "print(parse)"
   ]
  },
  {
   "cell_type": "code",
   "execution_count": null,
   "metadata": {},
   "outputs": [],
   "source": []
  }
 ],
 "metadata": {
  "kernelspec": {
   "display_name": ".venv",
   "language": "python",
   "name": "python3"
  },
  "language_info": {
   "codemirror_mode": {
    "name": "ipython",
    "version": 3
   },
   "file_extension": ".py",
   "mimetype": "text/x-python",
   "name": "python",
   "nbconvert_exporter": "python",
   "pygments_lexer": "ipython3",
   "version": "3.12.3"
  }
 },
 "nbformat": 4,
 "nbformat_minor": 2
}
