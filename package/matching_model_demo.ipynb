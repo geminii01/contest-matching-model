{
 "cells": [
  {
   "cell_type": "code",
   "execution_count": 28,
   "metadata": {},
   "outputs": [],
   "source": [
    "from dotenv import load_dotenv\n",
    "load_dotenv()\n",
    "\n",
    "import os\n",
    "import re\n",
    "import csv\n",
    "import json\n",
    "import time\n",
    "import numpy as np\n",
    "import pandas as pd\n",
    "\n",
    "from langchain import hub\n",
    "from langchain.text_splitter import RecursiveCharacterTextSplitter\n",
    "from langchain_community.document_loaders import JSONLoader\n",
    "from langchain.schema import Document\n",
    "from langchain_community.vectorstores import FAISS\n",
    "from langchain_upstage import UpstageEmbeddings\n",
    "from langchain_upstage import ChatUpstage\n",
    "from langchain_core.runnables import RunnablePassthrough\n",
    "from langchain_core.output_parsers import StrOutputParser"
   ]
  },
  {
   "cell_type": "code",
   "execution_count": 2,
   "metadata": {},
   "outputs": [
    {
     "name": "stdout",
     "output_type": "stream",
     "text": [
      "LangSmith Project: matching_model_demo\n"
     ]
    }
   ],
   "source": [
    "OPENAI_API_KEY = os.environ.get('OPENAI_API_KEY')\n",
    "UPSTAGE_API_KEY = os.environ.get('UPSTAGE_API_KEY')\n",
    "LANGCHAIN_API_KEY = os.environ.get('LANGCHAIN_API_KEY')\n",
    "os.environ['LANGCHAIN_PROJECT'] = 'matching_model_demo' # 프로젝트명 수정\n",
    "LANGCHAIN_PROJECT = os.environ.get('LANGCHAIN_PROJECT')\n",
    "\n",
    "print(f'LangSmith Project: {LANGCHAIN_PROJECT}')"
   ]
  },
  {
   "cell_type": "markdown",
   "metadata": {},
   "source": [
    "# 데이터 구성\n",
    "\n",
    "> 전처리, csv to jsonl"
   ]
  },
  {
   "cell_type": "code",
   "execution_count": 71,
   "metadata": {},
   "outputs": [
    {
     "name": "stdout",
     "output_type": "stream",
     "text": [
      "> 데이터 로드 완료\n",
      "> 데이터 전처리 완료\n",
      "> 데이터 결측치 확인\n",
      "-------------------------\n",
      "ID      0\n",
      "CODE    0\n",
      "DSC     0\n",
      "dtype: int64\n",
      "ISIC4_국제표준산업분류       0\n",
      "ISIC4_분류명            0\n",
      "KSIC10_한국표준산업분류      0\n",
      "KSIC10_분류명           0\n",
      "HS2017_관세통계통합품목분류    0\n",
      "HS2017_분류명           0\n",
      "dtype: int64\n",
      "HS부호         0\n",
      "한글품목명        0\n",
      "영문품목명        0\n",
      "성질통합분류코드     0\n",
      "성질통합분류코드명    0\n",
      "dtype: int64\n",
      "-------------------------\n",
      "> csv to jsonl 완료\n"
     ]
    }
   ],
   "source": [
    "# 데이터 로드\n",
    "\n",
    "text = pd.read_excel('../data/비식별된 해외기업별 영문 텍스트데이터.xlsx')\n",
    "statis = pd.read_excel('../data/통계청 국제표준산업분류 HSCODE 6단위 매핑.xlsx')\n",
    "customs = pd.read_excel('../data/관세청_HS부호_240101.xlsx')\n",
    "\n",
    "text_copy = text.copy()\n",
    "statis_copy = statis.copy()\n",
    "customs_copy = customs.copy()\n",
    "\n",
    "print('> 데이터 로드 완료')\n",
    "\n",
    "\n",
    "# 데이터 전처리\n",
    "\n",
    "def zero_input(num, x):\n",
    "    if pd.isna(x):\n",
    "        return np.nan\n",
    "    else:\n",
    "        cnt = num - len(x)\n",
    "        return '0' * cnt + x\n",
    "    \n",
    "def re_sub(x):\n",
    "    if pd.isna(x):\n",
    "        return np.nan\n",
    "    else:\n",
    "        return re.sub(r'^\\((.*?)\\)$', r'\\1', x)\n",
    "\n",
    "text_copy['ID'] = text_copy['ID'].astype(str)\n",
    "text_copy['CODE'] = text_copy['CODE'].astype(str)\n",
    "text_copy['CODE'] = text_copy['CODE'].apply(lambda x: zero_input(4, x))\n",
    "\n",
    "statis_copy.columns = [\n",
    "    'ISIC4_국제표준산업분류', \n",
    "    'ISIC4_분류명', \n",
    "    'KSIC10_한국표준산업분류',\n",
    "    'KSIC10_분류명', \n",
    "    'HS2017_관세통계통합품목분류', \n",
    "    'HS2017_분류명'\n",
    "]\n",
    "\n",
    "statis_copy['ISIC4_국제표준산업분류'] = statis_copy['ISIC4_국제표준산업분류'].astype(str)\n",
    "statis_copy['ISIC4_국제표준산업분류'] = statis_copy['ISIC4_국제표준산업분류'].replace('nan', np.nan)\n",
    "statis_copy['ISIC4_국제표준산업분류'] = statis_copy['ISIC4_국제표준산업분류'].str.replace('.0', '', regex=False)\n",
    "statis_copy['ISIC4_국제표준산업분류'] = statis_copy['ISIC4_국제표준산업분류'].apply(lambda x: zero_input(4, x))\n",
    "\n",
    "statis_copy['HS2017_관세통계통합품목분류'] = statis_copy['HS2017_관세통계통합품목분류'].astype(str)\n",
    "statis_copy['HS2017_관세통계통합품목분류'] = statis_copy['HS2017_관세통계통합품목분류'].replace('nan', np.nan)\n",
    "statis_copy['HS2017_관세통계통합품목분류'] = statis_copy['HS2017_관세통계통합품목분류'].str.replace('.0', '', regex=False)\n",
    "statis_copy['HS2017_관세통계통합품목분류'] = statis_copy['HS2017_관세통계통합품목분류'].apply(lambda x: zero_input(6, x))\n",
    "\n",
    "customs_copy['HS부호'] = customs_copy['HS부호'].astype(str)\n",
    "customs_copy['HS부호'] = customs_copy['HS부호'].apply(lambda x: zero_input(10, x))\n",
    "\n",
    "customs_copy['성질통합분류코드'] = customs_copy['성질통합분류코드'].astype(str)\n",
    "customs_copy['성질통합분류코드'] = customs_copy['성질통합분류코드'].replace('nan', np.nan)\n",
    "customs_copy['성질통합분류코드'] = customs_copy['성질통합분류코드'].str.replace('.0', '', regex=False)\n",
    "\n",
    "customs_copy['성질통합분류코드명'] = customs_copy['성질통합분류코드명'].apply(lambda x: re_sub(x))\n",
    "\n",
    "text_copy = text_copy.fillna('결과 없음')\n",
    "statis_copy = statis_copy.fillna('결과 없음')\n",
    "customs_copy = customs_copy.fillna('결과 없음')\n",
    "\n",
    "print('> 데이터 전처리 완료')\n",
    "print('> 데이터 결측치 확인')\n",
    "print('-----' * 5)\n",
    "print(text_copy.isnull().sum())\n",
    "print(statis_copy.isnull().sum())\n",
    "print(customs_copy.isnull().sum())\n",
    "print('-----' * 5)\n",
    "\n",
    "\n",
    "# 데이터 저장 및 로드\n",
    "\n",
    "text_copy.to_csv('../data/prepro_text.csv', index=False, encoding='utf-8')\n",
    "statis_copy.to_csv('../data/prepro_statis.csv', index=False, encoding='utf-8')\n",
    "customs_copy.to_csv('../data/prepro_customs.csv', index=False, encoding='utf-8')\n",
    "\n",
    "text_prepro = pd.read_csv('../data/prepro_text.csv', dtype=str)\n",
    "statis_prepro = pd.read_csv('../data/prepro_statis.csv', dtype=str)\n",
    "customs_prepro = pd.read_csv('../data/prepro_customs.csv', dtype=str)\n",
    "\n",
    "\n",
    "# csv to jsonl\n",
    "\n",
    "def csv_to_jsonl(csv_file_path, jsonl_file_path):\n",
    "    with open(csv_file_path, mode='r', encoding='utf-8-sig') as csv_file:\n",
    "        csv_reader = csv.DictReader(csv_file)\n",
    "        \n",
    "        with open(jsonl_file_path, mode='w', encoding='utf-8') as jsonl_file:\n",
    "            for row in csv_reader:\n",
    "                jsonl_file.write(json.dumps(row, ensure_ascii=False) + '\\n')\n",
    "\n",
    "csv_to_jsonl('../data/prepro_text.csv', '../data/jsonl_prepro_text.jsonl')\n",
    "csv_to_jsonl('../data/prepro_statis.csv', '../data/jsonl_prepro_statis.jsonl')\n",
    "csv_to_jsonl('../data/prepro_customs.csv', '../data/jsonl_prepro_customs.jsonl')\n",
    "print('> csv to jsonl 완료')"
   ]
  },
  {
   "cell_type": "markdown",
   "metadata": {},
   "source": [
    "# Document 구성"
   ]
  },
  {
   "cell_type": "code",
   "execution_count": null,
   "metadata": {},
   "outputs": [],
   "source": []
  }
 ],
 "metadata": {
  "kernelspec": {
   "display_name": ".venv",
   "language": "python",
   "name": "python3"
  },
  "language_info": {
   "codemirror_mode": {
    "name": "ipython",
    "version": 3
   },
   "file_extension": ".py",
   "mimetype": "text/x-python",
   "name": "python",
   "nbconvert_exporter": "python",
   "pygments_lexer": "ipython3",
   "version": "3.12.3"
  }
 },
 "nbformat": 4,
 "nbformat_minor": 2
}
