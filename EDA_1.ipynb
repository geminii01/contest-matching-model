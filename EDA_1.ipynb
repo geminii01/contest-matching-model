{
 "cells": [
  {
   "cell_type": "markdown",
   "metadata": {},
   "source": [
    "# 목표\n",
    "\n",
    "- 데이터를 보고 HS부호를 뽑는 프로세스를 이해하기\n",
    "- 추천 시스템과 RAG 중 어떤 방법을 선택할지 정하기\n",
    "- 추가할 데이터는 없는지 고려해보기"
   ]
  },
  {
   "cell_type": "markdown",
   "metadata": {},
   "source": [
    "# Library"
   ]
  },
  {
   "cell_type": "code",
   "execution_count": 26,
   "metadata": {},
   "outputs": [],
   "source": [
    "import re\n",
    "import numpy as np\n",
    "import pandas as pd\n",
    "from tqdm import tqdm\n",
    "\n",
    "# visualization\n",
    "import matplotlib\n",
    "matplotlib.rcParams['axes.unicode_minus'] = False\n",
    "import matplotlib.pyplot as plt\n",
    "import matplotlib.font_manager as fm\n",
    "fe = fm.FontEntry(\n",
    "    fname=r'.venv/Lib/site-packages/matplotlib/mpl-data/fonts/ttf/NanumGothic.ttf', # ttf 파일이 저장되어 있는 경로\n",
    "    name='NanumBarunGothic')                        # 이 폰트의 원하는 이름 설정\n",
    "fm.fontManager.ttflist.insert(0, fe)              # Matplotlib에 폰트 추가\n",
    "plt.rcParams.update({'font.size': 10, 'font.family': 'NanumBarunGothic'}) # 폰트 설정\n",
    "plt.rc('font', family='NanumBarunGothic')\n",
    "import seaborn as sns\n",
    "import warnings\n",
    "warnings.filterwarnings('ignore')\n",
    "import missingno as msno"
   ]
  },
  {
   "cell_type": "markdown",
   "metadata": {},
   "source": [
    "# Data Load"
   ]
  },
  {
   "cell_type": "code",
   "execution_count": 27,
   "metadata": {},
   "outputs": [],
   "source": [
    "text_data = pd.read_csv('./data/비식별된 해외기업별 영문 텍스트데이터.csv', dtype=str)\n",
    "statistics_data = pd.read_csv('./data/통계청 국제표준산업분류 HSCODE 6단위 매핑.csv', dtype=str)\n",
    "customs_data = pd.read_csv('./data/관세청_HS부호_240101.csv', dtype=str)"
   ]
  },
  {
   "cell_type": "code",
   "execution_count": 28,
   "metadata": {},
   "outputs": [],
   "source": [
    "text_data_copy = text_data.copy()\n",
    "statistics_data_copy = statistics_data.copy()\n",
    "customs_data_copy = customs_data.copy()"
   ]
  },
  {
   "cell_type": "code",
   "execution_count": 29,
   "metadata": {},
   "outputs": [
    {
     "name": "stdout",
     "output_type": "stream",
     "text": [
      "<class 'pandas.core.frame.DataFrame'>\n",
      "RangeIndex: 10000 entries, 0 to 9999\n",
      "Data columns (total 3 columns):\n",
      " #   Column  Non-Null Count  Dtype \n",
      "---  ------  --------------  ----- \n",
      " 0   ID      10000 non-null  object\n",
      " 1   CODE    10000 non-null  object\n",
      " 2   DSC     10000 non-null  object\n",
      "dtypes: object(3)\n",
      "memory usage: 234.5+ KB\n"
     ]
    },
    {
     "data": {
      "text/plain": [
       "None"
      ]
     },
     "metadata": {},
     "output_type": "display_data"
    },
    {
     "name": "stdout",
     "output_type": "stream",
     "text": [
      "<class 'pandas.core.frame.DataFrame'>\n",
      "RangeIndex: 8519 entries, 0 to 8518\n",
      "Data columns (total 6 columns):\n",
      " #   Column             Non-Null Count  Dtype \n",
      "---  ------             --------------  ----- \n",
      " 0   ISIC4_국제표준산업분류     2970 non-null   object\n",
      " 1   ISIC4_분류명          2963 non-null   object\n",
      " 2   KSIC10_한국표준산업분류    3732 non-null   object\n",
      " 3   KSIC10_분류명         3729 non-null   object\n",
      " 4   HS2017_관세통계통합품목분류  6061 non-null   object\n",
      " 5   HS2017_분류명         6061 non-null   object\n",
      "dtypes: object(6)\n",
      "memory usage: 399.5+ KB\n"
     ]
    },
    {
     "data": {
      "text/plain": [
       "None"
      ]
     },
     "metadata": {},
     "output_type": "display_data"
    },
    {
     "name": "stdout",
     "output_type": "stream",
     "text": [
      "<class 'pandas.core.frame.DataFrame'>\n",
      "RangeIndex: 12422 entries, 0 to 12421\n",
      "Data columns (total 5 columns):\n",
      " #   Column     Non-Null Count  Dtype \n",
      "---  ------     --------------  ----- \n",
      " 0   HS부호       12422 non-null  object\n",
      " 1   한글품목명      12422 non-null  object\n",
      " 2   영문품목명      12422 non-null  object\n",
      " 3   성질통합분류코드   11294 non-null  object\n",
      " 4   성질통합분류코드명  11294 non-null  object\n",
      "dtypes: object(5)\n",
      "memory usage: 485.4+ KB\n"
     ]
    },
    {
     "data": {
      "text/plain": [
       "None"
      ]
     },
     "metadata": {},
     "output_type": "display_data"
    }
   ],
   "source": [
    "display(text_data_copy.info())\n",
    "display(statistics_data_copy.info())\n",
    "display(customs_data_copy.info())"
   ]
  },
  {
   "cell_type": "markdown",
   "metadata": {},
   "source": [
    "# 중복값 확인"
   ]
  },
  {
   "cell_type": "markdown",
   "metadata": {},
   "source": [
    "## 텍스트"
   ]
  },
  {
   "cell_type": "code",
   "execution_count": 30,
   "metadata": {},
   "outputs": [
    {
     "data": {
      "text/html": [
       "<div>\n",
       "<style scoped>\n",
       "    .dataframe tbody tr th:only-of-type {\n",
       "        vertical-align: middle;\n",
       "    }\n",
       "\n",
       "    .dataframe tbody tr th {\n",
       "        vertical-align: top;\n",
       "    }\n",
       "\n",
       "    .dataframe thead th {\n",
       "        text-align: right;\n",
       "    }\n",
       "</style>\n",
       "<table border=\"1\" class=\"dataframe\">\n",
       "  <thead>\n",
       "    <tr style=\"text-align: right;\">\n",
       "      <th></th>\n",
       "      <th>ID</th>\n",
       "      <th>CODE</th>\n",
       "      <th>DSC</th>\n",
       "    </tr>\n",
       "  </thead>\n",
       "  <tbody>\n",
       "    <tr>\n",
       "      <th>4393</th>\n",
       "      <td>4555</td>\n",
       "      <td>4659</td>\n",
       "      <td>commercial equipment, nec  the wholesale distr...</td>\n",
       "    </tr>\n",
       "    <tr>\n",
       "      <th>4394</th>\n",
       "      <td>4555</td>\n",
       "      <td>4659</td>\n",
       "      <td>commercial equipment, nec  the wholesale distr...</td>\n",
       "    </tr>\n",
       "    <tr>\n",
       "      <th>9911</th>\n",
       "      <td>10563</td>\n",
       "      <td>2013</td>\n",
       "      <td>plastics materials or resins, nec  manufacturi...</td>\n",
       "    </tr>\n",
       "    <tr>\n",
       "      <th>9912</th>\n",
       "      <td>10563</td>\n",
       "      <td>2013</td>\n",
       "      <td>plastics materials or resins, nec  manufacturi...</td>\n",
       "    </tr>\n",
       "    <tr>\n",
       "      <th>9930</th>\n",
       "      <td>10579</td>\n",
       "      <td>2100</td>\n",
       "      <td>pharmaceutical preparations  manufacturing, fa...</td>\n",
       "    </tr>\n",
       "    <tr>\n",
       "      <th>9931</th>\n",
       "      <td>10579</td>\n",
       "      <td>2100</td>\n",
       "      <td>pharmaceutical preparations  manufacturing, fa...</td>\n",
       "    </tr>\n",
       "  </tbody>\n",
       "</table>\n",
       "</div>"
      ],
      "text/plain": [
       "         ID  CODE                                                DSC\n",
       "4393   4555  4659  commercial equipment, nec  the wholesale distr...\n",
       "4394   4555  4659  commercial equipment, nec  the wholesale distr...\n",
       "9911  10563  2013  plastics materials or resins, nec  manufacturi...\n",
       "9912  10563  2013  plastics materials or resins, nec  manufacturi...\n",
       "9930  10579  2100  pharmaceutical preparations  manufacturing, fa...\n",
       "9931  10579  2100  pharmaceutical preparations  manufacturing, fa..."
      ]
     },
     "execution_count": 30,
     "metadata": {},
     "output_type": "execute_result"
    }
   ],
   "source": [
    "text_data_copy[text_data_copy.duplicated(keep=False)]"
   ]
  },
  {
   "cell_type": "code",
   "execution_count": 31,
   "metadata": {},
   "outputs": [
    {
     "name": "stdout",
     "output_type": "stream",
     "text": [
      "(10000, 3)\n",
      "(3, 3)\n",
      "(9997, 3)\n"
     ]
    }
   ],
   "source": [
    "print(text_data_copy.shape)\n",
    "print(text_data_copy[text_data_copy.duplicated()].shape)\n",
    "print(text_data_copy.drop_duplicates().shape)"
   ]
  },
  {
   "cell_type": "code",
   "execution_count": 32,
   "metadata": {},
   "outputs": [],
   "source": [
    "text_data_copy = text_data_copy.drop_duplicates()\n",
    "text_data_copy = text_data_copy.reset_index(drop=True)"
   ]
  },
  {
   "cell_type": "markdown",
   "metadata": {},
   "source": [
    "## 통계청"
   ]
  },
  {
   "cell_type": "code",
   "execution_count": 33,
   "metadata": {},
   "outputs": [
    {
     "data": {
      "text/html": [
       "<div>\n",
       "<style scoped>\n",
       "    .dataframe tbody tr th:only-of-type {\n",
       "        vertical-align: middle;\n",
       "    }\n",
       "\n",
       "    .dataframe tbody tr th {\n",
       "        vertical-align: top;\n",
       "    }\n",
       "\n",
       "    .dataframe thead th {\n",
       "        text-align: right;\n",
       "    }\n",
       "</style>\n",
       "<table border=\"1\" class=\"dataframe\">\n",
       "  <thead>\n",
       "    <tr style=\"text-align: right;\">\n",
       "      <th></th>\n",
       "      <th>ISIC4_국제표준산업분류</th>\n",
       "      <th>ISIC4_분류명</th>\n",
       "      <th>KSIC10_한국표준산업분류</th>\n",
       "      <th>KSIC10_분류명</th>\n",
       "      <th>HS2017_관세통계통합품목분류</th>\n",
       "      <th>HS2017_분류명</th>\n",
       "    </tr>\n",
       "  </thead>\n",
       "  <tbody>\n",
       "    <tr>\n",
       "      <th>10</th>\n",
       "      <td>0111</td>\n",
       "      <td>곡물(쌀 제외), 콩류, 종실유 재배업</td>\n",
       "      <td>01123</td>\n",
       "      <td>종자 및 묘목 생산업</td>\n",
       "      <td>100310</td>\n",
       "      <td>종자</td>\n",
       "    </tr>\n",
       "    <tr>\n",
       "      <th>11</th>\n",
       "      <td>0111</td>\n",
       "      <td>곡물(쌀 제외), 콩류, 종실유 재배업</td>\n",
       "      <td>01110</td>\n",
       "      <td>곡물 및 기타 식량작물 재배업</td>\n",
       "      <td>100390</td>\n",
       "      <td>기타</td>\n",
       "    </tr>\n",
       "    <tr>\n",
       "      <th>12</th>\n",
       "      <td>0111</td>\n",
       "      <td>곡물(쌀 제외), 콩류, 종실유 재배업</td>\n",
       "      <td>01123</td>\n",
       "      <td>종자 및 묘목 생산업</td>\n",
       "      <td>100310</td>\n",
       "      <td>종자</td>\n",
       "    </tr>\n",
       "    <tr>\n",
       "      <th>13</th>\n",
       "      <td>0111</td>\n",
       "      <td>곡물(쌀 제외), 콩류, 종실유 재배업</td>\n",
       "      <td>01110</td>\n",
       "      <td>곡물 및 기타 식량작물 재배업</td>\n",
       "      <td>100390</td>\n",
       "      <td>기타</td>\n",
       "    </tr>\n",
       "    <tr>\n",
       "      <th>21</th>\n",
       "      <td>NaN</td>\n",
       "      <td>NaN</td>\n",
       "      <td>01123</td>\n",
       "      <td>종자 및 묘목 생산업</td>\n",
       "      <td>NaN</td>\n",
       "      <td>NaN</td>\n",
       "    </tr>\n",
       "    <tr>\n",
       "      <th>...</th>\n",
       "      <td>...</td>\n",
       "      <td>...</td>\n",
       "      <td>...</td>\n",
       "      <td>...</td>\n",
       "      <td>...</td>\n",
       "      <td>...</td>\n",
       "    </tr>\n",
       "    <tr>\n",
       "      <th>8493</th>\n",
       "      <td>NaN</td>\n",
       "      <td>NaN</td>\n",
       "      <td>96912</td>\n",
       "      <td>가정용 세탁업</td>\n",
       "      <td>NaN</td>\n",
       "      <td>NaN</td>\n",
       "    </tr>\n",
       "    <tr>\n",
       "      <th>8495</th>\n",
       "      <td>9601</td>\n",
       "      <td>직물 및 모피 제품 세탁과 (드라이) 클리닝</td>\n",
       "      <td>96911</td>\n",
       "      <td>산업용 세탁업</td>\n",
       "      <td>NaN</td>\n",
       "      <td>NaN</td>\n",
       "    </tr>\n",
       "    <tr>\n",
       "      <th>8496</th>\n",
       "      <td>NaN</td>\n",
       "      <td>NaN</td>\n",
       "      <td>96912</td>\n",
       "      <td>가정용 세탁업</td>\n",
       "      <td>NaN</td>\n",
       "      <td>NaN</td>\n",
       "    </tr>\n",
       "    <tr>\n",
       "      <th>8497</th>\n",
       "      <td>9601</td>\n",
       "      <td>직물 및 모피 제품 세탁과 (드라이) 클리닝</td>\n",
       "      <td>96911</td>\n",
       "      <td>산업용 세탁업</td>\n",
       "      <td>NaN</td>\n",
       "      <td>NaN</td>\n",
       "    </tr>\n",
       "    <tr>\n",
       "      <th>8498</th>\n",
       "      <td>NaN</td>\n",
       "      <td>NaN</td>\n",
       "      <td>96912</td>\n",
       "      <td>가정용 세탁업</td>\n",
       "      <td>NaN</td>\n",
       "      <td>NaN</td>\n",
       "    </tr>\n",
       "  </tbody>\n",
       "</table>\n",
       "<p>2321 rows × 6 columns</p>\n",
       "</div>"
      ],
      "text/plain": [
       "     ISIC4_국제표준산업분류                 ISIC4_분류명 KSIC10_한국표준산업분류  \\\n",
       "10             0111     곡물(쌀 제외), 콩류, 종실유 재배업           01123   \n",
       "11             0111     곡물(쌀 제외), 콩류, 종실유 재배업           01110   \n",
       "12             0111     곡물(쌀 제외), 콩류, 종실유 재배업           01123   \n",
       "13             0111     곡물(쌀 제외), 콩류, 종실유 재배업           01110   \n",
       "21              NaN                       NaN           01123   \n",
       "...             ...                       ...             ...   \n",
       "8493            NaN                       NaN           96912   \n",
       "8495           9601  직물 및 모피 제품 세탁과 (드라이) 클리닝           96911   \n",
       "8496            NaN                       NaN           96912   \n",
       "8497           9601  직물 및 모피 제품 세탁과 (드라이) 클리닝           96911   \n",
       "8498            NaN                       NaN           96912   \n",
       "\n",
       "            KSIC10_분류명 HS2017_관세통계통합품목분류 HS2017_분류명  \n",
       "10         종자 및 묘목 생산업            100310         종자  \n",
       "11    곡물 및 기타 식량작물 재배업            100390         기타  \n",
       "12         종자 및 묘목 생산업            100310         종자  \n",
       "13    곡물 및 기타 식량작물 재배업            100390         기타  \n",
       "21         종자 및 묘목 생산업               NaN        NaN  \n",
       "...                ...               ...        ...  \n",
       "8493           가정용 세탁업               NaN        NaN  \n",
       "8495           산업용 세탁업               NaN        NaN  \n",
       "8496           가정용 세탁업               NaN        NaN  \n",
       "8497           산업용 세탁업               NaN        NaN  \n",
       "8498           가정용 세탁업               NaN        NaN  \n",
       "\n",
       "[2321 rows x 6 columns]"
      ]
     },
     "execution_count": 33,
     "metadata": {},
     "output_type": "execute_result"
    }
   ],
   "source": [
    "statistics_data_copy[statistics_data_copy.duplicated(keep=False)]"
   ]
  },
  {
   "cell_type": "code",
   "execution_count": 34,
   "metadata": {},
   "outputs": [
    {
     "name": "stdout",
     "output_type": "stream",
     "text": [
      "(8519, 6)\n",
      "(1671, 6)\n",
      "(6848, 6)\n"
     ]
    }
   ],
   "source": [
    "print(statistics_data_copy.shape)\n",
    "print(statistics_data_copy[statistics_data_copy.duplicated()].shape)\n",
    "print(statistics_data_copy.drop_duplicates().shape)"
   ]
  },
  {
   "cell_type": "code",
   "execution_count": 35,
   "metadata": {},
   "outputs": [],
   "source": [
    "statistics_data_copy = statistics_data_copy.drop_duplicates()\n",
    "statistics_data_copy = statistics_data_copy.reset_index(drop=True)"
   ]
  },
  {
   "cell_type": "markdown",
   "metadata": {},
   "source": [
    "## 관세청"
   ]
  },
  {
   "cell_type": "code",
   "execution_count": 36,
   "metadata": {},
   "outputs": [
    {
     "data": {
      "text/html": [
       "<div>\n",
       "<style scoped>\n",
       "    .dataframe tbody tr th:only-of-type {\n",
       "        vertical-align: middle;\n",
       "    }\n",
       "\n",
       "    .dataframe tbody tr th {\n",
       "        vertical-align: top;\n",
       "    }\n",
       "\n",
       "    .dataframe thead th {\n",
       "        text-align: right;\n",
       "    }\n",
       "</style>\n",
       "<table border=\"1\" class=\"dataframe\">\n",
       "  <thead>\n",
       "    <tr style=\"text-align: right;\">\n",
       "      <th></th>\n",
       "      <th>HS부호</th>\n",
       "      <th>한글품목명</th>\n",
       "      <th>영문품목명</th>\n",
       "      <th>성질통합분류코드</th>\n",
       "      <th>성질통합분류코드명</th>\n",
       "    </tr>\n",
       "  </thead>\n",
       "  <tbody>\n",
       "  </tbody>\n",
       "</table>\n",
       "</div>"
      ],
      "text/plain": [
       "Empty DataFrame\n",
       "Columns: [HS부호, 한글품목명, 영문품목명, 성질통합분류코드, 성질통합분류코드명]\n",
       "Index: []"
      ]
     },
     "execution_count": 36,
     "metadata": {},
     "output_type": "execute_result"
    }
   ],
   "source": [
    "customs_data_copy[customs_data_copy.duplicated()]"
   ]
  },
  {
   "cell_type": "markdown",
   "metadata": {},
   "source": [
    "# 결측치 채우기 (보류)"
   ]
  },
  {
   "cell_type": "markdown",
   "metadata": {},
   "source": [
    "- 윗줄꺼로 보간은 아닌 것 같음. 결측치를 채우기 위한 교차 확인이 되지 않음. 일단.. 결측치 있는채로 진행"
   ]
  },
  {
   "cell_type": "code",
   "execution_count": 37,
   "metadata": {},
   "outputs": [],
   "source": [
    "# 일단 공백으로 채우기\n",
    "text_data_copy = text_data_copy.fillna('')\n",
    "statistics_data_copy = statistics_data_copy.fillna('')\n",
    "customs_data_copy = customs_data_copy.fillna('')"
   ]
  },
  {
   "cell_type": "markdown",
   "metadata": {},
   "source": [
    "# 텍스트 -> 통계청, 관세청"
   ]
  },
  {
   "cell_type": "code",
   "execution_count": 38,
   "metadata": {},
   "outputs": [
    {
     "data": {
      "text/plain": [
       "ID                                                      1\n",
       "CODE                                                 4520\n",
       "DSC     automotive repair shops, nec  specialized auto...\n",
       "Name: 0, dtype: object"
      ]
     },
     "execution_count": 38,
     "metadata": {},
     "output_type": "execute_result"
    }
   ],
   "source": [
    "# 영문 텍스트 확인\n",
    "text_data_copy.iloc[0]"
   ]
  },
  {
   "cell_type": "code",
   "execution_count": 39,
   "metadata": {},
   "outputs": [
    {
     "data": {
      "text/plain": [
       "'automotive repair shops, nec  specialized automotive repair, not elsewhere classified, such as fuel service carburetor repair, brake relining, front-end and wheel alignment, and radiator repair. motor vehicle repair and maintenance auto brake lining, installation other automotive mechanical and electrical repair and maintenance maintenance and repair of motor vehicles maintenance and repair of motor vehicles maintenance and repair of motor vehiclesother automotive repair and maintenance'"
      ]
     },
     "execution_count": 39,
     "metadata": {},
     "output_type": "execute_result"
    }
   ],
   "source": [
    "# 영문 텍스트 확인\n",
    "text_data_copy.iloc[0, 2]"
   ]
  },
  {
   "cell_type": "markdown",
   "metadata": {},
   "source": [
    "자동차 수리점, 기타 특별한 자동차 수리, 연료 서비스, 카뷰레터 수리, 브레이크 라이닝 교체, \n",
    "\n",
    "전면 및 휠 정렬, 라디에이터 수리 등. 자동차 수리 및 유지보수, 자동차 브레이크 라이닝 설치, \n",
    "\n",
    "기타 자동차 기계 및 전기 수리 및 유지보수, 자동차의 유지보수 및 수리, 자동차의 유지보수 및 수리, 기타 자동차 수리 및 유지보수."
   ]
  },
  {
   "cell_type": "code",
   "execution_count": 40,
   "metadata": {},
   "outputs": [
    {
     "data": {
      "text/html": [
       "<div>\n",
       "<style scoped>\n",
       "    .dataframe tbody tr th:only-of-type {\n",
       "        vertical-align: middle;\n",
       "    }\n",
       "\n",
       "    .dataframe tbody tr th {\n",
       "        vertical-align: top;\n",
       "    }\n",
       "\n",
       "    .dataframe thead th {\n",
       "        text-align: right;\n",
       "    }\n",
       "</style>\n",
       "<table border=\"1\" class=\"dataframe\">\n",
       "  <thead>\n",
       "    <tr style=\"text-align: right;\">\n",
       "      <th></th>\n",
       "      <th>ISIC4_국제표준산업분류</th>\n",
       "      <th>ISIC4_분류명</th>\n",
       "      <th>KSIC10_한국표준산업분류</th>\n",
       "      <th>KSIC10_분류명</th>\n",
       "      <th>HS2017_관세통계통합품목분류</th>\n",
       "      <th>HS2017_분류명</th>\n",
       "    </tr>\n",
       "  </thead>\n",
       "  <tbody>\n",
       "    <tr>\n",
       "      <th>7630</th>\n",
       "      <td>4520</td>\n",
       "      <td>자동차 정비 및 수리업</td>\n",
       "      <td>95211</td>\n",
       "      <td>자동차 종합 수리업</td>\n",
       "      <td></td>\n",
       "      <td></td>\n",
       "    </tr>\n",
       "    <tr>\n",
       "      <th>7631</th>\n",
       "      <td>4520</td>\n",
       "      <td>자동차 정비 및 수리업</td>\n",
       "      <td>95212</td>\n",
       "      <td>자동차 전문 수리업</td>\n",
       "      <td></td>\n",
       "      <td></td>\n",
       "    </tr>\n",
       "    <tr>\n",
       "      <th>7632</th>\n",
       "      <td>4520</td>\n",
       "      <td>자동차 정비 및 수리업</td>\n",
       "      <td>95213</td>\n",
       "      <td>자동차 세차업</td>\n",
       "      <td></td>\n",
       "      <td></td>\n",
       "    </tr>\n",
       "  </tbody>\n",
       "</table>\n",
       "</div>"
      ],
      "text/plain": [
       "     ISIC4_국제표준산업분류     ISIC4_분류명 KSIC10_한국표준산업분류  KSIC10_분류명  \\\n",
       "7630           4520  자동차 정비 및 수리업           95211  자동차 종합 수리업   \n",
       "7631           4520  자동차 정비 및 수리업           95212  자동차 전문 수리업   \n",
       "7632           4520  자동차 정비 및 수리업           95213     자동차 세차업   \n",
       "\n",
       "     HS2017_관세통계통합품목분류 HS2017_분류명  \n",
       "7630                               \n",
       "7631                               \n",
       "7632                               "
      ]
     },
     "execution_count": 40,
     "metadata": {},
     "output_type": "execute_result"
    }
   ],
   "source": [
    "# 텍스트 데이터의 CODE를 통계청에서 확인\n",
    "statistics_data_copy[statistics_data_copy['ISIC4_국제표준산업분류'] == '4520']"
   ]
  },
  {
   "cell_type": "markdown",
   "metadata": {},
   "source": [
    "- 영문 텍스트를 해석하면 7630과 7631행과 관련이 있는 것으로 보임\n",
    "- 관세청에서 자동차 수리 관련 행을 찾아야 할 듯"
   ]
  },
  {
   "cell_type": "code",
   "execution_count": 41,
   "metadata": {},
   "outputs": [
    {
     "data": {
      "text/html": [
       "<div>\n",
       "<style scoped>\n",
       "    .dataframe tbody tr th:only-of-type {\n",
       "        vertical-align: middle;\n",
       "    }\n",
       "\n",
       "    .dataframe tbody tr th {\n",
       "        vertical-align: top;\n",
       "    }\n",
       "\n",
       "    .dataframe thead th {\n",
       "        text-align: right;\n",
       "    }\n",
       "</style>\n",
       "<table border=\"1\" class=\"dataframe\">\n",
       "  <thead>\n",
       "    <tr style=\"text-align: right;\">\n",
       "      <th></th>\n",
       "      <th>HS부호</th>\n",
       "      <th>한글품목명</th>\n",
       "      <th>영문품목명</th>\n",
       "      <th>성질통합분류코드</th>\n",
       "      <th>성질통합분류코드명</th>\n",
       "    </tr>\n",
       "  </thead>\n",
       "  <tbody>\n",
       "    <tr>\n",
       "      <th>0</th>\n",
       "      <td>0101211000</td>\n",
       "      <td>농가 사육용</td>\n",
       "      <td>For farm breeding</td>\n",
       "      <td>11020101</td>\n",
       "      <td>말</td>\n",
       "    </tr>\n",
       "    <tr>\n",
       "      <th>1</th>\n",
       "      <td>0101219000</td>\n",
       "      <td>기타</td>\n",
       "      <td>Other</td>\n",
       "      <td>11020101</td>\n",
       "      <td>말</td>\n",
       "    </tr>\n",
       "    <tr>\n",
       "      <th>2</th>\n",
       "      <td>0101291000</td>\n",
       "      <td>경주말</td>\n",
       "      <td>Horses for racing</td>\n",
       "      <td>11020101</td>\n",
       "      <td>말</td>\n",
       "    </tr>\n",
       "    <tr>\n",
       "      <th>3</th>\n",
       "      <td>0101299000</td>\n",
       "      <td>기타</td>\n",
       "      <td>Other</td>\n",
       "      <td>11020101</td>\n",
       "      <td>말</td>\n",
       "    </tr>\n",
       "    <tr>\n",
       "      <th>4</th>\n",
       "      <td>0101300000</td>\n",
       "      <td>당나귀</td>\n",
       "      <td>Asses</td>\n",
       "      <td>11020190</td>\n",
       "      <td>기타 산 동물</td>\n",
       "    </tr>\n",
       "  </tbody>\n",
       "</table>\n",
       "</div>"
      ],
      "text/plain": [
       "         HS부호   한글품목명              영문품목명  성질통합분류코드 성질통합분류코드명\n",
       "0  0101211000  농가 사육용  For farm breeding  11020101         말\n",
       "1  0101219000      기타              Other  11020101         말\n",
       "2  0101291000     경주말  Horses for racing  11020101         말\n",
       "3  0101299000      기타              Other  11020101         말\n",
       "4  0101300000     당나귀              Asses  11020190   기타 산 동물"
      ]
     },
     "execution_count": 41,
     "metadata": {},
     "output_type": "execute_result"
    }
   ],
   "source": [
    "customs_data_copy.head()"
   ]
  },
  {
   "cell_type": "code",
   "execution_count": 52,
   "metadata": {},
   "outputs": [],
   "source": [
    "idx_list_0 = []\n",
    "idx_list_1 = []\n",
    "for idx in range(0, customs_data_copy.shape[0]):\n",
    "    # 먼저 한글품목명 기준으로 키워드를 찾는다.\n",
    "    cond = customs_data_copy.iloc[idx, 1]\n",
    "    if '자동차' in cond: # 수리, 자동차, 부품\n",
    "        # print(idx, end=' ')\n",
    "        idx_list_0.append(idx)\n",
    "        # 한글품목명으로 걸러진 데이터에서 성질통합분류코드명 기준으로 키워드를 찾는다.\n",
    "        cond2 = customs_data_copy.iloc[idx, 4]\n",
    "        if '부품' in cond2:\n",
    "            # print(idx, end=' ')\n",
    "            idx_list_1.append(idx)"
   ]
  },
  {
   "cell_type": "code",
   "execution_count": 54,
   "metadata": {},
   "outputs": [
    {
     "data": {
      "text/html": [
       "<div>\n",
       "<style scoped>\n",
       "    .dataframe tbody tr th:only-of-type {\n",
       "        vertical-align: middle;\n",
       "    }\n",
       "\n",
       "    .dataframe tbody tr th {\n",
       "        vertical-align: top;\n",
       "    }\n",
       "\n",
       "    .dataframe thead th {\n",
       "        text-align: right;\n",
       "    }\n",
       "</style>\n",
       "<table border=\"1\" class=\"dataframe\">\n",
       "  <thead>\n",
       "    <tr style=\"text-align: right;\">\n",
       "      <th></th>\n",
       "      <th>HS부호</th>\n",
       "      <th>한글품목명</th>\n",
       "      <th>영문품목명</th>\n",
       "      <th>성질통합분류코드</th>\n",
       "      <th>성질통합분류코드명</th>\n",
       "    </tr>\n",
       "  </thead>\n",
       "  <tbody>\n",
       "    <tr>\n",
       "      <th>8332</th>\n",
       "      <td>7320101000</td>\n",
       "      <td>자동차용 판상 스프링</td>\n",
       "      <td>Leaf-springs for automobiles</td>\n",
       "      <td>31060101</td>\n",
       "      <td>자동차 부품</td>\n",
       "    </tr>\n",
       "    <tr>\n",
       "      <th>8335</th>\n",
       "      <td>7320201000</td>\n",
       "      <td>자동차용</td>\n",
       "      <td>For automobiles</td>\n",
       "      <td>31060101</td>\n",
       "      <td>자동차 부품</td>\n",
       "    </tr>\n",
       "    <tr>\n",
       "      <th>10835</th>\n",
       "      <td>8536902000</td>\n",
       "      <td>제8702호, 제8703호, 제8704호나 제8711호의 자동차용 배터리 클램프(b...</td>\n",
       "      <td>Battery clamp of a kind used for motor vehicle...</td>\n",
       "      <td>31060101</td>\n",
       "      <td>자동차 부품</td>\n",
       "    </tr>\n",
       "    <tr>\n",
       "      <th>10849</th>\n",
       "      <td>8538902000</td>\n",
       "      <td>자동차단기의 것</td>\n",
       "      <td>Of automatic circuit breakers</td>\n",
       "      <td>32040505</td>\n",
       "      <td>전기공급 및 제어장치 부품</td>\n",
       "    </tr>\n",
       "  </tbody>\n",
       "</table>\n",
       "</div>"
      ],
      "text/plain": [
       "             HS부호                                              한글품목명  \\\n",
       "8332   7320101000                                        자동차용 판상 스프링   \n",
       "8335   7320201000                                               자동차용   \n",
       "10835  8536902000  제8702호, 제8703호, 제8704호나 제8711호의 자동차용 배터리 클램프(b...   \n",
       "10849  8538902000                                           자동차단기의 것   \n",
       "\n",
       "                                                   영문품목명  성질통합분류코드  \\\n",
       "8332                        Leaf-springs for automobiles  31060101   \n",
       "8335                                     For automobiles  31060101   \n",
       "10835  Battery clamp of a kind used for motor vehicle...  31060101   \n",
       "10849                      Of automatic circuit breakers  32040505   \n",
       "\n",
       "            성질통합분류코드명  \n",
       "8332           자동차 부품  \n",
       "8335           자동차 부품  \n",
       "10835          자동차 부품  \n",
       "10849  전기공급 및 제어장치 부품  "
      ]
     },
     "execution_count": 54,
     "metadata": {},
     "output_type": "execute_result"
    }
   ],
   "source": [
    "customs_data_copy.iloc[idx_list_1] # idx_list_0"
   ]
  },
  {
   "cell_type": "code",
   "execution_count": 57,
   "metadata": {},
   "outputs": [],
   "source": [
    "idx_list_2 = []\n",
    "for idx in range(0, customs_data_copy.shape[0]):\n",
    "    # 영문품목명 기준으로 키워드를 찾는다.\n",
    "    cond = customs_data_copy.iloc[idx, 2]\n",
    "    if 'auto' in cond: # auto\n",
    "        # print(idx, end=' ')\n",
    "        idx_list_2.append(idx)"
   ]
  },
  {
   "cell_type": "code",
   "execution_count": 58,
   "metadata": {},
   "outputs": [
    {
     "data": {
      "text/html": [
       "<div>\n",
       "<style scoped>\n",
       "    .dataframe tbody tr th:only-of-type {\n",
       "        vertical-align: middle;\n",
       "    }\n",
       "\n",
       "    .dataframe tbody tr th {\n",
       "        vertical-align: top;\n",
       "    }\n",
       "\n",
       "    .dataframe thead th {\n",
       "        text-align: right;\n",
       "    }\n",
       "</style>\n",
       "<table border=\"1\" class=\"dataframe\">\n",
       "  <thead>\n",
       "    <tr style=\"text-align: right;\">\n",
       "      <th></th>\n",
       "      <th>HS부호</th>\n",
       "      <th>한글품목명</th>\n",
       "      <th>영문품목명</th>\n",
       "      <th>성질통합분류코드</th>\n",
       "      <th>성질통합분류코드명</th>\n",
       "    </tr>\n",
       "  </thead>\n",
       "  <tbody>\n",
       "    <tr>\n",
       "      <th>2630</th>\n",
       "      <td>2710197120</td>\n",
       "      <td>자동차용 기관오일</td>\n",
       "      <td>Engine oil for automotive</td>\n",
       "      <td>23020206</td>\n",
       "      <td>윤활유</td>\n",
       "    </tr>\n",
       "    <tr>\n",
       "      <th>2639</th>\n",
       "      <td>0027101973</td>\n",
       "      <td>콤파운드오일, 유동파라핀과 자동변속기용 윤활유</td>\n",
       "      <td>Compound oil, liquid paraffin and automatic tr...</td>\n",
       "      <td></td>\n",
       "      <td></td>\n",
       "    </tr>\n",
       "    <tr>\n",
       "      <th>2691</th>\n",
       "      <td>2710209712</td>\n",
       "      <td>자동차용 기관오일</td>\n",
       "      <td>Engine oil for automotive</td>\n",
       "      <td>23020206</td>\n",
       "      <td>윤활유</td>\n",
       "    </tr>\n",
       "    <tr>\n",
       "      <th>2700</th>\n",
       "      <td>0271020973</td>\n",
       "      <td>콤파운드오일, 유동파라핀과 자동변속기용 윤활유</td>\n",
       "      <td>Compound oil, liquid paraffin and automatic tr...</td>\n",
       "      <td></td>\n",
       "      <td></td>\n",
       "    </tr>\n",
       "    <tr>\n",
       "      <th>8332</th>\n",
       "      <td>7320101000</td>\n",
       "      <td>자동차용 판상 스프링</td>\n",
       "      <td>Leaf-springs for automobiles</td>\n",
       "      <td>31060101</td>\n",
       "      <td>자동차 부품</td>\n",
       "    </tr>\n",
       "    <tr>\n",
       "      <th>...</th>\n",
       "      <td>...</td>\n",
       "      <td>...</td>\n",
       "      <td>...</td>\n",
       "      <td>...</td>\n",
       "      <td>...</td>\n",
       "    </tr>\n",
       "    <tr>\n",
       "      <th>12032</th>\n",
       "      <td>9302009021</td>\n",
       "      <td>반자동</td>\n",
       "      <td>Semi-automatic</td>\n",
       "      <td>32010401</td>\n",
       "      <td>무기 및 총포탄</td>\n",
       "    </tr>\n",
       "    <tr>\n",
       "      <th>12040</th>\n",
       "      <td>9303201012</td>\n",
       "      <td>반자동</td>\n",
       "      <td>Semi-automatic</td>\n",
       "      <td>12900101</td>\n",
       "      <td>기타 내구소비재</td>\n",
       "    </tr>\n",
       "    <tr>\n",
       "      <th>12047</th>\n",
       "      <td>9303209012</td>\n",
       "      <td>반자동</td>\n",
       "      <td>Semi-automatic</td>\n",
       "      <td>12900101</td>\n",
       "      <td>기타 내구소비재</td>\n",
       "    </tr>\n",
       "    <tr>\n",
       "      <th>12053</th>\n",
       "      <td>9303301020</td>\n",
       "      <td>반자동</td>\n",
       "      <td>Semi-automatic</td>\n",
       "      <td>12900101</td>\n",
       "      <td>기타 내구소비재</td>\n",
       "    </tr>\n",
       "    <tr>\n",
       "      <th>12057</th>\n",
       "      <td>9303309020</td>\n",
       "      <td>반자동</td>\n",
       "      <td>Semi-automatic</td>\n",
       "      <td>12900101</td>\n",
       "      <td>기타 내구소비재</td>\n",
       "    </tr>\n",
       "  </tbody>\n",
       "</table>\n",
       "<p>61 rows × 5 columns</p>\n",
       "</div>"
      ],
      "text/plain": [
       "             HS부호                      한글품목명  \\\n",
       "2630   2710197120                  자동차용 기관오일   \n",
       "2639   0027101973  콤파운드오일, 유동파라핀과 자동변속기용 윤활유   \n",
       "2691   2710209712                  자동차용 기관오일   \n",
       "2700   0271020973  콤파운드오일, 유동파라핀과 자동변속기용 윤활유   \n",
       "8332   7320101000                자동차용 판상 스프링   \n",
       "...           ...                        ...   \n",
       "12032  9302009021                        반자동   \n",
       "12040  9303201012                        반자동   \n",
       "12047  9303209012                        반자동   \n",
       "12053  9303301020                        반자동   \n",
       "12057  9303309020                        반자동   \n",
       "\n",
       "                                                   영문품목명  성질통합분류코드 성질통합분류코드명  \n",
       "2630                           Engine oil for automotive  23020206       윤활유  \n",
       "2639   Compound oil, liquid paraffin and automatic tr...                      \n",
       "2691                           Engine oil for automotive  23020206       윤활유  \n",
       "2700   Compound oil, liquid paraffin and automatic tr...                      \n",
       "8332                        Leaf-springs for automobiles  31060101    자동차 부품  \n",
       "...                                                  ...       ...       ...  \n",
       "12032                                     Semi-automatic  32010401  무기 및 총포탄  \n",
       "12040                                     Semi-automatic  12900101  기타 내구소비재  \n",
       "12047                                     Semi-automatic  12900101  기타 내구소비재  \n",
       "12053                                     Semi-automatic  12900101  기타 내구소비재  \n",
       "12057                                     Semi-automatic  12900101  기타 내구소비재  \n",
       "\n",
       "[61 rows x 5 columns]"
      ]
     },
     "execution_count": 58,
     "metadata": {},
     "output_type": "execute_result"
    }
   ],
   "source": [
    "customs_data_copy.iloc[idx_list_2]"
   ]
  },
  {
   "cell_type": "markdown",
   "metadata": {},
   "source": [
    "- 데이터를 보고 HS부호를 뽑는 프로세스를 이해하기 \n",
    "    - 완료\n",
    "    - 근데 관세청에서 한글과 영어 중 어떤 것이 더 좋은지 모르겠음.. 한글과 영어를 혼합해서 찾아야 할 것 같음\n",
    "- 추천 시스템과 RAG 중 어떤 방법을 선택할지 정하기\n",
    "    - RAG가 더 좋을 것 같음..!\n",
    "- 추가할 데이터는 없는지 고려해보기\n",
    "    - 포털에서 통계청, 관세청의 HS부호로 영문으로 되어있는 문장을 추가로 넣어줄 수 있을 것 같음\n",
    "    - 영문 텍스트 데이터와 연관성이 더 높아질 것 같음\n",
    "    - 추가 데이터로 관세청에서 HS부호를 더 적절히 추출할 수 있을 것 같음"
   ]
  }
 ],
 "metadata": {
  "kernelspec": {
   "display_name": ".venv",
   "language": "python",
   "name": "python3"
  },
  "language_info": {
   "codemirror_mode": {
    "name": "ipython",
    "version": 3
   },
   "file_extension": ".py",
   "mimetype": "text/x-python",
   "name": "python",
   "nbconvert_exporter": "python",
   "pygments_lexer": "ipython3",
   "version": "3.12.3"
  }
 },
 "nbformat": 4,
 "nbformat_minor": 2
}
