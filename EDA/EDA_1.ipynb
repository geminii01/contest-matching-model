{
 "cells": [
  {
   "cell_type": "markdown",
   "metadata": {},
   "source": [
    "# 목표\n",
    "\n",
    "- 데이터를 보고 HS부호를 뽑는 프로세스를 이해하기\n",
    "- 추천 시스템과 RAG 중 어떤 방법을 선택할지 정하기\n",
    "- 추가할 데이터는 없는지 고려해보기"
   ]
  },
  {
   "cell_type": "markdown",
   "metadata": {},
   "source": [
    "# Library"
   ]
  },
  {
   "cell_type": "code",
   "execution_count": null,
   "metadata": {},
   "outputs": [],
   "source": [
    "import re\n",
    "import numpy as np\n",
    "import pandas as pd\n",
    "from tqdm import tqdm\n",
    "\n",
    "# visualization\n",
    "import matplotlib\n",
    "matplotlib.rcParams['axes.unicode_minus'] = False\n",
    "import matplotlib.pyplot as plt\n",
    "import matplotlib.font_manager as fm\n",
    "fe = fm.FontEntry(\n",
    "    fname=r'.venv/Lib/site-packages/matplotlib/mpl-data/fonts/ttf/NanumGothic.ttf', # ttf 파일이 저장되어 있는 경로\n",
    "    name='NanumBarunGothic')                        # 이 폰트의 원하는 이름 설정\n",
    "fm.fontManager.ttflist.insert(0, fe)              # Matplotlib에 폰트 추가\n",
    "plt.rcParams.update({'font.size': 10, 'font.family': 'NanumBarunGothic'}) # 폰트 설정\n",
    "plt.rc('font', family='NanumBarunGothic')\n",
    "import seaborn as sns\n",
    "import warnings\n",
    "warnings.filterwarnings('ignore')\n",
    "import missingno as msno"
   ]
  },
  {
   "cell_type": "markdown",
   "metadata": {},
   "source": [
    "# Data Load"
   ]
  },
  {
   "cell_type": "code",
   "execution_count": null,
   "metadata": {},
   "outputs": [],
   "source": [
    "text_data = pd.read_csv('./data/비식별된 해외기업별 영문 텍스트데이터.csv', dtype=str)\n",
    "statistics_data = pd.read_csv('./data/통계청 국제표준산업분류 HSCODE 6단위 매핑.csv', dtype=str)\n",
    "customs_data = pd.read_csv('./data/관세청_HS부호_240101.csv', dtype=str)"
   ]
  },
  {
   "cell_type": "code",
   "execution_count": null,
   "metadata": {},
   "outputs": [],
   "source": [
    "text_data_copy = text_data.copy()\n",
    "statistics_data_copy = statistics_data.copy()\n",
    "customs_data_copy = customs_data.copy()"
   ]
  },
  {
   "cell_type": "code",
   "execution_count": null,
   "metadata": {},
   "outputs": [],
   "source": [
    "display(text_data_copy.info())\n",
    "display(statistics_data_copy.info())\n",
    "display(customs_data_copy.info())"
   ]
  },
  {
   "cell_type": "markdown",
   "metadata": {},
   "source": [
    "# 중복값 확인"
   ]
  },
  {
   "cell_type": "markdown",
   "metadata": {},
   "source": [
    "## 텍스트"
   ]
  },
  {
   "cell_type": "code",
   "execution_count": null,
   "metadata": {},
   "outputs": [],
   "source": [
    "text_data_copy[text_data_copy.duplicated(keep=False)]"
   ]
  },
  {
   "cell_type": "markdown",
   "metadata": {},
   "source": [
    "- 결과값 컬럼 개수 때문에 중복값 제거는 안 함"
   ]
  },
  {
   "cell_type": "markdown",
   "metadata": {},
   "source": [
    "## 통계청"
   ]
  },
  {
   "cell_type": "code",
   "execution_count": null,
   "metadata": {},
   "outputs": [],
   "source": [
    "statistics_data_copy[statistics_data_copy.duplicated(keep=False)]"
   ]
  },
  {
   "cell_type": "code",
   "execution_count": null,
   "metadata": {},
   "outputs": [],
   "source": [
    "print(statistics_data_copy.shape)\n",
    "print(statistics_data_copy[statistics_data_copy.duplicated()].shape)\n",
    "print(statistics_data_copy.drop_duplicates().shape)"
   ]
  },
  {
   "cell_type": "code",
   "execution_count": null,
   "metadata": {},
   "outputs": [],
   "source": [
    "statistics_data_copy = statistics_data_copy.drop_duplicates()\n",
    "statistics_data_copy = statistics_data_copy.reset_index(drop=True)"
   ]
  },
  {
   "cell_type": "markdown",
   "metadata": {},
   "source": [
    "## 관세청"
   ]
  },
  {
   "cell_type": "code",
   "execution_count": null,
   "metadata": {},
   "outputs": [],
   "source": [
    "customs_data_copy[customs_data_copy.duplicated()]"
   ]
  },
  {
   "cell_type": "markdown",
   "metadata": {},
   "source": [
    "# 결측치 채우기 (보류)"
   ]
  },
  {
   "cell_type": "markdown",
   "metadata": {},
   "source": [
    "- 윗줄꺼로 보간은 아닌 것 같음. 결측치를 채우기 위한 교차 확인이 되지 않음. 일단.. 결측치 있는채로 진행"
   ]
  },
  {
   "cell_type": "code",
   "execution_count": null,
   "metadata": {},
   "outputs": [],
   "source": [
    "# 일단 공백으로 채우기\n",
    "text_data_copy = text_data_copy.fillna('')\n",
    "statistics_data_copy = statistics_data_copy.fillna('')\n",
    "customs_data_copy = customs_data_copy.fillna('')"
   ]
  },
  {
   "cell_type": "markdown",
   "metadata": {},
   "source": [
    "# 텍스트 -> 통계청, 관세청"
   ]
  },
  {
   "cell_type": "code",
   "execution_count": null,
   "metadata": {},
   "outputs": [],
   "source": [
    "# 영문 텍스트 확인\n",
    "text_data_copy.iloc[0]"
   ]
  },
  {
   "cell_type": "code",
   "execution_count": null,
   "metadata": {},
   "outputs": [],
   "source": [
    "# 영문 텍스트 확인\n",
    "text_data_copy.iloc[0, 2]"
   ]
  },
  {
   "cell_type": "markdown",
   "metadata": {},
   "source": [
    "자동차 수리점, 기타 특별한 자동차 수리, 연료 서비스, 카뷰레터 수리, 브레이크 라이닝 교체, \n",
    "\n",
    "전면 및 휠 정렬, 라디에이터 수리 등. 자동차 수리 및 유지보수, 자동차 브레이크 라이닝 설치, \n",
    "\n",
    "기타 자동차 기계 및 전기 수리 및 유지보수, 자동차의 유지보수 및 수리, 자동차의 유지보수 및 수리, 기타 자동차 수리 및 유지보수."
   ]
  },
  {
   "cell_type": "code",
   "execution_count": null,
   "metadata": {},
   "outputs": [],
   "source": [
    "# 텍스트 데이터의 CODE를 통계청에서 확인\n",
    "statistics_data_copy[statistics_data_copy['ISIC4_국제표준산업분류'] == '4520']"
   ]
  },
  {
   "cell_type": "markdown",
   "metadata": {},
   "source": [
    "- 영문 텍스트를 해석하면 7630과 7631행과 관련이 있는 것으로 보임\n",
    "- 관세청에서 자동차 수리 관련 행을 찾아야 할 듯"
   ]
  },
  {
   "cell_type": "code",
   "execution_count": null,
   "metadata": {},
   "outputs": [],
   "source": [
    "customs_data_copy.head()"
   ]
  },
  {
   "cell_type": "code",
   "execution_count": null,
   "metadata": {},
   "outputs": [],
   "source": [
    "idx_list_0 = []\n",
    "idx_list_1 = []\n",
    "for idx in range(0, customs_data_copy.shape[0]):\n",
    "    # 먼저 한글품목명 기준으로 키워드를 찾는다.\n",
    "    cond = customs_data_copy.iloc[idx, 1]\n",
    "    if '자동차' in cond: # 수리, 자동차, 부품\n",
    "        # print(idx, end=' ')\n",
    "        idx_list_0.append(idx)\n",
    "        # 한글품목명으로 걸러진 데이터에서 성질통합분류코드명 기준으로 키워드를 찾는다.\n",
    "        cond2 = customs_data_copy.iloc[idx, 4]\n",
    "        if '부품' in cond2:\n",
    "            # print(idx, end=' ')\n",
    "            idx_list_1.append(idx)"
   ]
  },
  {
   "cell_type": "code",
   "execution_count": null,
   "metadata": {},
   "outputs": [],
   "source": [
    "customs_data_copy.iloc[idx_list_1] # idx_list_0"
   ]
  },
  {
   "cell_type": "code",
   "execution_count": null,
   "metadata": {},
   "outputs": [],
   "source": [
    "idx_list_2 = []\n",
    "for idx in range(0, customs_data_copy.shape[0]):\n",
    "    # 영문품목명 기준으로 키워드를 찾는다.\n",
    "    cond = customs_data_copy.iloc[idx, 2]\n",
    "    if 'auto' in cond: # auto\n",
    "        # print(idx, end=' ')\n",
    "        idx_list_2.append(idx)"
   ]
  },
  {
   "cell_type": "code",
   "execution_count": null,
   "metadata": {},
   "outputs": [],
   "source": [
    "customs_data_copy.iloc[idx_list_2]"
   ]
  },
  {
   "cell_type": "code",
   "execution_count": null,
   "metadata": {},
   "outputs": [],
   "source": [
    "text_data_copy.to_csv('./data/영문_텍스트.csv', index=False, encoding='utf-8-sig')\n",
    "statistics_data_copy.to_csv('./data/통계청.csv', index=False, encoding='utf-8-sig')\n",
    "customs_data_copy.to_csv('./data/관세청.csv', index=False, encoding='utf-8-sig')"
   ]
  },
  {
   "cell_type": "markdown",
   "metadata": {},
   "source": [
    "- 데이터를 보고 HS부호를 뽑는 프로세스를 이해하기 \n",
    "    - 완료\n",
    "    - 근데 관세청에서 한글과 영어 중 어떤 것이 더 좋은지 모르겠음.. 한글과 영어를 혼합해서 찾아야 할 것 같음\n",
    "- 추천 시스템과 RAG 중 어떤 방법을 선택할지 정하기\n",
    "    - RAG가 더 좋을 것 같음..!\n",
    "- 추가할 데이터는 없는지 고려해보기\n",
    "    - 포털에서 통계청, 관세청의 HS부호로 영문으로 되어있는 문장을 추가로 넣어줄 수 있을 것 같음\n",
    "    - 영문 텍스트 데이터와 연관성이 더 높아질 것 같음\n",
    "    - 추가 데이터로 관세청에서 HS부호를 더 적절히 추출할 수 있을 것 같음"
   ]
  }
 ],
 "metadata": {
  "kernelspec": {
   "display_name": ".venv",
   "language": "python",
   "name": "python3"
  },
  "language_info": {
   "codemirror_mode": {
    "name": "ipython",
    "version": 3
   },
   "file_extension": ".py",
   "mimetype": "text/x-python",
   "name": "python",
   "nbconvert_exporter": "python",
   "pygments_lexer": "ipython3",
   "version": "3.12.3"
  }
 },
 "nbformat": 4,
 "nbformat_minor": 2
}
