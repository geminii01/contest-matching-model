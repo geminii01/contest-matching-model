{
 "cells": [
  {
   "cell_type": "code",
   "execution_count": null,
   "metadata": {},
   "outputs": [],
   "source": [
    "import pandas as pd"
   ]
  },
  {
   "cell_type": "markdown",
   "metadata": {},
   "source": [
    "# HS해설\n",
    "\n",
    "- Ex. `0401401000`\n",
    "- 부: 01 - 살아 있는 동물과 동물성 생산품\n",
    "- 류(HS 2자리): `04` - 낙농품, 새의 알, 천연꿀, 다른 류로 분류되지 않은 식용인 동물성 생산품\n",
    "- 호(HS 4자리): `0401` - 밀크와 크림(농축하지 않은 것으로서 설탕이나 그 밖의 감미료를 첨가하지 않은 것으로 한정한다)\n",
    "- HS 6자리: `040140` - 지방분이 전 중량의 100분의 6 초과 100분의 10 이하인 것\n",
    "- HS 10자리: `0401401000` - 냉동크림"
   ]
  },
  {
   "cell_type": "markdown",
   "metadata": {},
   "source": [
    "## 부, 류 직접 수집 (관세율표-부류목록)"
   ]
  },
  {
   "cell_type": "code",
   "execution_count": null,
   "metadata": {},
   "outputs": [],
   "source": [
    "b01 = '살아 있는 동물과 동물성 생산품'\n",
    "r01 = ['살아 있는 동물', \n",
    "        '육과 식용 설육(屑肉)', \n",
    "        '어류ㆍ갑각류ㆍ연체동물과 그 밖의 수생(水生) 무척추동물', \n",
    "        '낙농품, 새의 알, 천연꿀, 다른 류로 분류되지 않은 식용인 동물성 생산품', \n",
    "        '다른 류로 분류되지 않은 동물성 생산품']\n",
    "\n",
    "b02 = '식물성 생산품'\n",
    "r02 = ['살아 있는 수목과 그 밖의 식물, 인경(鱗莖)ㆍ뿌리와 이와 유사한 물품, 절화(切花)와 장식용 잎',\n",
    "        '식용의 채소ㆍ뿌리ㆍ괴경(塊莖)',\n",
    "        '식용의 과실과 견과류, 감귤류ㆍ멜론의 껍질',\n",
    "        '커피ㆍ차ㆍ마테(maté)ㆍ향신료',\n",
    "        '곡물',\n",
    "        '제분공업의 생산품과 맥아, 전분, 이눌린(inulin), 밀의 글루텐(gluten)',\n",
    "        '채유(採油)에 적합한 종자와 과실, 각종 종자와 과실, 공업용ㆍ의약용 식물, 짚과 사료용 식물',\n",
    "        '락(lac), 검ㆍ수지ㆍ그 밖의 식물성 수액과 추출물(extract)',\n",
    "        '식물성 편조물(編組物)용 재료와 다른 류로 분류되지 않은 식물성 생산품']\n",
    "\n",
    "b03 = '동물성ㆍ식물성ㆍ미생물성 지방과 기름 및 이들의 분해생산물, 조제한 식용 지방과 동물성ㆍ식물성 왁스'\n",
    "r03 = '동물성ㆍ식물성ㆍ미생물성 지방과 기름 및이들의 분해생산물, 조제한 식용 지방과 동물성ㆍ식물성 왁스'\n",
    "\n",
    "b04 = '조제 식료품, 음료ㆍ주류ㆍ식초, 담배ㆍ제조한 담배 대용물, 연소시키지 않고 흡입하도록 만들어진 물품(니코틴을 함유하였는지에 상관없다), 니코틴을 함유한 그 밖의 물품으로 인체 내에 니코틴을 흡수시키도록 만들어진 것'\n",
    "r04 = ['육류ㆍ어류ㆍ갑각류ㆍ연체동물이나 그 밖의 수생(水生) 무척추동물 또는 곤충의 조제품',\n",
    "        '당류(糖類)와 설탕과자',\n",
    "        '코코아와 그 조제품',\n",
    "        '곡물ㆍ고운 가루ㆍ전분ㆍ밀크의 조제품과 베이커리 제품',\n",
    "        '채소ㆍ과실ㆍ견과류나 식물의그 밖의 부분의 조제품',\n",
    "        '각종 조제 식료품',\n",
    "        '음료ㆍ주류ㆍ식초',\n",
    "        '식품 공업에서 생기는 잔재물과 웨이스트(waste), 조제 사료',\n",
    "        '담배와 제조한 담배 대용물, 연소시키지 않고흡입하도록 만들어진 물품(니코틴을 함유하였는지에 상관없다), 니코틴을 함유한 그 밖의 물품으로 인체 내에 니코틴을 흡수시키도록 만들어진 것']\n",
    "\n",
    "b05 = '광물성 생산품'\n",
    "r05 = ['소금, 황, 토석류(土石類), 석고ㆍ석회ㆍ시멘트',\n",
    "        '광(鑛)ㆍ슬래그(slag)ㆍ회(灰)',\n",
    "        '광물성 연료ㆍ광물유(鑛物油)와 이들의 증류물, 역청(瀝靑)물질, 광물성 왁스']\n",
    "\n",
    "b06 = '화학공업이나 연관공업의 생산품'\n",
    "r06 = ['무기화학품, 귀금속ㆍ희토류(稀土類)금속ㆍ방사성원소ㆍ동위원소의 유기화합물이나 무기화합물',\n",
    "        '유기화학품',\n",
    "        '의료용품',\n",
    "        '비료',\n",
    "        '유연용ㆍ염색용 추출물(extract), 탄닌과 이들의 유도체, 염료ㆍ안료와 그 밖의 착색제, 페인트ㆍ바니시(varnish), 퍼티(putty)와 그 밖의 매스틱(mastic), 잉크',\n",
    "        '정유(essential oil)와 레지노이드(resinoid), 조제향료와 화장품ㆍ화장용품',\n",
    "        '비누ㆍ유기계면활성제ㆍ조제 세제ㆍ조제 윤활제ㆍ인조 왁스ㆍ조제 왁스ㆍ광택용이나 연마용 조제품ㆍ양초와 이와 유사한 물품ㆍ조형용 페이스트(paste)ㆍ치과용 왁스와 플라스터(plaster)를 기본 재료로 한 치과용 조제품',\n",
    "        '단백질계 물질, 변성전분, 글루(glue), 효소',\n",
    "        '화약류, 화공품, 성냥, 발화성 합금, 특정 가연성 조제품',\n",
    "        '사진용이나 영화용 재료',\n",
    "        '각종 화학공업 생산품']\n",
    "\n",
    "b07 = '플라스틱과 그 제품, 고무와 그 제품'\n",
    "r07 = ['플라스틱과 그 제품',\n",
    "        '고무와 그 제품']\n",
    "\n",
    "b08 = '원피ㆍ가죽ㆍ모피와 이들의 제품, 마구, 여행용구ㆍ핸드백과 이와 유사한 용기, 동물 거트(gut)[누에의 거트(gut)는 제외한다]의 제품'\n",
    "r08 = ['원피(모피는 제외한다)와 가죽',\n",
    "        '가죽제품, 마구, 여행용구ㆍ핸드백과 이와 유사한 용기, 동물 거트(gut)[누에의 거트(gut)는 제외한다]의 제품',\n",
    "        '모피ㆍ인조모피와 이들의 제품']\n",
    "\n",
    "b09 = '목재와 그 제품, 목탄, 코르크와 그 제품, 짚ㆍ에스파르토(esparto)나 그 밖의 조물 재료의 제품, 바구니 세공물(basketware)과 지조세공물(枝條細工物)'\n",
    "r09 = ['목재와 그 제품, 목탄',\n",
    "        '코르크(cork)와 그 제품',\n",
    "        '짚ㆍ에스파르토(esparto)나 그 밖의 조물 재료의 제품, 바구니 세공물(basketware)과 지조세공물(枝條細工物)']\n",
    "\n",
    "b10 = '목재나 그 밖의 섬유질 셀룰로오스재료의 펄프, 회수한 종이ㆍ판지[웨이스트(waste)와 스크랩(scrap)], 종이ㆍ판지와 이들의 제품'\n",
    "r10 = ['목재나 그 밖의 섬유질 셀룰로오스재료의 펄프, 회수한 종이ㆍ판지[웨이스트(waste)와 스크랩(scrap)]',\n",
    "        '종이와 판지, 제지용 펄프ㆍ종이ㆍ판지의 제품',\n",
    "        '인쇄서적ㆍ신문ㆍ회화ㆍ그 밖의 인쇄물, 수제(手製)문서ㆍ타자문서ㆍ도면']\n",
    "\n",
    "b11 = '방직용 섬유와 방직용 섬유의 제품'\n",
    "r11 = ['견',\n",
    "        '양모ㆍ동물의 부드러운 털이나 거친 털ㆍ말의 털로 만든 실과 직물',\n",
    "        '면',\n",
    "        '그 밖의 식물성 방직용 섬유, 종이실(paper yarn)과 종이실로 만든 직물',\n",
    "        '인조필라멘트, 인조방직용 섬유재료의 스트립(strip)과 이와 유사한 것',\n",
    "        '인조스테이플섬유',\n",
    "        '워딩(wadding)ㆍ펠트(felt)ㆍ부직포, 특수사, 끈ㆍ배의 밧줄(cordage)ㆍ로프ㆍ케이블과 이들의 제품',\n",
    "        '양탄자류와 그 밖의 방직용 섬유로 만든 바닥깔개',\n",
    "        '특수직물, 터프트(tuft)한 직물, 레이스, 태피스트리(tapestry), 트리밍(trimming), 자수천',\n",
    "        '침투ㆍ도포ㆍ피복하거나 적층한 방직용 섬유의 직물, 공업용인 방직용 섬유제품',\n",
    "        '메리야스 편물과 뜨개질 편물',\n",
    "        '의류와 그 부속품(메리야스 편물이나 뜨개질 편물로 한정한다)',\n",
    "        '의류와 그 부속품(메리야스 편물이나 뜨개질편물은 제외한다)',\n",
    "        '제품으로 된 방직용 섬유의 그 밖의 물품, 세트, 사용하던 의류ㆍ방직용 섬유제품, 넝마']\n",
    "\n",
    "b12 = '신발류ㆍ모자류ㆍ산류(傘類)ㆍ지팡이ㆍ시트스틱(seat-stick)ㆍ채찍ㆍ승마용 채찍과 이들의 부분품, 조제 깃털과 그 제품, 조화, 사람 머리카락으로 된 제품'\n",
    "r12 = ['신발류ㆍ각반과 이와 유사한 것, 이들의 부분품',\n",
    "        '모자류와 그 부분품',\n",
    "        '산류(傘類)ㆍ지팡이ㆍ시트스틱(seat-stick)ㆍ채찍ㆍ승마용 채찍과 이들의 부분품',\n",
    "        '조제 깃털ㆍ솜털과 그 제품, 조화, 사람 머리카락으로 된 제품']\n",
    "\n",
    "b13 = '돌ㆍ플라스터(plaster)ㆍ시멘트ㆍ석면ㆍ운모나 이와 유사한 재료의 제품, 도자제품, 유리와 유리제품'\n",
    "r13 = ['돌ㆍ플라스터(plaster)ㆍ시멘트ㆍ석면ㆍ운모나 이와 유사한 재료의 제품',\n",
    "        '도자제품',\n",
    "        '유리와 유리제품']\n",
    "\n",
    "b14 = '천연진주ㆍ양식진주ㆍ귀석ㆍ반귀석ㆍ귀금속ㆍ귀금속을 입힌 금속과 이들의 제품, 모조 신변장식용품, 주화'\n",
    "r14 = '천연진주ㆍ양식진주ㆍ귀석ㆍ반귀석ㆍ귀금속ㆍ귀금속을 입힌 금속과 이들의 제품, 모조 신변장식용품, 주화'\n",
    "\n",
    "b15 = '비금속(卑金屬)과 그 제품'\n",
    "r15 = ['철강',\n",
    "        '철강의 제품',\n",
    "        '구리와 그 제품',\n",
    "        '니켈과 그 제품',\n",
    "        '알루미늄과 그 제품',\n",
    "        # '(유 보)',\n",
    "        '납과 그 제품',\n",
    "        '아연과 그 제품',\n",
    "        '주석과 그 제품',\n",
    "        '그 밖의 비금속(卑金屬), 서멧(cermet), 이들의 제품',\n",
    "        '비금속(卑金屬)으로 만든 공구ㆍ도구ㆍ칼붙이ㆍ스푼ㆍ포크, 이들의 부분품',\n",
    "        '비금속(卑金屬)으로 만든 각종 제품']\n",
    "\n",
    "b16 = '기계류ㆍ전기기기와 이들의 부분품, 녹음기ㆍ음성재생기ㆍ텔레비전의 영상과 음향의 기록기ㆍ재생기와 이들의 부분품ㆍ부속품'\n",
    "r16 = ['원자로ㆍ보일러ㆍ기계류와 이들의 부분품',\n",
    "        '전기기기와 그 부분품, 녹음기ㆍ음성 재생기ㆍ텔레비전의 영상과 음성의 기록기ㆍ재생기와 이들의 부분품ㆍ부속품']\n",
    "\n",
    "b17 = '차량ㆍ항공기ㆍ선박과 수송기기 관련품'\n",
    "r17 = ['철도용이나 궤도용 기관차ㆍ차량과 이들의 부분품, 철도용이나 궤도용 장비품과 그 부분품, 기계식(전기기계식을 포함한다) 각종 교통신호용 기기',\n",
    "        '철도용이나 궤도용 외의 차량과 그 부분품ㆍ부속품',\n",
    "        '항공기와 우주선, 이들의 부분품',\n",
    "        '선박과 수상 구조물']\n",
    "\n",
    "b18 = '광학기기ㆍ사진용 기기ㆍ영화용 기기ㆍ측정기기ㆍ검사기기ㆍ정밀기기ㆍ의료용 기기, 시계, 악기, 이들의 부분품과 부속품'\n",
    "r18 = ['광학기기ㆍ사진용 기기ㆍ영화용 기기ㆍ측정기기ㆍ검사기기ㆍ정밀기기ㆍ의료용 기기, 이들의 부분품과 부속품',\n",
    "        '시계와 그 부분품',\n",
    "        '악기와 그 부분품과 부속품']\n",
    "\n",
    "b19 = '무기ㆍ총포탄과 이들의 부분품과 부속품'\n",
    "r19 = '무기ㆍ총포탄과 이들의 부분품과 부속품'\n",
    "\n",
    "b20 = '잡품'\n",
    "r20 = ['가구, 침구ㆍ매트리스ㆍ매트리스 서포트(mattress support)ㆍ쿠션과 이와 유사한 물품, 다른 류로 분류되지 않은 조명기구, 조명용 사인ㆍ조명용 네임플레이트(name-plate)와 이와 유사한 물품, 조립식 건축물',\n",
    "        '완구ㆍ게임용구ㆍ운동용구와 이들의 부분품과 부속품',\n",
    "        '잡품']\n",
    "\n",
    "b21 = '예술품ㆍ수집품ㆍ골동품'\n",
    "r21 = '예술품ㆍ수집품ㆍ골동품'"
   ]
  },
  {
   "cell_type": "markdown",
   "metadata": {},
   "source": [
    "## 크롤링 데이터 로드"
   ]
  },
  {
   "cell_type": "code",
   "execution_count": null,
   "metadata": {},
   "outputs": [],
   "source": [
    "hscode = pd.read_csv('../data/crawl_HSCODE.csv', dtype=str, encoding='utf-8-sig')"
   ]
  },
  {
   "cell_type": "code",
   "execution_count": null,
   "metadata": {},
   "outputs": [],
   "source": [
    "# 컬럼명 변경\n",
    "hscode.columns = ['HS_4', 'HS_6', 'HS_10', 'KOR', 'ENG', 'other0', 'other1', 'other2']"
   ]
  },
  {
   "cell_type": "code",
   "execution_count": null,
   "metadata": {},
   "outputs": [],
   "source": [
    "# 'HS_4', 'HS_6', 'HS_10' 순으로 정렬\n",
    "hscode = hscode.sort_values(by=['HS_4', 'HS_6', 'HS_10']).reset_index(drop=True)\n",
    "display(hscode.head())\n",
    "print(hscode.shape)"
   ]
  },
  {
   "cell_type": "code",
   "execution_count": null,
   "metadata": {},
   "outputs": [],
   "source": [
    "# HS 2자리에 해당하는 부류 목록\n",
    "temp = pd.DataFrame(hscode['HS_4'].apply(lambda x: x[:2]).drop_duplicates().reset_index(drop=True))\n",
    "temp.columns = ['HS_2']\n",
    "temp['BU'] = ''\n",
    "temp['RYU'] = ''"
   ]
  },
  {
   "cell_type": "code",
   "execution_count": null,
   "metadata": {},
   "outputs": [],
   "source": [
    "temp['HS_2'].unique()"
   ]
  },
  {
   "cell_type": "code",
   "execution_count": null,
   "metadata": {},
   "outputs": [],
   "source": [
    "cond = [\n",
    "'97'\n",
    "]\n",
    "idx = temp[temp['HS_2'].isin(cond)].index\n",
    "temp.loc[idx, 'BU'] = b21\n",
    "temp.loc[idx, 'RYU'] = r21\n",
    "temp.loc[idx]"
   ]
  },
  {
   "cell_type": "code",
   "execution_count": null,
   "metadata": {},
   "outputs": [],
   "source": [
    "hs2 = temp"
   ]
  },
  {
   "cell_type": "code",
   "execution_count": null,
   "metadata": {},
   "outputs": [],
   "source": [
    "# HS 4자리에 해당하는 국문과 영문 해설\n",
    "is_nan_hs6 = pd.isnull(hscode['HS_6'])\n",
    "is_nan_hs10 = pd.isnull(hscode['HS_10'])\n",
    "temp = hscode[is_nan_hs6 & is_nan_hs10]\n",
    "hs4 = temp[['HS_4', 'KOR', 'ENG']].reset_index(drop=True)\n",
    "display(hs4.head())\n",
    "print(hs4.shape)"
   ]
  },
  {
   "cell_type": "code",
   "execution_count": null,
   "metadata": {},
   "outputs": [],
   "source": [
    "# HS 5자리에 해당하는 국문과 영문 해설\n",
    "len_one_hs6 = hscode[hscode['HS_6'].str.len() == 1]\n",
    "hs5 = len_one_hs6[['HS_4', 'HS_6', 'KOR', 'ENG']].reset_index(drop=True)\n",
    "hs5.columns = ['HS_4', 'HS_5', 'KOR', 'ENG']\n",
    "display(hs5.head())\n",
    "print(hs5.shape)"
   ]
  },
  {
   "cell_type": "code",
   "execution_count": null,
   "metadata": {},
   "outputs": [],
   "source": [
    "# HS 6자리에 해당하는 국문과 영문 해설\n",
    "len_two_hs6 = hscode[hscode['HS_6'].str.len() == 2]\n",
    "is_nan_hs10 = pd.isnull(len_two_hs6['HS_10'])\n",
    "temp = len_two_hs6[is_nan_hs10]\n",
    "hs6 = temp[['HS_4', 'HS_6', 'KOR', 'ENG']].reset_index(drop=True)\n",
    "display(hs6.head())\n",
    "print(hs6.shape)"
   ]
  },
  {
   "cell_type": "code",
   "execution_count": null,
   "metadata": {},
   "outputs": [],
   "source": [
    "# HS 10자리에 해당하는 국문과 영문 해설\n",
    "len_two_hs6 = hscode[hscode['HS_6'].str.len() == 2]\n",
    "not_nan_hs4 = pd.notnull(len_two_hs6['HS_4'])\n",
    "not_nan_hs6 = pd.notnull(len_two_hs6['HS_6'])\n",
    "not_nan_hs10 = pd.notnull(len_two_hs6['HS_10'])\n",
    "temp = len_two_hs6[not_nan_hs4 & not_nan_hs6 & not_nan_hs10]\n",
    "hs10 = temp[['HS_4', 'HS_6', 'HS_10', 'KOR', 'ENG']].reset_index(drop=True)\n",
    "display(hs10.head())\n",
    "print(hs10.shape)"
   ]
  },
  {
   "cell_type": "code",
   "execution_count": null,
   "metadata": {},
   "outputs": [],
   "source": [
    "hs4.shape[0] + hs5.shape[0] + hs6.shape[0] + hs10.shape[0]"
   ]
  },
  {
   "cell_type": "code",
   "execution_count": 138,
   "metadata": {},
   "outputs": [],
   "source": [
    "# 가장 우측에 ':' 제거 \n",
    "df = hs10\n",
    "for idx in range(df.shape[0]):\n",
    "    cond = df.loc[idx, 'ENG']\n",
    "    if cond[-1] == ':':\n",
    "        df.loc[idx, 'ENG'] = cond.rstrip(':').strip()\n",
    "        print(df.loc[idx, 'ENG'])"
   ]
  },
  {
   "cell_type": "code",
   "execution_count": 139,
   "metadata": {},
   "outputs": [],
   "source": [
    "hs2.to_csv('../data/HS_2.csv', index=False, encoding='utf-8')\n",
    "hs4.to_csv('../data/HS_4.csv', index=False, encoding='utf-8')\n",
    "hs5.to_csv('../data/HS_5.csv', index=False, encoding='utf-8')\n",
    "hs6.to_csv('../data/HS_6.csv', index=False, encoding='utf-8')\n",
    "hs10.to_csv('../data/HS_10.csv', index=False, encoding='utf-8')"
   ]
  }
 ],
 "metadata": {
  "kernelspec": {
   "display_name": "base",
   "language": "python",
   "name": "python3"
  },
  "language_info": {
   "codemirror_mode": {
    "name": "ipython",
    "version": 3
   },
   "file_extension": ".py",
   "mimetype": "text/x-python",
   "name": "python",
   "nbconvert_exporter": "python",
   "pygments_lexer": "ipython3",
   "version": "3.10.13"
  }
 },
 "nbformat": 4,
 "nbformat_minor": 2
}
