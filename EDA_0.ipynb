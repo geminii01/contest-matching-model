{
 "cells": [
  {
   "cell_type": "code",
   "execution_count": null,
   "metadata": {},
   "outputs": [],
   "source": [
    "# !pip install numpy pandas matplotlib seaborn tqdm openpyxl missingno"
   ]
  },
  {
   "cell_type": "markdown",
   "metadata": {},
   "source": [
    "# 목표\n",
    "\n",
    "- 데이터별로 컬럼 확인하면서 데이터 이해하기"
   ]
  },
  {
   "cell_type": "markdown",
   "metadata": {},
   "source": [
    "# Library"
   ]
  },
  {
   "cell_type": "code",
   "execution_count": null,
   "metadata": {},
   "outputs": [],
   "source": [
    "import re\n",
    "import numpy as np\n",
    "import pandas as pd\n",
    "from tqdm import tqdm\n",
    "\n",
    "# visualization\n",
    "import matplotlib\n",
    "matplotlib.rcParams['axes.unicode_minus'] = False\n",
    "import matplotlib.pyplot as plt\n",
    "import matplotlib.font_manager as fm\n",
    "fe = fm.FontEntry(\n",
    "    fname=r'.venv/Lib/site-packages/matplotlib/mpl-data/fonts/ttf/NanumGothic.ttf', # ttf 파일이 저장되어 있는 경로\n",
    "    name='NanumBarunGothic')                        # 이 폰트의 원하는 이름 설정\n",
    "fm.fontManager.ttflist.insert(0, fe)              # Matplotlib에 폰트 추가\n",
    "plt.rcParams.update({'font.size': 10, 'font.family': 'NanumBarunGothic'}) # 폰트 설정\n",
    "plt.rc('font', family='NanumBarunGothic')\n",
    "import seaborn as sns\n",
    "import warnings\n",
    "warnings.filterwarnings('ignore')\n",
    "import missingno as msno"
   ]
  },
  {
   "cell_type": "code",
   "execution_count": null,
   "metadata": {},
   "outputs": [],
   "source": [
    "text_data_org = pd.read_excel('./data/비식별된 해외기업별 영문 텍스트데이터.xlsx')\n",
    "statistics_data_org = pd.read_excel('./data/통계청 국제표준산업분류 HSCODE 6단위 매핑.xlsx')\n",
    "customs_data_org = pd.read_excel('./data/관세청_HS부호_240101.xlsx')\n",
    "\n",
    "text_data = text_data_org.copy()\n",
    "statistics_data = statistics_data_org.copy()\n",
    "customs_data = customs_data_org.copy()"
   ]
  },
  {
   "cell_type": "code",
   "execution_count": null,
   "metadata": {},
   "outputs": [],
   "source": [
    "display(text_data.head())\n",
    "display(statistics_data.head())\n",
    "display(customs_data.head())"
   ]
  },
  {
   "cell_type": "markdown",
   "metadata": {},
   "source": [
    "# 비식별된 해외기업별 영문 텍스트데이터"
   ]
  },
  {
   "cell_type": "code",
   "execution_count": null,
   "metadata": {},
   "outputs": [],
   "source": [
    "text_data.shape"
   ]
  },
  {
   "cell_type": "code",
   "execution_count": null,
   "metadata": {},
   "outputs": [],
   "source": [
    "text_data.columns"
   ]
  },
  {
   "cell_type": "code",
   "execution_count": null,
   "metadata": {},
   "outputs": [],
   "source": [
    "text_data.info()"
   ]
  },
  {
   "cell_type": "markdown",
   "metadata": {},
   "source": [
    "## 기업 ID"
   ]
  },
  {
   "cell_type": "code",
   "execution_count": null,
   "metadata": {},
   "outputs": [],
   "source": [
    "text_data['ID'].value_counts()"
   ]
  },
  {
   "cell_type": "code",
   "execution_count": null,
   "metadata": {},
   "outputs": [],
   "source": [
    "text_data['ID'].unique()"
   ]
  },
  {
   "cell_type": "code",
   "execution_count": null,
   "metadata": {},
   "outputs": [],
   "source": [
    "text_data['ID'] = text_data['ID'].astype(str)"
   ]
  },
  {
   "cell_type": "code",
   "execution_count": null,
   "metadata": {},
   "outputs": [],
   "source": [
    "text_data['ID'].unique()"
   ]
  },
  {
   "cell_type": "markdown",
   "metadata": {},
   "source": [
    "## 국제표준산업분류코드 (ISIC 4자리)"
   ]
  },
  {
   "cell_type": "code",
   "execution_count": null,
   "metadata": {},
   "outputs": [],
   "source": [
    "text_data['CODE'].value_counts()"
   ]
  },
  {
   "cell_type": "code",
   "execution_count": null,
   "metadata": {},
   "outputs": [],
   "source": [
    "text_data['CODE'].unique()"
   ]
  },
  {
   "cell_type": "code",
   "execution_count": null,
   "metadata": {},
   "outputs": [],
   "source": [
    "print(text_data['CODE'].max(), text_data['CODE'].min())"
   ]
  },
  {
   "cell_type": "markdown",
   "metadata": {},
   "source": [
    "- 세 자리는 네 자리로 바꿔줘야 함"
   ]
  },
  {
   "cell_type": "code",
   "execution_count": null,
   "metadata": {},
   "outputs": [],
   "source": [
    "text_data['CODE'] = text_data['CODE'].apply(lambda x: f'{x:04}')"
   ]
  },
  {
   "cell_type": "code",
   "execution_count": null,
   "metadata": {},
   "outputs": [],
   "source": [
    "text_data['CODE'].unique()"
   ]
  },
  {
   "cell_type": "markdown",
   "metadata": {},
   "source": [
    "## 기업 관련 텍스트 데이터"
   ]
  },
  {
   "cell_type": "code",
   "execution_count": null,
   "metadata": {},
   "outputs": [],
   "source": [
    "text_data['DSC'].value_counts()"
   ]
  },
  {
   "cell_type": "code",
   "execution_count": null,
   "metadata": {},
   "outputs": [],
   "source": [
    "for idx in range(0, text_data.shape[0]):\n",
    "    text = text_data.iloc[idx, 2]\n",
    "    search = re.search(r'\\bNone\\b', text) # nan, Nan, NaN, Null, None\n",
    "    if search:\n",
    "        print(idx, search.group())"
   ]
  },
  {
   "cell_type": "code",
   "execution_count": null,
   "metadata": {},
   "outputs": [],
   "source": [
    "# description 텍스트 길이 확인\n",
    "text_data_DSC_cnt = text_data['DSC'].apply(lambda x: len(x.split()))\n",
    "text_data_DSC_cnt.describe()"
   ]
  },
  {
   "cell_type": "code",
   "execution_count": null,
   "metadata": {},
   "outputs": [],
   "source": [
    "# text_data_DSC_cnt[text_data_DSC_cnt == 17]\n",
    "text_data.iloc[188, 2]"
   ]
  },
  {
   "cell_type": "markdown",
   "metadata": {},
   "source": [
    "- 비어있는 description은 없음\n",
    "- 텍스트 요약으로 비숫한 직군을 나타내는 컬럼 추가가 가능할까?\n",
    "- 어떤 텍스트 요약 모델 쓸지도 생각해봐야 할 듯\n",
    "- 아님 아예 GPT API로 비슷한 직군 레이블링 요청해도 괜찮을 듯\n",
    "- 이 과정은 직접 검수 필요"
   ]
  },
  {
   "cell_type": "markdown",
   "metadata": {},
   "source": [
    "# 관세청 HS 부호"
   ]
  },
  {
   "cell_type": "code",
   "execution_count": null,
   "metadata": {},
   "outputs": [],
   "source": [
    "customs_data.columns"
   ]
  },
  {
   "cell_type": "code",
   "execution_count": null,
   "metadata": {},
   "outputs": [],
   "source": [
    "customs_data.shape"
   ]
  },
  {
   "cell_type": "code",
   "execution_count": null,
   "metadata": {},
   "outputs": [],
   "source": [
    "customs_data.info()"
   ]
  },
  {
   "cell_type": "markdown",
   "metadata": {},
   "source": [
    "## 결측치 시각화"
   ]
  },
  {
   "cell_type": "code",
   "execution_count": null,
   "metadata": {},
   "outputs": [],
   "source": [
    "msno.matrix(customs_data)\n",
    "plt.gcf().set_size_inches(10, 5)\n",
    "plt.show()"
   ]
  },
  {
   "cell_type": "markdown",
   "metadata": {},
   "source": [
    "## HS부호"
   ]
  },
  {
   "cell_type": "code",
   "execution_count": null,
   "metadata": {},
   "outputs": [],
   "source": [
    "customs_data['HS부호'].value_counts()"
   ]
  },
  {
   "cell_type": "code",
   "execution_count": null,
   "metadata": {},
   "outputs": [],
   "source": [
    "customs_data['HS부호'].unique()"
   ]
  },
  {
   "cell_type": "code",
   "execution_count": null,
   "metadata": {},
   "outputs": [],
   "source": [
    "customs_data[customs_data['HS부호'].isnull()]"
   ]
  },
  {
   "cell_type": "code",
   "execution_count": null,
   "metadata": {},
   "outputs": [],
   "source": [
    "customs_data[customs_data['HS부호'] == ''] # ' '"
   ]
  },
  {
   "cell_type": "code",
   "execution_count": null,
   "metadata": {},
   "outputs": [],
   "source": [
    "print(customs_data['HS부호'].max(), customs_data['HS부호'].min())"
   ]
  },
  {
   "cell_type": "markdown",
   "metadata": {},
   "source": [
    "- 열자리로 바꿔줘야 함\n",
    "- int to str"
   ]
  },
  {
   "cell_type": "code",
   "execution_count": null,
   "metadata": {},
   "outputs": [],
   "source": [
    "# def zero_input(x):\n",
    "#     if pd.isna(x):\n",
    "#         return np.nan\n",
    "#     elif len(x) == 6:\n",
    "#         return '0000' + x\n",
    "#     elif len(x) == 7:\n",
    "#         return '000' + x\n",
    "#     elif len(x) == 8:\n",
    "#         return '00' + x\n",
    "#     elif len(x) == 9:\n",
    "#         return '0' + x\n",
    "#     else:\n",
    "#         return x\n",
    "\n",
    "def zero_input(x):\n",
    "    if pd.isna(x):\n",
    "        return np.nan\n",
    "    else:\n",
    "        cnt = 10 - len(x)\n",
    "        return '0' * cnt + x\n",
    "\n",
    "customs_data['HS부호'] = customs_data['HS부호'].astype(str)\n",
    "customs_data['HS부호'] = customs_data['HS부호'].apply(lambda x: zero_input(x))"
   ]
  },
  {
   "cell_type": "code",
   "execution_count": null,
   "metadata": {},
   "outputs": [],
   "source": [
    "customs_data['HS부호'].value_counts()"
   ]
  },
  {
   "cell_type": "code",
   "execution_count": null,
   "metadata": {},
   "outputs": [],
   "source": [
    "customs_data['HS부호'].unique()"
   ]
  },
  {
   "cell_type": "markdown",
   "metadata": {},
   "source": [
    "## 한글품목명"
   ]
  },
  {
   "cell_type": "code",
   "execution_count": null,
   "metadata": {},
   "outputs": [],
   "source": [
    "customs_data['한글품목명'].value_counts()"
   ]
  },
  {
   "cell_type": "code",
   "execution_count": null,
   "metadata": {},
   "outputs": [],
   "source": [
    "customs_data['한글품목명'].unique()"
   ]
  },
  {
   "cell_type": "code",
   "execution_count": null,
   "metadata": {},
   "outputs": [],
   "source": [
    "customs_data[customs_data['한글품목명'].isnull()]"
   ]
  },
  {
   "cell_type": "code",
   "execution_count": null,
   "metadata": {},
   "outputs": [],
   "source": [
    "customs_data[customs_data['한글품목명'] == ''] # ' '"
   ]
  },
  {
   "cell_type": "markdown",
   "metadata": {},
   "source": [
    "## 영문품목명"
   ]
  },
  {
   "cell_type": "code",
   "execution_count": null,
   "metadata": {},
   "outputs": [],
   "source": [
    "customs_data['영문품목명'].value_counts()"
   ]
  },
  {
   "cell_type": "code",
   "execution_count": null,
   "metadata": {},
   "outputs": [],
   "source": [
    "customs_data['영문품목명'].unique()"
   ]
  },
  {
   "cell_type": "code",
   "execution_count": null,
   "metadata": {},
   "outputs": [],
   "source": [
    "customs_data[customs_data['영문품목명'].isnull()]"
   ]
  },
  {
   "cell_type": "code",
   "execution_count": null,
   "metadata": {},
   "outputs": [],
   "source": [
    "customs_data[customs_data['영문품목명'] == ''] # ' '"
   ]
  },
  {
   "cell_type": "markdown",
   "metadata": {},
   "source": [
    "## 성질통합분류코드"
   ]
  },
  {
   "cell_type": "code",
   "execution_count": null,
   "metadata": {},
   "outputs": [],
   "source": [
    "customs_data['성질통합분류코드'].value_counts()"
   ]
  },
  {
   "cell_type": "code",
   "execution_count": null,
   "metadata": {},
   "outputs": [],
   "source": [
    "customs_data['성질통합분류코드'].unique()"
   ]
  },
  {
   "cell_type": "code",
   "execution_count": null,
   "metadata": {},
   "outputs": [],
   "source": [
    "customs_data[customs_data['성질통합분류코드'].isnull()]"
   ]
  },
  {
   "cell_type": "code",
   "execution_count": null,
   "metadata": {},
   "outputs": [],
   "source": [
    "print(customs_data['성질통합분류코드'].max(), customs_data['성질통합분류코드'].min())"
   ]
  },
  {
   "cell_type": "markdown",
   "metadata": {},
   "source": [
    "- int to str"
   ]
  },
  {
   "cell_type": "code",
   "execution_count": null,
   "metadata": {},
   "outputs": [],
   "source": [
    "customs_data['성질통합분류코드'] = customs_data['성질통합분류코드'].astype(str)\n",
    "customs_data['성질통합분류코드'] = customs_data['성질통합분류코드'].replace('nan', np.nan)\n",
    "customs_data['성질통합분류코드'] = customs_data['성질통합분류코드'].str.replace('.0', '', regex=False)"
   ]
  },
  {
   "cell_type": "code",
   "execution_count": null,
   "metadata": {},
   "outputs": [],
   "source": [
    "customs_data['성질통합분류코드'].value_counts()"
   ]
  },
  {
   "cell_type": "code",
   "execution_count": null,
   "metadata": {},
   "outputs": [],
   "source": [
    "customs_data['성질통합분류코드'].unique()"
   ]
  },
  {
   "cell_type": "markdown",
   "metadata": {},
   "source": [
    "## 성질통합분류코드명"
   ]
  },
  {
   "cell_type": "code",
   "execution_count": null,
   "metadata": {},
   "outputs": [],
   "source": [
    "customs_data['성질통합분류코드명'].value_counts()"
   ]
  },
  {
   "cell_type": "code",
   "execution_count": null,
   "metadata": {},
   "outputs": [],
   "source": [
    "customs_data['성질통합분류코드명'].unique()"
   ]
  },
  {
   "cell_type": "code",
   "execution_count": null,
   "metadata": {},
   "outputs": [],
   "source": [
    "customs_data[customs_data['성질통합분류코드명'].isnull()]"
   ]
  },
  {
   "cell_type": "markdown",
   "metadata": {},
   "source": [
    "- 괄호 보기 불편하니까 없애기"
   ]
  },
  {
   "cell_type": "code",
   "execution_count": null,
   "metadata": {},
   "outputs": [],
   "source": [
    "text = '(디젤 2,000cc초과 승용차(2,500cc이하) - 중고차)'\n",
    "res = re.sub(r'^\\((.*?)\\)$', r'\\1', text)\n",
    "print(res)"
   ]
  },
  {
   "cell_type": "code",
   "execution_count": null,
   "metadata": {},
   "outputs": [],
   "source": [
    "def re_sub(x):\n",
    "    if pd.isna(x):\n",
    "        return np.nan\n",
    "    else:\n",
    "        return re.sub(r'^\\((.*?)\\)$', r'\\1', x)\n",
    "\n",
    "customs_data['성질통합분류코드명'] = customs_data['성질통합분류코드명'].apply(lambda x: re_sub(x))"
   ]
  },
  {
   "cell_type": "code",
   "execution_count": null,
   "metadata": {},
   "outputs": [],
   "source": [
    "customs_data['성질통합분류코드명'].value_counts()"
   ]
  },
  {
   "cell_type": "code",
   "execution_count": null,
   "metadata": {},
   "outputs": [],
   "source": [
    "customs_data['성질통합분류코드명'].unique()"
   ]
  },
  {
   "cell_type": "markdown",
   "metadata": {},
   "source": [
    "- 결측치 존재하는 인덱스 구간 같은지 확인"
   ]
  },
  {
   "cell_type": "code",
   "execution_count": null,
   "metadata": {},
   "outputs": [],
   "source": [
    "temp1 = customs_data[customs_data['성질통합분류코드'].isnull()].index.tolist()\n",
    "temp2 = customs_data[customs_data['성질통합분류코드명'].isnull()].index.tolist()\n",
    "\n",
    "print(temp1 == temp2)"
   ]
  },
  {
   "cell_type": "markdown",
   "metadata": {},
   "source": [
    "# 통계청 국제표준산업분류 HSCODE 6단위 매핑"
   ]
  },
  {
   "cell_type": "code",
   "execution_count": null,
   "metadata": {},
   "outputs": [],
   "source": [
    "statistics_data.shape"
   ]
  },
  {
   "cell_type": "code",
   "execution_count": null,
   "metadata": {},
   "outputs": [],
   "source": [
    "statistics_data.columns"
   ]
  },
  {
   "cell_type": "code",
   "execution_count": null,
   "metadata": {},
   "outputs": [],
   "source": [
    "statistics_data.columns = ['ISIC4_국제표준산업분류', \n",
    "                           'ISIC4_분류명', \n",
    "                           'KSIC10_한국표준산업분류',\n",
    "                           'KSIC10_분류명', \n",
    "                           'HS2017_관세통계통합품목분류', \n",
    "                           'HS2017_분류명']"
   ]
  },
  {
   "cell_type": "code",
   "execution_count": null,
   "metadata": {},
   "outputs": [],
   "source": [
    "statistics_data.info()"
   ]
  },
  {
   "cell_type": "markdown",
   "metadata": {},
   "source": [
    "- Null값 존재함"
   ]
  },
  {
   "cell_type": "markdown",
   "metadata": {},
   "source": [
    "## 결측치 시각화"
   ]
  },
  {
   "cell_type": "code",
   "execution_count": null,
   "metadata": {},
   "outputs": [],
   "source": [
    "msno.matrix(statistics_data)\n",
    "plt.gcf().set_size_inches(10, 5)\n",
    "plt.show()"
   ]
  },
  {
   "cell_type": "markdown",
   "metadata": {},
   "source": [
    "- ISIC4, KSIC10, HS2017별로 결측치가 같은 구간에 비어있어 보임"
   ]
  },
  {
   "cell_type": "markdown",
   "metadata": {},
   "source": [
    "## ISIC4_국제표준산업분류"
   ]
  },
  {
   "cell_type": "code",
   "execution_count": null,
   "metadata": {},
   "outputs": [],
   "source": [
    "statistics_data['ISIC4_국제표준산업분류'].value_counts()"
   ]
  },
  {
   "cell_type": "code",
   "execution_count": null,
   "metadata": {},
   "outputs": [],
   "source": [
    "statistics_data['ISIC4_국제표준산업분류'].unique()"
   ]
  },
  {
   "cell_type": "markdown",
   "metadata": {},
   "source": [
    "- `nan` 결측치 존재"
   ]
  },
  {
   "cell_type": "code",
   "execution_count": null,
   "metadata": {},
   "outputs": [],
   "source": [
    "statistics_data[statistics_data['ISIC4_국제표준산업분류'].isnull()]"
   ]
  },
  {
   "cell_type": "code",
   "execution_count": null,
   "metadata": {},
   "outputs": [],
   "source": [
    "print(statistics_data['ISIC4_국제표준산업분류'].max(), statistics_data['ISIC4_국제표준산업분류'].min())"
   ]
  },
  {
   "cell_type": "markdown",
   "metadata": {},
   "source": [
    "- 세 자리는 네 자리로 바꿔줘야 함\n",
    "- int to str"
   ]
  },
  {
   "cell_type": "code",
   "execution_count": null,
   "metadata": {},
   "outputs": [],
   "source": [
    "def zero_input(x):\n",
    "    if pd.isna(x):\n",
    "        return np.nan\n",
    "    else:\n",
    "        cnt = 4 - len(x)\n",
    "        return '0' * cnt + x\n",
    "\n",
    "statistics_data['ISIC4_국제표준산업분류'] = statistics_data['ISIC4_국제표준산업분류'].astype(str)\n",
    "statistics_data['ISIC4_국제표준산업분류'] = statistics_data['ISIC4_국제표준산업분류'].replace('nan', np.nan)\n",
    "statistics_data['ISIC4_국제표준산업분류'] = statistics_data['ISIC4_국제표준산업분류'].str.replace('.0', '', regex=False)\n",
    "statistics_data['ISIC4_국제표준산업분류'] = statistics_data['ISIC4_국제표준산업분류'].apply(lambda x: zero_input(x))"
   ]
  },
  {
   "cell_type": "code",
   "execution_count": null,
   "metadata": {},
   "outputs": [],
   "source": [
    "statistics_data['ISIC4_국제표준산업분류'].unique()"
   ]
  },
  {
   "cell_type": "markdown",
   "metadata": {},
   "source": [
    "## ISIC4_분류명"
   ]
  },
  {
   "cell_type": "code",
   "execution_count": null,
   "metadata": {},
   "outputs": [],
   "source": [
    "statistics_data['ISIC4_분류명'].value_counts()"
   ]
  },
  {
   "cell_type": "code",
   "execution_count": null,
   "metadata": {},
   "outputs": [],
   "source": [
    "statistics_data['ISIC4_분류명'].unique()"
   ]
  },
  {
   "cell_type": "markdown",
   "metadata": {},
   "source": [
    "- 이것도 좀 업종별로 레이블링 할 수 있을까..?"
   ]
  },
  {
   "cell_type": "code",
   "execution_count": null,
   "metadata": {},
   "outputs": [],
   "source": [
    "statistics_data[statistics_data['ISIC4_분류명'].isnull()]"
   ]
  },
  {
   "cell_type": "markdown",
   "metadata": {},
   "source": [
    "- `nan` 결측치 존재\n",
    "- `ISIC4_국제표준산업분류`와 겹치는 인덱스 확인"
   ]
  },
  {
   "cell_type": "code",
   "execution_count": null,
   "metadata": {},
   "outputs": [],
   "source": [
    "temp1 = statistics_data[statistics_data['ISIC4_국제표준산업분류'].isnull()].index.tolist()\n",
    "temp2 = statistics_data[statistics_data['ISIC4_분류명'].isnull()].index.tolist()"
   ]
  },
  {
   "cell_type": "code",
   "execution_count": null,
   "metadata": {},
   "outputs": [],
   "source": [
    "in_temp1 = list(set(temp1) - set(temp2))\n",
    "in_temp2 = list(set(temp2) - set(temp1))\n",
    "\n",
    "print(temp1)\n",
    "print(temp2)\n",
    "print(\"'ISIC4_분류명'에는 없고 'ISIC4_국제표준산업분류'에만 있는 결측치 인덱스:\", in_temp1)\n",
    "print(\"'ISIC4_국제표준산업분류'에는 없고 'ISIC4_분류명'에만 있는 결측치 인덱스:\", in_temp2)"
   ]
  },
  {
   "cell_type": "code",
   "execution_count": null,
   "metadata": {},
   "outputs": [],
   "source": [
    "statistics_data.iloc[in_temp2]"
   ]
  },
  {
   "cell_type": "markdown",
   "metadata": {},
   "source": [
    "- `ISIC4_분류명`에만 있는 인덱스를 확인하니 `ISIC4_국제표준산업분류`가 `5110`으로 존재함"
   ]
  },
  {
   "cell_type": "markdown",
   "metadata": {},
   "source": [
    "## KSIC10_한국표준산업분류"
   ]
  },
  {
   "cell_type": "code",
   "execution_count": null,
   "metadata": {},
   "outputs": [],
   "source": [
    "statistics_data['KSIC10_한국표준산업분류'].value_counts()"
   ]
  },
  {
   "cell_type": "code",
   "execution_count": null,
   "metadata": {},
   "outputs": [],
   "source": [
    "statistics_data['KSIC10_한국표준산업분류'].unique()"
   ]
  },
  {
   "cell_type": "code",
   "execution_count": null,
   "metadata": {},
   "outputs": [],
   "source": [
    "statistics_data[statistics_data['KSIC10_한국표준산업분류'].isnull()]"
   ]
  },
  {
   "cell_type": "markdown",
   "metadata": {},
   "source": [
    "## KSIC10_분류명"
   ]
  },
  {
   "cell_type": "code",
   "execution_count": null,
   "metadata": {},
   "outputs": [],
   "source": [
    "statistics_data['KSIC10_분류명'].value_counts()"
   ]
  },
  {
   "cell_type": "code",
   "execution_count": null,
   "metadata": {},
   "outputs": [],
   "source": [
    "statistics_data['KSIC10_분류명'].unique()"
   ]
  },
  {
   "cell_type": "markdown",
   "metadata": {},
   "source": [
    "- 이것도 좀 업종별로 레이블링 할 수 있을까..?"
   ]
  },
  {
   "cell_type": "code",
   "execution_count": null,
   "metadata": {},
   "outputs": [],
   "source": [
    "statistics_data[statistics_data['KSIC10_분류명'].isnull()]"
   ]
  },
  {
   "cell_type": "markdown",
   "metadata": {},
   "source": [
    "- `nan` 결측치 존재\n",
    "- `KSIC10_한국표준산업분류`와 겹치는 인덱스 확인"
   ]
  },
  {
   "cell_type": "code",
   "execution_count": null,
   "metadata": {},
   "outputs": [],
   "source": [
    "temp1 = statistics_data[statistics_data['KSIC10_한국표준산업분류'].isnull()].index.tolist()\n",
    "temp2 = statistics_data[statistics_data['KSIC10_분류명'].isnull()].index.tolist()"
   ]
  },
  {
   "cell_type": "code",
   "execution_count": null,
   "metadata": {},
   "outputs": [],
   "source": [
    "in_temp1 = list(set(temp1) - set(temp2))\n",
    "in_temp2 = list(set(temp2) - set(temp1))\n",
    "\n",
    "print(temp1)\n",
    "print(temp2)\n",
    "print(\"'KSIC10_분류명'에는 없고 'KSIC10_한국표준산업분류'에만 있는 결측치 인덱스:\", in_temp1)\n",
    "print(\"'KSIC10_한국표준산업분류'에는 없고 'KSIC10_분류명'에만 있는 결측치 인덱스:\", in_temp2)"
   ]
  },
  {
   "cell_type": "code",
   "execution_count": null,
   "metadata": {},
   "outputs": [],
   "source": [
    "statistics_data.iloc[in_temp2]"
   ]
  },
  {
   "cell_type": "markdown",
   "metadata": {},
   "source": [
    "- `KSIC10_분류명`에만 있는 인덱스를 확인하니 `KSIC10_국제표준산업분류`가 `24312`으로 존재함"
   ]
  },
  {
   "cell_type": "markdown",
   "metadata": {},
   "source": [
    "## HS2017_관세통계통합품목분류"
   ]
  },
  {
   "cell_type": "code",
   "execution_count": null,
   "metadata": {},
   "outputs": [],
   "source": [
    "statistics_data['HS2017_관세통계통합품목분류'].value_counts()"
   ]
  },
  {
   "cell_type": "code",
   "execution_count": null,
   "metadata": {},
   "outputs": [],
   "source": [
    "statistics_data['HS2017_관세통계통합품목분류'].unique()"
   ]
  },
  {
   "cell_type": "code",
   "execution_count": null,
   "metadata": {},
   "outputs": [],
   "source": [
    "statistics_data[statistics_data['HS2017_관세통계통합품목분류'].isnull()]"
   ]
  },
  {
   "cell_type": "markdown",
   "metadata": {},
   "source": [
    "- `nan` 결측치 존재"
   ]
  },
  {
   "cell_type": "code",
   "execution_count": null,
   "metadata": {},
   "outputs": [],
   "source": [
    "print(statistics_data['HS2017_관세통계통합품목분류'].max(), statistics_data['HS2017_관세통계통합품목분류'].min())"
   ]
  },
  {
   "cell_type": "markdown",
   "metadata": {},
   "source": [
    "- 여섯자리로 바꿔줘야 함\n",
    "- int to str"
   ]
  },
  {
   "cell_type": "code",
   "execution_count": null,
   "metadata": {},
   "outputs": [],
   "source": [
    "def zero_input(x):\n",
    "    if pd.isna(x):\n",
    "        return np.nan\n",
    "    else:\n",
    "        cnt = 6 - len(x)\n",
    "        return '0' * cnt + x\n",
    "\n",
    "statistics_data['HS2017_관세통계통합품목분류'] = statistics_data['HS2017_관세통계통합품목분류'].astype(str)\n",
    "statistics_data['HS2017_관세통계통합품목분류'] = statistics_data['HS2017_관세통계통합품목분류'].replace('nan', np.nan)\n",
    "statistics_data['HS2017_관세통계통합품목분류'] = statistics_data['HS2017_관세통계통합품목분류'].str.replace('.0', '', regex=False)\n",
    "statistics_data['HS2017_관세통계통합품목분류'] = statistics_data['HS2017_관세통계통합품목분류'].apply(lambda x: zero_input(x))"
   ]
  },
  {
   "cell_type": "code",
   "execution_count": null,
   "metadata": {},
   "outputs": [],
   "source": [
    "statistics_data['HS2017_관세통계통합품목분류'].value_counts()"
   ]
  },
  {
   "cell_type": "code",
   "execution_count": null,
   "metadata": {},
   "outputs": [],
   "source": [
    "statistics_data['HS2017_관세통계통합품목분류'].unique()"
   ]
  },
  {
   "cell_type": "markdown",
   "metadata": {},
   "source": [
    "## HS2017_분류명"
   ]
  },
  {
   "cell_type": "code",
   "execution_count": null,
   "metadata": {},
   "outputs": [],
   "source": [
    "statistics_data['HS2017_분류명'].value_counts()"
   ]
  },
  {
   "cell_type": "code",
   "execution_count": null,
   "metadata": {},
   "outputs": [],
   "source": [
    "statistics_data['HS2017_분류명'].unique()"
   ]
  },
  {
   "cell_type": "code",
   "execution_count": null,
   "metadata": {},
   "outputs": [],
   "source": [
    "statistics_data[statistics_data['HS2017_분류명'].isnull()]"
   ]
  },
  {
   "cell_type": "markdown",
   "metadata": {},
   "source": [
    "- 이것도 좀 업종별로 레이블링 할 수 있을까..?"
   ]
  },
  {
   "cell_type": "markdown",
   "metadata": {},
   "source": [
    "- `nan` 결측치 존재\n",
    "- `HS2017_관세통계통합품목분류`와 겹치는 인덱스 확인"
   ]
  },
  {
   "cell_type": "code",
   "execution_count": null,
   "metadata": {},
   "outputs": [],
   "source": [
    "temp1 = statistics_data[statistics_data['HS2017_관세통계통합품목분류'].isnull()].index.tolist()\n",
    "temp2 = statistics_data[statistics_data['HS2017_분류명'].isnull()].index.tolist()"
   ]
  },
  {
   "cell_type": "code",
   "execution_count": null,
   "metadata": {},
   "outputs": [],
   "source": [
    "in_temp1 = list(set(temp1) - set(temp2))\n",
    "in_temp2 = list(set(temp2) - set(temp1))\n",
    "\n",
    "print(temp1)\n",
    "print(temp2)\n",
    "print(\"'HS2017_분류명'에는 없고 'HS2017_관세통계통합품목분류'에만 있는 결측치 인덱스:\", in_temp1)\n",
    "print(\"'HS2017_관세통계통합품목분류'에는 없고 'HS2017_분류명'에만 있는 결측치 인덱스:\", in_temp2)"
   ]
  },
  {
   "cell_type": "markdown",
   "metadata": {},
   "source": [
    "- `HS2017_관세통계통합품목분류`와 `HS2017_분류명` 둘 다 결측치가 겹침"
   ]
  },
  {
   "cell_type": "markdown",
   "metadata": {},
   "source": [
    "# 데이터 다시 확인"
   ]
  },
  {
   "cell_type": "code",
   "execution_count": null,
   "metadata": {},
   "outputs": [],
   "source": [
    "display(text_data.head())\n",
    "display(statistics_data.head())\n",
    "display(customs_data.head())"
   ]
  },
  {
   "cell_type": "code",
   "execution_count": null,
   "metadata": {},
   "outputs": [],
   "source": [
    "display(text_data.info())\n",
    "display(statistics_data.info())\n",
    "display(customs_data.info())"
   ]
  },
  {
   "cell_type": "markdown",
   "metadata": {},
   "source": [
    "- 다 object로 바꿈"
   ]
  },
  {
   "cell_type": "code",
   "execution_count": null,
   "metadata": {},
   "outputs": [],
   "source": [
    "text_data.to_csv('./data/비식별된 해외기업별 영문 텍스트데이터.csv', index=False, encoding='utf-8')\n",
    "statistics_data.to_csv('./data/통계청 국제표준산업분류 HSCODE 6단위 매핑.csv', index=False, encoding='utf-8')\n",
    "customs_data.to_csv('./data/관세청_HS부호_240101.csv', index=False, encoding='utf-8')"
   ]
  },
  {
   "cell_type": "code",
   "execution_count": null,
   "metadata": {},
   "outputs": [],
   "source": [
    "temp0 = pd.read_csv('./data/비식별된 해외기업별 영문 텍스트데이터.csv', dtype=str)\n",
    "temp1 = pd.read_csv('./data/통계청 국제표준산업분류 HSCODE 6단위 매핑.csv', dtype=str)\n",
    "temp2 = pd.read_csv('./data/관세청_HS부호_240101.csv', dtype=str)"
   ]
  },
  {
   "cell_type": "code",
   "execution_count": null,
   "metadata": {},
   "outputs": [],
   "source": [
    "display(temp0.info())\n",
    "display(temp1.info())\n",
    "display(temp2.info())"
   ]
  },
  {
   "cell_type": "code",
   "execution_count": null,
   "metadata": {},
   "outputs": [],
   "source": [
    "display(temp0.head())\n",
    "display(temp1.head())\n",
    "display(temp2.head())"
   ]
  }
 ],
 "metadata": {
  "kernelspec": {
   "display_name": ".venv",
   "language": "python",
   "name": "python3"
  },
  "language_info": {
   "codemirror_mode": {
    "name": "ipython",
    "version": 3
   },
   "file_extension": ".py",
   "mimetype": "text/x-python",
   "name": "python",
   "nbconvert_exporter": "python",
   "pygments_lexer": "ipython3",
   "version": "3.12.3"
  }
 },
 "nbformat": 4,
 "nbformat_minor": 2
}
