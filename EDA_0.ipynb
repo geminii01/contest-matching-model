{
 "cells": [
  {
   "cell_type": "code",
   "execution_count": null,
   "metadata": {},
   "outputs": [],
   "source": [
    "# !pip install numpy pandas matplotlib seaborn tqdm openpyxl missingno"
   ]
  },
  {
   "cell_type": "markdown",
   "metadata": {},
   "source": [
    "# Library"
   ]
  },
  {
   "cell_type": "code",
   "execution_count": 1,
   "metadata": {},
   "outputs": [],
   "source": [
    "import re\n",
    "import numpy as np\n",
    "import pandas as pd\n",
    "from tqdm import tqdm\n",
    "\n",
    "# visualization\n",
    "import matplotlib\n",
    "matplotlib.rcParams['axes.unicode_minus'] = False\n",
    "import matplotlib.pyplot as plt\n",
    "import matplotlib.font_manager as fm\n",
    "fe = fm.FontEntry(\n",
    "    fname=r'.venv/Lib/site-packages/matplotlib/mpl-data/fonts/ttf/NanumGothic.ttf', # ttf 파일이 저장되어 있는 경로\n",
    "    name='NanumBarunGothic')                        # 이 폰트의 원하는 이름 설정\n",
    "fm.fontManager.ttflist.insert(0, fe)              # Matplotlib에 폰트 추가\n",
    "plt.rcParams.update({'font.size': 10, 'font.family': 'NanumBarunGothic'}) # 폰트 설정\n",
    "plt.rc('font', family='NanumBarunGothic')\n",
    "import seaborn as sns\n",
    "import warnings\n",
    "warnings.filterwarnings('ignore')\n",
    "import missingno as msno"
   ]
  },
  {
   "cell_type": "code",
   "execution_count": 2,
   "metadata": {},
   "outputs": [],
   "source": [
    "text_data_org = pd.read_excel('./data/비식별된 해외기업별 영문 텍스트데이터.xlsx')\n",
    "statistics_data_org = pd.read_excel('./data/통계청 국제표준산업분류 HSCODE 6단위 매핑.xlsx')\n",
    "customs_data_org = pd.read_excel('./data/관세청_HS부호_240101.xlsx')\n",
    "\n",
    "text_data = text_data_org.copy()\n",
    "statistics_data = statistics_data_org.copy()\n",
    "customs_data = customs_data_org.copy()"
   ]
  },
  {
   "cell_type": "code",
   "execution_count": 3,
   "metadata": {},
   "outputs": [
    {
     "data": {
      "text/html": [
       "<div>\n",
       "<style scoped>\n",
       "    .dataframe tbody tr th:only-of-type {\n",
       "        vertical-align: middle;\n",
       "    }\n",
       "\n",
       "    .dataframe tbody tr th {\n",
       "        vertical-align: top;\n",
       "    }\n",
       "\n",
       "    .dataframe thead th {\n",
       "        text-align: right;\n",
       "    }\n",
       "</style>\n",
       "<table border=\"1\" class=\"dataframe\">\n",
       "  <thead>\n",
       "    <tr style=\"text-align: right;\">\n",
       "      <th></th>\n",
       "      <th>ID</th>\n",
       "      <th>CODE</th>\n",
       "      <th>DSC</th>\n",
       "    </tr>\n",
       "  </thead>\n",
       "  <tbody>\n",
       "    <tr>\n",
       "      <th>0</th>\n",
       "      <td>1</td>\n",
       "      <td>4520</td>\n",
       "      <td>automotive repair shops, nec  specialized auto...</td>\n",
       "    </tr>\n",
       "    <tr>\n",
       "      <th>1</th>\n",
       "      <td>2</td>\n",
       "      <td>149</td>\n",
       "      <td>general farms, primarily animals, nsk  derives...</td>\n",
       "    </tr>\n",
       "    <tr>\n",
       "      <th>2</th>\n",
       "      <td>3</td>\n",
       "      <td>4630</td>\n",
       "      <td>fish and seafoods  the wholesale distribution ...</td>\n",
       "    </tr>\n",
       "    <tr>\n",
       "      <th>3</th>\n",
       "      <td>4</td>\n",
       "      <td>4510</td>\n",
       "      <td>new and used car dealers, nsk  manufactures a ...</td>\n",
       "    </tr>\n",
       "    <tr>\n",
       "      <th>4</th>\n",
       "      <td>4</td>\n",
       "      <td>2930</td>\n",
       "      <td>automotive stampings, nsk  manufacturing autom...</td>\n",
       "    </tr>\n",
       "  </tbody>\n",
       "</table>\n",
       "</div>"
      ],
      "text/plain": [
       "   ID  CODE                                                DSC\n",
       "0   1  4520  automotive repair shops, nec  specialized auto...\n",
       "1   2   149  general farms, primarily animals, nsk  derives...\n",
       "2   3  4630  fish and seafoods  the wholesale distribution ...\n",
       "3   4  4510  new and used car dealers, nsk  manufactures a ...\n",
       "4   4  2930  automotive stampings, nsk  manufacturing autom..."
      ]
     },
     "metadata": {},
     "output_type": "display_data"
    },
    {
     "data": {
      "text/html": [
       "<div>\n",
       "<style scoped>\n",
       "    .dataframe tbody tr th:only-of-type {\n",
       "        vertical-align: middle;\n",
       "    }\n",
       "\n",
       "    .dataframe tbody tr th {\n",
       "        vertical-align: top;\n",
       "    }\n",
       "\n",
       "    .dataframe thead th {\n",
       "        text-align: right;\n",
       "    }\n",
       "</style>\n",
       "<table border=\"1\" class=\"dataframe\">\n",
       "  <thead>\n",
       "    <tr style=\"text-align: right;\">\n",
       "      <th></th>\n",
       "      <th>ISIC4\\n(국제표준산업분류, UN)</th>\n",
       "      <th>ISIC4 분류명(한글)</th>\n",
       "      <th>KSIC10\\n한국표준산업분류</th>\n",
       "      <th>KSIC10 분류명</th>\n",
       "      <th>HS2017\\n관세·통계통합품목분류(WCO, 한국)</th>\n",
       "      <th>HS2017 분류명(한글)</th>\n",
       "    </tr>\n",
       "  </thead>\n",
       "  <tbody>\n",
       "    <tr>\n",
       "      <th>0</th>\n",
       "      <td>111.0</td>\n",
       "      <td>곡물(쌀 제외), 콩류, 종실유 재배업</td>\n",
       "      <td>01123</td>\n",
       "      <td>종자 및 묘목 생산업</td>\n",
       "      <td>100111.0</td>\n",
       "      <td>종자</td>\n",
       "    </tr>\n",
       "    <tr>\n",
       "      <th>1</th>\n",
       "      <td>NaN</td>\n",
       "      <td>NaN</td>\n",
       "      <td>NaN</td>\n",
       "      <td>NaN</td>\n",
       "      <td>100191.0</td>\n",
       "      <td>종자</td>\n",
       "    </tr>\n",
       "    <tr>\n",
       "      <th>2</th>\n",
       "      <td>111.0</td>\n",
       "      <td>곡물(쌀 제외), 콩류, 종실유 재배업</td>\n",
       "      <td>01110</td>\n",
       "      <td>곡물 및 기타 식량작물 재배업</td>\n",
       "      <td>100119.0</td>\n",
       "      <td>기타</td>\n",
       "    </tr>\n",
       "    <tr>\n",
       "      <th>3</th>\n",
       "      <td>NaN</td>\n",
       "      <td>NaN</td>\n",
       "      <td>NaN</td>\n",
       "      <td>NaN</td>\n",
       "      <td>100199.0</td>\n",
       "      <td>기타</td>\n",
       "    </tr>\n",
       "    <tr>\n",
       "      <th>4</th>\n",
       "      <td>111.0</td>\n",
       "      <td>곡물(쌀 제외), 콩류, 종실유 재배업</td>\n",
       "      <td>01123</td>\n",
       "      <td>종자 및 묘목 생산업</td>\n",
       "      <td>100510.0</td>\n",
       "      <td>종자용</td>\n",
       "    </tr>\n",
       "  </tbody>\n",
       "</table>\n",
       "</div>"
      ],
      "text/plain": [
       "   ISIC4\\n(국제표준산업분류, UN)          ISIC4 분류명(한글) KSIC10\\n한국표준산업분류  \\\n",
       "0                  111.0  곡물(쌀 제외), 콩류, 종실유 재배업            01123   \n",
       "1                    NaN                    NaN              NaN   \n",
       "2                  111.0  곡물(쌀 제외), 콩류, 종실유 재배업            01110   \n",
       "3                    NaN                    NaN              NaN   \n",
       "4                  111.0  곡물(쌀 제외), 콩류, 종실유 재배업            01123   \n",
       "\n",
       "         KSIC10 분류명  HS2017\\n관세·통계통합품목분류(WCO, 한국) HS2017 분류명(한글)  \n",
       "0       종자 및 묘목 생산업                      100111.0             종자  \n",
       "1               NaN                      100191.0             종자  \n",
       "2  곡물 및 기타 식량작물 재배업                      100119.0             기타  \n",
       "3               NaN                      100199.0             기타  \n",
       "4       종자 및 묘목 생산업                      100510.0            종자용  "
      ]
     },
     "metadata": {},
     "output_type": "display_data"
    },
    {
     "data": {
      "text/html": [
       "<div>\n",
       "<style scoped>\n",
       "    .dataframe tbody tr th:only-of-type {\n",
       "        vertical-align: middle;\n",
       "    }\n",
       "\n",
       "    .dataframe tbody tr th {\n",
       "        vertical-align: top;\n",
       "    }\n",
       "\n",
       "    .dataframe thead th {\n",
       "        text-align: right;\n",
       "    }\n",
       "</style>\n",
       "<table border=\"1\" class=\"dataframe\">\n",
       "  <thead>\n",
       "    <tr style=\"text-align: right;\">\n",
       "      <th></th>\n",
       "      <th>HS부호</th>\n",
       "      <th>한글품목명</th>\n",
       "      <th>영문품목명</th>\n",
       "      <th>성질통합분류코드</th>\n",
       "      <th>성질통합분류코드명</th>\n",
       "    </tr>\n",
       "  </thead>\n",
       "  <tbody>\n",
       "    <tr>\n",
       "      <th>0</th>\n",
       "      <td>101211000</td>\n",
       "      <td>농가 사육용</td>\n",
       "      <td>For farm breeding</td>\n",
       "      <td>11020101.0</td>\n",
       "      <td>(말)</td>\n",
       "    </tr>\n",
       "    <tr>\n",
       "      <th>1</th>\n",
       "      <td>101219000</td>\n",
       "      <td>기타</td>\n",
       "      <td>Other</td>\n",
       "      <td>11020101.0</td>\n",
       "      <td>(말)</td>\n",
       "    </tr>\n",
       "    <tr>\n",
       "      <th>2</th>\n",
       "      <td>101291000</td>\n",
       "      <td>경주말</td>\n",
       "      <td>Horses for racing</td>\n",
       "      <td>11020101.0</td>\n",
       "      <td>(말)</td>\n",
       "    </tr>\n",
       "    <tr>\n",
       "      <th>3</th>\n",
       "      <td>101299000</td>\n",
       "      <td>기타</td>\n",
       "      <td>Other</td>\n",
       "      <td>11020101.0</td>\n",
       "      <td>(말)</td>\n",
       "    </tr>\n",
       "    <tr>\n",
       "      <th>4</th>\n",
       "      <td>101300000</td>\n",
       "      <td>당나귀</td>\n",
       "      <td>Asses</td>\n",
       "      <td>11020190.0</td>\n",
       "      <td>(기타 산 동물)</td>\n",
       "    </tr>\n",
       "  </tbody>\n",
       "</table>\n",
       "</div>"
      ],
      "text/plain": [
       "        HS부호   한글품목명              영문품목명    성질통합분류코드  성질통합분류코드명\n",
       "0  101211000  농가 사육용  For farm breeding  11020101.0        (말)\n",
       "1  101219000      기타              Other  11020101.0        (말)\n",
       "2  101291000     경주말  Horses for racing  11020101.0        (말)\n",
       "3  101299000      기타              Other  11020101.0        (말)\n",
       "4  101300000     당나귀              Asses  11020190.0  (기타 산 동물)"
      ]
     },
     "metadata": {},
     "output_type": "display_data"
    }
   ],
   "source": [
    "display(text_data.head())\n",
    "display(statistics_data.head())\n",
    "display(customs_data.head())"
   ]
  },
  {
   "cell_type": "markdown",
   "metadata": {},
   "source": [
    "# 비식별된 해외기업별 영문 텍스트데이터"
   ]
  },
  {
   "cell_type": "code",
   "execution_count": 4,
   "metadata": {},
   "outputs": [
    {
     "data": {
      "text/plain": [
       "(10000, 3)"
      ]
     },
     "execution_count": 4,
     "metadata": {},
     "output_type": "execute_result"
    }
   ],
   "source": [
    "text_data.shape"
   ]
  },
  {
   "cell_type": "code",
   "execution_count": 5,
   "metadata": {},
   "outputs": [
    {
     "data": {
      "text/plain": [
       "Index(['ID', 'CODE', 'DSC'], dtype='object')"
      ]
     },
     "execution_count": 5,
     "metadata": {},
     "output_type": "execute_result"
    }
   ],
   "source": [
    "text_data.columns"
   ]
  },
  {
   "cell_type": "code",
   "execution_count": 6,
   "metadata": {},
   "outputs": [
    {
     "name": "stdout",
     "output_type": "stream",
     "text": [
      "<class 'pandas.core.frame.DataFrame'>\n",
      "RangeIndex: 10000 entries, 0 to 9999\n",
      "Data columns (total 3 columns):\n",
      " #   Column  Non-Null Count  Dtype \n",
      "---  ------  --------------  ----- \n",
      " 0   ID      10000 non-null  int64 \n",
      " 1   CODE    10000 non-null  int64 \n",
      " 2   DSC     10000 non-null  object\n",
      "dtypes: int64(2), object(1)\n",
      "memory usage: 234.5+ KB\n"
     ]
    }
   ],
   "source": [
    "text_data.info()"
   ]
  },
  {
   "cell_type": "markdown",
   "metadata": {},
   "source": [
    "## 기업 ID"
   ]
  },
  {
   "cell_type": "code",
   "execution_count": 7,
   "metadata": {},
   "outputs": [
    {
     "data": {
      "text/plain": [
       "ID\n",
       "52       3\n",
       "1944     3\n",
       "3068     3\n",
       "1952     2\n",
       "9412     2\n",
       "        ..\n",
       "3456     1\n",
       "3457     1\n",
       "3458     1\n",
       "3459     1\n",
       "10645    1\n",
       "Name: count, Length: 9897, dtype: int64"
      ]
     },
     "execution_count": 7,
     "metadata": {},
     "output_type": "execute_result"
    }
   ],
   "source": [
    "text_data['ID'].value_counts()"
   ]
  },
  {
   "cell_type": "code",
   "execution_count": 8,
   "metadata": {},
   "outputs": [
    {
     "data": {
      "text/plain": [
       "array([    1,     2,     3, ..., 10643, 10644, 10645], dtype=int64)"
      ]
     },
     "execution_count": 8,
     "metadata": {},
     "output_type": "execute_result"
    }
   ],
   "source": [
    "text_data['ID'].unique()"
   ]
  },
  {
   "cell_type": "code",
   "execution_count": 9,
   "metadata": {},
   "outputs": [],
   "source": [
    "text_data['ID'] = text_data['ID'].astype(str)"
   ]
  },
  {
   "cell_type": "code",
   "execution_count": 10,
   "metadata": {},
   "outputs": [
    {
     "data": {
      "text/plain": [
       "array(['1', '2', '3', ..., '10643', '10644', '10645'], dtype=object)"
      ]
     },
     "execution_count": 10,
     "metadata": {},
     "output_type": "execute_result"
    }
   ],
   "source": [
    "text_data['ID'].unique()"
   ]
  },
  {
   "cell_type": "markdown",
   "metadata": {},
   "source": [
    "## 국제표준산업분류코드 (ISIC 4자리)"
   ]
  },
  {
   "cell_type": "code",
   "execution_count": 11,
   "metadata": {},
   "outputs": [
    {
     "data": {
      "text/plain": [
       "CODE\n",
       "4659    899\n",
       "4649    886\n",
       "4530    497\n",
       "4663    369\n",
       "4669    298\n",
       "       ... \n",
       "9311      1\n",
       "170       1\n",
       "1623      1\n",
       "8521      1\n",
       "7210      1\n",
       "Name: count, Length: 273, dtype: int64"
      ]
     },
     "execution_count": 11,
     "metadata": {},
     "output_type": "execute_result"
    }
   ],
   "source": [
    "text_data['CODE'].value_counts()"
   ]
  },
  {
   "cell_type": "code",
   "execution_count": 12,
   "metadata": {},
   "outputs": [
    {
     "data": {
      "text/plain": [
       "array([4520,  149, 4630, 4510, 2930, 4759, 4659, 2599, 3230, 2818, 4530,\n",
       "       4669, 4652, 4771, 1010,  146, 4690, 5610, 8411, 2910, 2651, 3250,\n",
       "       2100, 2593, 6311, 2219, 6202, 3030, 2811, 2819, 2021, 4663, 1701,\n",
       "       1079,  910, 1920, 4620, 4649, 2620, 2029, 6820, 2610, 5110, 4752,\n",
       "       1312, 2220, 1410, 2395, 2822, 2011, 2432, 4662, 2410, 8299, 2813,\n",
       "       1399, 4641, 1311, 2012, 5223, 1392, 3011, 1313, 1393, 7020, 4653,\n",
       "       1073, 4322, 2511, 2670, 9529, 1030, 2710, 4651, 9999, 6492, 2750,\n",
       "       9412, 2920, 7110, 2310, 1430, 1391, 2823, 1050, 3100, 1511, 1071,\n",
       "       1702, 4661, 2023, 2630, 4312, 2815, 3211, 1623, 2824, 1629, 2420,\n",
       "       2825, 1811, 1394, 8690, 2022, 2592, 1061, 2740, 2431, 4100, 1040,\n",
       "       2826,  170, 2821, 2790,  130, 2591, 4390, 2013, 2399, 3290, 4763,\n",
       "       4540, 9311, 4210, 1512, 4773, 1709, 9411, 7500, 2520, 4321, 2829,\n",
       "       9522, 1520, 3510, 2391, 5229, 2512, 4741,  113, 4220, 1812, 2720,\n",
       "       5813, 1104, 1062, 8130, 2640, 8010, 2394,  810, 4330, 5222, 2652,\n",
       "       3240, 5811, 7220, 1621, 7120, 3520, 2211, 5819,  891,  899, 2393,\n",
       "       1080, 6190, 3811,  510, 4753,  111, 5210, 6020, 2396, 4719, 4711,\n",
       "        220, 3900,  161, 2392,  990, 1102, 6110,  145, 1622,  729, 6120,\n",
       "       1020,  311, 5012, 1200, 4921, 9601, 6612, 6411, 8423, 2816, 1610,\n",
       "       4774, 4721, 7730, 7490, 1074, 4791, 4772, 5913, 2030, 9499, 8890,\n",
       "       9609, 1101, 1103, 4761,  125, 8549, 9329, 8422, 3700, 9312, 3212,\n",
       "       6512, 8610, 4923, 5320, 9511, 7710, 7420, 9321, 7410, 6419, 6391,\n",
       "       9491, 8421, 1072, 9602, 3099,  112,  162, 8521, 5510, 9102, 8620,\n",
       "        129, 6530, 9000, 5221,  240, 2817, 2814, 3530, 3220, 6611, 6910,\n",
       "       6430, 9103, 3600, 4722, 9101, 4911, 5630, 7911,  141, 7820,  114,\n",
       "       9603, 4930,  163, 8412,  321, 4751, 8413, 8129, 7210], dtype=int64)"
      ]
     },
     "execution_count": 12,
     "metadata": {},
     "output_type": "execute_result"
    }
   ],
   "source": [
    "text_data['CODE'].unique()"
   ]
  },
  {
   "cell_type": "code",
   "execution_count": 13,
   "metadata": {},
   "outputs": [
    {
     "name": "stdout",
     "output_type": "stream",
     "text": [
      "9999 111\n"
     ]
    }
   ],
   "source": [
    "print(text_data['CODE'].max(), text_data['CODE'].min())"
   ]
  },
  {
   "cell_type": "markdown",
   "metadata": {},
   "source": [
    "- 세 자리는 네 자리로 바꿔줘야 함"
   ]
  },
  {
   "cell_type": "code",
   "execution_count": 14,
   "metadata": {},
   "outputs": [],
   "source": [
    "text_data['CODE'] = text_data['CODE'].apply(lambda x: f'{x:04}')"
   ]
  },
  {
   "cell_type": "code",
   "execution_count": 15,
   "metadata": {},
   "outputs": [
    {
     "data": {
      "text/plain": [
       "array(['4520', '0149', '4630', '4510', '2930', '4759', '4659', '2599',\n",
       "       '3230', '2818', '4530', '4669', '4652', '4771', '1010', '0146',\n",
       "       '4690', '5610', '8411', '2910', '2651', '3250', '2100', '2593',\n",
       "       '6311', '2219', '6202', '3030', '2811', '2819', '2021', '4663',\n",
       "       '1701', '1079', '0910', '1920', '4620', '4649', '2620', '2029',\n",
       "       '6820', '2610', '5110', '4752', '1312', '2220', '1410', '2395',\n",
       "       '2822', '2011', '2432', '4662', '2410', '8299', '2813', '1399',\n",
       "       '4641', '1311', '2012', '5223', '1392', '3011', '1313', '1393',\n",
       "       '7020', '4653', '1073', '4322', '2511', '2670', '9529', '1030',\n",
       "       '2710', '4651', '9999', '6492', '2750', '9412', '2920', '7110',\n",
       "       '2310', '1430', '1391', '2823', '1050', '3100', '1511', '1071',\n",
       "       '1702', '4661', '2023', '2630', '4312', '2815', '3211', '1623',\n",
       "       '2824', '1629', '2420', '2825', '1811', '1394', '8690', '2022',\n",
       "       '2592', '1061', '2740', '2431', '4100', '1040', '2826', '0170',\n",
       "       '2821', '2790', '0130', '2591', '4390', '2013', '2399', '3290',\n",
       "       '4763', '4540', '9311', '4210', '1512', '4773', '1709', '9411',\n",
       "       '7500', '2520', '4321', '2829', '9522', '1520', '3510', '2391',\n",
       "       '5229', '2512', '4741', '0113', '4220', '1812', '2720', '5813',\n",
       "       '1104', '1062', '8130', '2640', '8010', '2394', '0810', '4330',\n",
       "       '5222', '2652', '3240', '5811', '7220', '1621', '7120', '3520',\n",
       "       '2211', '5819', '0891', '0899', '2393', '1080', '6190', '3811',\n",
       "       '0510', '4753', '0111', '5210', '6020', '2396', '4719', '4711',\n",
       "       '0220', '3900', '0161', '2392', '0990', '1102', '6110', '0145',\n",
       "       '1622', '0729', '6120', '1020', '0311', '5012', '1200', '4921',\n",
       "       '9601', '6612', '6411', '8423', '2816', '1610', '4774', '4721',\n",
       "       '7730', '7490', '1074', '4791', '4772', '5913', '2030', '9499',\n",
       "       '8890', '9609', '1101', '1103', '4761', '0125', '8549', '9329',\n",
       "       '8422', '3700', '9312', '3212', '6512', '8610', '4923', '5320',\n",
       "       '9511', '7710', '7420', '9321', '7410', '6419', '6391', '9491',\n",
       "       '8421', '1072', '9602', '3099', '0112', '0162', '8521', '5510',\n",
       "       '9102', '8620', '0129', '6530', '9000', '5221', '0240', '2817',\n",
       "       '2814', '3530', '3220', '6611', '6910', '6430', '9103', '3600',\n",
       "       '4722', '9101', '4911', '5630', '7911', '0141', '7820', '0114',\n",
       "       '9603', '4930', '0163', '8412', '0321', '4751', '8413', '8129',\n",
       "       '7210'], dtype=object)"
      ]
     },
     "execution_count": 15,
     "metadata": {},
     "output_type": "execute_result"
    }
   ],
   "source": [
    "text_data['CODE'].unique()"
   ]
  },
  {
   "cell_type": "markdown",
   "metadata": {},
   "source": [
    "## 기업 관련 텍스트 데이터"
   ]
  },
  {
   "cell_type": "code",
   "execution_count": 16,
   "metadata": {},
   "outputs": [
    {
     "data": {
      "text/plain": [
       "DSC\n",
       "commercial equipment, nec  the wholesale distribution of commercial and related machines and equipment, not elsewhere classified, such as commercial cooking and food service equipment; partitions, shelving, lockers, and store fixtures; electrical signs; and balances and scales, except laboratory. professional and commercial equipment wholesale commercial equipment, nec other commercial equipment merchant wholesalers wholesale of other office machinery and equipment wholesale of other machinery and equipment wholesale of other machinery and equipmentother machinery and equipment wholesaling not elsewhere classified                                                                        339\n",
       "motor vehicle supplies and new parts  the wholesale distribution of motor vehicle supplies, accessories, tools, and equipment; and new motor vehicle parts. motor vehicle wholesale motor vehicle supplies and new parts motor vehicle supplies and new parts merchant wholesalers wholesale trade of motor vehicle parts and accessories sale of motor vehicle parts and accessories wholesale trade of motor vehicle parts and accessoriesmotor vehicle new parts wholesaling                                                                                                                                                                                                                                      292\n",
       "nondurable goods, nec, nsk  the wholesale distribution of non-durable goods, not elsewhere classified, such as art goods, industrial yarns, textile bags, and bagging and burlap. miscellaneous wholesale general merchandise, non-durable other miscellaneous nondurable goods merchant wholesalers non-specialised wholesale trade non-specialized wholesale trade non-specialised wholesale tradeother goods wholesaling not elsewhere classified                                                                                                                                                                                                                                                                 204\n",
       "construction materials, nec, nsk  the wholesale distribution of mobile homes and of construction materials, not elsewhere classified, including prefabricated buildings and glass. construction and hardware materials wholesale construction materials, nec other construction material merchant wholesalers wholesale of wood, construction materials and sanitary equipment wholesale of construction materials, hardware, plumbing and heating equipment and supplies wholesale of wood, construction materials and sanitary equipmentother hardware goods wholesaling                                                                                                                                           203\n",
       "drugs, proprietaries, and sundries  the wholesale distribution of prescription drugs, proprietary drugs, druggists' sundries, and toiletries. health and personal care wholesale drugs, proprietaries, and sundries drugs and druggists' sundries merchant wholesalers wholesale of pharmaceutical goods wholesale of other household goods wholesale of pharmaceutical goodspharmaceutical and toiletry goods wholesaling                                                                                                                                                                                                                                                                                           165\n",
       "                                                                                                                                                                                                                                                                                                                                                                                                                                                                                                                                                                                                                                                                                                                    ... \n",
       "highway and street construction  is a general and special trade contractor primarily engaged in the construction of roads, streets, alleys, public sidewalks, guardrails, parkways, and airports. civil engineering concrete construction: roads, highways, sidewalks, etc. highway, street, and bridge construction construction of roads and motorways construction of roads and railways construction of roads and motorwaysroad and bridge construction                                                                                                                                                                                                                                                            1\n",
       "industrial supplies, nsk  the wholesale distribution of industrial supplies, not elsewhere classified. machinery wholesale power transmission equipment and apparatus industrial supplies merchant wholesalers wholesale of other machinery and equipment wholesale of other machinery and equipment wholesale of other intermediate productsother specialised industrial machinery and equipment wholesaling                                                                                                                                                                                                                                                                                                          1\n",
       "business services, nec, nsk  furnishing business services, not elsewhere classified, such as bondspersons, drafting services, lecture bureaus, notaries public, sign painting, speakers' bureaus, water softening services, and auctioneering services, on a commission or fee basis. miscellaneous professional services authors' agents and brokers agents and managers for artists, athletes, entertainers, and other public figures office administrative, office support and other business support activities other business support service activities n.e.c. other professional, scientific and technical activities n.e.c.other professional, scientific and technical services not elsewhere classified      1\n",
       "carpets and rugs  manufacturing woven, tufted, and other carpets and rugs, such as art squares, floor mattings, needle punch carpeting, and door mats and mattings, from textile materials or from twisted paper, grasses, reeds, coir, sisal, jute, or rags. textile manufacturing carpets: twisted paper, grass, reed, coir, sisal, jute, etc. carpet and rug mills manufacture of carpets and rugs manufacture of carpets and rugs manufacture of carpets and rugstextile floor covering manufacturing                                                                                                                                                                                                              1\n",
       "blast furnaces and steel mills, nsk  manufacturing hot metal, pig iron, and silvery pig iron from iron ore and iron and steel scrap; converting pig iron, scrap iron, and scrap steel into steel; and in hot-rolling iron and steel into basic shapes, such as plates, sheets, strips, rods, bars, and tubing. merchant blast furnaces and by-product or beehive coke ovens are also included in this industry. metal products manufacturing tinplate iron and steel mills and ferroalloy manufacturing manufacture of basic iron and steel and of ferro-alloys manufacture of basic iron and steel manufacture of basic iron and steel and of ferro-alloysiron smelting and steel manufacturing                       1\n",
       "Name: count, Length: 1718, dtype: int64"
      ]
     },
     "execution_count": 16,
     "metadata": {},
     "output_type": "execute_result"
    }
   ],
   "source": [
    "text_data['DSC'].value_counts()"
   ]
  },
  {
   "cell_type": "code",
   "execution_count": 17,
   "metadata": {},
   "outputs": [],
   "source": [
    "for idx in range(0, text_data.shape[0]):\n",
    "    text = text_data.iloc[idx, 2]\n",
    "    search = re.search(r'\\bNone\\b', text) # nan, Nan, NaN, Null, None\n",
    "    if search:\n",
    "        print(idx, search.group())"
   ]
  },
  {
   "cell_type": "code",
   "execution_count": 18,
   "metadata": {},
   "outputs": [
    {
     "data": {
      "text/plain": [
       "count    10000.000000\n",
       "mean        65.877800\n",
       "std         20.470124\n",
       "min         17.000000\n",
       "25%         53.000000\n",
       "50%         64.000000\n",
       "75%         77.000000\n",
       "max        222.000000\n",
       "Name: DSC, dtype: float64"
      ]
     },
     "execution_count": 18,
     "metadata": {},
     "output_type": "execute_result"
    }
   ],
   "source": [
    "# description 텍스트 길이 확인\n",
    "text_data_DSC_cnt = text_data['DSC'].apply(lambda x: len(x.split()))\n",
    "text_data_DSC_cnt.describe()"
   ]
  },
  {
   "cell_type": "code",
   "execution_count": 19,
   "metadata": {},
   "outputs": [
    {
     "data": {
      "text/plain": [
       "'hardware, nec nonclassifiable establishments nonclassifiable establishments hardware, nec nonclassifiable establishments nonclassifiable establishments nonclassifiable establishments nonclassifiable establishmentsnonclassifiable establishments'"
      ]
     },
     "execution_count": 19,
     "metadata": {},
     "output_type": "execute_result"
    }
   ],
   "source": [
    "# text_data_DSC_cnt[text_data_DSC_cnt == 17]\n",
    "text_data.iloc[188, 2]"
   ]
  },
  {
   "cell_type": "markdown",
   "metadata": {},
   "source": [
    "- 비어있는 description은 없음\n",
    "- 텍스트 요약으로 비숫한 직군을 나타내는 컬럼 추가가 가능할까?\n",
    "- 어떤 텍스트 요약 모델 쓸지도 생각해봐야 할 듯\n",
    "- 아님 아예 GPT API로 비슷한 직군 레이블링 요청해도 괜찮을 듯\n",
    "- 이 과정은 직접 검수 필요"
   ]
  },
  {
   "cell_type": "markdown",
   "metadata": {},
   "source": [
    "# 통계청 국제표준산업분류 HSCODE 6단위 매핑"
   ]
  },
  {
   "cell_type": "code",
   "execution_count": 20,
   "metadata": {},
   "outputs": [
    {
     "data": {
      "text/plain": [
       "Index(['HS부호', '한글품목명', '영문품목명', '성질통합분류코드', '성질통합분류코드명'], dtype='object')"
      ]
     },
     "execution_count": 20,
     "metadata": {},
     "output_type": "execute_result"
    }
   ],
   "source": [
    "customs_data.columns"
   ]
  },
  {
   "cell_type": "code",
   "execution_count": 21,
   "metadata": {},
   "outputs": [
    {
     "data": {
      "text/plain": [
       "(12422, 5)"
      ]
     },
     "execution_count": 21,
     "metadata": {},
     "output_type": "execute_result"
    }
   ],
   "source": [
    "customs_data.shape"
   ]
  },
  {
   "cell_type": "code",
   "execution_count": 22,
   "metadata": {},
   "outputs": [
    {
     "name": "stdout",
     "output_type": "stream",
     "text": [
      "<class 'pandas.core.frame.DataFrame'>\n",
      "RangeIndex: 12422 entries, 0 to 12421\n",
      "Data columns (total 5 columns):\n",
      " #   Column     Non-Null Count  Dtype  \n",
      "---  ------     --------------  -----  \n",
      " 0   HS부호       12422 non-null  int64  \n",
      " 1   한글품목명      12422 non-null  object \n",
      " 2   영문품목명      12422 non-null  object \n",
      " 3   성질통합분류코드   11294 non-null  float64\n",
      " 4   성질통합분류코드명  11294 non-null  object \n",
      "dtypes: float64(1), int64(1), object(3)\n",
      "memory usage: 485.4+ KB\n"
     ]
    }
   ],
   "source": [
    "customs_data.info()"
   ]
  },
  {
   "cell_type": "markdown",
   "metadata": {},
   "source": [
    "## 결측치 시각화"
   ]
  },
  {
   "cell_type": "code",
   "execution_count": 23,
   "metadata": {},
   "outputs": [
    {
     "data": {
      "image/png": "[encoded data removed]",
      "text/plain": [
       "<Figure size 1000x500 with 2 Axes>"
      ]
     },
     "metadata": {},
     "output_type": "display_data"
    }
   ],
   "source": [
    "msno.matrix(customs_data)\n",
    "plt.gcf().set_size_inches(10, 5)\n",
    "plt.show()"
   ]
  },
  {
   "cell_type": "markdown",
   "metadata": {},
   "source": [
    "## HS부호"
   ]
  },
  {
   "cell_type": "code",
   "execution_count": 24,
   "metadata": {},
   "outputs": [
    {
     "data": {
      "text/plain": [
       "HS부호\n",
       "101211000     1\n",
       "73170010      1\n",
       "7313001000    1\n",
       "7313009000    1\n",
       "7314120000    1\n",
       "             ..\n",
       "3201200000    1\n",
       "3201900000    1\n",
       "3202101000    1\n",
       "3202103000    1\n",
       "9706903000    1\n",
       "Name: count, Length: 12422, dtype: int64"
      ]
     },
     "execution_count": 24,
     "metadata": {},
     "output_type": "execute_result"
    }
   ],
   "source": [
    "customs_data['HS부호'].value_counts()"
   ]
  },
  {
   "cell_type": "code",
   "execution_count": 25,
   "metadata": {},
   "outputs": [
    {
     "data": {
      "text/plain": [
       "array([ 101211000,  101219000,  101291000, ..., 9706901000, 9706902000,\n",
       "       9706903000], dtype=int64)"
      ]
     },
     "execution_count": 25,
     "metadata": {},
     "output_type": "execute_result"
    }
   ],
   "source": [
    "customs_data['HS부호'].unique()"
   ]
  },
  {
   "cell_type": "code",
   "execution_count": 26,
   "metadata": {},
   "outputs": [
    {
     "data": {
      "text/html": [
       "<div>\n",
       "<style scoped>\n",
       "    .dataframe tbody tr th:only-of-type {\n",
       "        vertical-align: middle;\n",
       "    }\n",
       "\n",
       "    .dataframe tbody tr th {\n",
       "        vertical-align: top;\n",
       "    }\n",
       "\n",
       "    .dataframe thead th {\n",
       "        text-align: right;\n",
       "    }\n",
       "</style>\n",
       "<table border=\"1\" class=\"dataframe\">\n",
       "  <thead>\n",
       "    <tr style=\"text-align: right;\">\n",
       "      <th></th>\n",
       "      <th>HS부호</th>\n",
       "      <th>한글품목명</th>\n",
       "      <th>영문품목명</th>\n",
       "      <th>성질통합분류코드</th>\n",
       "      <th>성질통합분류코드명</th>\n",
       "    </tr>\n",
       "  </thead>\n",
       "  <tbody>\n",
       "  </tbody>\n",
       "</table>\n",
       "</div>"
      ],
      "text/plain": [
       "Empty DataFrame\n",
       "Columns: [HS부호, 한글품목명, 영문품목명, 성질통합분류코드, 성질통합분류코드명]\n",
       "Index: []"
      ]
     },
     "execution_count": 26,
     "metadata": {},
     "output_type": "execute_result"
    }
   ],
   "source": [
    "customs_data[customs_data['HS부호'].isnull()]"
   ]
  },
  {
   "cell_type": "code",
   "execution_count": 27,
   "metadata": {},
   "outputs": [
    {
     "data": {
      "text/html": [
       "<div>\n",
       "<style scoped>\n",
       "    .dataframe tbody tr th:only-of-type {\n",
       "        vertical-align: middle;\n",
       "    }\n",
       "\n",
       "    .dataframe tbody tr th {\n",
       "        vertical-align: top;\n",
       "    }\n",
       "\n",
       "    .dataframe thead th {\n",
       "        text-align: right;\n",
       "    }\n",
       "</style>\n",
       "<table border=\"1\" class=\"dataframe\">\n",
       "  <thead>\n",
       "    <tr style=\"text-align: right;\">\n",
       "      <th></th>\n",
       "      <th>HS부호</th>\n",
       "      <th>한글품목명</th>\n",
       "      <th>영문품목명</th>\n",
       "      <th>성질통합분류코드</th>\n",
       "      <th>성질통합분류코드명</th>\n",
       "    </tr>\n",
       "  </thead>\n",
       "  <tbody>\n",
       "  </tbody>\n",
       "</table>\n",
       "</div>"
      ],
      "text/plain": [
       "Empty DataFrame\n",
       "Columns: [HS부호, 한글품목명, 영문품목명, 성질통합분류코드, 성질통합분류코드명]\n",
       "Index: []"
      ]
     },
     "execution_count": 27,
     "metadata": {},
     "output_type": "execute_result"
    }
   ],
   "source": [
    "customs_data[customs_data['HS부호'] == ''] # ' '"
   ]
  },
  {
   "cell_type": "code",
   "execution_count": 28,
   "metadata": {},
   "outputs": [
    {
     "name": "stdout",
     "output_type": "stream",
     "text": [
      "9706903000 207603\n"
     ]
    }
   ],
   "source": [
    "print(customs_data['HS부호'].max(), customs_data['HS부호'].min())"
   ]
  },
  {
   "cell_type": "markdown",
   "metadata": {},
   "source": [
    "- 열자리로 바꿔줘야 함\n",
    "- int to str"
   ]
  },
  {
   "cell_type": "code",
   "execution_count": 29,
   "metadata": {},
   "outputs": [],
   "source": [
    "# def zero_input(x):\n",
    "#     if pd.isna(x):\n",
    "#         return np.nan\n",
    "#     elif len(x) == 6:\n",
    "#         return '0000' + x\n",
    "#     elif len(x) == 7:\n",
    "#         return '000' + x\n",
    "#     elif len(x) == 8:\n",
    "#         return '00' + x\n",
    "#     elif len(x) == 9:\n",
    "#         return '0' + x\n",
    "#     else:\n",
    "#         return x\n",
    "\n",
    "def zero_input(x):\n",
    "    if pd.isna(x):\n",
    "        return np.nan\n",
    "    else:\n",
    "        cnt = 10 - len(x)\n",
    "        return '0' * cnt + x\n",
    "\n",
    "customs_data['HS부호'] = customs_data['HS부호'].astype(str)\n",
    "customs_data['HS부호'] = customs_data['HS부호'].apply(lambda x: zero_input(x))"
   ]
  },
  {
   "cell_type": "code",
   "execution_count": 30,
   "metadata": {},
   "outputs": [
    {
     "data": {
      "text/plain": [
       "HS부호\n",
       "0101211000    1\n",
       "0073170010    1\n",
       "7313001000    1\n",
       "7313009000    1\n",
       "7314120000    1\n",
       "             ..\n",
       "3201200000    1\n",
       "3201900000    1\n",
       "3202101000    1\n",
       "3202103000    1\n",
       "9706903000    1\n",
       "Name: count, Length: 12422, dtype: int64"
      ]
     },
     "execution_count": 30,
     "metadata": {},
     "output_type": "execute_result"
    }
   ],
   "source": [
    "customs_data['HS부호'].value_counts()"
   ]
  },
  {
   "cell_type": "code",
   "execution_count": 31,
   "metadata": {},
   "outputs": [
    {
     "data": {
      "text/plain": [
       "array(['0101211000', '0101219000', '0101291000', ..., '9706901000',\n",
       "       '9706902000', '9706903000'], dtype=object)"
      ]
     },
     "execution_count": 31,
     "metadata": {},
     "output_type": "execute_result"
    }
   ],
   "source": [
    "customs_data['HS부호'].unique()"
   ]
  },
  {
   "cell_type": "markdown",
   "metadata": {},
   "source": [
    "## 한글품목명"
   ]
  },
  {
   "cell_type": "code",
   "execution_count": 32,
   "metadata": {},
   "outputs": [
    {
     "data": {
      "text/plain": [
       "한글품목명\n",
       "기타                        3105\n",
       "그 밖의 방직용 섬유로 만든 것           59\n",
       "면으로 만든 것                    58\n",
       "합성섬유로 만든 것                  58\n",
       "항공기용                        56\n",
       "                          ... \n",
       "페니실린 지(G) 나트륨                1\n",
       "페니실린 지(G) 칼륨                 1\n",
       "히드록시프로필 슈크로오스                1\n",
       "당에테르ㆍ당아세탈ㆍ당에스테르와 이들의 염       1\n",
       "자작나무[베툴라(Betula)속]의 것        1\n",
       "Name: count, Length: 6179, dtype: int64"
      ]
     },
     "execution_count": 32,
     "metadata": {},
     "output_type": "execute_result"
    }
   ],
   "source": [
    "customs_data['한글품목명'].value_counts()"
   ]
  },
  {
   "cell_type": "code",
   "execution_count": 33,
   "metadata": {},
   "outputs": [
    {
     "data": {
      "text/plain": [
       "array(['농가 사육용', '기타', '경주말', ..., '제작 후 100년을 초과한 것', '도자기류', '악기류'],\n",
       "      dtype=object)"
      ]
     },
     "execution_count": 33,
     "metadata": {},
     "output_type": "execute_result"
    }
   ],
   "source": [
    "customs_data['한글품목명'].unique()"
   ]
  },
  {
   "cell_type": "code",
   "execution_count": 34,
   "metadata": {},
   "outputs": [
    {
     "data": {
      "text/html": [
       "<div>\n",
       "<style scoped>\n",
       "    .dataframe tbody tr th:only-of-type {\n",
       "        vertical-align: middle;\n",
       "    }\n",
       "\n",
       "    .dataframe tbody tr th {\n",
       "        vertical-align: top;\n",
       "    }\n",
       "\n",
       "    .dataframe thead th {\n",
       "        text-align: right;\n",
       "    }\n",
       "</style>\n",
       "<table border=\"1\" class=\"dataframe\">\n",
       "  <thead>\n",
       "    <tr style=\"text-align: right;\">\n",
       "      <th></th>\n",
       "      <th>HS부호</th>\n",
       "      <th>한글품목명</th>\n",
       "      <th>영문품목명</th>\n",
       "      <th>성질통합분류코드</th>\n",
       "      <th>성질통합분류코드명</th>\n",
       "    </tr>\n",
       "  </thead>\n",
       "  <tbody>\n",
       "  </tbody>\n",
       "</table>\n",
       "</div>"
      ],
      "text/plain": [
       "Empty DataFrame\n",
       "Columns: [HS부호, 한글품목명, 영문품목명, 성질통합분류코드, 성질통합분류코드명]\n",
       "Index: []"
      ]
     },
     "execution_count": 34,
     "metadata": {},
     "output_type": "execute_result"
    }
   ],
   "source": [
    "customs_data[customs_data['한글품목명'].isnull()]"
   ]
  },
  {
   "cell_type": "code",
   "execution_count": 35,
   "metadata": {},
   "outputs": [
    {
     "data": {
      "text/html": [
       "<div>\n",
       "<style scoped>\n",
       "    .dataframe tbody tr th:only-of-type {\n",
       "        vertical-align: middle;\n",
       "    }\n",
       "\n",
       "    .dataframe tbody tr th {\n",
       "        vertical-align: top;\n",
       "    }\n",
       "\n",
       "    .dataframe thead th {\n",
       "        text-align: right;\n",
       "    }\n",
       "</style>\n",
       "<table border=\"1\" class=\"dataframe\">\n",
       "  <thead>\n",
       "    <tr style=\"text-align: right;\">\n",
       "      <th></th>\n",
       "      <th>HS부호</th>\n",
       "      <th>한글품목명</th>\n",
       "      <th>영문품목명</th>\n",
       "      <th>성질통합분류코드</th>\n",
       "      <th>성질통합분류코드명</th>\n",
       "    </tr>\n",
       "  </thead>\n",
       "  <tbody>\n",
       "  </tbody>\n",
       "</table>\n",
       "</div>"
      ],
      "text/plain": [
       "Empty DataFrame\n",
       "Columns: [HS부호, 한글품목명, 영문품목명, 성질통합분류코드, 성질통합분류코드명]\n",
       "Index: []"
      ]
     },
     "execution_count": 35,
     "metadata": {},
     "output_type": "execute_result"
    }
   ],
   "source": [
    "customs_data[customs_data['한글품목명'] == ''] # ' '"
   ]
  },
  {
   "cell_type": "markdown",
   "metadata": {},
   "source": [
    "## 영문품목명"
   ]
  },
  {
   "cell_type": "code",
   "execution_count": 36,
   "metadata": {},
   "outputs": [
    {
     "data": {
      "text/plain": [
       "영문품목명\n",
       "Other                                                                                                                      3102\n",
       "Of other textile materials                                                                                                   61\n",
       "Of synthetic fibres                                                                                                          59\n",
       "Material for manufacturing agricultural chemicals (registered material under the Agricultural Chemicals Management Act)      59\n",
       "Of cotton                                                                                                                    58\n",
       "                                                                                                                           ... \n",
       "Heparin and its salts                                                                                                         1\n",
       "Bear's gall                                                                                                                   1\n",
       "Glands and other organs, dried, whether or not powdered                                                                       1\n",
       "Liver extracts                                                                                                                1\n",
       "Oak                                                                                                                           1\n",
       "Name: count, Length: 6175, dtype: int64"
      ]
     },
     "execution_count": 36,
     "metadata": {},
     "output_type": "execute_result"
    }
   ],
   "source": [
    "customs_data['영문품목명'].value_counts()"
   ]
  },
  {
   "cell_type": "code",
   "execution_count": 37,
   "metadata": {},
   "outputs": [
    {
     "data": {
      "text/plain": [
       "array(['For farm breeding', 'Other', 'Horses for racing', ...,\n",
       "       'Of an age exceeding 100 years', 'Ceramics', 'Musical instruments'],\n",
       "      dtype=object)"
      ]
     },
     "execution_count": 37,
     "metadata": {},
     "output_type": "execute_result"
    }
   ],
   "source": [
    "customs_data['영문품목명'].unique()"
   ]
  },
  {
   "cell_type": "code",
   "execution_count": 38,
   "metadata": {},
   "outputs": [
    {
     "data": {
      "text/html": [
       "<div>\n",
       "<style scoped>\n",
       "    .dataframe tbody tr th:only-of-type {\n",
       "        vertical-align: middle;\n",
       "    }\n",
       "\n",
       "    .dataframe tbody tr th {\n",
       "        vertical-align: top;\n",
       "    }\n",
       "\n",
       "    .dataframe thead th {\n",
       "        text-align: right;\n",
       "    }\n",
       "</style>\n",
       "<table border=\"1\" class=\"dataframe\">\n",
       "  <thead>\n",
       "    <tr style=\"text-align: right;\">\n",
       "      <th></th>\n",
       "      <th>HS부호</th>\n",
       "      <th>한글품목명</th>\n",
       "      <th>영문품목명</th>\n",
       "      <th>성질통합분류코드</th>\n",
       "      <th>성질통합분류코드명</th>\n",
       "    </tr>\n",
       "  </thead>\n",
       "  <tbody>\n",
       "  </tbody>\n",
       "</table>\n",
       "</div>"
      ],
      "text/plain": [
       "Empty DataFrame\n",
       "Columns: [HS부호, 한글품목명, 영문품목명, 성질통합분류코드, 성질통합분류코드명]\n",
       "Index: []"
      ]
     },
     "execution_count": 38,
     "metadata": {},
     "output_type": "execute_result"
    }
   ],
   "source": [
    "customs_data[customs_data['영문품목명'].isnull()]"
   ]
  },
  {
   "cell_type": "code",
   "execution_count": 39,
   "metadata": {},
   "outputs": [
    {
     "data": {
      "text/html": [
       "<div>\n",
       "<style scoped>\n",
       "    .dataframe tbody tr th:only-of-type {\n",
       "        vertical-align: middle;\n",
       "    }\n",
       "\n",
       "    .dataframe tbody tr th {\n",
       "        vertical-align: top;\n",
       "    }\n",
       "\n",
       "    .dataframe thead th {\n",
       "        text-align: right;\n",
       "    }\n",
       "</style>\n",
       "<table border=\"1\" class=\"dataframe\">\n",
       "  <thead>\n",
       "    <tr style=\"text-align: right;\">\n",
       "      <th></th>\n",
       "      <th>HS부호</th>\n",
       "      <th>한글품목명</th>\n",
       "      <th>영문품목명</th>\n",
       "      <th>성질통합분류코드</th>\n",
       "      <th>성질통합분류코드명</th>\n",
       "    </tr>\n",
       "  </thead>\n",
       "  <tbody>\n",
       "  </tbody>\n",
       "</table>\n",
       "</div>"
      ],
      "text/plain": [
       "Empty DataFrame\n",
       "Columns: [HS부호, 한글품목명, 영문품목명, 성질통합분류코드, 성질통합분류코드명]\n",
       "Index: []"
      ]
     },
     "execution_count": 39,
     "metadata": {},
     "output_type": "execute_result"
    }
   ],
   "source": [
    "customs_data[customs_data['영문품목명'] == ''] # ' '"
   ]
  },
  {
   "cell_type": "markdown",
   "metadata": {},
   "source": [
    "## 성질통합분류코드"
   ]
  },
  {
   "cell_type": "code",
   "execution_count": 40,
   "metadata": {},
   "outputs": [
    {
     "data": {
      "text/plain": [
       "성질통합분류코드\n",
       "25030201.0    629\n",
       "25030101.0    335\n",
       "23030401.0    189\n",
       "25900101.0    176\n",
       "24010201.0    175\n",
       "             ... \n",
       "11030212.0      1\n",
       "11030207.0      1\n",
       "13050102.0      1\n",
       "13050201.0      1\n",
       "11010106.0      1\n",
       "Name: count, Length: 758, dtype: int64"
      ]
     },
     "execution_count": 40,
     "metadata": {},
     "output_type": "execute_result"
    }
   ],
   "source": [
    "customs_data['성질통합분류코드'].value_counts()"
   ]
  },
  {
   "cell_type": "code",
   "execution_count": 41,
   "metadata": {},
   "outputs": [
    {
     "data": {
      "text/plain": [
       "array([11020101., 11020190., 11020102.,       nan, 11020103., 11020104.,\n",
       "       11020105., 11020106., 11020201., 11020202., 11020290., 11020301.,\n",
       "       11020302., 11020390., 11020203., 11020303., 11020204., 11020304.,\n",
       "       11030190., 11030105., 11030108., 11030101., 11030106., 11030103.,\n",
       "       11030107., 11030104., 11030109., 11030202., 11030290., 11030203.,\n",
       "       11030201., 11030205., 11030209., 11030208., 11030204., 11030207.,\n",
       "       11030212., 11030211., 11030206., 11032301., 11030213., 11030302.,\n",
       "       11030390., 11030313., 11030311., 11030303., 11030301., 11030305.,\n",
       "       11030310., 11030309., 11030304., 11030307., 11030306., 11030308.,\n",
       "       11030312., 11030314., 11030315., 11030490., 11030402., 11030403.,\n",
       "       11030401., 11030590., 11030504., 11030505., 11030502., 11030503.,\n",
       "       11030501., 11032201., 11032202., 11032203., 11030790., 11030890.,\n",
       "       11030601., 11030690., 11030602., 11030701., 11030703., 11030702.,\n",
       "       11030704., 11030801., 11030802., 11030803., 11030804., 11030805.,\n",
       "       11030806., 11030807., 11030808., 11032290., 11030901., 11031001.,\n",
       "       11030902., 11031002., 11030903., 11031003., 11032401., 11030990.,\n",
       "       11031090., 11032402., 11032403., 11031101., 11031201., 11031301.,\n",
       "       11031401., 11031501., 11031190., 11039001., 11031290., 11032502.,\n",
       "       11031103., 11031203., 11031303., 11031403., 11031601., 11031602.,\n",
       "       11031701., 11031702., 11031901., 11031801., 11032001., 11031603.,\n",
       "       11031604., 11031605., 11031705., 11031703., 11031704., 11031104.,\n",
       "       11031106., 11031107., 11031105., 11031207., 11031205., 11031206.,\n",
       "       11031390., 11031305., 11031490., 11031405., 11031590., 11031102.,\n",
       "       11031202., 11031302., 11031402., 11031502., 11032404., 11020401.,\n",
       "       11020402., 11020490., 11020404., 11020403., 11029001., 21900101.,\n",
       "       11020501., 11020590., 11019001., 11020701., 21010301., 21010302.,\n",
       "       21010303., 21010390., 21010101., 21010304., 21010307., 21010305.,\n",
       "       21010490., 21010306., 21010401., 11010410., 11010405., 11010407.,\n",
       "       11010418., 11010408., 11010419., 11010490., 11010402., 11010401.,\n",
       "       11010414., 11010404., 11010403., 11010420., 11010406., 11010109.,\n",
       "       11010190., 11010417., 11010409., 11010415., 11010416., 11010411.,\n",
       "       21010402., 21010501., 21010403., 11010107., 21010404., 11010106.,\n",
       "       21010405., 11010108., 11010412., 11010504., 11010590., 11010507.,\n",
       "       11010501., 11010503., 11010502., 11010508., 11010505., 11010506.,\n",
       "       11010601., 11010690., 11010602., 11010616., 11010603., 11010610.,\n",
       "       11010604., 11010605., 11010617., 11010609., 11010606., 11010607.,\n",
       "       11010618., 11010614., 11010613., 11010619., 11010615., 11010608.,\n",
       "       11010620., 11010611., 11010612., 11010621., 11011401., 11010701.,\n",
       "       11010702., 11010790., 11010801., 11010802., 11010803., 11010901.,\n",
       "       11010990., 11011001., 11011002., 11011090., 11011003., 11011004.,\n",
       "       11011005., 11010413., 11010902., 11010903., 11010102., 11010103.,\n",
       "       11010104., 11010101., 11010203., 11010290., 11010204., 11010202.,\n",
       "       11010201., 11010105., 11010301., 11010390., 11010304., 11010305.,\n",
       "       11010302., 11010303., 21010201., 11011101., 11011102., 11011190.,\n",
       "       11032101., 11032102., 11032103., 11032190., 21900201., 11011103.,\n",
       "       21020101., 21020190., 21020102., 21020201., 21020290., 21020202.,\n",
       "       21020203., 21020301., 21020390., 11020601., 11032204., 11032291.,\n",
       "       21030101., 21030201., 21039001., 21030301., 11040101., 11049001.,\n",
       "       11040102., 11040190., 11011201., 11011202., 11011203., 11011204.,\n",
       "       11011205., 11011206., 11011290., 11011301., 11040201., 11011390.,\n",
       "       11011302., 11040301., 11011303., 11011304., 11050101., 11059001.,\n",
       "       11010703., 11010890., 11040401., 11011104., 11060102., 11060101.,\n",
       "       11069001., 11060104., 11060103., 11060201., 11060202., 11060203.,\n",
       "       21040101., 11070101., 25900101., 14010101., 23010101., 23010204.,\n",
       "       23010290., 23010205., 23010206., 23010207., 23010208., 23010209.,\n",
       "       23010202., 23010201., 23010203., 23020102., 23020103., 23020104.,\n",
       "       23020105., 23900101., 25019001., 23020290., 23020101., 23020202.,\n",
       "       23020201., 23020203., 23020204., 23020205., 23020206., 29010101.,\n",
       "       25030101., 25020501., 24029001., 25030201., 25010201., 25020302.,\n",
       "       25020390., 25020303., 12040601., 25049001., 25040101., 25040201.,\n",
       "       25040301., 25040401., 25020101., 25020201., 13060201., 25029001.,\n",
       "       13050101., 13050103., 13050104., 13059001., 13050102., 13050201.,\n",
       "       13050290., 13050202., 13900101., 25020401., 34010301., 25010101.,\n",
       "       25059001., 25050101., 25050201., 12040501., 12041001., 32039002.,\n",
       "       12900101., 21080101., 25010301., 21080201., 13030201., 13039001.,\n",
       "       21050101., 21050201., 21059001., 13030101., 13040101., 13040201.,\n",
       "       13040301., 13049001., 13020101., 13020501., 13020590., 21060101.,\n",
       "       21060190., 21060102., 21060201., 21060290., 21060202., 13020201.,\n",
       "       21060301., 21099001., 21090101., 21090201., 21090301., 21090401.,\n",
       "       21090501., 21090601., 12040401., 21090701., 13069001., 21070101.,\n",
       "       21070102., 21070201., 21070290., 21070204., 21070202., 21070203.,\n",
       "       13060101., 13010101., 13010201., 13010301., 13019001., 22010101.,\n",
       "       22020101., 22030101., 22010102., 22020102., 22010103., 22020103.,\n",
       "       22010104., 22020104., 22020201., 22020202., 22020290., 22020302.,\n",
       "       22020390., 22020301., 22030201., 22030202., 22030290., 22030204.,\n",
       "       22030203., 22030301., 22010201., 22010202., 22010290., 22010301.,\n",
       "       22010391., 22010302., 22010390., 22020402., 22020490., 22020591.,\n",
       "       22020401., 22020403., 22020491., 22020502., 22020590., 22030401.,\n",
       "       22030501., 22900101., 22039001., 22029001., 22030601., 13020301.,\n",
       "       13020401., 13030301., 23039001., 32020204., 23030101., 23030201.,\n",
       "       23030301., 23030401., 12060101., 12060201., 12069001., 12040901.,\n",
       "       24010701., 24010801., 24010601., 24010201., 24010101., 24010501.,\n",
       "       24010401., 24010301., 32010101., 32010201., 32020190., 31060490.,\n",
       "       32020101., 12040201., 31060101., 31060201., 32030402., 32030406.,\n",
       "       32020290., 32031001., 24020101., 24020701., 24020201., 24020301.,\n",
       "       32010202., 12019001., 24020401., 24020501., 24020601., 32020201.,\n",
       "       32020202., 32020207., 32031504., 32031501., 32020208., 32020209.,\n",
       "       32020210., 32020211., 32031901., 32031902., 12049001., 32010301.,\n",
       "       32010302., 32030403., 32030404., 32031701., 32031702., 31060401.,\n",
       "       32030101., 32030106., 31060301., 32030103., 32030104., 32030102.,\n",
       "       32030105., 32030190., 32039001., 32030201., 31060390., 32030203.,\n",
       "       32050702., 32050602., 32030202., 33030301., 12010401., 32030405.,\n",
       "       12010201., 32030401., 32031101., 32030690., 32031102., 32031305.,\n",
       "       32031002., 32031201., 32031004., 32030501., 32050701., 32030502.,\n",
       "       12010601., 32032001., 32032002., 32050201., 32020206., 32030604.,\n",
       "       32030301., 32030803., 32030802., 31900101., 31050101., 31050201.,\n",
       "       32030801., 32030302., 32030804., 32030601., 32030602., 32030603.,\n",
       "       32031301., 32031302., 32031303., 32031304., 33030202., 32031401.,\n",
       "       33010101., 32031402., 12010301., 32031003., 32031801., 32031802.,\n",
       "       32031601., 32031602., 32030701., 32030702., 32030703., 32030704.,\n",
       "       32030706., 32020205., 32050301., 32059001., 33030101., 33030203.,\n",
       "       33030290., 33030204., 32050302., 32059002., 34010101., 32030901.,\n",
       "       32030902., 32030705., 32031202., 32031502., 32031503., 32020102.,\n",
       "       32020103., 32050601., 32040201., 32040203., 32040206., 32040204.,\n",
       "       32040102., 32040202., 32040205., 32040103., 32040101., 32040207.,\n",
       "       32040104., 32040303., 32040302., 32040401., 32040490., 32040301.,\n",
       "       34900101., 32040402., 32049001., 32049002., 32040601., 32040901.,\n",
       "       32040990., 32040902., 33020104., 33020101., 33020102., 33020103.,\n",
       "       33020190., 33029001., 33020301., 33029002., 33010102., 12010501.,\n",
       "       33040201., 34010102., 34020101., 34020190., 33040101., 33020201.,\n",
       "       33030201., 12010102., 12010190., 12010105., 33020202., 34020102.,\n",
       "       33020302., 32040501., 32040504., 32040502., 32040505., 34010201.,\n",
       "       34010202., 34010290., 34010203., 34010204., 34010190., 34010103.,\n",
       "       32040701., 31020101., 31909001., 31019001., 31010101., 12020501.,\n",
       "       12020101., 12020201., 12020102., 12020202., 12020103., 12020203.,\n",
       "       12020104., 12020204., 12020105., 12020205., 12020106., 12020206.,\n",
       "       12020301., 12020401., 12020302., 12020402., 12020303., 12020403.,\n",
       "       12020304., 12020404., 31010201., 12020701., 12020790., 12030201.,\n",
       "       12030101., 12020601., 31060501., 31030301., 31030101., 31030201.,\n",
       "       31030501., 31030401., 31030601., 31060302., 31040101., 31040201.,\n",
       "       31040301., 31040401., 31040501., 31040601., 31049001., 31040701.,\n",
       "       32050504., 32050502., 32050505., 32050501., 32050503., 32050401.,\n",
       "       32050402., 32050290., 32050209., 32020203., 32020212., 32050101.,\n",
       "       32050102., 32050202., 32050203., 32050204., 32050206., 32050205.,\n",
       "       32050207., 32050208., 12040301., 12040390., 12040302., 12040303.,\n",
       "       12040304., 12040305., 12040701., 32010401., 12040101., 12040801.,\n",
       "       13060301., 12050101., 12050201.])"
      ]
     },
     "execution_count": 41,
     "metadata": {},
     "output_type": "execute_result"
    }
   ],
   "source": [
    "customs_data['성질통합분류코드'].unique()"
   ]
  },
  {
   "cell_type": "code",
   "execution_count": 42,
   "metadata": {},
   "outputs": [
    {
     "data": {
      "text/html": [
       "<div>\n",
       "<style scoped>\n",
       "    .dataframe tbody tr th:only-of-type {\n",
       "        vertical-align: middle;\n",
       "    }\n",
       "\n",
       "    .dataframe tbody tr th {\n",
       "        vertical-align: top;\n",
       "    }\n",
       "\n",
       "    .dataframe thead th {\n",
       "        text-align: right;\n",
       "    }\n",
       "</style>\n",
       "<table border=\"1\" class=\"dataframe\">\n",
       "  <thead>\n",
       "    <tr style=\"text-align: right;\">\n",
       "      <th></th>\n",
       "      <th>HS부호</th>\n",
       "      <th>한글품목명</th>\n",
       "      <th>영문품목명</th>\n",
       "      <th>성질통합분류코드</th>\n",
       "      <th>성질통합분류코드명</th>\n",
       "    </tr>\n",
       "  </thead>\n",
       "  <tbody>\n",
       "    <tr>\n",
       "      <th>17</th>\n",
       "      <td>0001029090</td>\n",
       "      <td>기타</td>\n",
       "      <td>Other</td>\n",
       "      <td>NaN</td>\n",
       "      <td>NaN</td>\n",
       "    </tr>\n",
       "    <tr>\n",
       "      <th>37</th>\n",
       "      <td>0001059910</td>\n",
       "      <td>오리</td>\n",
       "      <td>Ducks</td>\n",
       "      <td>NaN</td>\n",
       "      <td>NaN</td>\n",
       "    </tr>\n",
       "    <tr>\n",
       "      <th>51</th>\n",
       "      <td>0001061950</td>\n",
       "      <td>여우</td>\n",
       "      <td>Fox</td>\n",
       "      <td>NaN</td>\n",
       "      <td>NaN</td>\n",
       "    </tr>\n",
       "    <tr>\n",
       "      <th>54</th>\n",
       "      <td>0001061960</td>\n",
       "      <td>밍크</td>\n",
       "      <td>Mink</td>\n",
       "      <td>NaN</td>\n",
       "      <td>NaN</td>\n",
       "    </tr>\n",
       "    <tr>\n",
       "      <th>69</th>\n",
       "      <td>0001069030</td>\n",
       "      <td>환형동물류</td>\n",
       "      <td>Annelida</td>\n",
       "      <td>NaN</td>\n",
       "      <td>NaN</td>\n",
       "    </tr>\n",
       "    <tr>\n",
       "      <th>...</th>\n",
       "      <td>...</td>\n",
       "      <td>...</td>\n",
       "      <td>...</td>\n",
       "      <td>...</td>\n",
       "      <td>...</td>\n",
       "    </tr>\n",
       "    <tr>\n",
       "      <th>12305</th>\n",
       "      <td>0096019090</td>\n",
       "      <td>기타</td>\n",
       "      <td>Other</td>\n",
       "      <td>NaN</td>\n",
       "      <td>NaN</td>\n",
       "    </tr>\n",
       "    <tr>\n",
       "      <th>12309</th>\n",
       "      <td>0096020090</td>\n",
       "      <td>기타</td>\n",
       "      <td>Other</td>\n",
       "      <td>NaN</td>\n",
       "      <td>NaN</td>\n",
       "    </tr>\n",
       "    <tr>\n",
       "      <th>12377</th>\n",
       "      <td>0096190010</td>\n",
       "      <td>제지용 펄프ㆍ종이ㆍ셀룰로오스워딩(cellulose wadding)ㆍ셀룰로오스섬유의 ...</td>\n",
       "      <td>Of paper pulp, paper, cellulose wadding or web...</td>\n",
       "      <td>NaN</td>\n",
       "      <td>NaN</td>\n",
       "    </tr>\n",
       "    <tr>\n",
       "      <th>12381</th>\n",
       "      <td>0096190030</td>\n",
       "      <td>그 밖의 방직용 섬유재료로 만든 것</td>\n",
       "      <td>Of other textile materials</td>\n",
       "      <td>NaN</td>\n",
       "      <td>NaN</td>\n",
       "    </tr>\n",
       "    <tr>\n",
       "      <th>12385</th>\n",
       "      <td>0096190090</td>\n",
       "      <td>기타</td>\n",
       "      <td>Other</td>\n",
       "      <td>NaN</td>\n",
       "      <td>NaN</td>\n",
       "    </tr>\n",
       "  </tbody>\n",
       "</table>\n",
       "<p>1128 rows × 5 columns</p>\n",
       "</div>"
      ],
      "text/plain": [
       "             HS부호                                              한글품목명  \\\n",
       "17     0001029090                                                 기타   \n",
       "37     0001059910                                                 오리   \n",
       "51     0001061950                                                 여우   \n",
       "54     0001061960                                                 밍크   \n",
       "69     0001069030                                              환형동물류   \n",
       "...           ...                                                ...   \n",
       "12305  0096019090                                                 기타   \n",
       "12309  0096020090                                                 기타   \n",
       "12377  0096190010  제지용 펄프ㆍ종이ㆍ셀룰로오스워딩(cellulose wadding)ㆍ셀룰로오스섬유의 ...   \n",
       "12381  0096190030                                그 밖의 방직용 섬유재료로 만든 것   \n",
       "12385  0096190090                                                 기타   \n",
       "\n",
       "                                                   영문품목명  성질통합분류코드 성질통합분류코드명  \n",
       "17                                                 Other       NaN       NaN  \n",
       "37                                                 Ducks       NaN       NaN  \n",
       "51                                                   Fox       NaN       NaN  \n",
       "54                                                  Mink       NaN       NaN  \n",
       "69                                              Annelida       NaN       NaN  \n",
       "...                                                  ...       ...       ...  \n",
       "12305                                              Other       NaN       NaN  \n",
       "12309                                              Other       NaN       NaN  \n",
       "12377  Of paper pulp, paper, cellulose wadding or web...       NaN       NaN  \n",
       "12381                         Of other textile materials       NaN       NaN  \n",
       "12385                                              Other       NaN       NaN  \n",
       "\n",
       "[1128 rows x 5 columns]"
      ]
     },
     "execution_count": 42,
     "metadata": {},
     "output_type": "execute_result"
    }
   ],
   "source": [
    "customs_data[customs_data['성질통합분류코드'].isnull()]"
   ]
  },
  {
   "cell_type": "code",
   "execution_count": 43,
   "metadata": {},
   "outputs": [
    {
     "name": "stdout",
     "output_type": "stream",
     "text": [
      "34900101.0 11010101.0\n"
     ]
    }
   ],
   "source": [
    "print(customs_data['성질통합분류코드'].max(), customs_data['성질통합분류코드'].min())"
   ]
  },
  {
   "cell_type": "markdown",
   "metadata": {},
   "source": [
    "- int to str"
   ]
  },
  {
   "cell_type": "code",
   "execution_count": 44,
   "metadata": {},
   "outputs": [],
   "source": [
    "customs_data['성질통합분류코드'] = customs_data['성질통합분류코드'].astype(str)\n",
    "customs_data['성질통합분류코드'] = customs_data['성질통합분류코드'].replace('nan', np.nan)\n",
    "customs_data['성질통합분류코드'] = customs_data['성질통합분류코드'].str.replace('.0', '', regex=False)"
   ]
  },
  {
   "cell_type": "code",
   "execution_count": 45,
   "metadata": {},
   "outputs": [
    {
     "data": {
      "text/plain": [
       "성질통합분류코드\n",
       "25030201    629\n",
       "25030101    335\n",
       "23030401    189\n",
       "25900101    176\n",
       "24010201    175\n",
       "           ... \n",
       "11030212      1\n",
       "11030207      1\n",
       "13050102      1\n",
       "13050201      1\n",
       "11010106      1\n",
       "Name: count, Length: 758, dtype: int64"
      ]
     },
     "execution_count": 45,
     "metadata": {},
     "output_type": "execute_result"
    }
   ],
   "source": [
    "customs_data['성질통합분류코드'].value_counts()"
   ]
  },
  {
   "cell_type": "code",
   "execution_count": 46,
   "metadata": {},
   "outputs": [
    {
     "data": {
      "text/plain": [
       "array(['11020101', '11020190', '11020102', nan, '11020103', '11020104',\n",
       "       '11020105', '11020106', '11020201', '11020202', '11020290',\n",
       "       '11020301', '11020302', '11020390', '11020203', '11020303',\n",
       "       '11020204', '11020304', '11030190', '11030105', '11030108',\n",
       "       '11030101', '11030106', '11030103', '11030107', '11030104',\n",
       "       '11030109', '11030202', '11030290', '11030203', '11030201',\n",
       "       '11030205', '11030209', '11030208', '11030204', '11030207',\n",
       "       '11030212', '11030211', '11030206', '11032301', '11030213',\n",
       "       '11030302', '11030390', '11030313', '11030311', '11030303',\n",
       "       '11030301', '11030305', '11030310', '11030309', '11030304',\n",
       "       '11030307', '11030306', '11030308', '11030312', '11030314',\n",
       "       '11030315', '11030490', '11030402', '11030403', '11030401',\n",
       "       '11030590', '11030504', '11030505', '11030502', '11030503',\n",
       "       '11030501', '11032201', '11032202', '11032203', '11030790',\n",
       "       '11030890', '11030601', '11030690', '11030602', '11030701',\n",
       "       '11030703', '11030702', '11030704', '11030801', '11030802',\n",
       "       '11030803', '11030804', '11030805', '11030806', '11030807',\n",
       "       '11030808', '11032290', '11030901', '11031001', '11030902',\n",
       "       '11031002', '11030903', '11031003', '11032401', '11030990',\n",
       "       '11031090', '11032402', '11032403', '11031101', '11031201',\n",
       "       '11031301', '11031401', '11031501', '11031190', '11039001',\n",
       "       '11031290', '11032502', '11031103', '11031203', '11031303',\n",
       "       '11031403', '11031601', '11031602', '11031701', '11031702',\n",
       "       '11031901', '11031801', '11032001', '11031603', '11031604',\n",
       "       '11031605', '11031705', '11031703', '11031704', '11031104',\n",
       "       '11031106', '11031107', '11031105', '11031207', '11031205',\n",
       "       '11031206', '11031390', '11031305', '11031490', '11031405',\n",
       "       '11031590', '11031102', '11031202', '11031302', '11031402',\n",
       "       '11031502', '11032404', '11020401', '11020402', '11020490',\n",
       "       '11020404', '11020403', '11029001', '21900101', '11020501',\n",
       "       '11020590', '11019001', '11020701', '21010301', '21010302',\n",
       "       '21010303', '21010390', '21010101', '21010304', '21010307',\n",
       "       '21010305', '21010490', '21010306', '21010401', '11010410',\n",
       "       '11010405', '11010407', '11010418', '11010408', '11010419',\n",
       "       '11010490', '11010402', '11010401', '11010414', '11010404',\n",
       "       '11010403', '11010420', '11010406', '11010109', '11010190',\n",
       "       '11010417', '11010409', '11010415', '11010416', '11010411',\n",
       "       '21010402', '21010501', '21010403', '11010107', '21010404',\n",
       "       '11010106', '21010405', '11010108', '11010412', '11010504',\n",
       "       '11010590', '11010507', '11010501', '11010503', '11010502',\n",
       "       '11010508', '11010505', '11010506', '11010601', '11010690',\n",
       "       '11010602', '11010616', '11010603', '11010610', '11010604',\n",
       "       '11010605', '11010617', '11010609', '11010606', '11010607',\n",
       "       '11010618', '11010614', '11010613', '11010619', '11010615',\n",
       "       '11010608', '11010620', '11010611', '11010612', '11010621',\n",
       "       '11011401', '11010701', '11010702', '11010790', '11010801',\n",
       "       '11010802', '11010803', '11010901', '11010990', '11011001',\n",
       "       '11011002', '11011090', '11011003', '11011004', '11011005',\n",
       "       '11010413', '11010902', '11010903', '11010102', '11010103',\n",
       "       '11010104', '11010101', '11010203', '11010290', '11010204',\n",
       "       '11010202', '11010201', '11010105', '11010301', '11010390',\n",
       "       '11010304', '11010305', '11010302', '11010303', '21010201',\n",
       "       '11011101', '11011102', '11011190', '11032101', '11032102',\n",
       "       '11032103', '11032190', '21900201', '11011103', '21020101',\n",
       "       '21020190', '21020102', '21020201', '21020290', '21020202',\n",
       "       '21020203', '21020301', '21020390', '11020601', '11032204',\n",
       "       '11032291', '21030101', '21030201', '21039001', '21030301',\n",
       "       '11040101', '11049001', '11040102', '11040190', '11011201',\n",
       "       '11011202', '11011203', '11011204', '11011205', '11011206',\n",
       "       '11011290', '11011301', '11040201', '11011390', '11011302',\n",
       "       '11040301', '11011303', '11011304', '11050101', '11059001',\n",
       "       '11010703', '11010890', '11040401', '11011104', '11060102',\n",
       "       '11060101', '11069001', '11060104', '11060103', '11060201',\n",
       "       '11060202', '11060203', '21040101', '11070101', '25900101',\n",
       "       '14010101', '23010101', '23010204', '23010290', '23010205',\n",
       "       '23010206', '23010207', '23010208', '23010209', '23010202',\n",
       "       '23010201', '23010203', '23020102', '23020103', '23020104',\n",
       "       '23020105', '23900101', '25019001', '23020290', '23020101',\n",
       "       '23020202', '23020201', '23020203', '23020204', '23020205',\n",
       "       '23020206', '29010101', '25030101', '25020501', '24029001',\n",
       "       '25030201', '25010201', '25020302', '25020390', '25020303',\n",
       "       '12040601', '25049001', '25040101', '25040201', '25040301',\n",
       "       '25040401', '25020101', '25020201', '13060201', '25029001',\n",
       "       '13050101', '13050103', '13050104', '13059001', '13050102',\n",
       "       '13050201', '13050290', '13050202', '13900101', '25020401',\n",
       "       '34010301', '25010101', '25059001', '25050101', '25050201',\n",
       "       '12040501', '12041001', '32039002', '12900101', '21080101',\n",
       "       '25010301', '21080201', '13030201', '13039001', '21050101',\n",
       "       '21050201', '21059001', '13030101', '13040101', '13040201',\n",
       "       '13040301', '13049001', '13020101', '13020501', '13020590',\n",
       "       '21060101', '21060190', '21060102', '21060201', '21060290',\n",
       "       '21060202', '13020201', '21060301', '21099001', '21090101',\n",
       "       '21090201', '21090301', '21090401', '21090501', '21090601',\n",
       "       '12040401', '21090701', '13069001', '21070101', '21070102',\n",
       "       '21070201', '21070290', '21070204', '21070202', '21070203',\n",
       "       '13060101', '13010101', '13010201', '13010301', '13019001',\n",
       "       '22010101', '22020101', '22030101', '22010102', '22020102',\n",
       "       '22010103', '22020103', '22010104', '22020104', '22020201',\n",
       "       '22020202', '22020290', '22020302', '22020390', '22020301',\n",
       "       '22030201', '22030202', '22030290', '22030204', '22030203',\n",
       "       '22030301', '22010201', '22010202', '22010290', '22010301',\n",
       "       '22010391', '22010302', '22010390', '22020402', '22020490',\n",
       "       '22020591', '22020401', '22020403', '22020491', '22020502',\n",
       "       '22020590', '22030401', '22030501', '22900101', '22039001',\n",
       "       '22029001', '22030601', '13020301', '13020401', '13030301',\n",
       "       '23039001', '32020204', '23030101', '23030201', '23030301',\n",
       "       '23030401', '12060101', '12060201', '12069001', '12040901',\n",
       "       '24010701', '24010801', '24010601', '24010201', '24010101',\n",
       "       '24010501', '24010401', '24010301', '32010101', '32010201',\n",
       "       '32020190', '31060490', '32020101', '12040201', '31060101',\n",
       "       '31060201', '32030402', '32030406', '32020290', '32031001',\n",
       "       '24020101', '24020701', '24020201', '24020301', '32010202',\n",
       "       '12019001', '24020401', '24020501', '24020601', '32020201',\n",
       "       '32020202', '32020207', '32031504', '32031501', '32020208',\n",
       "       '32020209', '32020210', '32020211', '32031901', '32031902',\n",
       "       '12049001', '32010301', '32010302', '32030403', '32030404',\n",
       "       '32031701', '32031702', '31060401', '32030101', '32030106',\n",
       "       '31060301', '32030103', '32030104', '32030102', '32030105',\n",
       "       '32030190', '32039001', '32030201', '31060390', '32030203',\n",
       "       '32050702', '32050602', '32030202', '33030301', '12010401',\n",
       "       '32030405', '12010201', '32030401', '32031101', '32030690',\n",
       "       '32031102', '32031305', '32031002', '32031201', '32031004',\n",
       "       '32030501', '32050701', '32030502', '12010601', '32032001',\n",
       "       '32032002', '32050201', '32020206', '32030604', '32030301',\n",
       "       '32030803', '32030802', '31900101', '31050101', '31050201',\n",
       "       '32030801', '32030302', '32030804', '32030601', '32030602',\n",
       "       '32030603', '32031301', '32031302', '32031303', '32031304',\n",
       "       '33030202', '32031401', '33010101', '32031402', '12010301',\n",
       "       '32031003', '32031801', '32031802', '32031601', '32031602',\n",
       "       '32030701', '32030702', '32030703', '32030704', '32030706',\n",
       "       '32020205', '32050301', '32059001', '33030101', '33030203',\n",
       "       '33030290', '33030204', '32050302', '32059002', '34010101',\n",
       "       '32030901', '32030902', '32030705', '32031202', '32031502',\n",
       "       '32031503', '32020102', '32020103', '32050601', '32040201',\n",
       "       '32040203', '32040206', '32040204', '32040102', '32040202',\n",
       "       '32040205', '32040103', '32040101', '32040207', '32040104',\n",
       "       '32040303', '32040302', '32040401', '32040490', '32040301',\n",
       "       '34900101', '32040402', '32049001', '32049002', '32040601',\n",
       "       '32040901', '32040990', '32040902', '33020104', '33020101',\n",
       "       '33020102', '33020103', '33020190', '33029001', '33020301',\n",
       "       '33029002', '33010102', '12010501', '33040201', '34010102',\n",
       "       '34020101', '34020190', '33040101', '33020201', '33030201',\n",
       "       '12010102', '12010190', '12010105', '33020202', '34020102',\n",
       "       '33020302', '32040501', '32040504', '32040502', '32040505',\n",
       "       '34010201', '34010202', '34010290', '34010203', '34010204',\n",
       "       '34010190', '34010103', '32040701', '31020101', '31909001',\n",
       "       '31019001', '31010101', '12020501', '12020101', '12020201',\n",
       "       '12020102', '12020202', '12020103', '12020203', '12020104',\n",
       "       '12020204', '12020105', '12020205', '12020106', '12020206',\n",
       "       '12020301', '12020401', '12020302', '12020402', '12020303',\n",
       "       '12020403', '12020304', '12020404', '31010201', '12020701',\n",
       "       '12020790', '12030201', '12030101', '12020601', '31060501',\n",
       "       '31030301', '31030101', '31030201', '31030501', '31030401',\n",
       "       '31030601', '31060302', '31040101', '31040201', '31040301',\n",
       "       '31040401', '31040501', '31040601', '31049001', '31040701',\n",
       "       '32050504', '32050502', '32050505', '32050501', '32050503',\n",
       "       '32050401', '32050402', '32050290', '32050209', '32020203',\n",
       "       '32020212', '32050101', '32050102', '32050202', '32050203',\n",
       "       '32050204', '32050206', '32050205', '32050207', '32050208',\n",
       "       '12040301', '12040390', '12040302', '12040303', '12040304',\n",
       "       '12040305', '12040701', '32010401', '12040101', '12040801',\n",
       "       '13060301', '12050101', '12050201'], dtype=object)"
      ]
     },
     "execution_count": 46,
     "metadata": {},
     "output_type": "execute_result"
    }
   ],
   "source": [
    "customs_data['성질통합분류코드'].unique()"
   ]
  },
  {
   "cell_type": "markdown",
   "metadata": {},
   "source": [
    "## 성질통합분류코드명"
   ]
  },
  {
   "cell_type": "code",
   "execution_count": 47,
   "metadata": {},
   "outputs": [
    {
     "data": {
      "text/plain": [
       "성질통합분류코드명\n",
       "(유기화합물)           629\n",
       "(무기화합물)           335\n",
       "(유리 및 유리제품)       189\n",
       "(기타 화학공업제품)       176\n",
       "(철강 판재)           175\n",
       "                 ... \n",
       "(잉어(신선 또는 냉장))      1\n",
       "(명태(신선 또는 냉장))      1\n",
       "(기초화장품)             1\n",
       "(샴푸)                1\n",
       "(팥)                 1\n",
       "Name: count, Length: 758, dtype: int64"
      ]
     },
     "execution_count": 47,
     "metadata": {},
     "output_type": "execute_result"
    }
   ],
   "source": [
    "customs_data['성질통합분류코드명'].value_counts()"
   ]
  },
  {
   "cell_type": "code",
   "execution_count": 48,
   "metadata": {},
   "outputs": [
    {
     "data": {
      "text/plain": [
       "array(['(말)', '(기타 산 동물)', '(소)', nan, '(돼지)', '(닭)', '(칠면조)', '(오리)',\n",
       "       '(소고기)', '(돼지고기)', '(기타 육류)', '(소 설육)', '(돼지 설육)', '(기타 설육)',\n",
       "       '(닭고기)', '(닭 설육)', '(오리고기)', '(오리 설육)', '(기타 어류(활어))', '(뱀장어(활어))',\n",
       "       '(잉어(활어))', '(참치(활어))', '(먹장어(활어))', '(넙치류(활어))', '(미꾸라지(활어))',\n",
       "       '(붕어(활어))', '(민어(활어))', '(연어(신선 또는 냉장))', '(기타 어류(신선 또는 냉장))',\n",
       "       '(가자미(신선 또는 냉장))', '(참치(신선 또는 냉장))', '(고등어(신선 또는 냉장))',\n",
       "       '(삼치(신선 또는 냉장))', '(꽁치(신선 또는 냉장))', '(대구(신선 또는 냉장))',\n",
       "       '(명태(신선 또는 냉장))', '(잉어(신선 또는 냉장))', '(뱀장어(신선 또는 냉장))',\n",
       "       '(갈치(신선 또는 냉장))', '(수산물 부산물)', '(어란(신선 또는 냉장))', '(연어(냉동))',\n",
       "       '(기타 어류(냉동))', '(잉어(냉동))', '(뱀장어(냉동))', '(가자미(냉동))', '(참치(냉동))',\n",
       "       '(고등어(냉동))', '(삼치(냉동))', '(꽁치(냉동))', '(대구(냉동))', '(명태(냉동))',\n",
       "       '(갈치(냉동))', '(조기(냉동))', '(먹장어(냉동))', '(민어(냉동))', '(어란(냉동))',\n",
       "       '(기타 어류의 어육(신선 또는 냉장))', '(연어 어육(신선 또는 냉장))', '(가자미 어육(신선 또는 냉장))',\n",
       "       '(참치 어육(신선 또는 냉장))', '(기타 어류의 어육(냉동))', '(대구 어육(냉동))',\n",
       "       '(명태 어육(냉동))', '(연어 어육(냉동))', '(가자미 어육(냉동))', '(참치 어육(냉동))',\n",
       "       '(건조어란)', '(훈제어란)', '(염장어란)', '(기타 어류(건조))', '(기타 어류(염장·염수장))',\n",
       "       '(연어(훈제))', '(기타 어류(훈제))', '(명태(훈제))', '(대구(건조))', '(명태(북어))',\n",
       "       '(멸치(건조))', '(조기(굴비))', '(대구(염장·염수장))', '(멸치(염장·염수장))',\n",
       "       '(연어(염장·염수장))', '(갈치(염장·염수장))', '(정어리(염장·염수장))', '(고등어(염장·염수장))',\n",
       "       '(조기(염장·염수장))', '(꽁치(염장·염수장))', '(기타 수산물 가공품)', '(새우(훈제))',\n",
       "       '(새우(훈제하지 않은 것))', '(바닷가재(훈제))', '(바닷가재(훈제하지 않은 것))', '(게(훈제))',\n",
       "       '(게(훈제하지 않은 것))', '(게(훈제여부 불문))', '(기타 갑각류(훈제))',\n",
       "       '(기타 갑각류(훈제하지 않은 것))', '(새우(훈제여부 불문))', '(바닷가재(훈제여부 불문))',\n",
       "       '(굴(산 것, 신선, 냉장))', '(굴(냉동))', '(굴(건조))', '(굴(염장·염수장))', '(굴(훈제))',\n",
       "       '(기타 패류(산 것, 신선, 냉장))', '(기타 수산물)', '(기타 패류(냉동))',\n",
       "       '(기타 패류(건조·염장·염수장·훈제))', '(홍합(산 것, 신선, 냉장))', '(홍합(냉동))',\n",
       "       '(홍합(건조))', '(홍합(염장·염수장))', '(갑오징어(산 것, 신선, 냉장))',\n",
       "       '(오징어(산 것, 신선, 냉장))', '(갑오징어(냉동))', '(오징어(냉동))', '(오징어류(염장·염수장))',\n",
       "       '(오징어류(건조))', '(오징어류(훈제))', '(낙지(산 것, 신선, 냉장))',\n",
       "       '(주꾸미(산 것, 신선, 냉장))', '(문어(옥토퍼스종)(산 것, 신선, 냉장))',\n",
       "       '(문어(옥토퍼스종)(냉동))', '(낙지(냉동))', '(주꾸미(냉동))', '(백합(산 것, 신선, 냉장))',\n",
       "       '(피조개(산 것, 신선, 냉장))', '(새조개(산 것, 신선, 냉장))', '(바지락(산 것, 신선, 냉장))',\n",
       "       '(새조개(냉동))', '(바지락(냉동))', '(피조개(냉동))', '(기타 패류(건조))', '(바지락(건조))',\n",
       "       '(기타 패류(염장·염수장))', '(바지락(염장·염수장))', '(기타 패류(훈제))',\n",
       "       '(전복(산 것, 신선, 냉장))', '(전복(냉동))', '(전복(건조))', '(전복(염장·염수장))',\n",
       "       '(전복(훈제))', '(기타 갑각류(훈제여부 불문))', '(우유)', '(분유)', '(기타 유제품)',\n",
       "       '(버터)', '(치즈)', '(기타 축산물)', '(기타 동물성 원료 및 연료)', '(녹용과 녹각)',\n",
       "       '(기타 동물성 한약재)', '(기타 농산물)', '(축산물 부산물)', '(튜립)', '(백합)', '(히아신스)',\n",
       "       '(기타 화훼류)', '(산 수목)', '(장미)', '(카네이션)', '(국화)', '(기타 채두류 종자류)',\n",
       "       '(심비디움)', '(종자용 감자)', '(감자)', '(토마토)', '(양파)', '(파)', '(마늘)',\n",
       "       '(부추)', '(기타 채소류)', '(양배추)', '(배추)', '(상추)', '(당근)', '(무)',\n",
       "       '(고추냉이와 겨자무)', '(오이)', '(완두)', '(기타 곡류 및 두류)', '(가지)', '(고추)',\n",
       "       '(시금치)', '(호박)', '(고사리)', '(종자용 완두)', '(사료)', '(종자용 녹두)', '(녹두)',\n",
       "       '(종자용 팥)', '(팥)', '(종자용 강낭콩)', '(강낭콩)', '(고구마)', '(코코넛)',\n",
       "       '(기타 견과류)', '(캐슈넛)', '(아몬드)', '(호두)', '(밤)', '(피스타치오)', '(잣)',\n",
       "       '(은행)', '(바나나)', '(기타 과실류)', '(파인애플)', '(망고)', '(오렌지)', '(라임)',\n",
       "       '(레몬)', '(포도)', '(수박)', '(멜론)', '(사과)', '(배)', '(모과)', '(살구)',\n",
       "       '(체리)', '(복숭아)', '(자두)', '(딸기)', '(키위)', '(감)', '(대추)', '(매실)',\n",
       "       '(농산물 부산물)', '(커피두)', '(커피의 각과 피)', '(기타 커피류)', '(녹차)', '(홍차)',\n",
       "       '(마테)', '(후추)', '(기타 향신료)', '(계피)', '(정향)', '(기타 식물성 한약재)',\n",
       "       '(코리앤더의 씨)', '(커민의 씨)', '(회향의 씨와 주니퍼의 열매)', '(생강)', '(심황(강황))',\n",
       "       '(월계수 잎)', '(밀)', '(보리)', '(옥수수)', '(쌀)', '(밀가루)', '(기타 제분 생산품)',\n",
       "       '(옥수수가루)', '(보리가루)', '(쌀가루)', '(대두)', '(땅콩)', '(기타 채유용 종자 및 과실)',\n",
       "       '(유채씨)', '(해바라기씨)', '(참깨)', '(들깨)', '(수목 종자류)', '(인삼근)', '(인삼분말)',\n",
       "       '(기타 인삼류 및 인삼 조제품)', '(김)', '(미역)', '(톳)', '(기타 해초류)',\n",
       "       '(기타 식물성 원료 및 연료)', '(인삼 수액과 엑스)', '(돈지)', '(기타 동물성 유지)', '(우지)',\n",
       "       '(대두유)', '(기타 식물성 유지)', '(참기름)', '(들기름)', '(마가린)', '(기타 유지 가공품)',\n",
       "       '(축산물 가공품)', '(수산물 통조림)', '(수산물 통조림 또는 기타 수산물 가공품)', '(원당)',\n",
       "       '(정당)', '(기타 당류)', '(당밀)', '(검)', '(기타 조제식료품)', '(캔디류)',\n",
       "       '(기타 설탕과자류)', '(코코아두)', '(코코아 페이스트)', '(코코아 버터)',\n",
       "       '(코코아 분말(설탕 및 감미료 미 함유))', '(코코아 분말(설탕 및 감미료 함유))',\n",
       "       '(초콜릿 및 초콜릿과자)', '(기타 코코아 조제품)', '(곡물 가공품)', '(베이커리류)',\n",
       "       '(기타 농산물 가공품)', '(채소류가공품)', '(김치)', '(견과류 가공품)', '(과실류 가공품)',\n",
       "       '(과실주스)', '(기타 음료)', '(인스턴트 커피)', '(기타 차류)', '(빙과류)', '(인삼음료)',\n",
       "       '(맥주)', '(포도주)', '(기타 주류)', '(청주)', '(막걸리)', '(위스키)', '(브랜디)',\n",
       "       '(소주)', '(엽연초)', '(담배)', '(기타 화학공업제품)', '(간이세율적용분)', '(비(非)금속광물)',\n",
       "       '(철광)', '(기타 금속광물)', '(동광)', '(니켈광)', '(알루미늄광)', '(아연광)', '(주석광)',\n",
       "       '(은)', '(금)', '(백금)', '(석탄)', '(갈탄과 토탄)', '(코크스와 레토르트카본)', '(가스)',\n",
       "       '(기타 광산물)', '(기타 석유화학제품)', '(기타 석유제품)', '(원유)', '(휘발유)', '(나프타)',\n",
       "       '(등유)', '(경유)', '(중유)', '(윤활유)', '(기타 원자재)', '(무기화합물)', '(농약)',\n",
       "       '(기타 비(非)철금속)', '(유기화합물)', '(석유화학섬유원료)', '(비타민(유도체))', '(기타 의약품)',\n",
       "       '(비타민(투여용))', '(의료위생용품)', '(기타 화학비료)', '(질소비료)', '(인산비료)',\n",
       "       '(칼륨비료)', '(복합비료)', '(염료 및 안료)', '(도료 및 잉크)', '(문구류)',\n",
       "       '(기타 정밀화학제품)', '(향수 및 화장수)', '(색조화장품)', '(매니큐어 및 패디큐어 제품)',\n",
       "       '(기타 화장품류)', '(기초화장품)', '(샴푸)', '(기타 헤어제품)', '(린스)', '(기타 비내구소비재)',\n",
       "       '(사진용화합물)', '(실리콘웨이퍼)', '(합성수지)', '(기타 플라스틱제품)', '(플라스틱 관)',\n",
       "       '(필름류)', '(플라스틱제 생활용품)', '(장식용 세공품)', '(기타 일반기계 부품)', '(기타 내구소비재)',\n",
       "       '(천연고무)', '(합성고무)', '(원료용 고무제품)', '(고무타이어 및 타이어튜브)', '(기타 고무제품)',\n",
       "       '(소와 마속 가죽)', '(양가죽)', '(기타 가죽)', '(가죽제품)', '(가죽제 가방)',\n",
       "       '(합성수지제 가방)', '(직물제 가방)', '(기타 가방)', '(가죽제 의류)', '(양말 및 장갑)',\n",
       "       '(기타 의류부속품)', '(밍크모피(생모피))', '(기타모피(생모피))', '(여우모피(생모피))',\n",
       "       '(밍크모피(유연처리 또는 드레스가공))', '(기타모피(유연처리 또는 드레스가공))',\n",
       "       '(여우모피(유연처리 또는 드레스가공))', '(모피 의류)', '(인조모피)', '(기타 목재)', '(원목)',\n",
       "       '(제재목)', '(단판)', '(파티클보드)', '(섬유판)', '(합판)', '(목제 생활용품)',\n",
       "       '(건축용 목제품)', '(기타 비내구성 생활용품)', '(펄프)', '(고지)', '(신문용지)',\n",
       "       '(기타 종이제품)', '(벽지)', '(인쇄용지)', '(화장지(가정용 제외))',\n",
       "       '(종이제 생활용품(가정용 화장지, 패드, 냅킨))', '(서적)', '(신문 등 정기간행물)', '(악보)',\n",
       "       '(기타 인쇄물)', '(견)', '(견사)', '(천연섬유직물)', '(모)', '(모사)', '(면)',\n",
       "       '(면사)', '(마)', '(마사)', '(나일론사(장섬유사))', '(폴리에스테르사(장섬유사))',\n",
       "       '(기타 합성섬유사(장섬유사))', '(비스코스사(장섬유사))', '(기타 재생·반합성섬유사(장섬유사))',\n",
       "       '(아세테이트사(장섬유사))', '(나일론 직물)', '(폴리에스테르 직물)', '(기타 합성장섬유 직물)',\n",
       "       '(폴리에스테르 또는 아크릴 직물)', '(아크릴 직물)', '(재생·반합성장섬유 직물)', '(나일론섬유)',\n",
       "       '(폴리에스테르섬유)', '(기타 합성섬유)', '(아세테이트섬유)', '(모든 재생·반합성섬유)',\n",
       "       '(비스코스섬유)', '(기타 재생·반합성섬유)', '(폴리에스테르사(방적사))', '(기타 합성섬유사(방적사))',\n",
       "       '(모든 재생·반합성섬유사(방적사))', '(나일론사(방적사))', '(아크릴사(방적사))',\n",
       "       '(모든 합성섬유사(방적사))', '(비스코스사(방적사))', '(기타 재생·반합성섬유사(방적사))',\n",
       "       '(합성단섬유 직물)', '(재생·반합성단섬유 직물)', '(기타 섬유제품(의류 제외))', '(기타 직물)',\n",
       "       '(기타 섬유사)', '(편직물)', '(편물제 의류)', '(직물제 의류)', '(신발류)',\n",
       "       '(기타 비(非)금속광물제품)', '(다이아몬드공구)', '(시멘트제품)', '(석면제품)', '(도자제품)',\n",
       "       '(유리 및 유리제품)', '(진주)', '(다이아몬드)', '(기타 보석류)', '(장신구)', '(철강 원부자재)',\n",
       "       '(고철)', '(철강 반제품)', '(철강 판재)', '(봉·형강)', '(강선)', '(주·단강)', '(강관)',\n",
       "       '(금속구조물)', '(철강재 용기)', '(기타 기계요소)', '(기타 선박용 부품)', '(볼트 및 너트)',\n",
       "       '(가사용구)', '(자동차 부품)', '(철도차량 부품)', '(가열기구)', '(냉난방기계 부품)',\n",
       "       '(기타 공구류)', '(섬유기계)', '(동)', '(비(非)철금속의 부산물)', '(니켈)', '(알루미늄)',\n",
       "       '(알루미늄 용기)', '(기타 가전제품)', '(연)', '(아연)', '(주석)', '(수공구)', '(커팅공구)',\n",
       "       '(착암공구)', '(기타 금형)', '(프레스 금형)', '(탭핑공구)', '(드릴링공구)', '(보링공구)',\n",
       "       '(밀링공구)', '(식품가공기계)', '(식품가공기계 부품)', '(기타 내구성 생활용품)', '(핵반응기)',\n",
       "       '(핵반응기 부품)', '(증기발생 보일러)', '(온수 보일러)', '(용접기)', '(용접기 부품)',\n",
       "       '(선박 엔진)', '(증기터빈)', '(내연기관 및 터빈의 부품)', '(항공기 엔진)',\n",
       "       '(불꽃 점화식 내연기관)', '(압축 점화식 내연기관)', '(수력터빈)', '(터보제트)',\n",
       "       '(기타 내연기관 및 터빈)', '(기타 일반기계)', '(액체펌프)', '(기타 항공기 부품)', '(펌프 부품)',\n",
       "       '(반도체제조용장비 부품)', '(디스플레이패널제조용장비 부품)', '(기체펌프)', '(정보기기 부품)',\n",
       "       '(에어컨)', '(공기조절기)', '(냉장고)', '(냉방기)', '(화학기계)', '(기타 농기계)',\n",
       "       '(화학기계 부품)', '(인쇄·제본기계 부품)', '(피혁가공기계)', '(고무·플라스틱 가공기계)',\n",
       "       '(섬유 및 피혁가공기계 부품)', '(액체 및 기체 여과기계)', '(반도체제조용장비)',\n",
       "       '(액체 및 기체 여과기계 부품)', '(청소,세척기)', '(식품포장기계)', '(식품포장기계 부품)',\n",
       "       '(중량계)', '(공기압공구)', '(농기계 부품)', '(운반하역기계)', '(기타 건설 중장비)', '(지게차)',\n",
       "       '(기타 수송장비)', '(엘리베이터)', '(에스컬레이터)', '(불도우저)', '(운반하역기계 부품)',\n",
       "       '(건설기계 부품)', '(경작기계)', '(수확·탈곡기계)', '(낙농기계)', '(제지기계)', '(제본기계)',\n",
       "       '(지가공기계)', '(인쇄기계)', '(프린터)', '(복사기)', '(유선통신기기)', '(복사기 부품)',\n",
       "       '(세탁기)', '(재봉기)', '(주조설비)', '(주조설비 부품)', '(압연기)', '(압연기 부품)',\n",
       "       '(금속절삭가공기계)', '(금속성형가공기계)', '(광물가공기계)', '(목재가공기계)', '(가공공작기계 부품)',\n",
       "       '(전동공구)', '(전자계산기)', '(기타 정밀기계)', '(컴퓨터)', '(스캐너)',\n",
       "       '(기타 컴퓨터 주변기기)', '(보조기억장치)', '(전자계산기 부품)', '(기타 정밀기계 부품)',\n",
       "       '(메모리반도체)', '(광산기계)', '(광산기계 부품)', '(유리가공기계)', '(고무·플라스틱 가공기계 부품)',\n",
       "       '(다이캐스팅 금형)', '(플라스틱 금형)', '(밸브)', '(베어링)', '(디스플레이패널제조용장비)',\n",
       "       '(소형 직류 전동기)', '(소형 직류·교류 겸용 전동기)', '(중대형 직류·교류 겸용 전동기)',\n",
       "       '(중대형 직류 전동기)', '(직류 발전기)', '(소형 교류 전동기)', '(중대형 교류 전동기)',\n",
       "       '(교류 발전기)', '(엔진결합 발전기)', '(전동기 부품)', '(발전기 부품)', '(전기변환장치 부품)',\n",
       "       '(안정기)', '(유압식 변압기)', '(기타 변압기)', '(변환기)', '(기타 IT부품)', '(변압기 부품)',\n",
       "       '(기타 전기기계)', '(기타 전기기계 부품)', '(일차전지 및 축전지)', '(발광다이오드(LED) 장치)',\n",
       "       '(기타 조명장치)', '(조명장치 부품)', '(스마트폰)', '(CDMA 방식 휴대전화)',\n",
       "       '(TDMA 방식 휴대전화)', '(OFDM 방식 휴대전화)', '(기타 방식 휴대전화)', '(기타 무선통신기기)',\n",
       "       '(방송용 통신기기)', '(기타 무선통신기기 부품)', '(유선통신기기부품)', '(음향기기)',\n",
       "       '(방송기기 부품)', '(시스템반도체)', '(액정 디바이스)', '(기타 평판디스플레이패널)', '(방송기기)',\n",
       "       '(레이더)', '(모니터)', '(LCD TV)', '(기타 TV)', '(흑백 TV)', '(레이더 부품)',\n",
       "       '(평판디스플레이 부품)', '(방송용 통신기기 부품)', '(차단기)', '(기타 전기공급 및 제어장치)',\n",
       "       '(배전반)', '(전기공급 및 제어장치 부품)', '(다이오드)', '(트랜지스터)', '(기타 개별소자반도체)',\n",
       "       '(발광다이오드(LED))', '(개별소자반도체 부품)', '(기타 집적회로반도체)', '(집적회로반도체 부품)',\n",
       "       '(전선 및 케이블)', '(철도차량)', '(기타 수송장비 부품)', '(기타 자동차(수송장비))',\n",
       "       '(화물자동차)', '(전기자동차)', '(가솔린 1,000cc이하 승용차 - 신차)',\n",
       "       '(가솔린 1,000cc이하 승용차 - 중고차)', '(가솔린 1,000cc초과 승용차(1,500cc이하) - 신차)',\n",
       "       '(가솔린 1,000cc초과 승용차(1,500cc이하) - 중고차)',\n",
       "       '(가솔린 1,500cc초과 승용차(2,000cc이하) - 신차)',\n",
       "       '(가솔린 1,500cc초과 승용차(2,000cc이하) - 중고차)',\n",
       "       '(가솔린 2,000cc초과 승용차(3,000cc이하) - 신차)',\n",
       "       '(가솔린 2,000cc초과 승용차(3,000cc이하) - 중고차)',\n",
       "       '(가솔린 3,000cc초과 승용차(4,000cc이하) - 신차)',\n",
       "       '(가솔린 3,000cc초과 승용차(4,000cc이하) - 중고차)', '(가솔린 4,000cc초과 승용차 - 신차)',\n",
       "       '(가솔린 4,000cc초과 승용차 - 중고차)', '(디젤 1,500cc이하 승용차 - 신차)',\n",
       "       '(디젤 1,500cc이하 승용차 - 중고차)', '(디젤 1,500cc초과 승용차(2,000cc이하) - 신차)',\n",
       "       '(디젤 1,500cc초과 승용차(2,000cc이하) - 중고차)',\n",
       "       '(디젤 2,000cc초과 승용차(2,500cc이하) - 신차)',\n",
       "       '(디젤 2,000cc초과 승용차(2,500cc이하) - 중고차)', '(디젤 2,500cc초과 승용차 - 신차)',\n",
       "       '(디젤 2,500cc초과 승용차 - 중고차)', '(특장차)', '(모터사이클)', '(기타 2륜차)',\n",
       "       '(전기 자전거)', '(페달식 자전거)', '(신체장애인용 차량)', '(자전거 부품)', '(무동력 항공기)',\n",
       "       '(헬리콥터)', '(비행기)', '(우주선)', '(낙하산)', '(무인기)', '(우주선 부품)', '(여객선)',\n",
       "       '(화물선)', '(어선)', '(요트)', '(모터보트)', '(예인선)', '(기타 선박)', '(군함)',\n",
       "       '(기타 사진 및 광학기기)', '(안경류)', '(사진 및 광학기기 부품)', '(카메라)', '(현미경)',\n",
       "       '(전자현미경)', '(전자현미경 부품)', '(기타 계측기)', '(계측기 부품)', '(측정공구)',\n",
       "       '(공구류 부품)', '(의료용기기)', '(의료용기기 부품)', '(온도계)', '(기압계)', '(습도계)',\n",
       "       '(유량압력계)', '(속도계)', '(전자계측기)', '(전기계측기)', '(손목시계)', '(기타 시계)',\n",
       "       '(전자시계)', '(자명종시계)', '(벽시계)', '(시계줄)', '(악기류)', '(무기 및 총포탄)',\n",
       "       '(가구)', '(완구류)', '(운동용구)', '(예술품)', '(수집품 및 골동품)'], dtype=object)"
      ]
     },
     "execution_count": 48,
     "metadata": {},
     "output_type": "execute_result"
    }
   ],
   "source": [
    "customs_data['성질통합분류코드명'].unique()"
   ]
  },
  {
   "cell_type": "code",
   "execution_count": 49,
   "metadata": {},
   "outputs": [
    {
     "data": {
      "text/html": [
       "<div>\n",
       "<style scoped>\n",
       "    .dataframe tbody tr th:only-of-type {\n",
       "        vertical-align: middle;\n",
       "    }\n",
       "\n",
       "    .dataframe tbody tr th {\n",
       "        vertical-align: top;\n",
       "    }\n",
       "\n",
       "    .dataframe thead th {\n",
       "        text-align: right;\n",
       "    }\n",
       "</style>\n",
       "<table border=\"1\" class=\"dataframe\">\n",
       "  <thead>\n",
       "    <tr style=\"text-align: right;\">\n",
       "      <th></th>\n",
       "      <th>HS부호</th>\n",
       "      <th>한글품목명</th>\n",
       "      <th>영문품목명</th>\n",
       "      <th>성질통합분류코드</th>\n",
       "      <th>성질통합분류코드명</th>\n",
       "    </tr>\n",
       "  </thead>\n",
       "  <tbody>\n",
       "    <tr>\n",
       "      <th>17</th>\n",
       "      <td>0001029090</td>\n",
       "      <td>기타</td>\n",
       "      <td>Other</td>\n",
       "      <td>NaN</td>\n",
       "      <td>NaN</td>\n",
       "    </tr>\n",
       "    <tr>\n",
       "      <th>37</th>\n",
       "      <td>0001059910</td>\n",
       "      <td>오리</td>\n",
       "      <td>Ducks</td>\n",
       "      <td>NaN</td>\n",
       "      <td>NaN</td>\n",
       "    </tr>\n",
       "    <tr>\n",
       "      <th>51</th>\n",
       "      <td>0001061950</td>\n",
       "      <td>여우</td>\n",
       "      <td>Fox</td>\n",
       "      <td>NaN</td>\n",
       "      <td>NaN</td>\n",
       "    </tr>\n",
       "    <tr>\n",
       "      <th>54</th>\n",
       "      <td>0001061960</td>\n",
       "      <td>밍크</td>\n",
       "      <td>Mink</td>\n",
       "      <td>NaN</td>\n",
       "      <td>NaN</td>\n",
       "    </tr>\n",
       "    <tr>\n",
       "      <th>69</th>\n",
       "      <td>0001069030</td>\n",
       "      <td>환형동물류</td>\n",
       "      <td>Annelida</td>\n",
       "      <td>NaN</td>\n",
       "      <td>NaN</td>\n",
       "    </tr>\n",
       "    <tr>\n",
       "      <th>...</th>\n",
       "      <td>...</td>\n",
       "      <td>...</td>\n",
       "      <td>...</td>\n",
       "      <td>...</td>\n",
       "      <td>...</td>\n",
       "    </tr>\n",
       "    <tr>\n",
       "      <th>12305</th>\n",
       "      <td>0096019090</td>\n",
       "      <td>기타</td>\n",
       "      <td>Other</td>\n",
       "      <td>NaN</td>\n",
       "      <td>NaN</td>\n",
       "    </tr>\n",
       "    <tr>\n",
       "      <th>12309</th>\n",
       "      <td>0096020090</td>\n",
       "      <td>기타</td>\n",
       "      <td>Other</td>\n",
       "      <td>NaN</td>\n",
       "      <td>NaN</td>\n",
       "    </tr>\n",
       "    <tr>\n",
       "      <th>12377</th>\n",
       "      <td>0096190010</td>\n",
       "      <td>제지용 펄프ㆍ종이ㆍ셀룰로오스워딩(cellulose wadding)ㆍ셀룰로오스섬유의 ...</td>\n",
       "      <td>Of paper pulp, paper, cellulose wadding or web...</td>\n",
       "      <td>NaN</td>\n",
       "      <td>NaN</td>\n",
       "    </tr>\n",
       "    <tr>\n",
       "      <th>12381</th>\n",
       "      <td>0096190030</td>\n",
       "      <td>그 밖의 방직용 섬유재료로 만든 것</td>\n",
       "      <td>Of other textile materials</td>\n",
       "      <td>NaN</td>\n",
       "      <td>NaN</td>\n",
       "    </tr>\n",
       "    <tr>\n",
       "      <th>12385</th>\n",
       "      <td>0096190090</td>\n",
       "      <td>기타</td>\n",
       "      <td>Other</td>\n",
       "      <td>NaN</td>\n",
       "      <td>NaN</td>\n",
       "    </tr>\n",
       "  </tbody>\n",
       "</table>\n",
       "<p>1128 rows × 5 columns</p>\n",
       "</div>"
      ],
      "text/plain": [
       "             HS부호                                              한글품목명  \\\n",
       "17     0001029090                                                 기타   \n",
       "37     0001059910                                                 오리   \n",
       "51     0001061950                                                 여우   \n",
       "54     0001061960                                                 밍크   \n",
       "69     0001069030                                              환형동물류   \n",
       "...           ...                                                ...   \n",
       "12305  0096019090                                                 기타   \n",
       "12309  0096020090                                                 기타   \n",
       "12377  0096190010  제지용 펄프ㆍ종이ㆍ셀룰로오스워딩(cellulose wadding)ㆍ셀룰로오스섬유의 ...   \n",
       "12381  0096190030                                그 밖의 방직용 섬유재료로 만든 것   \n",
       "12385  0096190090                                                 기타   \n",
       "\n",
       "                                                   영문품목명 성질통합분류코드 성질통합분류코드명  \n",
       "17                                                 Other      NaN       NaN  \n",
       "37                                                 Ducks      NaN       NaN  \n",
       "51                                                   Fox      NaN       NaN  \n",
       "54                                                  Mink      NaN       NaN  \n",
       "69                                              Annelida      NaN       NaN  \n",
       "...                                                  ...      ...       ...  \n",
       "12305                                              Other      NaN       NaN  \n",
       "12309                                              Other      NaN       NaN  \n",
       "12377  Of paper pulp, paper, cellulose wadding or web...      NaN       NaN  \n",
       "12381                         Of other textile materials      NaN       NaN  \n",
       "12385                                              Other      NaN       NaN  \n",
       "\n",
       "[1128 rows x 5 columns]"
      ]
     },
     "execution_count": 49,
     "metadata": {},
     "output_type": "execute_result"
    }
   ],
   "source": [
    "customs_data[customs_data['성질통합분류코드명'].isnull()]"
   ]
  },
  {
   "cell_type": "markdown",
   "metadata": {},
   "source": [
    "- 괄호 보기 불편하니까 없애기"
   ]
  },
  {
   "cell_type": "code",
   "execution_count": 50,
   "metadata": {},
   "outputs": [
    {
     "name": "stdout",
     "output_type": "stream",
     "text": [
      "디젤 2,000cc초과 승용차(2,500cc이하) - 중고차\n"
     ]
    }
   ],
   "source": [
    "text = '(디젤 2,000cc초과 승용차(2,500cc이하) - 중고차)'\n",
    "res = re.sub(r'^\\((.*?)\\)$', r'\\1', text)\n",
    "print(res)"
   ]
  },
  {
   "cell_type": "code",
   "execution_count": 51,
   "metadata": {},
   "outputs": [],
   "source": [
    "def re_sub(x):\n",
    "    if pd.isna(x):\n",
    "        return np.nan\n",
    "    else:\n",
    "        return re.sub(r'^\\((.*?)\\)$', r'\\1', x)\n",
    "\n",
    "customs_data['성질통합분류코드명'] = customs_data['성질통합분류코드명'].apply(lambda x: re_sub(x))"
   ]
  },
  {
   "cell_type": "code",
   "execution_count": 52,
   "metadata": {},
   "outputs": [
    {
     "data": {
      "text/plain": [
       "성질통합분류코드명\n",
       "유기화합물           629\n",
       "무기화합물           335\n",
       "유리 및 유리제품       189\n",
       "기타 화학공업제품       176\n",
       "철강 판재           175\n",
       "               ... \n",
       "잉어(신선 또는 냉장)      1\n",
       "명태(신선 또는 냉장)      1\n",
       "기초화장품             1\n",
       "샴푸                1\n",
       "팥                 1\n",
       "Name: count, Length: 758, dtype: int64"
      ]
     },
     "execution_count": 52,
     "metadata": {},
     "output_type": "execute_result"
    }
   ],
   "source": [
    "customs_data['성질통합분류코드명'].value_counts()"
   ]
  },
  {
   "cell_type": "code",
   "execution_count": 53,
   "metadata": {},
   "outputs": [
    {
     "data": {
      "text/plain": [
       "array(['말', '기타 산 동물', '소', nan, '돼지', '닭', '칠면조', '오리', '소고기', '돼지고기',\n",
       "       '기타 육류', '소 설육', '돼지 설육', '기타 설육', '닭고기', '닭 설육', '오리고기', '오리 설육',\n",
       "       '기타 어류(활어)', '뱀장어(활어)', '잉어(활어)', '참치(활어)', '먹장어(활어)', '넙치류(활어)',\n",
       "       '미꾸라지(활어)', '붕어(활어)', '민어(활어)', '연어(신선 또는 냉장)', '기타 어류(신선 또는 냉장)',\n",
       "       '가자미(신선 또는 냉장)', '참치(신선 또는 냉장)', '고등어(신선 또는 냉장)', '삼치(신선 또는 냉장)',\n",
       "       '꽁치(신선 또는 냉장)', '대구(신선 또는 냉장)', '명태(신선 또는 냉장)', '잉어(신선 또는 냉장)',\n",
       "       '뱀장어(신선 또는 냉장)', '갈치(신선 또는 냉장)', '수산물 부산물', '어란(신선 또는 냉장)',\n",
       "       '연어(냉동)', '기타 어류(냉동)', '잉어(냉동)', '뱀장어(냉동)', '가자미(냉동)', '참치(냉동)',\n",
       "       '고등어(냉동)', '삼치(냉동)', '꽁치(냉동)', '대구(냉동)', '명태(냉동)', '갈치(냉동)',\n",
       "       '조기(냉동)', '먹장어(냉동)', '민어(냉동)', '어란(냉동)', '기타 어류의 어육(신선 또는 냉장)',\n",
       "       '연어 어육(신선 또는 냉장)', '가자미 어육(신선 또는 냉장)', '참치 어육(신선 또는 냉장)',\n",
       "       '기타 어류의 어육(냉동)', '대구 어육(냉동)', '명태 어육(냉동)', '연어 어육(냉동)',\n",
       "       '가자미 어육(냉동)', '참치 어육(냉동)', '건조어란', '훈제어란', '염장어란', '기타 어류(건조)',\n",
       "       '기타 어류(염장·염수장)', '연어(훈제)', '기타 어류(훈제)', '명태(훈제)', '대구(건조)',\n",
       "       '명태(북어)', '멸치(건조)', '조기(굴비)', '대구(염장·염수장)', '멸치(염장·염수장)',\n",
       "       '연어(염장·염수장)', '갈치(염장·염수장)', '정어리(염장·염수장)', '고등어(염장·염수장)',\n",
       "       '조기(염장·염수장)', '꽁치(염장·염수장)', '기타 수산물 가공품', '새우(훈제)',\n",
       "       '새우(훈제하지 않은 것)', '바닷가재(훈제)', '바닷가재(훈제하지 않은 것)', '게(훈제)',\n",
       "       '게(훈제하지 않은 것)', '게(훈제여부 불문)', '기타 갑각류(훈제)', '기타 갑각류(훈제하지 않은 것)',\n",
       "       '새우(훈제여부 불문)', '바닷가재(훈제여부 불문)', '굴(산 것, 신선, 냉장)', '굴(냉동)', '굴(건조)',\n",
       "       '굴(염장·염수장)', '굴(훈제)', '기타 패류(산 것, 신선, 냉장)', '기타 수산물', '기타 패류(냉동)',\n",
       "       '기타 패류(건조·염장·염수장·훈제)', '홍합(산 것, 신선, 냉장)', '홍합(냉동)', '홍합(건조)',\n",
       "       '홍합(염장·염수장)', '갑오징어(산 것, 신선, 냉장)', '오징어(산 것, 신선, 냉장)', '갑오징어(냉동)',\n",
       "       '오징어(냉동)', '오징어류(염장·염수장)', '오징어류(건조)', '오징어류(훈제)',\n",
       "       '낙지(산 것, 신선, 냉장)', '주꾸미(산 것, 신선, 냉장)', '문어(옥토퍼스종)(산 것, 신선, 냉장)',\n",
       "       '문어(옥토퍼스종)(냉동)', '낙지(냉동)', '주꾸미(냉동)', '백합(산 것, 신선, 냉장)',\n",
       "       '피조개(산 것, 신선, 냉장)', '새조개(산 것, 신선, 냉장)', '바지락(산 것, 신선, 냉장)',\n",
       "       '새조개(냉동)', '바지락(냉동)', '피조개(냉동)', '기타 패류(건조)', '바지락(건조)',\n",
       "       '기타 패류(염장·염수장)', '바지락(염장·염수장)', '기타 패류(훈제)', '전복(산 것, 신선, 냉장)',\n",
       "       '전복(냉동)', '전복(건조)', '전복(염장·염수장)', '전복(훈제)', '기타 갑각류(훈제여부 불문)',\n",
       "       '우유', '분유', '기타 유제품', '버터', '치즈', '기타 축산물', '기타 동물성 원료 및 연료',\n",
       "       '녹용과 녹각', '기타 동물성 한약재', '기타 농산물', '축산물 부산물', '튜립', '백합', '히아신스',\n",
       "       '기타 화훼류', '산 수목', '장미', '카네이션', '국화', '기타 채두류 종자류', '심비디움',\n",
       "       '종자용 감자', '감자', '토마토', '양파', '파', '마늘', '부추', '기타 채소류', '양배추',\n",
       "       '배추', '상추', '당근', '무', '고추냉이와 겨자무', '오이', '완두', '기타 곡류 및 두류', '가지',\n",
       "       '고추', '시금치', '호박', '고사리', '종자용 완두', '사료', '종자용 녹두', '녹두', '종자용 팥',\n",
       "       '팥', '종자용 강낭콩', '강낭콩', '고구마', '코코넛', '기타 견과류', '캐슈넛', '아몬드', '호두',\n",
       "       '밤', '피스타치오', '잣', '은행', '바나나', '기타 과실류', '파인애플', '망고', '오렌지',\n",
       "       '라임', '레몬', '포도', '수박', '멜론', '사과', '배', '모과', '살구', '체리', '복숭아',\n",
       "       '자두', '딸기', '키위', '감', '대추', '매실', '농산물 부산물', '커피두', '커피의 각과 피',\n",
       "       '기타 커피류', '녹차', '홍차', '마테', '후추', '기타 향신료', '계피', '정향',\n",
       "       '기타 식물성 한약재', '코리앤더의 씨', '커민의 씨', '회향의 씨와 주니퍼의 열매', '생강', '심황(강황)',\n",
       "       '월계수 잎', '밀', '보리', '옥수수', '쌀', '밀가루', '기타 제분 생산품', '옥수수가루',\n",
       "       '보리가루', '쌀가루', '대두', '땅콩', '기타 채유용 종자 및 과실', '유채씨', '해바라기씨', '참깨',\n",
       "       '들깨', '수목 종자류', '인삼근', '인삼분말', '기타 인삼류 및 인삼 조제품', '김', '미역', '톳',\n",
       "       '기타 해초류', '기타 식물성 원료 및 연료', '인삼 수액과 엑스', '돈지', '기타 동물성 유지', '우지',\n",
       "       '대두유', '기타 식물성 유지', '참기름', '들기름', '마가린', '기타 유지 가공품', '축산물 가공품',\n",
       "       '수산물 통조림', '수산물 통조림 또는 기타 수산물 가공품', '원당', '정당', '기타 당류', '당밀', '검',\n",
       "       '기타 조제식료품', '캔디류', '기타 설탕과자류', '코코아두', '코코아 페이스트', '코코아 버터',\n",
       "       '코코아 분말(설탕 및 감미료 미 함유)', '코코아 분말(설탕 및 감미료 함유)', '초콜릿 및 초콜릿과자',\n",
       "       '기타 코코아 조제품', '곡물 가공품', '베이커리류', '기타 농산물 가공품', '채소류가공품', '김치',\n",
       "       '견과류 가공품', '과실류 가공품', '과실주스', '기타 음료', '인스턴트 커피', '기타 차류', '빙과류',\n",
       "       '인삼음료', '맥주', '포도주', '기타 주류', '청주', '막걸리', '위스키', '브랜디', '소주',\n",
       "       '엽연초', '담배', '기타 화학공업제품', '간이세율적용분', '비(非)금속광물', '철광', '기타 금속광물',\n",
       "       '동광', '니켈광', '알루미늄광', '아연광', '주석광', '은', '금', '백금', '석탄', '갈탄과 토탄',\n",
       "       '코크스와 레토르트카본', '가스', '기타 광산물', '기타 석유화학제품', '기타 석유제품', '원유', '휘발유',\n",
       "       '나프타', '등유', '경유', '중유', '윤활유', '기타 원자재', '무기화합물', '농약',\n",
       "       '기타 비(非)철금속', '유기화합물', '석유화학섬유원료', '비타민(유도체)', '기타 의약품',\n",
       "       '비타민(투여용)', '의료위생용품', '기타 화학비료', '질소비료', '인산비료', '칼륨비료', '복합비료',\n",
       "       '염료 및 안료', '도료 및 잉크', '문구류', '기타 정밀화학제품', '향수 및 화장수', '색조화장품',\n",
       "       '매니큐어 및 패디큐어 제품', '기타 화장품류', '기초화장품', '샴푸', '기타 헤어제품', '린스',\n",
       "       '기타 비내구소비재', '사진용화합물', '실리콘웨이퍼', '합성수지', '기타 플라스틱제품', '플라스틱 관',\n",
       "       '필름류', '플라스틱제 생활용품', '장식용 세공품', '기타 일반기계 부품', '기타 내구소비재', '천연고무',\n",
       "       '합성고무', '원료용 고무제품', '고무타이어 및 타이어튜브', '기타 고무제품', '소와 마속 가죽', '양가죽',\n",
       "       '기타 가죽', '가죽제품', '가죽제 가방', '합성수지제 가방', '직물제 가방', '기타 가방', '가죽제 의류',\n",
       "       '양말 및 장갑', '기타 의류부속품', '밍크모피(생모피)', '기타모피(생모피)', '여우모피(생모피)',\n",
       "       '밍크모피(유연처리 또는 드레스가공)', '기타모피(유연처리 또는 드레스가공)',\n",
       "       '여우모피(유연처리 또는 드레스가공)', '모피 의류', '인조모피', '기타 목재', '원목', '제재목', '단판',\n",
       "       '파티클보드', '섬유판', '합판', '목제 생활용품', '건축용 목제품', '기타 비내구성 생활용품', '펄프',\n",
       "       '고지', '신문용지', '기타 종이제품', '벽지', '인쇄용지', '화장지(가정용 제외)',\n",
       "       '종이제 생활용품(가정용 화장지, 패드, 냅킨)', '서적', '신문 등 정기간행물', '악보', '기타 인쇄물',\n",
       "       '견', '견사', '천연섬유직물', '모', '모사', '면', '면사', '마', '마사', '나일론사(장섬유사)',\n",
       "       '폴리에스테르사(장섬유사)', '기타 합성섬유사(장섬유사)', '비스코스사(장섬유사)',\n",
       "       '기타 재생·반합성섬유사(장섬유사)', '아세테이트사(장섬유사)', '나일론 직물', '폴리에스테르 직물',\n",
       "       '기타 합성장섬유 직물', '폴리에스테르 또는 아크릴 직물', '아크릴 직물', '재생·반합성장섬유 직물',\n",
       "       '나일론섬유', '폴리에스테르섬유', '기타 합성섬유', '아세테이트섬유', '모든 재생·반합성섬유', '비스코스섬유',\n",
       "       '기타 재생·반합성섬유', '폴리에스테르사(방적사)', '기타 합성섬유사(방적사)',\n",
       "       '모든 재생·반합성섬유사(방적사)', '나일론사(방적사)', '아크릴사(방적사)', '모든 합성섬유사(방적사)',\n",
       "       '비스코스사(방적사)', '기타 재생·반합성섬유사(방적사)', '합성단섬유 직물', '재생·반합성단섬유 직물',\n",
       "       '기타 섬유제품(의류 제외)', '기타 직물', '기타 섬유사', '편직물', '편물제 의류', '직물제 의류',\n",
       "       '신발류', '기타 비(非)금속광물제품', '다이아몬드공구', '시멘트제품', '석면제품', '도자제품',\n",
       "       '유리 및 유리제품', '진주', '다이아몬드', '기타 보석류', '장신구', '철강 원부자재', '고철',\n",
       "       '철강 반제품', '철강 판재', '봉·형강', '강선', '주·단강', '강관', '금속구조물', '철강재 용기',\n",
       "       '기타 기계요소', '기타 선박용 부품', '볼트 및 너트', '가사용구', '자동차 부품', '철도차량 부품',\n",
       "       '가열기구', '냉난방기계 부품', '기타 공구류', '섬유기계', '동', '비(非)철금속의 부산물', '니켈',\n",
       "       '알루미늄', '알루미늄 용기', '기타 가전제품', '연', '아연', '주석', '수공구', '커팅공구',\n",
       "       '착암공구', '기타 금형', '프레스 금형', '탭핑공구', '드릴링공구', '보링공구', '밀링공구',\n",
       "       '식품가공기계', '식품가공기계 부품', '기타 내구성 생활용품', '핵반응기', '핵반응기 부품',\n",
       "       '증기발생 보일러', '온수 보일러', '용접기', '용접기 부품', '선박 엔진', '증기터빈',\n",
       "       '내연기관 및 터빈의 부품', '항공기 엔진', '불꽃 점화식 내연기관', '압축 점화식 내연기관', '수력터빈',\n",
       "       '터보제트', '기타 내연기관 및 터빈', '기타 일반기계', '액체펌프', '기타 항공기 부품', '펌프 부품',\n",
       "       '반도체제조용장비 부품', '디스플레이패널제조용장비 부품', '기체펌프', '정보기기 부품', '에어컨',\n",
       "       '공기조절기', '냉장고', '냉방기', '화학기계', '기타 농기계', '화학기계 부품', '인쇄·제본기계 부품',\n",
       "       '피혁가공기계', '고무·플라스틱 가공기계', '섬유 및 피혁가공기계 부품', '액체 및 기체 여과기계',\n",
       "       '반도체제조용장비', '액체 및 기체 여과기계 부품', '청소,세척기', '식품포장기계', '식품포장기계 부품',\n",
       "       '중량계', '공기압공구', '농기계 부품', '운반하역기계', '기타 건설 중장비', '지게차', '기타 수송장비',\n",
       "       '엘리베이터', '에스컬레이터', '불도우저', '운반하역기계 부품', '건설기계 부품', '경작기계',\n",
       "       '수확·탈곡기계', '낙농기계', '제지기계', '제본기계', '지가공기계', '인쇄기계', '프린터', '복사기',\n",
       "       '유선통신기기', '복사기 부품', '세탁기', '재봉기', '주조설비', '주조설비 부품', '압연기',\n",
       "       '압연기 부품', '금속절삭가공기계', '금속성형가공기계', '광물가공기계', '목재가공기계', '가공공작기계 부품',\n",
       "       '전동공구', '전자계산기', '기타 정밀기계', '컴퓨터', '스캐너', '기타 컴퓨터 주변기기', '보조기억장치',\n",
       "       '전자계산기 부품', '기타 정밀기계 부품', '메모리반도체', '광산기계', '광산기계 부품', '유리가공기계',\n",
       "       '고무·플라스틱 가공기계 부품', '다이캐스팅 금형', '플라스틱 금형', '밸브', '베어링',\n",
       "       '디스플레이패널제조용장비', '소형 직류 전동기', '소형 직류·교류 겸용 전동기', '중대형 직류·교류 겸용 전동기',\n",
       "       '중대형 직류 전동기', '직류 발전기', '소형 교류 전동기', '중대형 교류 전동기', '교류 발전기',\n",
       "       '엔진결합 발전기', '전동기 부품', '발전기 부품', '전기변환장치 부품', '안정기', '유압식 변압기',\n",
       "       '기타 변압기', '변환기', '기타 IT부품', '변압기 부품', '기타 전기기계', '기타 전기기계 부품',\n",
       "       '일차전지 및 축전지', '발광다이오드(LED) 장치', '기타 조명장치', '조명장치 부품', '스마트폰',\n",
       "       'CDMA 방식 휴대전화', 'TDMA 방식 휴대전화', 'OFDM 방식 휴대전화', '기타 방식 휴대전화',\n",
       "       '기타 무선통신기기', '방송용 통신기기', '기타 무선통신기기 부품', '유선통신기기부품', '음향기기',\n",
       "       '방송기기 부품', '시스템반도체', '액정 디바이스', '기타 평판디스플레이패널', '방송기기', '레이더',\n",
       "       '모니터', 'LCD TV', '기타 TV', '흑백 TV', '레이더 부품', '평판디스플레이 부품',\n",
       "       '방송용 통신기기 부품', '차단기', '기타 전기공급 및 제어장치', '배전반', '전기공급 및 제어장치 부품',\n",
       "       '다이오드', '트랜지스터', '기타 개별소자반도체', '발광다이오드(LED)', '개별소자반도체 부품',\n",
       "       '기타 집적회로반도체', '집적회로반도체 부품', '전선 및 케이블', '철도차량', '기타 수송장비 부품',\n",
       "       '기타 자동차(수송장비)', '화물자동차', '전기자동차', '가솔린 1,000cc이하 승용차 - 신차',\n",
       "       '가솔린 1,000cc이하 승용차 - 중고차', '가솔린 1,000cc초과 승용차(1,500cc이하) - 신차',\n",
       "       '가솔린 1,000cc초과 승용차(1,500cc이하) - 중고차',\n",
       "       '가솔린 1,500cc초과 승용차(2,000cc이하) - 신차',\n",
       "       '가솔린 1,500cc초과 승용차(2,000cc이하) - 중고차',\n",
       "       '가솔린 2,000cc초과 승용차(3,000cc이하) - 신차',\n",
       "       '가솔린 2,000cc초과 승용차(3,000cc이하) - 중고차',\n",
       "       '가솔린 3,000cc초과 승용차(4,000cc이하) - 신차',\n",
       "       '가솔린 3,000cc초과 승용차(4,000cc이하) - 중고차', '가솔린 4,000cc초과 승용차 - 신차',\n",
       "       '가솔린 4,000cc초과 승용차 - 중고차', '디젤 1,500cc이하 승용차 - 신차',\n",
       "       '디젤 1,500cc이하 승용차 - 중고차', '디젤 1,500cc초과 승용차(2,000cc이하) - 신차',\n",
       "       '디젤 1,500cc초과 승용차(2,000cc이하) - 중고차',\n",
       "       '디젤 2,000cc초과 승용차(2,500cc이하) - 신차',\n",
       "       '디젤 2,000cc초과 승용차(2,500cc이하) - 중고차', '디젤 2,500cc초과 승용차 - 신차',\n",
       "       '디젤 2,500cc초과 승용차 - 중고차', '특장차', '모터사이클', '기타 2륜차', '전기 자전거',\n",
       "       '페달식 자전거', '신체장애인용 차량', '자전거 부품', '무동력 항공기', '헬리콥터', '비행기', '우주선',\n",
       "       '낙하산', '무인기', '우주선 부품', '여객선', '화물선', '어선', '요트', '모터보트', '예인선',\n",
       "       '기타 선박', '군함', '기타 사진 및 광학기기', '안경류', '사진 및 광학기기 부품', '카메라', '현미경',\n",
       "       '전자현미경', '전자현미경 부품', '기타 계측기', '계측기 부품', '측정공구', '공구류 부품', '의료용기기',\n",
       "       '의료용기기 부품', '온도계', '기압계', '습도계', '유량압력계', '속도계', '전자계측기', '전기계측기',\n",
       "       '손목시계', '기타 시계', '전자시계', '자명종시계', '벽시계', '시계줄', '악기류', '무기 및 총포탄',\n",
       "       '가구', '완구류', '운동용구', '예술품', '수집품 및 골동품'], dtype=object)"
      ]
     },
     "execution_count": 53,
     "metadata": {},
     "output_type": "execute_result"
    }
   ],
   "source": [
    "customs_data['성질통합분류코드명'].unique()"
   ]
  },
  {
   "cell_type": "markdown",
   "metadata": {},
   "source": [
    "- 결측치 존재하는 인덱스 구간 같은지 확인"
   ]
  },
  {
   "cell_type": "code",
   "execution_count": 54,
   "metadata": {},
   "outputs": [
    {
     "name": "stdout",
     "output_type": "stream",
     "text": [
      "True\n"
     ]
    }
   ],
   "source": [
    "temp1 = customs_data[customs_data['성질통합분류코드'].isnull()].index.tolist()\n",
    "temp2 = customs_data[customs_data['성질통합분류코드명'].isnull()].index.tolist()\n",
    "\n",
    "print(temp1 == temp2)"
   ]
  },
  {
   "cell_type": "markdown",
   "metadata": {},
   "source": [
    "# 관세청 HS 부호"
   ]
  },
  {
   "cell_type": "code",
   "execution_count": 55,
   "metadata": {},
   "outputs": [
    {
     "data": {
      "text/plain": [
       "(8519, 6)"
      ]
     },
     "execution_count": 55,
     "metadata": {},
     "output_type": "execute_result"
    }
   ],
   "source": [
    "statistics_data.shape"
   ]
  },
  {
   "cell_type": "code",
   "execution_count": 56,
   "metadata": {},
   "outputs": [
    {
     "data": {
      "text/plain": [
       "Index(['ISIC4\\n(국제표준산업분류, UN)', 'ISIC4 분류명(한글)', 'KSIC10\\n한국표준산업분류',\n",
       "       'KSIC10 분류명', 'HS2017\\n관세·통계통합품목분류(WCO, 한국)', 'HS2017 분류명(한글)'],\n",
       "      dtype='object')"
      ]
     },
     "execution_count": 56,
     "metadata": {},
     "output_type": "execute_result"
    }
   ],
   "source": [
    "statistics_data.columns"
   ]
  },
  {
   "cell_type": "code",
   "execution_count": 57,
   "metadata": {},
   "outputs": [],
   "source": [
    "statistics_data.columns = ['ISIC4_국제표준산업분류', \n",
    "                           'ISIC4_분류명', \n",
    "                           'KSIC10_한국표준산업분류',\n",
    "                           'KSIC10_분류명', \n",
    "                           'HS2017_관세통계통합품목분류', \n",
    "                           'HS2017_분류명']"
   ]
  },
  {
   "cell_type": "code",
   "execution_count": 58,
   "metadata": {},
   "outputs": [
    {
     "name": "stdout",
     "output_type": "stream",
     "text": [
      "<class 'pandas.core.frame.DataFrame'>\n",
      "RangeIndex: 8519 entries, 0 to 8518\n",
      "Data columns (total 6 columns):\n",
      " #   Column             Non-Null Count  Dtype  \n",
      "---  ------             --------------  -----  \n",
      " 0   ISIC4_국제표준산업분류     2970 non-null   float64\n",
      " 1   ISIC4_분류명          2963 non-null   object \n",
      " 2   KSIC10_한국표준산업분류    3732 non-null   object \n",
      " 3   KSIC10_분류명         3729 non-null   object \n",
      " 4   HS2017_관세통계통합품목분류  6061 non-null   float64\n",
      " 5   HS2017_분류명         6061 non-null   object \n",
      "dtypes: float64(2), object(4)\n",
      "memory usage: 399.5+ KB\n"
     ]
    }
   ],
   "source": [
    "statistics_data.info()"
   ]
  },
  {
   "cell_type": "markdown",
   "metadata": {},
   "source": [
    "- Null값 존재함"
   ]
  },
  {
   "cell_type": "markdown",
   "metadata": {},
   "source": [
    "## 결측치 시각화"
   ]
  },
  {
   "cell_type": "code",
   "execution_count": 59,
   "metadata": {},
   "outputs": [
    {
     "data": {
      "image/png": "[encoded data removed]",
      "text/plain": [
       "<Figure size 1000x500 with 2 Axes>"
      ]
     },
     "metadata": {},
     "output_type": "display_data"
    }
   ],
   "source": [
    "msno.matrix(statistics_data)\n",
    "plt.gcf().set_size_inches(10, 5)\n",
    "plt.show()"
   ]
  },
  {
   "cell_type": "markdown",
   "metadata": {},
   "source": [
    "- ISIC4, KSIC10, HS2017별로 결측치가 같은 구간에 비어있어 보임"
   ]
  },
  {
   "cell_type": "markdown",
   "metadata": {},
   "source": [
    "## ISIC4_국제표준산업분류"
   ]
  },
  {
   "cell_type": "code",
   "execution_count": 60,
   "metadata": {},
   "outputs": [
    {
     "data": {
      "text/plain": [
       "ISIC4_국제표준산업분류\n",
       "111.0     54\n",
       "1010.0    48\n",
       "2011.0    44\n",
       "1079.0    44\n",
       "2410.0    44\n",
       "          ..\n",
       "3319.0     1\n",
       "7320.0     1\n",
       "9512.0     1\n",
       "3314.0     1\n",
       "9900.0     1\n",
       "Name: count, Length: 374, dtype: int64"
      ]
     },
     "execution_count": 60,
     "metadata": {},
     "output_type": "execute_result"
    }
   ],
   "source": [
    "statistics_data['ISIC4_국제표준산업분류'].value_counts()"
   ]
  },
  {
   "cell_type": "code",
   "execution_count": 61,
   "metadata": {},
   "outputs": [
    {
     "data": {
      "text/plain": [
       "array([ 111.,   nan,  112.,  113.,  128.,  230.,  122.,  123.,  121.,\n",
       "        124.,  125.,  126.,  127.,  114.,  129.,  119.,  116.,  130.,\n",
       "        115.,  141.,  143.,  144.,  149.,  170.,  142.,  145.,  146.,\n",
       "       1010., 1040.,  210.,  220.,  311.,  312.,  321.,  322.,  510.,\n",
       "       1920.,  520.,  892.,  610.,  620.,  721.,  710.,  729.,  810.,\n",
       "        899.,  891.,  893., 1079., 3510., 3520., 3530., 3600., 1075.,\n",
       "       1020., 1030., 1062., 1050., 1061., 1080., 1071., 1072., 1073.,\n",
       "       1074., 1101., 2011., 1102., 1103., 1104., 1200., 1311., 1312.,\n",
       "       1392., 1393., 1394., 1399., 1709., 1391., 1430., 1410., 2220.,\n",
       "       1511., 1420., 1512., 1520., 3230., 1629., 2219., 1610., 1621.,\n",
       "       1622., 1623., 1701., 1702., 5811., 5812., 5813., 3290., 5920.,\n",
       "       5819., 7110., 5310., 6411., 1811., 1812., 1910., 2012., 2029.,\n",
       "       2399., 2023., 2021., 2013., 2022., 2100., 3250., 2030., 2211.,\n",
       "       3830., 2310., 2392., 2393., 2391., 2394., 2395., 2396., 2930.,\n",
       "       3020., 3030., 3100., 3211., 3212., 3220., 3240., 2640., 5820.,\n",
       "       2829., 2511., 7420., 5911., 9000., 9102., 3092., 2410., 2431.,\n",
       "       2420., 2512., 2513., 2599., 2750., 2593., 2811., 2910., 2812.,\n",
       "       2813., 2814., 2815., 2816., 2819., 2821., 2825., 2824., 2822.,\n",
       "       2818., 2790., 2823., 2826., 3040., 2520., 2817., 2620., 2610.,\n",
       "       2710., 2732., 2731., 2720., 2740., 2630., 2733., 2670., 2651.,\n",
       "       2680., 2660., 2652., 2920., 3011., 3012., 3091., 3099., 4100.,\n",
       "       4210., 4220., 4290., 4311., 4312., 4390., 4321., 3320., 4322.,\n",
       "       4329., 4330., 5510., 5520., 5590., 5610., 5629., 5621., 5630.,\n",
       "       4921., 4922., 5021., 4911., 5011., 5110., 4923., 4912., 4930.,\n",
       "       5012., 5022., 5120., 5224., 5210., 5221., 5222., 5223., 5229.,\n",
       "       8522., 5320., 6419., 6492., 6491., 6499., 6511., 6530., 6512.,\n",
       "       6520., 6619., 6612., 6630., 6611., 6622., 6621., 6629., 6420.,\n",
       "       6430., 6810., 6820., 7710., 7730., 7729., 7722., 7721., 5912.,\n",
       "       5913., 7740., 7210., 7220., 6910., 6920., 7020., 7010., 6202.,\n",
       "       6201., 6311., 7490., 7120., 7500., 7310., 6010., 6020., 6312.,\n",
       "       7320., 7410., 6110., 6120., 6130., 6190., 6391., 9101., 7810.,\n",
       "       7820., 7830., 8030., 8020., 8010., 8129., 8121., 8292., 7911.,\n",
       "       7990., 7912., 8291., 8220., 8211., 8219., 8299., 8230., 8130.,\n",
       "       6399.,  163.,  164.,  161.,  162., 9609., 9319.,  240.,  910.,\n",
       "        990., 3311., 3312., 9511., 4520., 4540., 3315., 9522., 3314.,\n",
       "       9512., 3313., 9521., 3319., 9523., 9529., 9524., 6209., 1313.,\n",
       "       2592., 1820., 2432., 2591., 8411., 8412., 8413., 8421., 8422.,\n",
       "       8423., 8430., 8510., 8521., 8530., 8542., 8541., 8549., 8550.,\n",
       "       8610., 8620., 8690., 8710., 8730., 8720., 8790., 8810., 8890.,\n",
       "       3700., 3812., 3811., 3822., 3821., 3900., 9411., 9412., 9420.,\n",
       "       9491., 9492., 9499., 5914., 9103., 9312., 9311., 9321., 9200.,\n",
       "       9329., 9601., 9602., 9603., 9700., 9900.])"
      ]
     },
     "execution_count": 61,
     "metadata": {},
     "output_type": "execute_result"
    }
   ],
   "source": [
    "statistics_data['ISIC4_국제표준산업분류'].unique()"
   ]
  },
  {
   "cell_type": "markdown",
   "metadata": {},
   "source": [
    "- `nan` 결측치 존재"
   ]
  },
  {
   "cell_type": "code",
   "execution_count": 62,
   "metadata": {},
   "outputs": [
    {
     "data": {
      "text/html": [
       "<div>\n",
       "<style scoped>\n",
       "    .dataframe tbody tr th:only-of-type {\n",
       "        vertical-align: middle;\n",
       "    }\n",
       "\n",
       "    .dataframe tbody tr th {\n",
       "        vertical-align: top;\n",
       "    }\n",
       "\n",
       "    .dataframe thead th {\n",
       "        text-align: right;\n",
       "    }\n",
       "</style>\n",
       "<table border=\"1\" class=\"dataframe\">\n",
       "  <thead>\n",
       "    <tr style=\"text-align: right;\">\n",
       "      <th></th>\n",
       "      <th>ISIC4_국제표준산업분류</th>\n",
       "      <th>ISIC4_분류명</th>\n",
       "      <th>KSIC10_한국표준산업분류</th>\n",
       "      <th>KSIC10_분류명</th>\n",
       "      <th>HS2017_관세통계통합품목분류</th>\n",
       "      <th>HS2017_분류명</th>\n",
       "    </tr>\n",
       "  </thead>\n",
       "  <tbody>\n",
       "    <tr>\n",
       "      <th>1</th>\n",
       "      <td>NaN</td>\n",
       "      <td>NaN</td>\n",
       "      <td>NaN</td>\n",
       "      <td>NaN</td>\n",
       "      <td>100191.0</td>\n",
       "      <td>종자</td>\n",
       "    </tr>\n",
       "    <tr>\n",
       "      <th>3</th>\n",
       "      <td>NaN</td>\n",
       "      <td>NaN</td>\n",
       "      <td>NaN</td>\n",
       "      <td>NaN</td>\n",
       "      <td>100199.0</td>\n",
       "      <td>기타</td>\n",
       "    </tr>\n",
       "    <tr>\n",
       "      <th>21</th>\n",
       "      <td>NaN</td>\n",
       "      <td>NaN</td>\n",
       "      <td>01123</td>\n",
       "      <td>종자 및 묘목 생산업</td>\n",
       "      <td>NaN</td>\n",
       "      <td>NaN</td>\n",
       "    </tr>\n",
       "    <tr>\n",
       "      <th>23</th>\n",
       "      <td>NaN</td>\n",
       "      <td>NaN</td>\n",
       "      <td>01123</td>\n",
       "      <td>종자 및 묘목 생산업</td>\n",
       "      <td>NaN</td>\n",
       "      <td>NaN</td>\n",
       "    </tr>\n",
       "    <tr>\n",
       "      <th>25</th>\n",
       "      <td>NaN</td>\n",
       "      <td>NaN</td>\n",
       "      <td>01123</td>\n",
       "      <td>종자 및 묘목 생산업</td>\n",
       "      <td>NaN</td>\n",
       "      <td>NaN</td>\n",
       "    </tr>\n",
       "    <tr>\n",
       "      <th>...</th>\n",
       "      <td>...</td>\n",
       "      <td>...</td>\n",
       "      <td>...</td>\n",
       "      <td>...</td>\n",
       "      <td>...</td>\n",
       "      <td>...</td>\n",
       "    </tr>\n",
       "    <tr>\n",
       "      <th>8512</th>\n",
       "      <td>NaN</td>\n",
       "      <td>NaN</td>\n",
       "      <td>96993</td>\n",
       "      <td>개인 간병 및 유사 서비스업</td>\n",
       "      <td>NaN</td>\n",
       "      <td>NaN</td>\n",
       "    </tr>\n",
       "    <tr>\n",
       "      <th>8513</th>\n",
       "      <td>NaN</td>\n",
       "      <td>NaN</td>\n",
       "      <td>96994</td>\n",
       "      <td>결혼 상담 및 준비 서비스업</td>\n",
       "      <td>NaN</td>\n",
       "      <td>NaN</td>\n",
       "    </tr>\n",
       "    <tr>\n",
       "      <th>8514</th>\n",
       "      <td>NaN</td>\n",
       "      <td>NaN</td>\n",
       "      <td>96995</td>\n",
       "      <td>애완동물 장묘 및 보호 서비스업</td>\n",
       "      <td>NaN</td>\n",
       "      <td>NaN</td>\n",
       "    </tr>\n",
       "    <tr>\n",
       "      <th>8515</th>\n",
       "      <td>NaN</td>\n",
       "      <td>NaN</td>\n",
       "      <td>96999</td>\n",
       "      <td>그 외 기타 달리 분류 되지 않은 개인 서비스업</td>\n",
       "      <td>NaN</td>\n",
       "      <td>NaN</td>\n",
       "    </tr>\n",
       "    <tr>\n",
       "      <th>8518</th>\n",
       "      <td>NaN</td>\n",
       "      <td>NaN</td>\n",
       "      <td>99009</td>\n",
       "      <td>기타 국제 및 외국기관</td>\n",
       "      <td>NaN</td>\n",
       "      <td>NaN</td>\n",
       "    </tr>\n",
       "  </tbody>\n",
       "</table>\n",
       "<p>5549 rows × 6 columns</p>\n",
       "</div>"
      ],
      "text/plain": [
       "      ISIC4_국제표준산업분류 ISIC4_분류명 KSIC10_한국표준산업분류                  KSIC10_분류명  \\\n",
       "1                NaN       NaN             NaN                         NaN   \n",
       "3                NaN       NaN             NaN                         NaN   \n",
       "21               NaN       NaN           01123                 종자 및 묘목 생산업   \n",
       "23               NaN       NaN           01123                 종자 및 묘목 생산업   \n",
       "25               NaN       NaN           01123                 종자 및 묘목 생산업   \n",
       "...              ...       ...             ...                         ...   \n",
       "8512             NaN       NaN           96993             개인 간병 및 유사 서비스업   \n",
       "8513             NaN       NaN           96994             결혼 상담 및 준비 서비스업   \n",
       "8514             NaN       NaN           96995           애완동물 장묘 및 보호 서비스업   \n",
       "8515             NaN       NaN           96999  그 외 기타 달리 분류 되지 않은 개인 서비스업   \n",
       "8518             NaN       NaN           99009                기타 국제 및 외국기관   \n",
       "\n",
       "      HS2017_관세통계통합품목분류 HS2017_분류명  \n",
       "1              100191.0         종자  \n",
       "3              100199.0         기타  \n",
       "21                  NaN        NaN  \n",
       "23                  NaN        NaN  \n",
       "25                  NaN        NaN  \n",
       "...                 ...        ...  \n",
       "8512                NaN        NaN  \n",
       "8513                NaN        NaN  \n",
       "8514                NaN        NaN  \n",
       "8515                NaN        NaN  \n",
       "8518                NaN        NaN  \n",
       "\n",
       "[5549 rows x 6 columns]"
      ]
     },
     "execution_count": 62,
     "metadata": {},
     "output_type": "execute_result"
    }
   ],
   "source": [
    "statistics_data[statistics_data['ISIC4_국제표준산업분류'].isnull()]"
   ]
  },
  {
   "cell_type": "code",
   "execution_count": 63,
   "metadata": {},
   "outputs": [
    {
     "name": "stdout",
     "output_type": "stream",
     "text": [
      "9900.0 111.0\n"
     ]
    }
   ],
   "source": [
    "print(statistics_data['ISIC4_국제표준산업분류'].max(), statistics_data['ISIC4_국제표준산업분류'].min())"
   ]
  },
  {
   "cell_type": "markdown",
   "metadata": {},
   "source": [
    "- 세 자리는 네 자리로 바꿔줘야 함\n",
    "- int to str"
   ]
  },
  {
   "cell_type": "code",
   "execution_count": 64,
   "metadata": {},
   "outputs": [],
   "source": [
    "def zero_input(x):\n",
    "    if pd.isna(x):\n",
    "        return np.nan\n",
    "    else:\n",
    "        cnt = 4 - len(x)\n",
    "        return '0' * cnt + x\n",
    "\n",
    "statistics_data['ISIC4_국제표준산업분류'] = statistics_data['ISIC4_국제표준산업분류'].astype(str)\n",
    "statistics_data['ISIC4_국제표준산업분류'] = statistics_data['ISIC4_국제표준산업분류'].replace('nan', np.nan)\n",
    "statistics_data['ISIC4_국제표준산업분류'] = statistics_data['ISIC4_국제표준산업분류'].str.replace('.0', '', regex=False)\n",
    "statistics_data['ISIC4_국제표준산업분류'] = statistics_data['ISIC4_국제표준산업분류'].apply(lambda x: zero_input(x))"
   ]
  },
  {
   "cell_type": "code",
   "execution_count": 65,
   "metadata": {},
   "outputs": [
    {
     "data": {
      "text/plain": [
       "array(['0111', nan, '0112', '0113', '0128', '0230', '0122', '0123',\n",
       "       '0121', '0124', '0125', '0126', '0127', '0114', '0129', '0119',\n",
       "       '0116', '0130', '0115', '0141', '0143', '0144', '0149', '0170',\n",
       "       '0142', '0145', '0146', '1010', '1040', '0210', '0220', '0311',\n",
       "       '0312', '0321', '0322', '0510', '1920', '0520', '0892', '0610',\n",
       "       '0620', '0721', '0710', '0729', '0810', '0899', '0891', '0893',\n",
       "       '1079', '3510', '3520', '3530', '3600', '1075', '1020', '1030',\n",
       "       '1062', '1050', '1061', '1080', '1071', '1072', '1073', '1074',\n",
       "       '1101', '2011', '1102', '1103', '1104', '1200', '1311', '1312',\n",
       "       '1392', '1393', '1394', '1399', '1709', '1391', '1430', '1410',\n",
       "       '2220', '1511', '1420', '1512', '1520', '3230', '1629', '2219',\n",
       "       '1610', '1621', '1622', '1623', '1701', '1702', '5811', '5812',\n",
       "       '5813', '3290', '5920', '5819', '7110', '5310', '6411', '1811',\n",
       "       '1812', '1910', '2012', '2029', '2399', '2023', '2021', '2013',\n",
       "       '2022', '2100', '3250', '2030', '2211', '3830', '2310', '2392',\n",
       "       '2393', '2391', '2394', '2395', '2396', '2930', '3020', '3030',\n",
       "       '3100', '3211', '3212', '3220', '3240', '2640', '5820', '2829',\n",
       "       '2511', '7420', '5911', '9000', '9102', '3092', '2410', '2431',\n",
       "       '2420', '2512', '2513', '2599', '2750', '2593', '2811', '2910',\n",
       "       '2812', '2813', '2814', '2815', '2816', '2819', '2821', '2825',\n",
       "       '2824', '2822', '2818', '2790', '2823', '2826', '3040', '2520',\n",
       "       '2817', '2620', '2610', '2710', '2732', '2731', '2720', '2740',\n",
       "       '2630', '2733', '2670', '2651', '2680', '2660', '2652', '2920',\n",
       "       '3011', '3012', '3091', '3099', '4100', '4210', '4220', '4290',\n",
       "       '4311', '4312', '4390', '4321', '3320', '4322', '4329', '4330',\n",
       "       '5510', '5520', '5590', '5610', '5629', '5621', '5630', '4921',\n",
       "       '4922', '5021', '4911', '5011', '5110', '4923', '4912', '4930',\n",
       "       '5012', '5022', '5120', '5224', '5210', '5221', '5222', '5223',\n",
       "       '5229', '8522', '5320', '6419', '6492', '6491', '6499', '6511',\n",
       "       '6530', '6512', '6520', '6619', '6612', '6630', '6611', '6622',\n",
       "       '6621', '6629', '6420', '6430', '6810', '6820', '7710', '7730',\n",
       "       '7729', '7722', '7721', '5912', '5913', '7740', '7210', '7220',\n",
       "       '6910', '6920', '7020', '7010', '6202', '6201', '6311', '7490',\n",
       "       '7120', '7500', '7310', '6010', '6020', '6312', '7320', '7410',\n",
       "       '6110', '6120', '6130', '6190', '6391', '9101', '7810', '7820',\n",
       "       '7830', '8030', '8020', '8010', '8129', '8121', '8292', '7911',\n",
       "       '7990', '7912', '8291', '8220', '8211', '8219', '8299', '8230',\n",
       "       '8130', '6399', '0163', '0164', '0161', '0162', '9609', '9319',\n",
       "       '0240', '0910', '0990', '3311', '3312', '9511', '4520', '4540',\n",
       "       '3315', '9522', '3314', '9512', '3313', '9521', '3319', '9523',\n",
       "       '9529', '9524', '6209', '1313', '2592', '1820', '2432', '2591',\n",
       "       '8411', '8412', '8413', '8421', '8422', '8423', '8430', '8510',\n",
       "       '8521', '8530', '8542', '8541', '8549', '8550', '8610', '8620',\n",
       "       '8690', '8710', '8730', '8720', '8790', '8810', '8890', '3700',\n",
       "       '3812', '3811', '3822', '3821', '3900', '9411', '9412', '9420',\n",
       "       '9491', '9492', '9499', '5914', '9103', '9312', '9311', '9321',\n",
       "       '9200', '9329', '9601', '9602', '9603', '9700', '9900'],\n",
       "      dtype=object)"
      ]
     },
     "execution_count": 65,
     "metadata": {},
     "output_type": "execute_result"
    }
   ],
   "source": [
    "statistics_data['ISIC4_국제표준산업분류'].unique()"
   ]
  },
  {
   "cell_type": "markdown",
   "metadata": {},
   "source": [
    "## ISIC4_분류명"
   ]
  },
  {
   "cell_type": "code",
   "execution_count": 66,
   "metadata": {},
   "outputs": [
    {
     "data": {
      "text/plain": [
       "ISIC4_분류명\n",
       "곡물(쌀 제외), 콩류, 종실유 재배업    54\n",
       "도축, 육류 가공 및 저장 처리업       48\n",
       "달리 분류되지 않은 기타 식품 제조업     44\n",
       "기초 화학물질 제조업              44\n",
       "1차 철강 제조업                44\n",
       "                         ..\n",
       "기타 장비 수리업                 1\n",
       "시장조사 및 여론조사업              1\n",
       "통신장비 수리업                  1\n",
       "전기 장비 수리업                 1\n",
       "국제기구 및 외국기관               1\n",
       "Name: count, Length: 378, dtype: int64"
      ]
     },
     "execution_count": 66,
     "metadata": {},
     "output_type": "execute_result"
    }
   ],
   "source": [
    "statistics_data['ISIC4_분류명'].value_counts()"
   ]
  },
  {
   "cell_type": "code",
   "execution_count": 67,
   "metadata": {},
   "outputs": [
    {
     "data": {
      "text/plain": [
       "array(['곡물(쌀 제외), 콩류, 종실유 재배업', nan, '쌀 재배업', '야채와 멜론, 구근, 덩이줄기 재배업',\n",
       "       '향료, 아로마, 약물, 제약 작물 재배업', '임산물 채취업', '열대 및 아열대 과일 재배업',\n",
       "       '감귤류 과일 재배', '포도 재배업', '이과 및 핵과 재배업', '기타 과실수 및 견과류 재배업',\n",
       "       '유성 과일 재배업', '음용 작물 재배업', '사탕수수 재배업', '기타 다년생 작물 재배업',\n",
       "       '기타 비다년생 작물 재배업', '섬유 작물 재배업', '식물 번식', '담배 재배업', '소 및 버팔로 사육업',\n",
       "       '낙타과 동물 사육업', '양 및 염소 사육업', '기타 축산업', '수렵, 덫치기, 관련 서비스업',\n",
       "       '말과 동물 사육업', '돼지과 동물 사육업', '가금류 사육업', '도축, 육류 가공 및 저장 처리업',\n",
       "       '동물성 및 식물성 유지 제조업', '조림학 및 기타 임업 활동', '벌목업', '해상 어업', '담수 어업',\n",
       "       '해양 양식 어업', '담수 양식 어업', '무연탄 채굴업', '석유정제품 제조업', '갈탄 채굴업', '토탄 채굴업',\n",
       "       '원유 채굴업', '천연가스 채굴업', '우라늄 및 토륨 광업', '철광업', '기타 비철 금속 광업',\n",
       "       '석재, 모래 및 점토 채석', '달리 분류되지 않은 기타 광업', '화학용 및 비료원료용 광물 광업',\n",
       "       '소금 채취업', '달리 분류되지 않은 기타 식품 제조업', '발전, 송전, 배전업', '가스 제조 및 배관공급업',\n",
       "       '증기, 공기조절 공급업', '용수 공급업', '가공식품 및 요리 제조업', '수산물 가공 및 저장 처리업',\n",
       "       '과일, 야채 가공 및 저장 처리업', '전분 및 전분 제품 제조업', '낙농제품 제조업', '곡물 가공품 제조업',\n",
       "       '가공 동물사료 제조업', '빵류 제품 제조업', '설탕 제조업', '코코아 제품 및 과자류 제조업',\n",
       "       '면류, 마카로니 및 유사식품 제조업', '주정 증류, 정류, 혼합', '기초 화학물질 제조업', '포도주 제조업',\n",
       "       '맥주 및 맥아 제조업', '청량음료 제조업; 광천수 및 기타 병입수 생산', '담배 제품 제조업',\n",
       "       '섬유 가공 및 방적업', '직물 직조업', '의류를 제외한 기성 직물 물품 제조업', '카펫과 마루덮개 제조업',\n",
       "       '끈, 로프, 망 및 끈가공품 제조업', '그외 기타분류안된 직물 제조업', '기타 종이 및 판지 물품 제조업',\n",
       "       '편조 및 직물제조업', '편조 및 직물의류 제조업', '의복 제조업, 모피 의류 제외', '플라스틱 제품 제조업',\n",
       "       '가죽 무두질 및 끝손질; 모피 끝손질 및 염색', '모피 의류 제조업', '핸드백, 가방 등, 안구, 마구 제조업',\n",
       "       '신발류 제조업', '스포츠용품 제조업', '기타 원목 제품 제조업; 코르크와 조물 제품 제조업',\n",
       "       '기타 고무 제품 제조업', '제재 및 목재 가공업', '합판 및 원목 기반 패널 제조업',\n",
       "       '목공품 및 가구류 제조업', '목재 용기 제조업', '펄프와 종이, 판지 제조업',\n",
       "       '골판지와 판지, 종이 및 판지 용기 제조업', '서적 출판업', '전화번호부 및 우편명부 출판업',\n",
       "       '신문, 잡지, 정기간행물 출판업', '그외 기타 분류 안된 제조업', '오디오물 출판 및 원판 녹음업',\n",
       "       '기타 출판업', '건축기술, 엔지니어링 서비스업 및 관련 기술 컨설팅 서비스업', '우편 서비스업', '중앙은행',\n",
       "       '인쇄', '인쇄관련 서비스업', '코크스 오븐 제품 제조업', '비료 및 질소 화합물 제조업',\n",
       "       '그외 기타분류안된 화학제품 제조업', '그외 기타분류안된 비금속 광물 제품 제조업',\n",
       "       '비누와 세제, 청소 및 연마 제제, 향수와 방향제 제조업', '농약 및 기타 화학비료 제품 제조업',\n",
       "       '원시 형태의 플라스틱 및 합성 고무 제조업', '페인트와 니스, 유사 도료, 인쇄 잉크, 유향 수지 제조업',\n",
       "       '의료용 물질 및 의약품 제조업', '의료 및 치과용 기기 및 용품 제조업', '인조섬유 제조업',\n",
       "       '고무 타이어와 튜브 제조업; 고무 타이어 재생 및 개조', '원료 재생', '유리 및 유리 제품 제조업',\n",
       "       '점토 건설 자재 제조업', '기타 자기 및 도기 제품 제조업', '내화 요업제품 제조업',\n",
       "       '시멘트와 석회, 플라스터 제조업', '콘크리트, 시멘트, 플라스터 물품 제조업', '석제품 제조업',\n",
       "       '자동차용 부품 제조업', '철도 기관차 및 차량 제조업', '항공우주선 및 관련 기계 제조업', '가구 제조업',\n",
       "       '보석류 및 관련 물품 제조업', '모조 보석류 및 관련 물품 제조업', '악기 제조업',\n",
       "       '완구 및 유희 용품 제조업', '소비 가전 제조업', '소프트웨어 발행', '기타 특수 목적 기계 제조업',\n",
       "       '구조 금속 제품 제조업', '그외 기타 분류안된 제조업', '사진 활동', '영화, 비디오물 및 방송프로그램 제작업',\n",
       "       '창작, 예술 및 여가관련 서비스업', '박물관 및 사적지 관리 운영업', '자전거 및 장애인 차량 제조업',\n",
       "       '1차 철강 제조업', '철강 주형업', '1차 귀금속 및 기타 비철 금속 제조업',\n",
       "       '금속탱크, 저장조 및 유사 용기 제조업', '증기발생기 제조업, 중앙 온수 보일러 제외',\n",
       "       '그외 기타 분류안된 금속가공제품 제조업', '가정용 기기 제조업', '날붙이, 수공구 및 일반철물 제조업',\n",
       "       '엔진과 터빈, 제조업, 항공기.차량용 제외', '자동차 제조업', '유압기기 제조업',\n",
       "       '펌프 및 압축기 제조업; 탭, 밸브 및 유사장치 제조 포함', '베어링, 기어, 기어링, 동력전달장치 제조업',\n",
       "       '오븐, 로, 노용 버너 제조업', '승강기 및 물품취급 장비 제조업', '기타 일반 목적용 기계 제조업',\n",
       "       '농업 및 임업용 기계 제조업', '식품, 음료, 담배 가공 기계 제조업', '건설업.광업용 기계 제조업',\n",
       "       '금속주조 및 기타 야금용 기계 제조업', '전동 수공구 제조업', '기타 가정용 전기기기 제조업',\n",
       "       '야금용 기계 제조업', '직물, 의류, 가죽 가공 기계 제조업', '군용 전투차량 제조업',\n",
       "       '무기 및 총포탄 제조업', '사무용 기계 및 장비 제조업 (컴퓨터 및 주변 장비 제외)',\n",
       "       '컴퓨터 및 주변장치 제조업', '전자 부품 및 기판 제조업',\n",
       "       '전기 전도기와 발전기, 변압기, 배전 제어 기기 제조', '전기 전동기와 발전기, 변압기, 배전 제어 기기 제조',\n",
       "       '기타 전선 및 케이블 제조업', '광섬유 케이블 제조업', '일차전지 및 축전지 제조업', '전기 조명 장비 제조업',\n",
       "       '통신장비 제조업', '배선 장치 제조업', '광학 기기 및 사진 장비 제조업',\n",
       "       '측정, 시험, 항해, 제어 및 기타 정밀기기 제조업', '자기 및 광학 매체 제조업',\n",
       "       '조사, 전자의료, 전자요법 장비 제조업', '시계 제조업', '자동차 차체 제조업; 트레일러 및 세미트레일러 제조업',\n",
       "       '선박 및 부유 구조 건조업', '오락 및 스포츠용 보트 건조업', '모터사이클 제조업',\n",
       "       '그외 기타분류안된 운송 장비 제조업', '건물 건설업', '도로 및 철도 건설업', '공익설비 프로젝트 건설업',\n",
       "       '기타 토목공학 프로젝트 건설업', '철거', '기반조성업', '기타 전문공사업', '전기 설치공사업',\n",
       "       '공업용 기계 및 장비 설치공사업', '배관, 난방, 공조 설치공사업', '기타 건설 설치공사업',\n",
       "       '완공 및 마무리 공사업', '단기 숙박업', '야영지, 레져 차량 및 트레일러 주차구역', '기타 숙박업',\n",
       "       '식당 및 이동 음식업', '기타 음식업', '출장 음식', '음료 서비스업', '도시 및 교외 여객 육상운송업',\n",
       "       '기타 여객 육상운송업', '내륙 수상 여객 운송업', '도시간 철도 여객운송업', '해상 수상 여객 운송업',\n",
       "       '도로 화물운송업', '화물 철도운송업', '파이프라인 운송업', '해상 수상 화물 운송업',\n",
       "       '내륙 수상 화물 운송업', '화물 항공 운송업', '화물 취급업', '보관 및 창고업', '육상운송관련 서비스업',\n",
       "       '수상운송관련 서비스업', '항공 운송관련 서비스업', '기타 수송 지원 서비스업', '기술 및 직업 중등 교육',\n",
       "       '택배업', '기타 일반금융업', '기타 여신금융업', '금융리스업',\n",
       "       '그외 기타분류안된 금융 서비스업, 보험업 및 연금업 제외 활동', '생명 보험업', '연금업', '손해 보험업',\n",
       "       '재보험업', '기타 금융 서비스 관련 활동', '증권 및 선물 계약 중개업', '기금 운영업', '금융시장 관리업',\n",
       "       '보험 대리 및 중개 활동', '손해사정업', '기타 보험 및 연금관련 서비스업', '지주회사 활동',\n",
       "       '신탁, 기금 및 유사 금융업', '부동산 임대 및 공급업', '부동산중개업', '자동차 임대업',\n",
       "       '기타 기계, 장비, 유형물품 임대업', '기타 기계장비 및 물품 임대업', '기타 개인 및 가정용품 대여 및 임대업',\n",
       "       '비디오 테이프와 디스크 대여업', '레크리에이션 및 스포츠용품 임대업',\n",
       "       '동영상, 비디오, 텔레비전 프로그램 포스트 프로덕션 서비스업', '영화, 비디오물 및 방송프로그램 배급업',\n",
       "       '지적재산과 유사 생산물 임대업. 저작권 보호 작품 제외', '자연과학, 공학 연구 및 실험 개발업',\n",
       "       '인문 및 사회과학 연구개발업', '법무 관련 서비스업', '회계 및 세무관련 서비스업', '경영 컨설팅 서비스업',\n",
       "       '회사본부', '컴퓨터시스템 통합 자문, 구축 및 관리업', '컴퓨터 프로그래밍 서비스업',\n",
       "       '자료처리, 호스팅, 관련 서비스업', '그외 기타분류안된 전문, 과학 및 기술 서비스업', '기술 시험 및 분석업',\n",
       "       '수의업', '광고업', '라디오 방송업', '텔레비전 프로그램 제작 및 방송업', '웹 포털',\n",
       "       '시장조사 및 여론조사업', '전문 디자인업', '유선통신업', '무선통신업', '위성통신업', '기타 전기통신업',\n",
       "       '뉴스 제공업', '도서관, 기록보존소 서비스업', '직업소개 대행 활동업', '임시 인력 공급업',\n",
       "       '기타 인력 공급 및 관리 서비스업', '조사 활동', '보안 시스템 서비스업', '민간 보안 서비스업',\n",
       "       '기타 건물 및 산업 청소업', '건축물 일반 청소업', '포장업', '여행사업', '기타 예약 서비스 및 관련 활동',\n",
       "       '관광 사업자 활동', '추심기관과 신용조사소 활동', '콜센터 서비스업', '통합 사무 행정 서비스업',\n",
       "       '사진복사, 문서작성, 기타 전문 사무 지원 서비스업', '그외 기타분류안된 사업 지원 서비스업',\n",
       "       '컨벤션 및 무역박람회 개최 서비스업', '조경관리 및 유지 서비스업', '그외 기타분류안된 정보 서비스업',\n",
       "       '수확후 작물 서비스업', '번식용 종자 처리업', '감귤류 과일 재배업', '작물 생산 지원 서비스업',\n",
       "       '축산업 지원 서비스업', '그외 기타분류안된 개인 서비스업', '기타 스포츠 서비스업', '임업 지원 서비스',\n",
       "       '원유 및 천연가스 채굴관련 서비스업', '기타 광업 지원 서비스업', '가공 금속 제품 수리업', '기계 수리업',\n",
       "       '컴퓨터 및 주변장비 수리업', '자동차 정비 및 수리업', '모터사이클 및 관련 부품과 부속품 판매, 정비, 수리업',\n",
       "       '자동차를 제외한 운송 장비 수리업', '가전 기기, 가정 및 정원 장비 수리업', '전기 장비 수리업',\n",
       "       '통신장비 수리업', '전자 및 광학 장비 수리업', '소비 가전 수리', '기타 장비 수리업',\n",
       "       '신발 및 가죽제품 유지보수', '기타 개인 및 가정용품 수리', '가구 및 가정용품 수리업',\n",
       "       '기타 정보기술 및 컴퓨터운영 관련 서비스업', '직물 마무리', '금속 열처리, 도금 및 기타 금속가공업',\n",
       "       '베어링, 기어, 기어링, 동력전달자치 제조업', '기록매체 복제업', '비철 금속 주형업',\n",
       "       '금속 단조, 압형 및 분말야금 제품 제조업', '일반 행정 활동',\n",
       "       '사회보장을 제외한 보건의료, 교육, 문화 서비스, 기타 사회 서비스 공급 활동 규제', '노동 및 산업진흥 행정',\n",
       "       '외무 행정', '국방 행정', '공공질서 행정', '사회보장 행정', '유아 및 초등 교육', '일반 중등 교육',\n",
       "       '고등 교육', '문화 교육', '스포츠 및 레크레이션 교육', '그외 기타분류안된 교육', '교육 지원 서비스업',\n",
       "       '병원', '의원', '기타 보건업', '거주 요양 시설 운영업', '노인 및 장애인 거주 간호업',\n",
       "       '정신질환, 정신지체 및 약물중독자 거주 복지시설 운영업', '기타 거주 간호업',\n",
       "       '노인 및 장애인 비거주 사회복지사업', '기타 비거주 사회복지사업', '하수', '지정 폐기물 수집운반업',\n",
       "       '지정외 폐기물 수집운반업', '지정 폐기물 처리업', '지정외 폐기물처리 및 폐기업',\n",
       "       '정화 및 기타 폐기물 관리 서비스업', '산업 단체', '전문가 단체', '노동조합', '종교단체', '정치단체',\n",
       "       '그외 기타분류안된 협회 및 단체', '영화 및 비디오물 상영업', '식물원, 동물원 및 자연공원 운영업',\n",
       "       '스포츠 클럽 운영업', '스포츠 시설 운영업', '유원지 및 테마카프 서비스업', '갬블링 및 베팅업',\n",
       "       '그외 기타분류안된 유흥 및 오락 서비스업', '직물 및 모피 제품 세탁과 (드라이) 클리닝',\n",
       "       '두발 미용 및 기타 미용 트리트먼트', '장의업', '가구내 고용활동', '국제기구 및 외국기관'],\n",
       "      dtype=object)"
      ]
     },
     "execution_count": 67,
     "metadata": {},
     "output_type": "execute_result"
    }
   ],
   "source": [
    "statistics_data['ISIC4_분류명'].unique()"
   ]
  },
  {
   "cell_type": "markdown",
   "metadata": {},
   "source": [
    "- 이것도 좀 업종별로 레이블링 할 수 있을까..?"
   ]
  },
  {
   "cell_type": "code",
   "execution_count": 68,
   "metadata": {},
   "outputs": [
    {
     "data": {
      "text/html": [
       "<div>\n",
       "<style scoped>\n",
       "    .dataframe tbody tr th:only-of-type {\n",
       "        vertical-align: middle;\n",
       "    }\n",
       "\n",
       "    .dataframe tbody tr th {\n",
       "        vertical-align: top;\n",
       "    }\n",
       "\n",
       "    .dataframe thead th {\n",
       "        text-align: right;\n",
       "    }\n",
       "</style>\n",
       "<table border=\"1\" class=\"dataframe\">\n",
       "  <thead>\n",
       "    <tr style=\"text-align: right;\">\n",
       "      <th></th>\n",
       "      <th>ISIC4_국제표준산업분류</th>\n",
       "      <th>ISIC4_분류명</th>\n",
       "      <th>KSIC10_한국표준산업분류</th>\n",
       "      <th>KSIC10_분류명</th>\n",
       "      <th>HS2017_관세통계통합품목분류</th>\n",
       "      <th>HS2017_분류명</th>\n",
       "    </tr>\n",
       "  </thead>\n",
       "  <tbody>\n",
       "    <tr>\n",
       "      <th>1</th>\n",
       "      <td>NaN</td>\n",
       "      <td>NaN</td>\n",
       "      <td>NaN</td>\n",
       "      <td>NaN</td>\n",
       "      <td>100191.0</td>\n",
       "      <td>종자</td>\n",
       "    </tr>\n",
       "    <tr>\n",
       "      <th>3</th>\n",
       "      <td>NaN</td>\n",
       "      <td>NaN</td>\n",
       "      <td>NaN</td>\n",
       "      <td>NaN</td>\n",
       "      <td>100199.0</td>\n",
       "      <td>기타</td>\n",
       "    </tr>\n",
       "    <tr>\n",
       "      <th>21</th>\n",
       "      <td>NaN</td>\n",
       "      <td>NaN</td>\n",
       "      <td>01123</td>\n",
       "      <td>종자 및 묘목 생산업</td>\n",
       "      <td>NaN</td>\n",
       "      <td>NaN</td>\n",
       "    </tr>\n",
       "    <tr>\n",
       "      <th>23</th>\n",
       "      <td>NaN</td>\n",
       "      <td>NaN</td>\n",
       "      <td>01123</td>\n",
       "      <td>종자 및 묘목 생산업</td>\n",
       "      <td>NaN</td>\n",
       "      <td>NaN</td>\n",
       "    </tr>\n",
       "    <tr>\n",
       "      <th>25</th>\n",
       "      <td>NaN</td>\n",
       "      <td>NaN</td>\n",
       "      <td>01123</td>\n",
       "      <td>종자 및 묘목 생산업</td>\n",
       "      <td>NaN</td>\n",
       "      <td>NaN</td>\n",
       "    </tr>\n",
       "    <tr>\n",
       "      <th>...</th>\n",
       "      <td>...</td>\n",
       "      <td>...</td>\n",
       "      <td>...</td>\n",
       "      <td>...</td>\n",
       "      <td>...</td>\n",
       "      <td>...</td>\n",
       "    </tr>\n",
       "    <tr>\n",
       "      <th>8512</th>\n",
       "      <td>NaN</td>\n",
       "      <td>NaN</td>\n",
       "      <td>96993</td>\n",
       "      <td>개인 간병 및 유사 서비스업</td>\n",
       "      <td>NaN</td>\n",
       "      <td>NaN</td>\n",
       "    </tr>\n",
       "    <tr>\n",
       "      <th>8513</th>\n",
       "      <td>NaN</td>\n",
       "      <td>NaN</td>\n",
       "      <td>96994</td>\n",
       "      <td>결혼 상담 및 준비 서비스업</td>\n",
       "      <td>NaN</td>\n",
       "      <td>NaN</td>\n",
       "    </tr>\n",
       "    <tr>\n",
       "      <th>8514</th>\n",
       "      <td>NaN</td>\n",
       "      <td>NaN</td>\n",
       "      <td>96995</td>\n",
       "      <td>애완동물 장묘 및 보호 서비스업</td>\n",
       "      <td>NaN</td>\n",
       "      <td>NaN</td>\n",
       "    </tr>\n",
       "    <tr>\n",
       "      <th>8515</th>\n",
       "      <td>NaN</td>\n",
       "      <td>NaN</td>\n",
       "      <td>96999</td>\n",
       "      <td>그 외 기타 달리 분류 되지 않은 개인 서비스업</td>\n",
       "      <td>NaN</td>\n",
       "      <td>NaN</td>\n",
       "    </tr>\n",
       "    <tr>\n",
       "      <th>8518</th>\n",
       "      <td>NaN</td>\n",
       "      <td>NaN</td>\n",
       "      <td>99009</td>\n",
       "      <td>기타 국제 및 외국기관</td>\n",
       "      <td>NaN</td>\n",
       "      <td>NaN</td>\n",
       "    </tr>\n",
       "  </tbody>\n",
       "</table>\n",
       "<p>5556 rows × 6 columns</p>\n",
       "</div>"
      ],
      "text/plain": [
       "     ISIC4_국제표준산업분류 ISIC4_분류명 KSIC10_한국표준산업분류                  KSIC10_분류명  \\\n",
       "1               NaN       NaN             NaN                         NaN   \n",
       "3               NaN       NaN             NaN                         NaN   \n",
       "21              NaN       NaN           01123                 종자 및 묘목 생산업   \n",
       "23              NaN       NaN           01123                 종자 및 묘목 생산업   \n",
       "25              NaN       NaN           01123                 종자 및 묘목 생산업   \n",
       "...             ...       ...             ...                         ...   \n",
       "8512            NaN       NaN           96993             개인 간병 및 유사 서비스업   \n",
       "8513            NaN       NaN           96994             결혼 상담 및 준비 서비스업   \n",
       "8514            NaN       NaN           96995           애완동물 장묘 및 보호 서비스업   \n",
       "8515            NaN       NaN           96999  그 외 기타 달리 분류 되지 않은 개인 서비스업   \n",
       "8518            NaN       NaN           99009                기타 국제 및 외국기관   \n",
       "\n",
       "      HS2017_관세통계통합품목분류 HS2017_분류명  \n",
       "1              100191.0         종자  \n",
       "3              100199.0         기타  \n",
       "21                  NaN        NaN  \n",
       "23                  NaN        NaN  \n",
       "25                  NaN        NaN  \n",
       "...                 ...        ...  \n",
       "8512                NaN        NaN  \n",
       "8513                NaN        NaN  \n",
       "8514                NaN        NaN  \n",
       "8515                NaN        NaN  \n",
       "8518                NaN        NaN  \n",
       "\n",
       "[5556 rows x 6 columns]"
      ]
     },
     "execution_count": 68,
     "metadata": {},
     "output_type": "execute_result"
    }
   ],
   "source": [
    "statistics_data[statistics_data['ISIC4_분류명'].isnull()]"
   ]
  },
  {
   "cell_type": "markdown",
   "metadata": {},
   "source": [
    "- `nan` 결측치 존재\n",
    "- `ISIC4_국제표준산업분류`와 겹치는 인덱스 확인"
   ]
  },
  {
   "cell_type": "code",
   "execution_count": 69,
   "metadata": {},
   "outputs": [],
   "source": [
    "temp1 = statistics_data[statistics_data['ISIC4_국제표준산업분류'].isnull()].index.tolist()\n",
    "temp2 = statistics_data[statistics_data['ISIC4_분류명'].isnull()].index.tolist()"
   ]
  },
  {
   "cell_type": "code",
   "execution_count": 70,
   "metadata": {},
   "outputs": [
    {
     "name": "stdout",
     "output_type": "stream",
     "text": [
      "[1, 3, 21, 23, 25, 30, 34, 36, 37, 38, 40, 44, 46, 48, 50, 52, 54, 56, 58, 60, 62, 65, 67, 69, 71, 73, 75, 77, 83, 85, 87, 89, 91, 93, 95, 97, 99, 101, 103, 105, 107, 109, 112, 113, 115, 117, 119, 121, 123, 125, 127, 129, 131, 133, 135, 137, 139, 141, 145, 148, 150, 152, 154, 156, 158, 160, 161, 162, 164, 165, 166, 167, 169, 179, 187, 190, 195, 204, 210, 211, 213, 214, 216, 221, 224, 225, 226, 227, 237, 238, 239, 245, 253, 254, 257, 258, 259, 260, 262, 263, 264, 265, 266, 269, 270, 272, 273, 274, 275, 276, 277, 279, 280, 281, 282, 283, 284, 290, 292, 301, 303, 305, 306, 308, 310, 312, 322, 326, 332, 333, 335, 336, 338, 339, 354, 358, 360, 364, 372, 373, 375, 376, 378, 379, 382, 383, 384, 385, 387, 388, 392, 393, 394, 395, 398, 399, 400, 401, 402, 403, 404, 405, 410, 414, 416, 417, 418, 425, 426, 427, 428, 429, 430, 431, 432, 435, 436, 437, 438, 440, 441, 442, 443, 444, 445, 446, 447, 448, 449, 451, 452, 453, 454, 455, 456, 457, 458, 459, 460, 463, 464, 465, 466, 469, 470, 471, 472, 474, 475, 476, 477, 478, 480, 481, 482, 483, 484, 486, 487, 488, 489, 490, 491, 492, 494, 495, 496, 497, 498, 499, 500, 502, 503, 504, 505, 506, 507, 508, 509, 510, 512, 513, 514, 515, 516, 517, 518, 519, 520, 522, 526, 527, 528, 529, 530, 531, 532, 533, 534, 535, 536, 537, 538, 539, 543, 544, 545, 546, 547, 548, 549, 550, 551, 552, 553, 554, 555, 558, 562, 564, 567, 572, 575, 576, 577, 580, 581, 584, 585, 587, 590, 593, 596, 599, 603, 608, 612, 615, 619, 622, 624, 627, 630, 639, 644, 649, 651, 666, 669, 671, 672, 674, 675, 677, 683, 686, 692, 694, 699, 702, 703, 704, 705, 706, 707, 708, 709, 712, 713, 715, 716, 718, 719, 720, 721, 723, 725, 727, 728, 729, 732, 733, 734, 735, 736, 737, 739, 742, 743, 744, 745, 746, 747, 753, 754, 755, 756, 757, 759, 761, 762, 763, 764, 765, 766, 767, 768, 769, 770, 771, 772, 773, 774, 784, 786, 787, 789, 790, 793, 794, 795, 799, 800, 801, 802, 803, 804, 806, 808, 810, 812, 815, 816, 818, 819, 822, 823, 824, 828, 829, 830, 831, 832, 833, 835, 837, 839, 841, 844, 845, 846, 847, 848, 850, 851, 852, 854, 855, 857, 858, 860, 861, 862, 863, 864, 865, 866, 867, 868, 869, 870, 872, 873, 874, 875, 876, 877, 878, 879, 880, 881, 883, 885, 886, 888, 890, 891, 892, 894, 897, 898, 899, 900, 901, 902, 903, 904, 906, 907, 908, 909, 910, 911, 912, 913, 915, 916, 917, 918, 920, 921, 922, 923, 924, 925, 926, 928, 929, 930, 931, 933, 934, 935, 936, 938, 939, 940, 941, 942, 944, 945, 946, 947, 948, 949, 953, 954, 955, 956, 957, 958, 959, 960, 961, 962, 964, 965, 966, 967, 968, 969, 970, 971, 972, 973, 974, 975, 976, 977, 978, 979, 980, 981, 982, 983, 985, 986, 987, 988, 989, 990, 991, 992, 993, 994, 995, 996, 997, 998, 999, 1000, 1001, 1002, 1004, 1005, 1006, 1007, 1008, 1009, 1010, 1012, 1013, 1018, 1020, 1021, 1023, 1025, 1026, 1027, 1028, 1029, 1030, 1032, 1033, 1034, 1035, 1038, 1039, 1042, 1043, 1044, 1045, 1046, 1047, 1048, 1049, 1050, 1051, 1052, 1053, 1054, 1055, 1056, 1057, 1058, 1060, 1061, 1062, 1063, 1064, 1065, 1066, 1067, 1068, 1070, 1073, 1074, 1076, 1077, 1079, 1080, 1081, 1082, 1083, 1084, 1085, 1087, 1088, 1089, 1090, 1091, 1093, 1094, 1096, 1097, 1099, 1100, 1102, 1103, 1105, 1106, 1108, 1109, 1111, 1112, 1114, 1115, 1117, 1118, 1119, 1120, 1121, 1125, 1126, 1127, 1131, 1132, 1133, 1134, 1135, 1136, 1137, 1138, 1139, 1162, 1165, 1166, 1167, 1168, 1172, 1173, 1174, 1175, 1176, 1177, 1178, 1180, 1181, 1182, 1183, 1185, 1189, 1190, 1191, 1192, 1193, 1194, 1195, 1198, 1200, 1201, 1202, 1203, 1204, 1206, 1209, 1210, 1212, 1213, 1214, 1215, 1216, 1217, 1218, 1219, 1220, 1221, 1222, 1223, 1224, 1225, 1228, 1229, 1230, 1231, 1232, 1233, 1234, 1235, 1236, 1237, 1238, 1239, 1240, 1241, 1242, 1243, 1244, 1245, 1251, 1252, 1253, 1254, 1255, 1256, 1257, 1258, 1259, 1260, 1262, 1263, 1265, 1267, 1269, 1271, 1273, 1274, 1275, 1276, 1280, 1281, 1283, 1285, 1287, 1288, 1290, 1291, 1292, 1293, 1294, 1295, 1296, 1297, 1298, 1299, 1301, 1303, 1304, 1306, 1311, 1312, 1313, 1314, 1315, 1316, 1317, 1318, 1319, 1320, 1323, 1325, 1326, 1328, 1330, 1331, 1332, 1334, 1336, 1338, 1339, 1341, 1350, 1351, 1352, 1353, 1354, 1355, 1356, 1357, 1360, 1363, 1364, 1365, 1366, 1367, 1368, 1369, 1370, 1371, 1373, 1379, 1382, 1386, 1388, 1390, 1392, 1393, 1395, 1396, 1398, 1399, 1400, 1401, 1403, 1404, 1405, 1406, 1413, 1415, 1416, 1417, 1419, 1420, 1421, 1422, 1423, 1424, 1425, 1426, 1427, 1429, 1432, 1434, 1436, 1437, 1438, 1440, 1441, 1456, 1457, 1458, 1459, 1460, 1461, 1462, 1465, 1467, 1469, 1472, 1473, 1474, 1475, 1476, 1478, 1479, 1481, 1482, 1484, 1486, 1487, 1488, 1489, 1491, 1492, 1493, 1496, 1498, 1504, 1506, 1507, 1508, 1509, 1510, 1511, 1513, 1518, 1519, 1520, 1521, 1522, 1523, 1524, 1525, 1526, 1527, 1528, 1529, 1530, 1536, 1537, 1549, 1550, 1551, 1552, 1553, 1555, 1556, 1557, 1558, 1559, 1563, 1564, 1566, 1568, 1570, 1572, 1573, 1574, 1575, 1576, 1577, 1578, 1579, 1580, 1581, 1587, 1588, 1589, 1590, 1591, 1592, 1597, 1598, 1599, 1600, 1601, 1602, 1606, 1607, 1612, 1614, 1616, 1617, 1621, 1622, 1625, 1626, 1628, 1631, 1632, 1635, 1636, 1637, 1638, 1639, 1643, 1644, 1645, 1646, 1648, 1649, 1650, 1651, 1654, 1655, 1657, 1658, 1659, 1660, 1661, 1662, 1663, 1665, 1666, 1667, 1668, 1670, 1671, 1672, 1673, 1674, 1675, 1676, 1677, 1678, 1679, 1680, 1681, 1682, 1683, 1684, 1685, 1686, 1687, 1688, 1689, 1690, 1691, 1692, 1693, 1694, 1695, 1696, 1697, 1698, 1699, 1700, 1701, 1702, 1703, 1704, 1705, 1706, 1707, 1708, 1709, 1710, 1711, 1712, 1713, 1714, 1715, 1716, 1718, 1719, 1720, 1721, 1722, 1723, 1725, 1726, 1727, 1729, 1730, 1731, 1732, 1733, 1734, 1737, 1738, 1739, 1740, 1741, 1742, 1743, 1744, 1745, 1746, 1747, 1748, 1749, 1750, 1751, 1752, 1753, 1754, 1755, 1757, 1758, 1759, 1760, 1763, 1764, 1766, 1767, 1768, 1769, 1770, 1771, 1772, 1773, 1774, 1775, 1777, 1778, 1779, 1781, 1784, 1785, 1786, 1787, 1788, 1789, 1790, 1791, 1792, 1793, 1794, 1795, 1796, 1797, 1798, 1799, 1800, 1801, 1802, 1803, 1804, 1805, 1806, 1807, 1808, 1809, 1810, 1811, 1812, 1813, 1814, 1815, 1816, 1817, 1818, 1819, 1820, 1821, 1822, 1823, 1824, 1825, 1826, 1827, 1828, 1829, 1830, 1831, 1832, 1833, 1834, 1835, 1836, 1837, 1838, 1839, 1840, 1841, 1842, 1843, 1844, 1845, 1846, 1847, 1848, 1849, 1850, 1851, 1852, 1854, 1855, 1856, 1857, 1858, 1859, 1860, 1861, 1862, 1863, 1864, 1865, 1866, 1867, 1868, 1869, 1870, 1871, 1872, 1873, 1874, 1875, 1876, 1877, 1878, 1879, 1880, 1881, 1882, 1883, 1884, 1885, 1886, 1888, 1889, 1890, 1891, 1892, 1894, 1895, 1896, 1897, 1898, 1899, 1900, 1901, 1902, 1903, 1904, 1905, 1906, 1907, 1908, 1909, 1910, 1911, 1912, 1913, 1914, 1915, 1916, 1917, 1918, 1919, 1920, 1921, 1922, 1923, 1924, 1925, 1926, 1927, 1928, 1929, 1930, 1931, 1932, 1933, 1934, 1935, 1936, 1937, 1938, 1939, 1940, 1941, 1942, 1943, 1944, 1946, 1947, 1948, 1949, 1950, 1951, 1952, 1953, 1954, 1955, 1956, 1958, 1959, 1961, 1962, 1963, 1967, 1968, 1969, 1970, 1971, 1972, 1973, 1974, 1975, 1976, 1977, 1978, 1979, 1980, 1981, 1982, 1983, 1984, 1986, 1987, 1988, 1989, 1991, 1992, 1993, 1994, 1995, 1996, 1997, 1998, 2000, 2001, 2002, 2003, 2004, 2006, 2007, 2008, 2009, 2010, 2011, 2013, 2015, 2016, 2017, 2019, 2020, 2021, 2022, 2023, 2024, 2025, 2026, 2027, 2028, 2029, 2030, 2031, 2032, 2033, 2034, 2035, 2036, 2037, 2038, 2039, 2041, 2042, 2043, 2044, 2045, 2047, 2048, 2049, 2051, 2052, 2053, 2054, 2055, 2056, 2057, 2058, 2059, 2061, 2062, 2063, 2065, 2066, 2067, 2069, 2070, 2071, 2073, 2074, 2075, 2076, 2077, 2078, 2079, 2081, 2082, 2083, 2084, 2085, 2087, 2088, 2089, 2090, 2091, 2092, 2093, 2094, 2095, 2096, 2097, 2098, 2099, 2100, 2101, 2104, 2105, 2106, 2107, 2108, 2109, 2110, 2111, 2112, 2113, 2114, 2115, 2117, 2118, 2119, 2120, 2121, 2122, 2123, 2124, 2125, 2126, 2127, 2128, 2129, 2130, 2131, 2132, 2133, 2134, 2135, 2136, 2137, 2138, 2139, 2140, 2141, 2142, 2143, 2144, 2145, 2146, 2147, 2148, 2149, 2150, 2151, 2152, 2153, 2154, 2155, 2156, 2157, 2158, 2159, 2161, 2162, 2163, 2164, 2165, 2166, 2167, 2168, 2171, 2172, 2173, 2174, 2175, 2176, 2177, 2178, 2179, 2180, 2181, 2182, 2183, 2184, 2185, 2186, 2187, 2188, 2189, 2190, 2191, 2192, 2193, 2194, 2195, 2196, 2197, 2198, 2199, 2200, 2201, 2202, 2205, 2206, 2207, 2208, 2209, 2210, 2211, 2212, 2213, 2214, 2215, 2216, 2217, 2218, 2219, 2220, 2221, 2222, 2223, 2224, 2225, 2226, 2227, 2228, 2229, 2230, 2231, 2232, 2233, 2234, 2235, 2236, 2237, 2238, 2239, 2240, 2241, 2242, 2243, 2244, 2245, 2246, 2247, 2248, 2249, 2250, 2252, 2253, 2255, 2256, 2257, 2258, 2259, 2260, 2261, 2262, 2263, 2264, 2266, 2267, 2268, 2269, 2270, 2271, 2272, 2274, 2275, 2276, 2277, 2278, 2279, 2280, 2281, 2282, 2283, 2284, 2285, 2286, 2287, 2288, 2289, 2290, 2291, 2292, 2293, 2294, 2296, 2297, 2298, 2299, 2300, 2301, 2302, 2303, 2304, 2306, 2307, 2308, 2309, 2310, 2311, 2312, 2313, 2314, 2315, 2316, 2317, 2318, 2319, 2320, 2321, 2322, 2323, 2324, 2325, 2326, 2327, 2328, 2329, 2330, 2331, 2332, 2333, 2334, 2335, 2336, 2337, 2339, 2340, 2341, 2342, 2343, 2344, 2345, 2346, 2347, 2348, 2349, 2350, 2352, 2353, 2355, 2356, 2357, 2358, 2359, 2360, 2361, 2362, 2364, 2365, 2366, 2367, 2368, 2369, 2370, 2371, 2373, 2374, 2375, 2377, 2378, 2379, 2380, 2381, 2382, 2383, 2384, 2385, 2386, 2387, 2388, 2391, 2392, 2396, 2397, 2398, 2399, 2400, 2402, 2403, 2404, 2405, 2406, 2408, 2409, 2410, 2412, 2415, 2416, 2417, 2418, 2419, 2420, 2421, 2422, 2423, 2424, 2425, 2426, 2427, 2428, 2429, 2430, 2431, 2432, 2433, 2434, 2435, 2436, 2437, 2438, 2439, 2440, 2442, 2443, 2444, 2445, 2446, 2447, 2448, 2449, 2450, 2451, 2452, 2453, 2455, 2456, 2458, 2460, 2461, 2463, 2464, 2465, 2466, 2468, 2469, 2471, 2474, 2476, 2478, 2484, 2485, 2487, 2488, 2489, 2490, 2491, 2492, 2493, 2494, 2495, 2496, 2497, 2498, 2499, 2500, 2502, 2509, 2511, 2513, 2514, 2515, 2518, 2519, 2521, 2523, 2527, 2529, 2530, 2533, 2537, 2538, 2541, 2542, 2543, 2547, 2548, 2549, 2550, 2553, 2556, 2557, 2558, 2560, 2562, 2563, 2564, 2566, 2567, 2568, 2569, 2570, 2572, 2573, 2574, 2575, 2576, 2577, 2578, 2579, 2580, 2581, 2583, 2584, 2585, 2586, 2587, 2588, 2589, 2590, 2592, 2593, 2594, 2595, 2596, 2597, 2598, 2602, 2603, 2604, 2605, 2606, 2607, 2608, 2609, 2610, 2613, 2614, 2615, 2616, 2617, 2618, 2619, 2620, 2621, 2622, 2623, 2624, 2625, 2626, 2628, 2629, 2630, 2631, 2633, 2634, 2635, 2636, 2637, 2638, 2640, 2641, 2642, 2646, 2647, 2648, 2649, 2650, 2651, 2652, 2653, 2654, 2655, 2656, 2657, 2658, 2659, 2660, 2661, 2662, 2663, 2666, 2670, 2672, 2675, 2676, 2678, 2679, 2680, 2682, 2683, 2685, 2686, 2687, 2689, 2692, 2693, 2694, 2695, 2696, 2697, 2698, 2699, 2700, 2701, 2703, 2705, 2706, 2709, 2711, 2713, 2714, 2716, 2718, 2720, 2722, 2725, 2726, 2733, 2738, 2739, 2741, 2742, 2743, 2744, 2746, 2750, 2758, 2763, 2764, 2768, 2770, 2772, 2774, 2776, 2779, 2781, 2782, 2784, 2785, 2786, 2788, 2789, 2793, 2794, 2795, 2796, 2797, 2799, 2800, 2801, 2802, 2803, 2804, 2805, 2806, 2807, 2808, 2809, 2811, 2812, 2813, 2814, 2815, 2816, 2817, 2818, 2819, 2820, 2821, 2822, 2823, 2824, 2825, 2826, 2827, 2828, 2829, 2830, 2831, 2832, 2833, 2834, 2835, 2836, 2837, 2838, 2839, 2840, 2841, 2842, 2843, 2844, 2845, 2846, 2847, 2848, 2849, 2851, 2852, 2853, 2856, 2857, 2858, 2859, 2860, 2861, 2862, 2863, 2864, 2865, 2866, 2867, 2868, 2869, 2870, 2871, 2872, 2873, 2874, 2875, 2876, 2877, 2878, 2879, 2881, 2882, 2883, 2884, 2885, 2886, 2887, 2888, 2889, 2890, 2891, 2892, 2893, 2894, 2897, 2898, 2899, 2900, 2901, 2902, 2903, 2904, 2905, 2906, 2907, 2908, 2909, 2910, 2911, 2912, 2913, 2914, 2915, 2916, 2917, 2918, 2919, 2920, 2921, 2922, 2923, 2924, 2925, 2926, 2927, 2928, 2929, 2930, 2931, 2932, 2933, 2934, 2935, 2936, 2938, 2939, 2940, 2941, 2942, 2943, 2944, 2945, 2946, 2947, 2948, 2949, 2951, 2952, 2953, 2954, 2955, 2956, 2957, 2958, 2959, 2960, 2961, 2962, 2963, 2964, 2965, 2966, 2967, 2968, 2969, 2970, 2971, 2972, 2973, 2974, 2975, 2976, 2977, 2978, 2979, 2980, 2981, 2982, 2983, 2984, 2985, 2986, 2987, 2988, 2989, 2990, 2991, 2992, 2993, 2994, 2995, 2996, 2997, 2998, 2999, 3002, 3003, 3004, 3005, 3006, 3007, 3008, 3009, 3010, 3011, 3012, 3013, 3014, 3015, 3016, 3017, 3018, 3019, 3020, 3021, 3022, 3023, 3024, 3025, 3026, 3027, 3028, 3029, 3030, 3031, 3032, 3033, 3034, 3035, 3036, 3037, 3038, 3039, 3040, 3041, 3042, 3043, 3044, 3045, 3046, 3047, 3048, 3050, 3051, 3052, 3053, 3054, 3055, 3056, 3057, 3058, 3059, 3061, 3062, 3063, 3064, 3065, 3066, 3067, 3068, 3069, 3070, 3071, 3072, 3073, 3074, 3075, 3076, 3077, 3078, 3080, 3081, 3082, 3083, 3084, 3085, 3086, 3087, 3088, 3089, 3090, 3091, 3092, 3093, 3094, 3095, 3096, 3098, 3100, 3101, 3102, 3103, 3104, 3105, 3106, 3107, 3108, 3109, 3111, 3112, 3113, 3114, 3115, 3116, 3118, 3119, 3120, 3121, 3122, 3123, 3124, 3125, 3126, 3127, 3128, 3129, 3130, 3131, 3132, 3133, 3134, 3135, 3137, 3138, 3139, 3140, 3141, 3142, 3143, 3144, 3145, 3146, 3147, 3148, 3149, 3150, 3151, 3152, 3153, 3154, 3155, 3156, 3157, 3158, 3159, 3160, 3161, 3162, 3163, 3164, 3165, 3166, 3167, 3168, 3169, 3170, 3171, 3172, 3173, 3174, 3175, 3176, 3177, 3183, 3184, 3185, 3186, 3187, 3188, 3189, 3190, 3191, 3192, 3193, 3194, 3195, 3196, 3197, 3198, 3199, 3200, 3201, 3202, 3203, 3204, 3205, 3206, 3207, 3208, 3209, 3210, 3211, 3212, 3213, 3214, 3215, 3216, 3217, 3218, 3219, 3220, 3221, 3222, 3223, 3224, 3225, 3226, 3227, 3228, 3229, 3230, 3231, 3232, 3233, 3234, 3236, 3237, 3238, 3239, 3240, 3241, 3242, 3243, 3244, 3245, 3246, 3247, 3248, 3249, 3251, 3253, 3254, 3255, 3256, 3257, 3258, 3259, 3260, 3261, 3262, 3263, 3265, 3266, 3267, 3268, 3269, 3271, 3273, 3274, 3275, 3276, 3277, 3278, 3279, 3280, 3281, 3282, 3284, 3285, 3286, 3288, 3290, 3291, 3292, 3293, 3294, 3295, 3297, 3298, 3299, 3300, 3301, 3302, 3303, 3304, 3310, 3311, 3312, 3313, 3314, 3315, 3316, 3317, 3320, 3330, 3332, 3342, 3349, 3364, 3365, 3367, 3368, 3369, 3374, 3375, 3377, 3378, 3379, 3380, 3382, 3383, 3384, 3385, 3387, 3388, 3389, 3390, 3391, 3392, 3393, 3394, 3396, 3397, 3398, 3399, 3400, 3401, 3402, 3403, 3404, 3406, 3407, 3408, 3410, 3411, 3412, 3413, 3414, 3415, 3417, 3420, 3421, 3422, 3423, 3424, 3425, 3426, 3427, 3428, 3429, 3430, 3431, 3432, 3433, 3434, 3435, 3436, 3437, 3439, 3440, 3441, 3442, 3443, 3444, 3445, 3446, 3447, 3448, 3449, 3450, 3451, 3453, 3454, 3455, 3456, 3457, 3458, 3459, 3460, 3461, 3462, 3463, 3464, 3465, 3467, 3469, 3470, 3472, 3473, 3474, 3476, 3477, 3478, 3479, 3480, 3481, 3482, 3483, 3484, 3485, 3486, 3487, 3488, 3489, 3490, 3492, 3494, 3497, 3498, 3500, 3501, 3502, 3503, 3504, 3505, 3506, 3507, 3508, 3509, 3510, 3511, 3512, 3514, 3515, 3516, 3517, 3518, 3519, 3520, 3521, 3522, 3523, 3524, 3525, 3526, 3527, 3528, 3529, 3530, 3533, 3534, 3535, 3536, 3537, 3538, 3539, 3540, 3541, 3543, 3544, 3545, 3546, 3547, 3548, 3549, 3550, 3552, 3553, 3554, 3555, 3556, 3557, 3558, 3559, 3560, 3561, 3562, 3563, 3564, 3565, 3566, 3567, 3568, 3569, 3571, 3572, 3573, 3574, 3575, 3577, 3578, 3579, 3580, 3581, 3582, 3583, 3584, 3585, 3586, 3587, 3588, 3589, 3590, 3591, 3592, 3593, 3594, 3595, 3596, 3597, 3598, 3599, 3600, 3601, 3602, 3603, 3604, 3605, 3606, 3607, 3608, 3609, 3610, 3611, 3612, 3613, 3614, 3615, 3616, 3617, 3618, 3619, 3621, 3623, 3624, 3625, 3626, 3627, 3628, 3629, 3630, 3632, 3634, 3636, 3638, 3639, 3640, 3642, 3643, 3644, 3646, 3647, 3648, 3650, 3652, 3653, 3654, 3655, 3656, 3657, 3658, 3659, 3660, 3662, 3663, 3664, 3666, 3667, 3668, 3669, 3670, 3671, 3673, 3675, 3677, 3678, 3679, 3682, 3683, 3684, 3685, 3686, 3687, 3688, 3689, 3690, 3692, 3693, 3694, 3695, 3696, 3697, 3698, 3699, 3701, 3702, 3703, 3705, 3706, 3707, 3708, 3710, 3718, 3721, 3725, 3726, 3727, 3729, 3730, 3731, 3732, 3733, 3734, 3735, 3736, 3737, 3738, 3739, 3742, 3743, 3744, 3745, 3746, 3747, 3748, 3749, 3750, 3751, 3752, 3753, 3754, 3755, 3756, 3757, 3758, 3759, 3760, 3761, 3763, 3764, 3765, 3766, 3770, 3771, 3772, 3773, 3775, 3776, 3777, 3778, 3779, 3780, 3781, 3782, 3783, 3784, 3785, 3786, 3787, 3788, 3789, 3790, 3791, 3793, 3794, 3795, 3797, 3798, 3799, 3801, 3802, 3803, 3804, 3808, 3811, 3812, 3813, 3814, 3816, 3817, 3818, 3821, 3822, 3823, 3826, 3827, 3828, 3831, 3832, 3833, 3834, 3836, 3837, 3838, 3839, 3840, 3841, 3842, 3844, 3845, 3846, 3847, 3848, 3849, 3850, 3851, 3852, 3854, 3855, 3857, 3858, 3860, 3861, 3863, 3866, 3867, 3868, 3869, 3870, 3872, 3873, 3875, 3876, 3877, 3878, 3879, 3880, 3881, 3882, 3883, 3885, 3887, 3889, 3891, 3893, 3894, 3895, 3896, 3897, 3898, 3899, 3900, 3901, 3902, 3903, 3904, 3905, 3907, 3908, 3909, 3910, 3911, 3912, 3913, 3914, 3915, 3916, 3917, 3919, 3921, 3922, 3923, 3924, 3926, 3928, 3930, 3931, 3933, 3936, 3939, 3944, 3946, 3947, 3948, 3949, 3951, 3952, 3953, 3954, 3955, 3957, 3958, 3959, 3960, 3961, 3963, 3964, 3965, 3967, 3968, 3969, 3971, 3973, 3974, 3975, 3977, 3978, 3979, 3982, 3983, 3985, 3986, 3987, 3989, 3991, 3992, 3994, 3995, 3996, 3997, 3998, 3999, 4000, 4001, 4002, 4004, 4006, 4007, 4008, 4012, 4013, 4014, 4015, 4016, 4018, 4020, 4022, 4024, 4025, 4027, 4029, 4030, 4031, 4033, 4035, 4037, 4039, 4040, 4043, 4044, 4045, 4047, 4048, 4049, 4052, 4053, 4054, 4055, 4058, 4059, 4062, 4063, 4064, 4068, 4069, 4070, 4073, 4074, 4076, 4077, 4079, 4082, 4084, 4085, 4086, 4088, 4090, 4091, 4092, 4093, 4094, 4095, 4096, 4098, 4099, 4100, 4101, 4103, 4104, 4106, 4107, 4108, 4109, 4110, 4111, 4112, 4114, 4116, 4118, 4119, 4120, 4124, 4125, 4126, 4127, 4129, 4130, 4140, 4141, 4142, 4143, 4144, 4146, 4152, 4154, 4155, 4156, 4157, 4160, 4162, 4163, 4166, 4167, 4171, 4172, 4173, 4174, 4176, 4177, 4179, 4180, 4181, 4182, 4183, 4184, 4185, 4186, 4188, 4190, 4191, 4193, 4194, 4196, 4198, 4200, 4202, 4203, 4205, 4206, 4207, 4208, 4210, 4211, 4212, 4214, 4217, 4218, 4220, 4221, 4222, 4223, 4224, 4225, 4226, 4228, 4229, 4230, 4233, 4241, 4242, 4244, 4246, 4248, 4250, 4252, 4254, 4255, 4256, 4257, 4258, 4259, 4260, 4262, 4263, 4265, 4266, 4269, 4270, 4273, 4275, 4276, 4277, 4278, 4279, 4281, 4283, 4285, 4288, 4289, 4291, 4292, 4293, 4296, 4300, 4301, 4302, 4304, 4305, 4307, 4309, 4310, 4311, 4315, 4318, 4319, 4320, 4321, 4322, 4323, 4325, 4326, 4328, 4329, 4332, 4333, 4335, 4336, 4338, 4339, 4340, 4341, 4342, 4343, 4344, 4345, 4346, 4347, 4348, 4349, 4350, 4351, 4352, 4353, 4354, 4355, 4356, 4357, 4358, 4359, 4360, 4361, 4362, 4363, 4364, 4365, 4366, 4367, 4368, 4369, 4370, 4371, 4372, 4373, 4374, 4375, 4376, 4377, 4378, 4379, 4380, 4381, 4382, 4383, 4384, 4385, 4386, 4387, 4388, 4389, 4390, 4391, 4392, 4393, 4394, 4395, 4396, 4397, 4398, 4399, 4400, 4401, 4402, 4403, 4404, 4405, 4406, 4407, 4408, 4409, 4410, 4411, 4412, 4413, 4414, 4415, 4416, 4417, 4418, 4419, 4420, 4421, 4422, 4423, 4424, 4425, 4426, 4427, 4428, 4429, 4430, 4431, 4432, 4433, 4434, 4435, 4436, 4437, 4438, 4439, 4440, 4441, 4442, 4443, 4444, 4445, 4446, 4447, 4448, 4450, 4451, 4453, 4455, 4456, 4457, 4458, 4459, 4460, 4461, 4462, 4463, 4464, 4465, 4466, 4468, 4470, 4471, 4473, 4474, 4475, 4476, 4477, 4479, 4480, 4482, 4484, 4485, 4486, 4487, 4488, 4489, 4490, 4491, 4492, 4493, 4494, 4495, 4497, 4498, 4500, 4501, 4502, 4503, 4504, 4505, 4506, 4507, 4508, 4510, 4511, 4513, 4514, 4515, 4516, 4517, 4518, 4519, 4521, 4523, 4524, 4525, 4526, 4527, 4529, 4531, 4532, 4533, 4534, 4535, 4536, 4537, 4538, 4539, 4540, 4541, 4542, 4543, 4544, 4545, 4546, 4547, 4548, 4549, 4551, 4553, 4554, 4555, 4558, 4559, 4560, 4562, 4563, 4564, 4566, 4567, 4568, 4569, 4571, 4572, 4573, 4575, 4576, 4577, 4579, 4580, 4581, 4582, 4583, 4584, 4585, 4587, 4589, 4590, 4591, 4593, 4594, 4596, 4597, 4598, 4600, 4601, 4602, 4604, 4606, 4608, 4610, 4611, 4613, 4615, 4618, 4620, 4621, 4622, 4624, 4625, 4626, 4627, 4628, 4631, 4632, 4633, 4634, 4636, 4637, 4639, 4640, 4641, 4642, 4644, 4646, 4649, 4651, 4652, 4653, 4654, 4655, 4656, 4657, 4659, 4660, 4661, 4662, 4663, 4665, 4666, 4667, 4669, 4670, 4671, 4672, 4673, 4674, 4675, 4676, 4679, 4683, 4684, 4685, 4686, 4687, 4688, 4689, 4691, 4693, 4695, 4698, 4699, 4701, 4702, 4704, 4706, 4708, 4709, 4711, 4712, 4713, 4714, 4716, 4717, 4718, 4719, 4720, 4721, 4722, 4724, 4725, 4726, 4728, 4729, 4730, 4731, 4732, 4735, 4736, 4737, 4739, 4741, 4742, 4744, 4746, 4747, 4749, 4750, 4751, 4753, 4754, 4755, 4757, 4758, 4760, 4761, 4763, 4764, 4766, 4768, 4771, 4772, 4773, 4774, 4775, 4776, 4777, 4778, 4779, 4780, 4781, 4782, 4783, 4785, 4786, 4787, 4788, 4789, 4790, 4791, 4792, 4793, 4794, 4795, 4796, 4797, 4798, 4800, 4801, 4802, 4803, 4804, 4807, 4809, 4811, 4814, 4815, 4817, 4819, 4822, 4823, 4824, 4826, 4828, 4829, 4831, 4832, 4833, 4834, 4835, 4836, 4837, 4838, 4839, 4840, 4841, 4844, 4845, 4846, 4847, 4848, 4849, 4850, 4852, 4853, 4854, 4855, 4856, 4857, 4859, 4860, 4862, 4863, 4865, 4866, 4867, 4869, 4870, 4871, 4872, 4873, 4874, 4875, 4876, 4877, 4878, 4879, 4880, 4881, 4882, 4883, 4884, 4885, 4886, 4887, 4888, 4889, 4890, 4892, 4893, 4894, 4895, 4896, 4897, 4899, 4900, 4901, 4902, 4903, 4904, 4905, 4906, 4907, 4908, 4909, 4910, 4911, 4912, 4913, 4915, 4916, 4917, 4918, 4919, 4920, 4921, 4922, 4923, 4925, 4926, 4927, 4928, 4929, 4930, 4931, 4932, 4933, 4935, 4937, 4939, 4940, 4942, 4943, 4944, 4945, 4946, 4947, 4948, 4949, 4950, 4952, 4954, 4955, 4956, 4957, 4958, 4959, 4960, 4961, 4962, 4963, 4964, 4965, 4966, 4967, 4968, 4969, 4970, 4972, 4973, 4976, 4977, 4978, 4980, 4981, 4982, 4983, 4984, 4986, 4987, 4988, 4989, 4990, 4991, 4992, 4993, 4994, 4995, 4996, 4997, 4998, 4999, 5003, 5004, 5005, 5006, 5007, 5009, 5010, 5011, 5012, 5015, 5016, 5017, 5018, 5019, 5020, 5021, 5022, 5023, 5024, 5025, 5026, 5027, 5028, 5029, 5030, 5031, 5032, 5033, 5034, 5036, 5037, 5039, 5041, 5042, 5047, 5048, 5049, 5052, 5053, 5055, 5056, 5058, 5059, 5061, 5063, 5064, 5065, 5072, 5074, 5075, 5077, 5078, 5079, 5080, 5081, 5082, 5083, 5084, 5085, 5087, 5088, 5089, 5090, 5092, 5093, 5095, 5096, 5097, 5098, 5105, 5106, 5107, 5108, 5109, 5111, 5114, 5117, 5119, 5120, 5121, 5123, 5124, 5127, 5128, 5129, 5130, 5132, 5133, 5135, 5136, 5137, 5138, 5139, 5140, 5142, 5143, 5144, 5145, 5146, 5147, 5148, 5149, 5151, 5152, 5153, 5154, 5156, 5158, 5159, 5160, 5162, 5164, 5165, 5166, 5167, 5170, 5172, 5174, 5175, 5176, 5177, 5179, 5180, 5182, 5183, 5186, 5188, 5189, 5191, 5192, 5193, 5194, 5195, 5197, 5198, 5199, 5201, 5202, 5204, 5208, 5209, 5210, 5213, 5214, 5215, 5216, 5218, 5220, 5221, 5222, 5223, 5228, 5230, 5232, 5236, 5245, 5246, 5251, 5252, 5256, 5257, 5258, 5259, 5261, 5262, 5270, 5271, 5273, 5274, 5275, 5276, 5277, 5278, 5280, 5281, 5283, 5284, 5285, 5287, 5288, 5289, 5290, 5291, 5292, 5293, 5294, 5295, 5296, 5299, 5300, 5301, 5302, 5303, 5304, 5305, 5306, 5307, 5308, 5309, 5310, 5311, 5312, 5314, 5315, 5316, 5317, 5318, 5319, 5320, 5321, 5323, 5324, 5325, 5327, 5328, 5330, 5331, 5332, 5333, 5334, 5335, 5336, 5337, 5338, 5340, 5341, 5342, 5344, 5345, 5347, 5348, 5349, 5350, 5351, 5352, 5353, 5354, 5355, 5356, 5357, 5358, 5359, 5361, 5362, 5364, 5365, 5366, 5367, 5369, 5371, 5372, 5375, 5379, 5380, 5382, 5383, 5384, 5385, 5386, 5388, 5389, 5392, 5393, 5394, 5396, 5407, 5408, 5409, 5410, 5412, 5413, 5414, 5415, 5416, 5418, 5423, 5425, 5426, 5427, 5428, 5429, 5430, 5431, 5438, 5439, 5440, 5441, 5442, 5443, 5444, 5445, 5447, 5448, 5449, 5451, 5452, 5453, 5455, 5457, 5459, 5460, 5462, 5463, 5464, 5465, 5466, 5468, 5469, 5471, 5472, 5473, 5474, 5475, 5476, 5477, 5478, 5479, 5480, 5481, 5482, 5483, 5486, 5487, 5489, 5490, 5491, 5492, 5493, 5495, 5496, 5497, 5500, 5501, 5502, 5504, 5505, 5506, 5507, 5509, 5510, 5511, 5512, 5519, 5520, 5522, 5523, 5525, 5526, 5527, 5528, 5529, 5530, 5531, 5532, 5537, 5538, 5550, 5552, 5553, 5554, 5559, 5561, 5562, 5563, 5564, 5565, 5566, 5567, 5569, 5570, 5571, 5572, 5573, 5574, 5575, 5576, 5578, 5579, 5580, 5581, 5582, 5583, 5585, 5586, 5587, 5588, 5589, 5590, 5591, 5592, 5594, 5596, 5597, 5598, 5599, 5600, 5601, 5602, 5603, 5604, 5605, 5606, 5607, 5608, 5610, 5612, 5614, 5616, 5617, 5620, 5621, 5622, 5623, 5624, 5625, 5627, 5629, 5630, 5631, 5632, 5633, 5634, 5637, 5638, 5640, 5641, 5645, 5646, 5650, 5651, 5663, 5667, 5669, 5671, 5673, 5674, 5675, 5676, 5678, 5679, 5680, 5681, 5682, 5683, 5684, 5685, 5687, 5688, 5689, 5690, 5691, 5692, 5694, 5695, 5696, 5697, 5698, 5699, 5702, 5707, 5708, 5709, 5711, 5712, 5713, 5714, 5715, 5717, 5719, 5720, 5721, 5722, 5723, 5724, 5726, 5730, 5732, 5733, 5735, 5739, 5740, 5741, 5742, 5744, 5745, 5748, 5749, 5750, 5751, 5752, 5754, 5756, 5757, 5758, 5759, 5761, 5763, 5764, 5766, 5767, 5768, 5770, 5772, 5777, 5780, 5783, 5786, 5789, 5790, 5793, 5794, 5795, 5799, 5800, 5801, 5802, 5803, 5807, 5808, 5809, 5814, 5815, 5816, 5817, 5818, 5819, 5820, 5821, 5822, 5825, 5826, 5827, 5828, 5829, 5834, 5837, 5839, 5840, 5842, 5843, 5844, 5845, 5846, 5847, 5848, 5849, 5851, 5852, 5853, 5854, 5855, 5857, 5859, 5861, 5863, 5866, 5867, 5868, 5869, 5870, 5871, 5872, 5873, 5874, 5875, 5876, 5878, 5886, 5887, 5888, 5889, 5890, 5891, 5893, 5894, 5895, 5896, 5897, 5899, 5901, 5902, 5905, 5906, 5907, 5908, 5910, 5911, 5912, 5913, 5915, 5918, 5919, 5920, 5922, 5924, 5925, 5927, 5928, 5932, 5933, 5938, 5939, 5940, 5942, 5943, 5945, 5946, 5947, 5948, 5949, 5951, 5952, 5953, 5954, 5955, 5959, 5960, 5961, 5963, 5965, 5967, 5969, 5971, 5973, 5977, 5981, 5982, 5983, 5984, 5985, 5986, 5987, 5991, 5992, 5995, 5998, 5999, 6000, 6001, 6003, 6004, 6006, 6007, 6008, 6009, 6011, 6012, 6014, 6016, 6019, 6020, 6022, 6024, 6025, 6028, 6030, 6034, 6037, 6038, 6039, 6040, 6042, 6043, 6045, 6048, 6049, 6050, 6051, 6054, 6056, 6057, 6059, 6063, 6064, 6065, 6066, 6067, 6068, 6069, 6071, 6072, 6073, 6074, 6075, 6076, 6077, 6078, 6079, 6080, 6081, 6082, 6083, 6086, 6089, 6090, 6091, 6095, 6097, 6099, 6100, 6101, 6102, 6109, 6112, 6113, 6114, 6115, 6116, 6117, 6120, 6121, 6122, 6123, 6124, 6126, 6127, 6128, 6129, 6130, 6131, 6132, 6133, 6134, 6135, 6136, 6137, 6138, 6139, 6140, 6141, 6142, 6143, 6144, 6145, 6146, 6147, 6148, 6150, 6152, 6155, 6156, 6157, 6158, 6159, 6163, 6164, 6165, 6166, 6167, 6168, 6169, 6170, 6171, 6172, 6173, 6174, 6176, 6177, 6178, 6179, 6180, 6181, 6182, 6183, 6185, 6186, 6188, 6189, 6190, 6191, 6192, 6193, 6194, 6195, 6196, 6197, 6201, 6202, 6203, 6204, 6205, 6206, 6207, 6208, 6209, 6212, 6213, 6214, 6215, 6217, 6218, 6219, 6220, 6221, 6222, 6223, 6224, 6225, 6226, 6227, 6228, 6230, 6231, 6232, 6233, 6234, 6238, 6239, 6240, 6242, 6244, 6245, 6246, 6247, 6248, 6249, 6250, 6251, 6252, 6253, 6254, 6256, 6260, 6261, 6263, 6264, 6265, 6266, 6270, 6271, 6273, 6275, 6278, 6279, 6281, 6283, 6285, 6286, 6289, 6292, 6293, 6297, 6299, 6303, 6304, 6305, 6306, 6309, 6310, 6311, 6312, 6313, 6314, 6318, 6320, 6322, 6324, 6326, 6328, 6329, 6330, 6333, 6334, 6335, 6339, 6344, 6345, 6346, 6347, 6348, 6349, 6350, 6420, 6449, 6450, 6451, 6452, 6453, 6454, 6455, 6456, 6457, 6458, 6459, 6460, 6461, 6462, 6463, 6464, 6465, 6466, 6467, 6468, 6469, 6470, 6471, 6472, 6473, 6474, 6475, 6476, 6477, 6478, 6479, 6480, 6481, 6482, 6483, 6484, 6485, 6486, 6487, 6488, 6489, 6490, 6491, 6492, 6493, 6494, 6495, 6496, 6497, 6498, 6499, 6500, 6501, 6502, 6503, 6504, 6505, 6506, 6507, 6508, 6509, 6510, 6511, 6512, 6513, 6514, 6515, 6516, 6517, 6518, 6519, 6520, 6521, 6522, 6523, 6524, 6525, 6526, 6527, 6528, 6529, 6530, 6531, 6532, 6533, 6534, 6535, 6536, 6537, 6538, 6539, 6540, 6541, 6542, 6543, 6544, 6545, 6546, 6547, 6548, 6549, 6550, 6551, 6552, 6553, 6554, 6555, 6556, 6557, 6558, 6559, 6560, 6561, 6562, 6563, 6564, 6565, 6566, 6567, 6568, 6569, 6570, 6571, 6572, 6573, 6574, 6575, 6576, 6577, 6578, 6579, 6580, 6581, 6582, 6583, 6584, 6585, 6586, 6587, 6588, 6589, 6590, 6591, 6592, 6593, 6594, 6595, 6596, 6597, 6598, 6599, 6600, 6601, 6602, 6603, 6604, 6605, 6606, 6607, 6608, 6609, 6610, 6611, 6612, 6613, 6614, 6615, 6616, 6617, 6618, 6619, 6620, 6621, 6622, 6623, 6624, 6625, 6626, 6627, 6628, 6629, 6630, 6631, 6632, 6633, 6634, 6635, 6636, 6637, 6638, 6639, 6640, 6641, 6642, 6643, 6644, 6645, 6646, 6647, 6648, 6649, 6650, 6651, 6652, 6653, 6654, 6655, 6656, 6657, 6658, 6659, 6660, 6661, 6662, 6663, 6664, 6665, 6666, 6667, 6668, 6669, 6670, 6671, 6672, 6673, 6674, 6675, 6676, 6677, 6678, 6679, 6680, 6681, 6682, 6683, 6684, 6685, 6686, 6687, 6688, 6689, 6690, 6691, 6692, 6693, 6694, 6695, 6696, 6697, 6698, 6699, 6700, 6701, 6702, 6703, 6704, 6705, 6706, 6707, 6708, 6709, 6710, 6711, 6712, 6713, 6714, 6715, 6716, 6717, 6718, 6719, 6720, 6721, 6722, 6723, 6724, 6725, 6726, 6727, 6728, 6729, 6730, 6731, 6732, 6733, 6734, 6735, 6736, 6737, 6738, 6739, 6740, 6741, 6742, 6743, 6744, 6745, 6746, 6747, 6748, 6749, 6750, 6751, 6752, 6753, 6754, 6755, 6756, 6757, 6758, 6759, 6760, 6761, 6762, 6763, 6764, 6765, 6766, 6767, 6768, 6769, 6770, 6771, 6772, 6773, 6774, 6775, 6776, 6777, 6778, 6779, 6780, 6781, 6782, 6783, 6784, 6785, 6786, 6787, 6788, 6789, 6790, 6791, 6792, 6793, 6794, 6795, 6796, 6797, 6798, 6799, 6800, 6801, 6802, 6803, 6804, 6805, 6806, 6807, 6808, 6809, 6810, 6811, 6812, 6813, 6814, 6815, 6816, 6817, 6818, 6819, 6820, 6821, 6822, 6823, 6824, 6825, 6826, 6827, 6828, 6829, 6830, 6831, 6832, 6833, 6834, 6835, 6836, 6837, 6838, 6839, 6840, 6841, 6842, 6843, 6844, 6845, 6846, 6847, 6848, 6849, 6850, 6851, 6852, 6853, 6854, 6855, 6856, 6857, 6858, 6859, 6860, 6861, 6862, 6863, 6864, 6865, 6866, 6867, 6868, 6869, 6870, 6871, 6879, 6882, 6926, 6929, 6931, 6947, 6948, 6955, 6959, 6961, 6963, 6973, 6977, 6983, 6985, 6986, 6993, 6999, 7012, 7015, 7016, 7023, 7031, 7033, 7036, 7039, 7040, 7041, 7043, 7044, 7045, 7048, 7049, 7050, 7053, 7054, 7055, 7058, 7059, 7060, 7063, 7064, 7067, 7068, 7069, 7070, 7072, 7073, 7074, 7076, 7077, 7078, 7088, 7101, 7105, 7106, 7107, 7108, 7109, 7110, 7112, 7113, 7115, 7133, 7138, 7142, 7147, 7149, 7151, 7153, 7155, 7158, 7159, 7166, 7184, 7194, 7195, 7196, 7197, 7198, 7199, 7200, 7209, 7217, 7225, 7229, 7272, 7284, 7318, 7325, 7326, 7332, 7333, 7357, 7385, 7386, 7424, 7425, 7427, 7428, 7431, 7432, 7434, 7436, 7437, 7438, 7439, 7441, 7442, 7443, 7444, 7446, 7447, 7448, 7450, 7452, 7461, 7465, 7466, 7467, 7470, 7471, 7472, 7479, 7480, 7481, 7495, 7510, 7512, 7514, 7516, 7518, 7521, 7523, 7525, 7537, 7548, 7551, 7552, 7553, 7586, 7592, 7595, 7620, 7624, 7627, 7629, 7653, 7655, 7657, 7660, 7662, 7664, 7666, 7670, 7671, 7673, 7674, 7675, 7676, 7678, 7679, 7681, 7682, 7684, 7686, 7687, 7688, 7691, 7692, 7693, 7698, 7699, 7701, 7702, 7703, 7704, 7705, 7706, 7707, 7708, 7709, 7710, 7711, 7712, 7714, 7716, 7717, 7722, 7723, 7726, 7727, 7728, 7729, 7731, 7732, 7733, 7735, 7737, 7738, 7739, 7740, 7741, 7744, 7746, 7747, 7748, 7749, 7750, 7756, 7758, 7759, 7760, 7761, 7762, 7763, 7764, 7765, 7766, 7768, 7770, 7771, 7774, 7775, 7777, 7778, 7780, 7781, 7783, 7785, 7787, 7789, 7790, 7791, 7793, 7794, 7795, 7796, 7797, 7798, 7800, 7801, 7802, 7803, 7804, 7806, 7807, 7808, 7809, 7810, 7811, 7812, 7814, 7816, 7817, 7819, 7820, 7821, 7822, 7823, 7824, 7826, 7827, 7829, 7830, 7832, 7834, 7835, 7837, 7838, 7839, 7841, 7842, 7843, 7844, 7845, 7847, 7849, 7850, 7851, 7852, 7853, 7855, 7857, 7858, 7859, 7861, 7862, 7863, 7864, 7865, 7866, 7867, 7868, 7869, 7870, 7871, 7872, 7873, 7874, 7875, 7876, 7878, 7879, 7880, 7881, 7882, 7883, 7884, 7885, 7887, 7889, 7890, 7892, 7893, 7895, 7897, 7898, 7899, 7900, 7901, 7903, 7905, 7906, 7907, 7908, 7909, 7911, 7912, 7913, 7914, 7915, 7916, 7917, 7918, 7919, 7920, 7921, 7923, 7924, 7925, 7926, 7927, 7928, 7929, 7931, 7932, 7933, 7934, 7936, 7937, 7941, 7942, 7943, 7944, 7946, 7947, 7948, 7949, 7951, 7952, 7953, 7955, 7956, 7957, 7958, 7959, 7960, 7961, 7962, 7964, 7965, 7966, 7967, 7968, 7969, 7970, 7971, 7972, 7973, 7974, 7975, 7976, 7977, 7979, 7980, 7981, 7982, 7984, 7985, 7986, 7988, 7989, 7990, 7991, 7993, 7994, 7995, 7996, 7997, 7998, 8001, 8003, 8004, 8005, 8008, 8009, 8010, 8011, 8012, 8013, 8014, 8015, 8016, 8017, 8018, 8019, 8020, 8021, 8022, 8024, 8029, 8030, 8031, 8032, 8034, 8035, 8036, 8038, 8039, 8040, 8042, 8045, 8046, 8048, 8051, 8052, 8053, 8057, 8058, 8059, 8060, 8061, 8062, 8063, 8064, 8065, 8068, 8069, 8070, 8071, 8074, 8076, 8077, 8079, 8080, 8081, 8082, 8083, 8084, 8085, 8086, 8088, 8089, 8091, 8094, 8095, 8096, 8097, 8098, 8099, 8100, 8102, 8103, 8104, 8107, 8109, 8110, 8111, 8117, 8118, 8119, 8120, 8121, 8122, 8123, 8124, 8128, 8129, 8131, 8132, 8133, 8137, 8138, 8139, 8140, 8142, 8143, 8144, 8145, 8146, 8147, 8148, 8149, 8150, 8157, 8158, 8159, 8160, 8161, 8163, 8164, 8165, 8167, 8170, 8171, 8172, 8173, 8174, 8175, 8176, 8177, 8178, 8179, 8180, 8182, 8184, 8185, 8187, 8188, 8189, 8191, 8193, 8195, 8197, 8199, 8200, 8203, 8213, 8215, 8217, 8224, 8239, 8241, 8245, 8246, 8247, 8252, 8254, 8256, 8258, 8260, 8262, 8263, 8265, 8266, 8268, 8269, 8271, 8273, 8279, 8288, 8289, 8293, 8294, 8298, 8299, 8304, 8306, 8308, 8311, 8312, 8313, 8318, 8327, 8332, 8334, 8336, 8344, 8345, 8347, 8348, 8350, 8351, 8354, 8355, 8360, 8362, 8364, 8367, 8369, 8375, 8378, 8379, 8380, 8383, 8384, 8386, 8387, 8398, 8403, 8404, 8405, 8406, 8422, 8423, 8424, 8425, 8426, 8427, 8448, 8449, 8458, 8459, 8463, 8466, 8471, 8483, 8484, 8485, 8486, 8487, 8488, 8489, 8490, 8493, 8496, 8498, 8502, 8506, 8511, 8512, 8513, 8514, 8515, 8518]\n",
      "[1, 3, 21, 23, 25, 30, 34, 36, 37, 38, 40, 44, 46, 48, 50, 52, 54, 56, 58, 60, 62, 65, 67, 69, 71, 73, 75, 77, 83, 85, 87, 89, 91, 93, 95, 97, 99, 101, 103, 105, 107, 109, 112, 113, 115, 117, 119, 121, 123, 125, 127, 129, 131, 133, 135, 137, 139, 141, 145, 148, 150, 152, 154, 156, 158, 160, 161, 162, 164, 165, 166, 167, 169, 179, 187, 190, 195, 204, 210, 211, 213, 214, 216, 221, 224, 225, 226, 227, 237, 238, 239, 245, 253, 254, 257, 258, 259, 260, 262, 263, 264, 265, 266, 269, 270, 272, 273, 274, 275, 276, 277, 279, 280, 281, 282, 283, 284, 290, 292, 301, 303, 305, 306, 308, 310, 312, 322, 326, 332, 333, 335, 336, 338, 339, 354, 358, 360, 364, 372, 373, 375, 376, 378, 379, 382, 383, 384, 385, 387, 388, 392, 393, 394, 395, 398, 399, 400, 401, 402, 403, 404, 405, 410, 414, 416, 417, 418, 425, 426, 427, 428, 429, 430, 431, 432, 435, 436, 437, 438, 440, 441, 442, 443, 444, 445, 446, 447, 448, 449, 451, 452, 453, 454, 455, 456, 457, 458, 459, 460, 463, 464, 465, 466, 469, 470, 471, 472, 474, 475, 476, 477, 478, 480, 481, 482, 483, 484, 486, 487, 488, 489, 490, 491, 492, 494, 495, 496, 497, 498, 499, 500, 502, 503, 504, 505, 506, 507, 508, 509, 510, 512, 513, 514, 515, 516, 517, 518, 519, 520, 522, 526, 527, 528, 529, 530, 531, 532, 533, 534, 535, 536, 537, 538, 539, 543, 544, 545, 546, 547, 548, 549, 550, 551, 552, 553, 554, 555, 558, 562, 564, 567, 572, 575, 576, 577, 580, 581, 584, 585, 587, 590, 593, 596, 599, 603, 608, 612, 615, 619, 622, 624, 627, 630, 639, 644, 649, 651, 666, 669, 671, 672, 674, 675, 677, 683, 686, 692, 694, 699, 702, 703, 704, 705, 706, 707, 708, 709, 712, 713, 715, 716, 718, 719, 720, 721, 723, 725, 727, 728, 729, 732, 733, 734, 735, 736, 737, 739, 742, 743, 744, 745, 746, 747, 753, 754, 755, 756, 757, 759, 761, 762, 763, 764, 765, 766, 767, 768, 769, 770, 771, 772, 773, 774, 784, 786, 787, 789, 790, 793, 794, 795, 799, 800, 801, 802, 803, 804, 806, 808, 810, 812, 815, 816, 818, 819, 822, 823, 824, 828, 829, 830, 831, 832, 833, 835, 837, 839, 841, 844, 845, 846, 847, 848, 850, 851, 852, 854, 855, 857, 858, 860, 861, 862, 863, 864, 865, 866, 867, 868, 869, 870, 872, 873, 874, 875, 876, 877, 878, 879, 880, 881, 883, 885, 886, 888, 890, 891, 892, 894, 897, 898, 899, 900, 901, 902, 903, 904, 906, 907, 908, 909, 910, 911, 912, 913, 915, 916, 917, 918, 920, 921, 922, 923, 924, 925, 926, 928, 929, 930, 931, 933, 934, 935, 936, 938, 939, 940, 941, 942, 944, 945, 946, 947, 948, 949, 953, 954, 955, 956, 957, 958, 959, 960, 961, 962, 964, 965, 966, 967, 968, 969, 970, 971, 972, 973, 974, 975, 976, 977, 978, 979, 980, 981, 982, 983, 985, 986, 987, 988, 989, 990, 991, 992, 993, 994, 995, 996, 997, 998, 999, 1000, 1001, 1002, 1004, 1005, 1006, 1007, 1008, 1009, 1010, 1012, 1013, 1018, 1020, 1021, 1023, 1025, 1026, 1027, 1028, 1029, 1030, 1032, 1033, 1034, 1035, 1038, 1039, 1042, 1043, 1044, 1045, 1046, 1047, 1048, 1049, 1050, 1051, 1052, 1053, 1054, 1055, 1056, 1057, 1058, 1060, 1061, 1062, 1063, 1064, 1065, 1066, 1067, 1068, 1070, 1073, 1074, 1076, 1077, 1079, 1080, 1081, 1082, 1083, 1084, 1085, 1087, 1088, 1089, 1090, 1091, 1093, 1094, 1096, 1097, 1099, 1100, 1102, 1103, 1105, 1106, 1108, 1109, 1111, 1112, 1114, 1115, 1117, 1118, 1119, 1120, 1121, 1125, 1126, 1127, 1131, 1132, 1133, 1134, 1135, 1136, 1137, 1138, 1139, 1162, 1165, 1166, 1167, 1168, 1172, 1173, 1174, 1175, 1176, 1177, 1178, 1180, 1181, 1182, 1183, 1185, 1189, 1190, 1191, 1192, 1193, 1194, 1195, 1198, 1200, 1201, 1202, 1203, 1204, 1206, 1209, 1210, 1212, 1213, 1214, 1215, 1216, 1217, 1218, 1219, 1220, 1221, 1222, 1223, 1224, 1225, 1228, 1229, 1230, 1231, 1232, 1233, 1234, 1235, 1236, 1237, 1238, 1239, 1240, 1241, 1242, 1243, 1244, 1245, 1251, 1252, 1253, 1254, 1255, 1256, 1257, 1258, 1259, 1260, 1262, 1263, 1265, 1267, 1269, 1271, 1273, 1274, 1275, 1276, 1280, 1281, 1283, 1285, 1287, 1288, 1290, 1291, 1292, 1293, 1294, 1295, 1296, 1297, 1298, 1299, 1301, 1303, 1304, 1306, 1311, 1312, 1313, 1314, 1315, 1316, 1317, 1318, 1319, 1320, 1323, 1325, 1326, 1328, 1330, 1331, 1332, 1334, 1336, 1338, 1339, 1341, 1350, 1351, 1352, 1353, 1354, 1355, 1356, 1357, 1360, 1363, 1364, 1365, 1366, 1367, 1368, 1369, 1370, 1371, 1373, 1379, 1382, 1386, 1388, 1390, 1392, 1393, 1395, 1396, 1398, 1399, 1400, 1401, 1403, 1404, 1405, 1406, 1413, 1415, 1416, 1417, 1419, 1420, 1421, 1422, 1423, 1424, 1425, 1426, 1427, 1429, 1432, 1434, 1436, 1437, 1438, 1440, 1441, 1456, 1457, 1458, 1459, 1460, 1461, 1462, 1465, 1467, 1469, 1472, 1473, 1474, 1475, 1476, 1478, 1479, 1481, 1482, 1484, 1486, 1487, 1488, 1489, 1491, 1492, 1493, 1496, 1498, 1504, 1506, 1507, 1508, 1509, 1510, 1511, 1513, 1518, 1519, 1520, 1521, 1522, 1523, 1524, 1525, 1526, 1527, 1528, 1529, 1530, 1536, 1537, 1549, 1550, 1551, 1552, 1553, 1555, 1556, 1557, 1558, 1559, 1563, 1564, 1566, 1568, 1570, 1572, 1573, 1574, 1575, 1576, 1577, 1578, 1579, 1580, 1581, 1587, 1588, 1589, 1590, 1591, 1592, 1597, 1598, 1599, 1600, 1601, 1602, 1606, 1607, 1612, 1614, 1616, 1617, 1621, 1622, 1625, 1626, 1628, 1631, 1632, 1635, 1636, 1637, 1638, 1639, 1643, 1644, 1645, 1646, 1648, 1649, 1650, 1651, 1654, 1655, 1657, 1658, 1659, 1660, 1661, 1662, 1663, 1665, 1666, 1667, 1668, 1670, 1671, 1672, 1673, 1674, 1675, 1676, 1677, 1678, 1679, 1680, 1681, 1682, 1683, 1684, 1685, 1686, 1687, 1688, 1689, 1690, 1691, 1692, 1693, 1694, 1695, 1696, 1697, 1698, 1699, 1700, 1701, 1702, 1703, 1704, 1705, 1706, 1707, 1708, 1709, 1710, 1711, 1712, 1713, 1714, 1715, 1716, 1718, 1719, 1720, 1721, 1722, 1723, 1725, 1726, 1727, 1729, 1730, 1731, 1732, 1733, 1734, 1737, 1738, 1739, 1740, 1741, 1742, 1743, 1744, 1745, 1746, 1747, 1748, 1749, 1750, 1751, 1752, 1753, 1754, 1755, 1757, 1758, 1759, 1760, 1763, 1764, 1766, 1767, 1768, 1769, 1770, 1771, 1772, 1773, 1774, 1775, 1777, 1778, 1779, 1781, 1784, 1785, 1786, 1787, 1788, 1789, 1790, 1791, 1792, 1793, 1794, 1795, 1796, 1797, 1798, 1799, 1800, 1801, 1802, 1803, 1804, 1805, 1806, 1807, 1808, 1809, 1810, 1811, 1812, 1813, 1814, 1815, 1816, 1817, 1818, 1819, 1820, 1821, 1822, 1823, 1824, 1825, 1826, 1827, 1828, 1829, 1830, 1831, 1832, 1833, 1834, 1835, 1836, 1837, 1838, 1839, 1840, 1841, 1842, 1843, 1844, 1845, 1846, 1847, 1848, 1849, 1850, 1851, 1852, 1854, 1855, 1856, 1857, 1858, 1859, 1860, 1861, 1862, 1863, 1864, 1865, 1866, 1867, 1868, 1869, 1870, 1871, 1872, 1873, 1874, 1875, 1876, 1877, 1878, 1879, 1880, 1881, 1882, 1883, 1884, 1885, 1886, 1888, 1889, 1890, 1891, 1892, 1894, 1895, 1896, 1897, 1898, 1899, 1900, 1901, 1902, 1903, 1904, 1905, 1906, 1907, 1908, 1909, 1910, 1911, 1912, 1913, 1914, 1915, 1916, 1917, 1918, 1919, 1920, 1921, 1922, 1923, 1924, 1925, 1926, 1927, 1928, 1929, 1930, 1931, 1932, 1933, 1934, 1935, 1936, 1937, 1938, 1939, 1940, 1941, 1942, 1943, 1944, 1946, 1947, 1948, 1949, 1950, 1951, 1952, 1953, 1954, 1955, 1956, 1958, 1959, 1961, 1962, 1963, 1967, 1968, 1969, 1970, 1971, 1972, 1973, 1974, 1975, 1976, 1977, 1978, 1979, 1980, 1981, 1982, 1983, 1984, 1986, 1987, 1988, 1989, 1991, 1992, 1993, 1994, 1995, 1996, 1997, 1998, 2000, 2001, 2002, 2003, 2004, 2006, 2007, 2008, 2009, 2010, 2011, 2013, 2015, 2016, 2017, 2019, 2020, 2021, 2022, 2023, 2024, 2025, 2026, 2027, 2028, 2029, 2030, 2031, 2032, 2033, 2034, 2035, 2036, 2037, 2038, 2039, 2041, 2042, 2043, 2044, 2045, 2047, 2048, 2049, 2051, 2052, 2053, 2054, 2055, 2056, 2057, 2058, 2059, 2061, 2062, 2063, 2065, 2066, 2067, 2069, 2070, 2071, 2073, 2074, 2075, 2076, 2077, 2078, 2079, 2081, 2082, 2083, 2084, 2085, 2087, 2088, 2089, 2090, 2091, 2092, 2093, 2094, 2095, 2096, 2097, 2098, 2099, 2100, 2101, 2104, 2105, 2106, 2107, 2108, 2109, 2110, 2111, 2112, 2113, 2114, 2115, 2117, 2118, 2119, 2120, 2121, 2122, 2123, 2124, 2125, 2126, 2127, 2128, 2129, 2130, 2131, 2132, 2133, 2134, 2135, 2136, 2137, 2138, 2139, 2140, 2141, 2142, 2143, 2144, 2145, 2146, 2147, 2148, 2149, 2150, 2151, 2152, 2153, 2154, 2155, 2156, 2157, 2158, 2159, 2161, 2162, 2163, 2164, 2165, 2166, 2167, 2168, 2171, 2172, 2173, 2174, 2175, 2176, 2177, 2178, 2179, 2180, 2181, 2182, 2183, 2184, 2185, 2186, 2187, 2188, 2189, 2190, 2191, 2192, 2193, 2194, 2195, 2196, 2197, 2198, 2199, 2200, 2201, 2202, 2205, 2206, 2207, 2208, 2209, 2210, 2211, 2212, 2213, 2214, 2215, 2216, 2217, 2218, 2219, 2220, 2221, 2222, 2223, 2224, 2225, 2226, 2227, 2228, 2229, 2230, 2231, 2232, 2233, 2234, 2235, 2236, 2237, 2238, 2239, 2240, 2241, 2242, 2243, 2244, 2245, 2246, 2247, 2248, 2249, 2250, 2252, 2253, 2255, 2256, 2257, 2258, 2259, 2260, 2261, 2262, 2263, 2264, 2266, 2267, 2268, 2269, 2270, 2271, 2272, 2274, 2275, 2276, 2277, 2278, 2279, 2280, 2281, 2282, 2283, 2284, 2285, 2286, 2287, 2288, 2289, 2290, 2291, 2292, 2293, 2294, 2296, 2297, 2298, 2299, 2300, 2301, 2302, 2303, 2304, 2306, 2307, 2308, 2309, 2310, 2311, 2312, 2313, 2314, 2315, 2316, 2317, 2318, 2319, 2320, 2321, 2322, 2323, 2324, 2325, 2326, 2327, 2328, 2329, 2330, 2331, 2332, 2333, 2334, 2335, 2336, 2337, 2339, 2340, 2341, 2342, 2343, 2344, 2345, 2346, 2347, 2348, 2349, 2350, 2352, 2353, 2355, 2356, 2357, 2358, 2359, 2360, 2361, 2362, 2364, 2365, 2366, 2367, 2368, 2369, 2370, 2371, 2373, 2374, 2375, 2377, 2378, 2379, 2380, 2381, 2382, 2383, 2384, 2385, 2386, 2387, 2388, 2391, 2392, 2396, 2397, 2398, 2399, 2400, 2402, 2403, 2404, 2405, 2406, 2408, 2409, 2410, 2412, 2415, 2416, 2417, 2418, 2419, 2420, 2421, 2422, 2423, 2424, 2425, 2426, 2427, 2428, 2429, 2430, 2431, 2432, 2433, 2434, 2435, 2436, 2437, 2438, 2439, 2440, 2442, 2443, 2444, 2445, 2446, 2447, 2448, 2449, 2450, 2451, 2452, 2453, 2455, 2456, 2458, 2460, 2461, 2463, 2464, 2465, 2466, 2468, 2469, 2471, 2474, 2476, 2478, 2484, 2485, 2487, 2488, 2489, 2490, 2491, 2492, 2493, 2494, 2495, 2496, 2497, 2498, 2499, 2500, 2502, 2509, 2511, 2513, 2514, 2515, 2518, 2519, 2521, 2523, 2527, 2529, 2530, 2533, 2537, 2538, 2541, 2542, 2543, 2547, 2548, 2549, 2550, 2553, 2556, 2557, 2558, 2560, 2562, 2563, 2564, 2566, 2567, 2568, 2569, 2570, 2572, 2573, 2574, 2575, 2576, 2577, 2578, 2579, 2580, 2581, 2583, 2584, 2585, 2586, 2587, 2588, 2589, 2590, 2592, 2593, 2594, 2595, 2596, 2597, 2598, 2602, 2603, 2604, 2605, 2606, 2607, 2608, 2609, 2610, 2613, 2614, 2615, 2616, 2617, 2618, 2619, 2620, 2621, 2622, 2623, 2624, 2625, 2626, 2628, 2629, 2630, 2631, 2633, 2634, 2635, 2636, 2637, 2638, 2640, 2641, 2642, 2646, 2647, 2648, 2649, 2650, 2651, 2652, 2653, 2654, 2655, 2656, 2657, 2658, 2659, 2660, 2661, 2662, 2663, 2666, 2670, 2672, 2675, 2676, 2678, 2679, 2680, 2682, 2683, 2685, 2686, 2687, 2689, 2692, 2693, 2694, 2695, 2696, 2697, 2698, 2699, 2700, 2701, 2703, 2705, 2706, 2709, 2711, 2713, 2714, 2716, 2718, 2720, 2722, 2725, 2726, 2733, 2738, 2739, 2741, 2742, 2743, 2744, 2746, 2750, 2758, 2763, 2764, 2768, 2770, 2772, 2774, 2776, 2779, 2781, 2782, 2784, 2785, 2786, 2788, 2789, 2793, 2794, 2795, 2796, 2797, 2799, 2800, 2801, 2802, 2803, 2804, 2805, 2806, 2807, 2808, 2809, 2811, 2812, 2813, 2814, 2815, 2816, 2817, 2818, 2819, 2820, 2821, 2822, 2823, 2824, 2825, 2826, 2827, 2828, 2829, 2830, 2831, 2832, 2833, 2834, 2835, 2836, 2837, 2838, 2839, 2840, 2841, 2842, 2843, 2844, 2845, 2846, 2847, 2848, 2849, 2851, 2852, 2853, 2856, 2857, 2858, 2859, 2860, 2861, 2862, 2863, 2864, 2865, 2866, 2867, 2868, 2869, 2870, 2871, 2872, 2873, 2874, 2875, 2876, 2877, 2878, 2879, 2881, 2882, 2883, 2884, 2885, 2886, 2887, 2888, 2889, 2890, 2891, 2892, 2893, 2894, 2897, 2898, 2899, 2900, 2901, 2902, 2903, 2904, 2905, 2906, 2907, 2908, 2909, 2910, 2911, 2912, 2913, 2914, 2915, 2916, 2917, 2918, 2919, 2920, 2921, 2922, 2923, 2924, 2925, 2926, 2927, 2928, 2929, 2930, 2931, 2932, 2933, 2934, 2935, 2936, 2938, 2939, 2940, 2941, 2942, 2943, 2944, 2945, 2946, 2947, 2948, 2949, 2951, 2952, 2953, 2954, 2955, 2956, 2957, 2958, 2959, 2960, 2961, 2962, 2963, 2964, 2965, 2966, 2967, 2968, 2969, 2970, 2971, 2972, 2973, 2974, 2975, 2976, 2977, 2978, 2979, 2980, 2981, 2982, 2983, 2984, 2985, 2986, 2987, 2988, 2989, 2990, 2991, 2992, 2993, 2994, 2995, 2996, 2997, 2998, 2999, 3002, 3003, 3004, 3005, 3006, 3007, 3008, 3009, 3010, 3011, 3012, 3013, 3014, 3015, 3016, 3017, 3018, 3019, 3020, 3021, 3022, 3023, 3024, 3025, 3026, 3027, 3028, 3029, 3030, 3031, 3032, 3033, 3034, 3035, 3036, 3037, 3038, 3039, 3040, 3041, 3042, 3043, 3044, 3045, 3046, 3047, 3048, 3050, 3051, 3052, 3053, 3054, 3055, 3056, 3057, 3058, 3059, 3061, 3062, 3063, 3064, 3065, 3066, 3067, 3068, 3069, 3070, 3071, 3072, 3073, 3074, 3075, 3076, 3077, 3078, 3080, 3081, 3082, 3083, 3084, 3085, 3086, 3087, 3088, 3089, 3090, 3091, 3092, 3093, 3094, 3095, 3096, 3098, 3100, 3101, 3102, 3103, 3104, 3105, 3106, 3107, 3108, 3109, 3111, 3112, 3113, 3114, 3115, 3116, 3118, 3119, 3120, 3121, 3122, 3123, 3124, 3125, 3126, 3127, 3128, 3129, 3130, 3131, 3132, 3133, 3134, 3135, 3137, 3138, 3139, 3140, 3141, 3142, 3143, 3144, 3145, 3146, 3147, 3148, 3149, 3150, 3151, 3152, 3153, 3154, 3155, 3156, 3157, 3158, 3159, 3160, 3161, 3162, 3163, 3164, 3165, 3166, 3167, 3168, 3169, 3170, 3171, 3172, 3173, 3174, 3175, 3176, 3177, 3183, 3184, 3185, 3186, 3187, 3188, 3189, 3190, 3191, 3192, 3193, 3194, 3195, 3196, 3197, 3198, 3199, 3200, 3201, 3202, 3203, 3204, 3205, 3206, 3207, 3208, 3209, 3210, 3211, 3212, 3213, 3214, 3215, 3216, 3217, 3218, 3219, 3220, 3221, 3222, 3223, 3224, 3225, 3226, 3227, 3228, 3229, 3230, 3231, 3232, 3233, 3234, 3236, 3237, 3238, 3239, 3240, 3241, 3242, 3243, 3244, 3245, 3246, 3247, 3248, 3249, 3251, 3253, 3254, 3255, 3256, 3257, 3258, 3259, 3260, 3261, 3262, 3263, 3265, 3266, 3267, 3268, 3269, 3271, 3273, 3274, 3275, 3276, 3277, 3278, 3279, 3280, 3281, 3282, 3284, 3285, 3286, 3288, 3290, 3291, 3292, 3293, 3294, 3295, 3297, 3298, 3299, 3300, 3301, 3302, 3303, 3304, 3310, 3311, 3312, 3313, 3314, 3315, 3316, 3317, 3320, 3330, 3332, 3342, 3349, 3364, 3365, 3367, 3368, 3369, 3374, 3375, 3377, 3378, 3379, 3380, 3382, 3383, 3384, 3385, 3387, 3388, 3389, 3390, 3391, 3392, 3393, 3394, 3396, 3397, 3398, 3399, 3400, 3401, 3402, 3403, 3404, 3406, 3407, 3408, 3410, 3411, 3412, 3413, 3414, 3415, 3417, 3420, 3421, 3422, 3423, 3424, 3425, 3426, 3427, 3428, 3429, 3430, 3431, 3432, 3433, 3434, 3435, 3436, 3437, 3439, 3440, 3441, 3442, 3443, 3444, 3445, 3446, 3447, 3448, 3449, 3450, 3451, 3453, 3454, 3455, 3456, 3457, 3458, 3459, 3460, 3461, 3462, 3463, 3464, 3465, 3467, 3469, 3470, 3472, 3473, 3474, 3476, 3477, 3478, 3479, 3480, 3481, 3482, 3483, 3484, 3485, 3486, 3487, 3488, 3489, 3490, 3492, 3494, 3497, 3498, 3500, 3501, 3502, 3503, 3504, 3505, 3506, 3507, 3508, 3509, 3510, 3511, 3512, 3514, 3515, 3516, 3517, 3518, 3519, 3520, 3521, 3522, 3523, 3524, 3525, 3526, 3527, 3528, 3529, 3530, 3533, 3534, 3535, 3536, 3537, 3538, 3539, 3540, 3541, 3543, 3544, 3545, 3546, 3547, 3548, 3549, 3550, 3552, 3553, 3554, 3555, 3556, 3557, 3558, 3559, 3560, 3561, 3562, 3563, 3564, 3565, 3566, 3567, 3568, 3569, 3571, 3572, 3573, 3574, 3575, 3577, 3578, 3579, 3580, 3581, 3582, 3583, 3584, 3585, 3586, 3587, 3588, 3589, 3590, 3591, 3592, 3593, 3594, 3595, 3596, 3597, 3598, 3599, 3600, 3601, 3602, 3603, 3604, 3605, 3606, 3607, 3608, 3609, 3610, 3611, 3612, 3613, 3614, 3615, 3616, 3617, 3618, 3619, 3621, 3623, 3624, 3625, 3626, 3627, 3628, 3629, 3630, 3632, 3634, 3636, 3638, 3639, 3640, 3642, 3643, 3644, 3646, 3647, 3648, 3650, 3652, 3653, 3654, 3655, 3656, 3657, 3658, 3659, 3660, 3662, 3663, 3664, 3666, 3667, 3668, 3669, 3670, 3671, 3673, 3675, 3677, 3678, 3679, 3682, 3683, 3684, 3685, 3686, 3687, 3688, 3689, 3690, 3692, 3693, 3694, 3695, 3696, 3697, 3698, 3699, 3701, 3702, 3703, 3705, 3706, 3707, 3708, 3710, 3718, 3721, 3725, 3726, 3727, 3729, 3730, 3731, 3732, 3733, 3734, 3735, 3736, 3737, 3738, 3739, 3742, 3743, 3744, 3745, 3746, 3747, 3748, 3749, 3750, 3751, 3752, 3753, 3754, 3755, 3756, 3757, 3758, 3759, 3760, 3761, 3763, 3764, 3765, 3766, 3770, 3771, 3772, 3773, 3775, 3776, 3777, 3778, 3779, 3780, 3781, 3782, 3783, 3784, 3785, 3786, 3787, 3788, 3789, 3790, 3791, 3793, 3794, 3795, 3797, 3798, 3799, 3801, 3802, 3803, 3804, 3808, 3811, 3812, 3813, 3814, 3816, 3817, 3818, 3821, 3822, 3823, 3826, 3827, 3828, 3831, 3832, 3833, 3834, 3836, 3837, 3838, 3839, 3840, 3841, 3842, 3844, 3845, 3846, 3847, 3848, 3849, 3850, 3851, 3852, 3854, 3855, 3857, 3858, 3860, 3861, 3863, 3866, 3867, 3868, 3869, 3870, 3872, 3873, 3875, 3876, 3877, 3878, 3879, 3880, 3881, 3882, 3883, 3885, 3887, 3889, 3891, 3893, 3894, 3895, 3896, 3897, 3898, 3899, 3900, 3901, 3902, 3903, 3904, 3905, 3907, 3908, 3909, 3910, 3911, 3912, 3913, 3914, 3915, 3916, 3917, 3919, 3921, 3922, 3923, 3924, 3926, 3928, 3930, 3931, 3933, 3936, 3939, 3944, 3946, 3947, 3948, 3949, 3951, 3952, 3953, 3954, 3955, 3957, 3958, 3959, 3960, 3961, 3963, 3964, 3965, 3967, 3968, 3969, 3971, 3973, 3974, 3975, 3977, 3978, 3979, 3982, 3983, 3985, 3986, 3987, 3989, 3991, 3992, 3994, 3995, 3996, 3997, 3998, 3999, 4000, 4001, 4002, 4004, 4006, 4007, 4008, 4012, 4013, 4014, 4015, 4016, 4018, 4020, 4022, 4024, 4025, 4027, 4029, 4030, 4031, 4033, 4035, 4037, 4039, 4040, 4043, 4044, 4045, 4047, 4048, 4049, 4052, 4053, 4054, 4055, 4058, 4059, 4062, 4063, 4064, 4068, 4069, 4070, 4073, 4074, 4076, 4077, 4079, 4082, 4084, 4085, 4086, 4088, 4090, 4091, 4092, 4093, 4094, 4095, 4096, 4098, 4099, 4100, 4101, 4103, 4104, 4106, 4107, 4108, 4109, 4110, 4111, 4112, 4114, 4116, 4118, 4119, 4120, 4124, 4125, 4126, 4127, 4129, 4130, 4140, 4141, 4142, 4143, 4144, 4146, 4152, 4154, 4155, 4156, 4157, 4160, 4162, 4163, 4166, 4167, 4171, 4172, 4173, 4174, 4176, 4177, 4179, 4180, 4181, 4182, 4183, 4184, 4185, 4186, 4188, 4190, 4191, 4193, 4194, 4196, 4198, 4200, 4202, 4203, 4205, 4206, 4207, 4208, 4210, 4211, 4212, 4214, 4217, 4218, 4220, 4221, 4222, 4223, 4224, 4225, 4226, 4228, 4229, 4230, 4233, 4241, 4242, 4244, 4246, 4248, 4250, 4252, 4254, 4255, 4256, 4257, 4258, 4259, 4260, 4262, 4263, 4265, 4266, 4269, 4270, 4273, 4275, 4276, 4277, 4278, 4279, 4281, 4283, 4285, 4288, 4289, 4291, 4292, 4293, 4296, 4300, 4301, 4302, 4304, 4305, 4307, 4309, 4310, 4311, 4315, 4318, 4319, 4320, 4321, 4322, 4323, 4325, 4326, 4328, 4329, 4332, 4333, 4335, 4336, 4338, 4339, 4340, 4341, 4342, 4343, 4344, 4345, 4346, 4347, 4348, 4349, 4350, 4351, 4352, 4353, 4354, 4355, 4356, 4357, 4358, 4359, 4360, 4361, 4362, 4363, 4364, 4365, 4366, 4367, 4368, 4369, 4370, 4371, 4372, 4373, 4374, 4375, 4376, 4377, 4378, 4379, 4380, 4381, 4382, 4383, 4384, 4385, 4386, 4387, 4388, 4389, 4390, 4391, 4392, 4393, 4394, 4395, 4396, 4397, 4398, 4399, 4400, 4401, 4402, 4403, 4404, 4405, 4406, 4407, 4408, 4409, 4410, 4411, 4412, 4413, 4414, 4415, 4416, 4417, 4418, 4419, 4420, 4421, 4422, 4423, 4424, 4425, 4426, 4427, 4428, 4429, 4430, 4431, 4432, 4433, 4434, 4435, 4436, 4437, 4438, 4439, 4440, 4441, 4442, 4443, 4444, 4445, 4446, 4447, 4448, 4450, 4451, 4453, 4455, 4456, 4457, 4458, 4459, 4460, 4461, 4462, 4463, 4464, 4465, 4466, 4468, 4470, 4471, 4473, 4474, 4475, 4476, 4477, 4479, 4480, 4482, 4484, 4485, 4486, 4487, 4488, 4489, 4490, 4491, 4492, 4493, 4494, 4495, 4497, 4498, 4500, 4501, 4502, 4503, 4504, 4505, 4506, 4507, 4508, 4510, 4511, 4513, 4514, 4515, 4516, 4517, 4518, 4519, 4521, 4523, 4524, 4525, 4526, 4527, 4529, 4531, 4532, 4533, 4534, 4535, 4536, 4537, 4538, 4539, 4540, 4541, 4542, 4543, 4544, 4545, 4546, 4547, 4548, 4549, 4551, 4553, 4554, 4555, 4558, 4559, 4560, 4562, 4563, 4564, 4566, 4567, 4568, 4569, 4571, 4572, 4573, 4575, 4576, 4577, 4579, 4580, 4581, 4582, 4583, 4584, 4585, 4587, 4589, 4590, 4591, 4593, 4594, 4596, 4597, 4598, 4600, 4601, 4602, 4604, 4606, 4608, 4610, 4611, 4613, 4615, 4618, 4620, 4621, 4622, 4624, 4625, 4626, 4627, 4628, 4631, 4632, 4633, 4634, 4636, 4637, 4639, 4640, 4641, 4642, 4644, 4646, 4649, 4651, 4652, 4653, 4654, 4655, 4656, 4657, 4659, 4660, 4661, 4662, 4663, 4665, 4666, 4667, 4669, 4670, 4671, 4672, 4673, 4674, 4675, 4676, 4679, 4683, 4684, 4685, 4686, 4687, 4688, 4689, 4691, 4693, 4695, 4698, 4699, 4701, 4702, 4704, 4706, 4708, 4709, 4711, 4712, 4713, 4714, 4716, 4717, 4718, 4719, 4720, 4721, 4722, 4724, 4725, 4726, 4728, 4729, 4730, 4731, 4732, 4735, 4736, 4737, 4739, 4741, 4742, 4744, 4746, 4747, 4749, 4750, 4751, 4753, 4754, 4755, 4757, 4758, 4760, 4761, 4763, 4764, 4766, 4768, 4771, 4772, 4773, 4774, 4775, 4776, 4777, 4778, 4779, 4780, 4781, 4782, 4783, 4785, 4786, 4787, 4788, 4789, 4790, 4791, 4792, 4793, 4794, 4795, 4796, 4797, 4798, 4800, 4801, 4802, 4803, 4804, 4807, 4809, 4811, 4814, 4815, 4817, 4819, 4822, 4823, 4824, 4826, 4828, 4829, 4831, 4832, 4833, 4834, 4835, 4836, 4837, 4838, 4839, 4840, 4841, 4844, 4845, 4846, 4847, 4848, 4849, 4850, 4852, 4853, 4854, 4855, 4856, 4857, 4859, 4860, 4862, 4863, 4865, 4866, 4867, 4869, 4870, 4871, 4872, 4873, 4874, 4875, 4876, 4877, 4878, 4879, 4880, 4881, 4882, 4883, 4884, 4885, 4886, 4887, 4888, 4889, 4890, 4892, 4893, 4894, 4895, 4896, 4897, 4899, 4900, 4901, 4902, 4903, 4904, 4905, 4906, 4907, 4908, 4909, 4910, 4911, 4912, 4913, 4915, 4916, 4917, 4918, 4919, 4920, 4921, 4922, 4923, 4925, 4926, 4927, 4928, 4929, 4930, 4931, 4932, 4933, 4935, 4937, 4939, 4940, 4942, 4943, 4944, 4945, 4946, 4947, 4948, 4949, 4950, 4952, 4954, 4955, 4956, 4957, 4958, 4959, 4960, 4961, 4962, 4963, 4964, 4965, 4966, 4967, 4968, 4969, 4970, 4972, 4973, 4976, 4977, 4978, 4980, 4981, 4982, 4983, 4984, 4986, 4987, 4988, 4989, 4990, 4991, 4992, 4993, 4994, 4995, 4996, 4997, 4998, 4999, 5003, 5004, 5005, 5006, 5007, 5009, 5010, 5011, 5012, 5015, 5016, 5017, 5018, 5019, 5020, 5021, 5022, 5023, 5024, 5025, 5026, 5027, 5028, 5029, 5030, 5031, 5032, 5033, 5034, 5036, 5037, 5039, 5041, 5042, 5047, 5048, 5049, 5052, 5053, 5055, 5056, 5058, 5059, 5061, 5063, 5064, 5065, 5072, 5074, 5075, 5077, 5078, 5079, 5080, 5081, 5082, 5083, 5084, 5085, 5087, 5088, 5089, 5090, 5092, 5093, 5095, 5096, 5097, 5098, 5105, 5106, 5107, 5108, 5109, 5111, 5114, 5117, 5119, 5120, 5121, 5123, 5124, 5127, 5128, 5129, 5130, 5132, 5133, 5135, 5136, 5137, 5138, 5139, 5140, 5142, 5143, 5144, 5145, 5146, 5147, 5148, 5149, 5151, 5152, 5153, 5154, 5156, 5158, 5159, 5160, 5162, 5164, 5165, 5166, 5167, 5170, 5172, 5174, 5175, 5176, 5177, 5179, 5180, 5182, 5183, 5186, 5188, 5189, 5191, 5192, 5193, 5194, 5195, 5197, 5198, 5199, 5201, 5202, 5204, 5208, 5209, 5210, 5213, 5214, 5215, 5216, 5218, 5220, 5221, 5222, 5223, 5228, 5230, 5232, 5236, 5245, 5246, 5251, 5252, 5256, 5257, 5258, 5259, 5261, 5262, 5270, 5271, 5273, 5274, 5275, 5276, 5277, 5278, 5280, 5281, 5283, 5284, 5285, 5287, 5288, 5289, 5290, 5291, 5292, 5293, 5294, 5295, 5296, 5299, 5300, 5301, 5302, 5303, 5304, 5305, 5306, 5307, 5308, 5309, 5310, 5311, 5312, 5314, 5315, 5316, 5317, 5318, 5319, 5320, 5321, 5323, 5324, 5325, 5327, 5328, 5330, 5331, 5332, 5333, 5334, 5335, 5336, 5337, 5338, 5340, 5341, 5342, 5344, 5345, 5347, 5348, 5349, 5350, 5351, 5352, 5353, 5354, 5355, 5356, 5357, 5358, 5359, 5361, 5362, 5364, 5365, 5366, 5367, 5369, 5371, 5372, 5375, 5379, 5380, 5382, 5383, 5384, 5385, 5386, 5388, 5389, 5392, 5393, 5394, 5396, 5407, 5408, 5409, 5410, 5412, 5413, 5414, 5415, 5416, 5418, 5423, 5425, 5426, 5427, 5428, 5429, 5430, 5431, 5438, 5439, 5440, 5441, 5442, 5443, 5444, 5445, 5447, 5448, 5449, 5451, 5452, 5453, 5455, 5457, 5459, 5460, 5462, 5463, 5464, 5465, 5466, 5468, 5469, 5471, 5472, 5473, 5474, 5475, 5476, 5477, 5478, 5479, 5480, 5481, 5482, 5483, 5486, 5487, 5489, 5490, 5491, 5492, 5493, 5495, 5496, 5497, 5500, 5501, 5502, 5504, 5505, 5506, 5507, 5509, 5510, 5511, 5512, 5519, 5520, 5522, 5523, 5525, 5526, 5527, 5528, 5529, 5530, 5531, 5532, 5537, 5538, 5550, 5552, 5553, 5554, 5559, 5561, 5562, 5563, 5564, 5565, 5566, 5567, 5569, 5570, 5571, 5572, 5573, 5574, 5575, 5576, 5578, 5579, 5580, 5581, 5582, 5583, 5585, 5586, 5587, 5588, 5589, 5590, 5591, 5592, 5594, 5596, 5597, 5598, 5599, 5600, 5601, 5602, 5603, 5604, 5605, 5606, 5607, 5608, 5610, 5612, 5614, 5616, 5617, 5620, 5621, 5622, 5623, 5624, 5625, 5627, 5629, 5630, 5631, 5632, 5633, 5634, 5637, 5638, 5640, 5641, 5645, 5646, 5650, 5651, 5663, 5667, 5669, 5671, 5673, 5674, 5675, 5676, 5678, 5679, 5680, 5681, 5682, 5683, 5684, 5685, 5687, 5688, 5689, 5690, 5691, 5692, 5694, 5695, 5696, 5697, 5698, 5699, 5702, 5707, 5708, 5709, 5711, 5712, 5713, 5714, 5715, 5717, 5719, 5720, 5721, 5722, 5723, 5724, 5726, 5730, 5732, 5733, 5735, 5739, 5740, 5741, 5742, 5744, 5745, 5748, 5749, 5750, 5751, 5752, 5754, 5756, 5757, 5758, 5759, 5761, 5763, 5764, 5766, 5767, 5768, 5770, 5772, 5777, 5780, 5783, 5786, 5789, 5790, 5793, 5794, 5795, 5799, 5800, 5801, 5802, 5803, 5807, 5808, 5809, 5814, 5815, 5816, 5817, 5818, 5819, 5820, 5821, 5822, 5825, 5826, 5827, 5828, 5829, 5834, 5837, 5839, 5840, 5842, 5843, 5844, 5845, 5846, 5847, 5848, 5849, 5851, 5852, 5853, 5854, 5855, 5857, 5859, 5861, 5863, 5866, 5867, 5868, 5869, 5870, 5871, 5872, 5873, 5874, 5875, 5876, 5878, 5886, 5887, 5888, 5889, 5890, 5891, 5893, 5894, 5895, 5896, 5897, 5899, 5901, 5902, 5905, 5906, 5907, 5908, 5910, 5911, 5912, 5913, 5915, 5918, 5919, 5920, 5922, 5924, 5925, 5927, 5928, 5932, 5933, 5938, 5939, 5940, 5942, 5943, 5945, 5946, 5947, 5948, 5949, 5951, 5952, 5953, 5954, 5955, 5959, 5960, 5961, 5963, 5965, 5967, 5969, 5971, 5973, 5977, 5981, 5982, 5983, 5984, 5985, 5986, 5987, 5991, 5992, 5995, 5998, 5999, 6000, 6001, 6003, 6004, 6006, 6007, 6008, 6009, 6011, 6012, 6014, 6016, 6019, 6020, 6022, 6024, 6025, 6028, 6030, 6034, 6037, 6038, 6039, 6040, 6042, 6043, 6045, 6048, 6049, 6050, 6051, 6054, 6056, 6057, 6059, 6063, 6064, 6065, 6066, 6067, 6068, 6069, 6071, 6072, 6073, 6074, 6075, 6076, 6077, 6078, 6079, 6080, 6081, 6082, 6083, 6086, 6089, 6090, 6091, 6095, 6097, 6099, 6100, 6101, 6102, 6109, 6112, 6113, 6114, 6115, 6116, 6117, 6120, 6121, 6122, 6123, 6124, 6126, 6127, 6128, 6129, 6130, 6131, 6132, 6133, 6134, 6135, 6136, 6137, 6138, 6139, 6140, 6141, 6142, 6143, 6144, 6145, 6146, 6147, 6148, 6150, 6152, 6155, 6156, 6157, 6158, 6159, 6163, 6164, 6165, 6166, 6167, 6168, 6169, 6170, 6171, 6172, 6173, 6174, 6176, 6177, 6178, 6179, 6180, 6181, 6182, 6183, 6185, 6186, 6188, 6189, 6190, 6191, 6192, 6193, 6194, 6195, 6196, 6197, 6201, 6202, 6203, 6204, 6205, 6206, 6207, 6208, 6209, 6212, 6213, 6214, 6215, 6217, 6218, 6219, 6220, 6221, 6222, 6223, 6224, 6225, 6226, 6227, 6228, 6230, 6231, 6232, 6233, 6234, 6238, 6239, 6240, 6242, 6244, 6245, 6246, 6247, 6248, 6249, 6250, 6251, 6252, 6253, 6254, 6256, 6260, 6261, 6263, 6264, 6265, 6266, 6270, 6271, 6273, 6275, 6278, 6279, 6281, 6283, 6285, 6286, 6289, 6292, 6293, 6297, 6299, 6303, 6304, 6305, 6306, 6309, 6310, 6311, 6312, 6313, 6314, 6318, 6320, 6322, 6324, 6326, 6328, 6329, 6330, 6333, 6334, 6335, 6339, 6344, 6345, 6346, 6347, 6348, 6349, 6350, 6420, 6449, 6450, 6451, 6452, 6453, 6454, 6455, 6456, 6457, 6458, 6459, 6460, 6461, 6462, 6463, 6464, 6465, 6466, 6467, 6468, 6469, 6470, 6471, 6472, 6473, 6474, 6475, 6476, 6477, 6478, 6479, 6480, 6481, 6482, 6483, 6484, 6485, 6486, 6487, 6488, 6489, 6490, 6491, 6492, 6493, 6494, 6495, 6496, 6497, 6498, 6499, 6500, 6501, 6502, 6503, 6504, 6505, 6506, 6507, 6508, 6509, 6510, 6511, 6512, 6513, 6514, 6515, 6516, 6517, 6518, 6519, 6520, 6521, 6522, 6523, 6524, 6525, 6526, 6527, 6528, 6529, 6530, 6531, 6532, 6533, 6534, 6535, 6536, 6537, 6538, 6539, 6540, 6541, 6542, 6543, 6544, 6545, 6546, 6547, 6548, 6549, 6550, 6551, 6552, 6553, 6554, 6555, 6556, 6557, 6558, 6559, 6560, 6561, 6562, 6563, 6564, 6565, 6566, 6567, 6568, 6569, 6570, 6571, 6572, 6573, 6574, 6575, 6576, 6577, 6578, 6579, 6580, 6581, 6582, 6583, 6584, 6585, 6586, 6587, 6588, 6589, 6590, 6591, 6592, 6593, 6594, 6595, 6596, 6597, 6598, 6599, 6600, 6601, 6602, 6603, 6604, 6605, 6606, 6607, 6608, 6609, 6610, 6611, 6612, 6613, 6614, 6615, 6616, 6617, 6618, 6619, 6620, 6621, 6622, 6623, 6624, 6625, 6626, 6627, 6628, 6629, 6630, 6631, 6632, 6633, 6634, 6635, 6636, 6637, 6638, 6639, 6640, 6641, 6642, 6643, 6644, 6645, 6646, 6647, 6648, 6649, 6650, 6651, 6652, 6653, 6654, 6655, 6656, 6657, 6658, 6659, 6660, 6661, 6662, 6663, 6664, 6665, 6666, 6667, 6668, 6669, 6670, 6671, 6672, 6673, 6674, 6675, 6676, 6677, 6678, 6679, 6680, 6681, 6682, 6683, 6684, 6685, 6686, 6687, 6688, 6689, 6690, 6691, 6692, 6693, 6694, 6695, 6696, 6697, 6698, 6699, 6700, 6701, 6702, 6703, 6704, 6705, 6706, 6707, 6708, 6709, 6710, 6711, 6712, 6713, 6714, 6715, 6716, 6717, 6718, 6719, 6720, 6721, 6722, 6723, 6724, 6725, 6726, 6727, 6728, 6729, 6730, 6731, 6732, 6733, 6734, 6735, 6736, 6737, 6738, 6739, 6740, 6741, 6742, 6743, 6744, 6745, 6746, 6747, 6748, 6749, 6750, 6751, 6752, 6753, 6754, 6755, 6756, 6757, 6758, 6759, 6760, 6761, 6762, 6763, 6764, 6765, 6766, 6767, 6768, 6769, 6770, 6771, 6772, 6773, 6774, 6775, 6776, 6777, 6778, 6779, 6780, 6781, 6782, 6783, 6784, 6785, 6786, 6787, 6788, 6789, 6790, 6791, 6792, 6793, 6794, 6795, 6796, 6797, 6798, 6799, 6800, 6801, 6802, 6803, 6804, 6805, 6806, 6807, 6808, 6809, 6810, 6811, 6812, 6813, 6814, 6815, 6816, 6817, 6818, 6819, 6820, 6821, 6822, 6823, 6824, 6825, 6826, 6827, 6828, 6829, 6830, 6831, 6832, 6833, 6834, 6835, 6836, 6837, 6838, 6839, 6840, 6841, 6842, 6843, 6844, 6845, 6846, 6847, 6848, 6849, 6850, 6851, 6852, 6853, 6854, 6855, 6856, 6857, 6858, 6859, 6860, 6861, 6862, 6863, 6864, 6865, 6866, 6867, 6868, 6869, 6870, 6871, 6879, 6882, 6923, 6926, 6929, 6931, 6933, 6934, 6935, 6936, 6937, 6947, 6948, 6955, 6959, 6961, 6963, 6973, 6977, 6980, 6983, 6985, 6986, 6993, 6999, 7012, 7015, 7016, 7023, 7031, 7033, 7036, 7039, 7040, 7041, 7043, 7044, 7045, 7048, 7049, 7050, 7053, 7054, 7055, 7058, 7059, 7060, 7063, 7064, 7067, 7068, 7069, 7070, 7072, 7073, 7074, 7076, 7077, 7078, 7088, 7101, 7105, 7106, 7107, 7108, 7109, 7110, 7112, 7113, 7115, 7133, 7138, 7142, 7147, 7149, 7151, 7153, 7155, 7158, 7159, 7166, 7184, 7194, 7195, 7196, 7197, 7198, 7199, 7200, 7209, 7217, 7225, 7229, 7272, 7284, 7318, 7325, 7326, 7332, 7333, 7357, 7385, 7386, 7424, 7425, 7427, 7428, 7431, 7432, 7434, 7436, 7437, 7438, 7439, 7441, 7442, 7443, 7444, 7446, 7447, 7448, 7450, 7452, 7461, 7465, 7466, 7467, 7470, 7471, 7472, 7479, 7480, 7481, 7495, 7510, 7512, 7514, 7516, 7518, 7521, 7523, 7525, 7537, 7548, 7551, 7552, 7553, 7586, 7592, 7595, 7620, 7624, 7627, 7629, 7653, 7655, 7657, 7660, 7662, 7664, 7666, 7670, 7671, 7673, 7674, 7675, 7676, 7678, 7679, 7681, 7682, 7684, 7686, 7687, 7688, 7691, 7692, 7693, 7698, 7699, 7701, 7702, 7703, 7704, 7705, 7706, 7707, 7708, 7709, 7710, 7711, 7712, 7714, 7716, 7717, 7722, 7723, 7726, 7727, 7728, 7729, 7731, 7732, 7733, 7735, 7737, 7738, 7739, 7740, 7741, 7744, 7746, 7747, 7748, 7749, 7750, 7756, 7758, 7759, 7760, 7761, 7762, 7763, 7764, 7765, 7766, 7768, 7770, 7771, 7774, 7775, 7777, 7778, 7780, 7781, 7783, 7785, 7787, 7789, 7790, 7791, 7793, 7794, 7795, 7796, 7797, 7798, 7800, 7801, 7802, 7803, 7804, 7806, 7807, 7808, 7809, 7810, 7811, 7812, 7814, 7816, 7817, 7819, 7820, 7821, 7822, 7823, 7824, 7826, 7827, 7829, 7830, 7832, 7834, 7835, 7837, 7838, 7839, 7841, 7842, 7843, 7844, 7845, 7847, 7849, 7850, 7851, 7852, 7853, 7855, 7857, 7858, 7859, 7861, 7862, 7863, 7864, 7865, 7866, 7867, 7868, 7869, 7870, 7871, 7872, 7873, 7874, 7875, 7876, 7878, 7879, 7880, 7881, 7882, 7883, 7884, 7885, 7887, 7889, 7890, 7892, 7893, 7895, 7897, 7898, 7899, 7900, 7901, 7903, 7905, 7906, 7907, 7908, 7909, 7911, 7912, 7913, 7914, 7915, 7916, 7917, 7918, 7919, 7920, 7921, 7923, 7924, 7925, 7926, 7927, 7928, 7929, 7931, 7932, 7933, 7934, 7936, 7937, 7941, 7942, 7943, 7944, 7946, 7947, 7948, 7949, 7951, 7952, 7953, 7955, 7956, 7957, 7958, 7959, 7960, 7961, 7962, 7964, 7965, 7966, 7967, 7968, 7969, 7970, 7971, 7972, 7973, 7974, 7975, 7976, 7977, 7979, 7980, 7981, 7982, 7984, 7985, 7986, 7988, 7989, 7990, 7991, 7993, 7994, 7995, 7996, 7997, 7998, 8001, 8003, 8004, 8005, 8008, 8009, 8010, 8011, 8012, 8013, 8014, 8015, 8016, 8017, 8018, 8019, 8020, 8021, 8022, 8024, 8029, 8030, 8031, 8032, 8034, 8035, 8036, 8038, 8039, 8040, 8042, 8045, 8046, 8048, 8051, 8052, 8053, 8057, 8058, 8059, 8060, 8061, 8062, 8063, 8064, 8065, 8068, 8069, 8070, 8071, 8074, 8076, 8077, 8079, 8080, 8081, 8082, 8083, 8084, 8085, 8086, 8088, 8089, 8091, 8094, 8095, 8096, 8097, 8098, 8099, 8100, 8102, 8103, 8104, 8107, 8109, 8110, 8111, 8117, 8118, 8119, 8120, 8121, 8122, 8123, 8124, 8128, 8129, 8131, 8132, 8133, 8137, 8138, 8139, 8140, 8142, 8143, 8144, 8145, 8146, 8147, 8148, 8149, 8150, 8157, 8158, 8159, 8160, 8161, 8163, 8164, 8165, 8167, 8170, 8171, 8172, 8173, 8174, 8175, 8176, 8177, 8178, 8179, 8180, 8182, 8184, 8185, 8187, 8188, 8189, 8191, 8193, 8195, 8197, 8199, 8200, 8203, 8213, 8215, 8217, 8224, 8239, 8241, 8245, 8246, 8247, 8252, 8254, 8256, 8258, 8260, 8262, 8263, 8265, 8266, 8268, 8269, 8271, 8273, 8279, 8288, 8289, 8293, 8294, 8298, 8299, 8304, 8306, 8308, 8311, 8312, 8313, 8318, 8327, 8332, 8334, 8336, 8344, 8345, 8347, 8348, 8350, 8351, 8354, 8355, 8360, 8362, 8364, 8367, 8369, 8375, 8378, 8379, 8380, 8383, 8384, 8386, 8387, 8398, 8403, 8404, 8405, 8406, 8422, 8423, 8424, 8425, 8426, 8427, 8448, 8449, 8458, 8459, 8463, 8466, 8471, 8483, 8484, 8485, 8486, 8487, 8488, 8489, 8490, 8493, 8496, 8498, 8502, 8506, 8511, 8512, 8513, 8514, 8515, 8518]\n",
      "'ISIC4_분류명'에는 없고 'ISIC4_국제표준산업분류'에만 있는 결측치 인덱스: []\n",
      "'ISIC4_국제표준산업분류'에는 없고 'ISIC4_분류명'에만 있는 결측치 인덱스: [6980, 6923, 6933, 6934, 6935, 6936, 6937]\n"
     ]
    }
   ],
   "source": [
    "in_temp1 = list(set(temp1) - set(temp2))\n",
    "in_temp2 = list(set(temp2) - set(temp1))\n",
    "\n",
    "print(temp1)\n",
    "print(temp2)\n",
    "print(\"'ISIC4_분류명'에는 없고 'ISIC4_국제표준산업분류'에만 있는 결측치 인덱스:\", in_temp1)\n",
    "print(\"'ISIC4_국제표준산업분류'에는 없고 'ISIC4_분류명'에만 있는 결측치 인덱스:\", in_temp2)"
   ]
  },
  {
   "cell_type": "code",
   "execution_count": 71,
   "metadata": {},
   "outputs": [
    {
     "data": {
      "text/html": [
       "<div>\n",
       "<style scoped>\n",
       "    .dataframe tbody tr th:only-of-type {\n",
       "        vertical-align: middle;\n",
       "    }\n",
       "\n",
       "    .dataframe tbody tr th {\n",
       "        vertical-align: top;\n",
       "    }\n",
       "\n",
       "    .dataframe thead th {\n",
       "        text-align: right;\n",
       "    }\n",
       "</style>\n",
       "<table border=\"1\" class=\"dataframe\">\n",
       "  <thead>\n",
       "    <tr style=\"text-align: right;\">\n",
       "      <th></th>\n",
       "      <th>ISIC4_국제표준산업분류</th>\n",
       "      <th>ISIC4_분류명</th>\n",
       "      <th>KSIC10_한국표준산업분류</th>\n",
       "      <th>KSIC10_분류명</th>\n",
       "      <th>HS2017_관세통계통합품목분류</th>\n",
       "      <th>HS2017_분류명</th>\n",
       "    </tr>\n",
       "  </thead>\n",
       "  <tbody>\n",
       "    <tr>\n",
       "      <th>6980</th>\n",
       "      <td>5110</td>\n",
       "      <td>NaN</td>\n",
       "      <td>51100</td>\n",
       "      <td>항공 여객운송업</td>\n",
       "      <td>NaN</td>\n",
       "      <td>NaN</td>\n",
       "    </tr>\n",
       "    <tr>\n",
       "      <th>6923</th>\n",
       "      <td>5110</td>\n",
       "      <td>NaN</td>\n",
       "      <td>51100</td>\n",
       "      <td>항공 여객운송업</td>\n",
       "      <td>NaN</td>\n",
       "      <td>NaN</td>\n",
       "    </tr>\n",
       "    <tr>\n",
       "      <th>6933</th>\n",
       "      <td>5110</td>\n",
       "      <td>NaN</td>\n",
       "      <td>51100</td>\n",
       "      <td>항공 여객운송업</td>\n",
       "      <td>NaN</td>\n",
       "      <td>NaN</td>\n",
       "    </tr>\n",
       "    <tr>\n",
       "      <th>6934</th>\n",
       "      <td>5110</td>\n",
       "      <td>NaN</td>\n",
       "      <td>51100</td>\n",
       "      <td>항공 여객운송업</td>\n",
       "      <td>NaN</td>\n",
       "      <td>NaN</td>\n",
       "    </tr>\n",
       "    <tr>\n",
       "      <th>6935</th>\n",
       "      <td>5110</td>\n",
       "      <td>NaN</td>\n",
       "      <td>51100</td>\n",
       "      <td>항공 여객운송업</td>\n",
       "      <td>NaN</td>\n",
       "      <td>NaN</td>\n",
       "    </tr>\n",
       "    <tr>\n",
       "      <th>6936</th>\n",
       "      <td>5110</td>\n",
       "      <td>NaN</td>\n",
       "      <td>51100</td>\n",
       "      <td>항공 여객운송업</td>\n",
       "      <td>NaN</td>\n",
       "      <td>NaN</td>\n",
       "    </tr>\n",
       "    <tr>\n",
       "      <th>6937</th>\n",
       "      <td>5110</td>\n",
       "      <td>NaN</td>\n",
       "      <td>51100</td>\n",
       "      <td>항공 여객운송업</td>\n",
       "      <td>NaN</td>\n",
       "      <td>NaN</td>\n",
       "    </tr>\n",
       "  </tbody>\n",
       "</table>\n",
       "</div>"
      ],
      "text/plain": [
       "     ISIC4_국제표준산업분류 ISIC4_분류명 KSIC10_한국표준산업분류 KSIC10_분류명  HS2017_관세통계통합품목분류  \\\n",
       "6980           5110       NaN           51100   항공 여객운송업                NaN   \n",
       "6923           5110       NaN           51100   항공 여객운송업                NaN   \n",
       "6933           5110       NaN           51100   항공 여객운송업                NaN   \n",
       "6934           5110       NaN           51100   항공 여객운송업                NaN   \n",
       "6935           5110       NaN           51100   항공 여객운송업                NaN   \n",
       "6936           5110       NaN           51100   항공 여객운송업                NaN   \n",
       "6937           5110       NaN           51100   항공 여객운송업                NaN   \n",
       "\n",
       "     HS2017_분류명  \n",
       "6980        NaN  \n",
       "6923        NaN  \n",
       "6933        NaN  \n",
       "6934        NaN  \n",
       "6935        NaN  \n",
       "6936        NaN  \n",
       "6937        NaN  "
      ]
     },
     "execution_count": 71,
     "metadata": {},
     "output_type": "execute_result"
    }
   ],
   "source": [
    "statistics_data.iloc[in_temp2]"
   ]
  },
  {
   "cell_type": "markdown",
   "metadata": {},
   "source": [
    "- `ISIC4_분류명`에만 있는 인덱스를 확인하니 `ISIC4_국제표준산업분류`가 `5110`으로 존재함"
   ]
  },
  {
   "cell_type": "markdown",
   "metadata": {},
   "source": [
    "## KSIC10_한국표준산업분류"
   ]
  },
  {
   "cell_type": "code",
   "execution_count": 72,
   "metadata": {},
   "outputs": [
    {
     "data": {
      "text/plain": [
       "KSIC10_한국표준산업분류\n",
       "01152    63\n",
       "01121    42\n",
       "01131    40\n",
       "03112    37\n",
       "03111    35\n",
       "         ..\n",
       "71400     1\n",
       "35111     1\n",
       "71392     1\n",
       "71399     1\n",
       "99009     1\n",
       "Name: count, Length: 1003, dtype: int64"
      ]
     },
     "execution_count": 72,
     "metadata": {},
     "output_type": "execute_result"
    }
   ],
   "source": [
    "statistics_data['KSIC10_한국표준산업분류'].value_counts()"
   ]
  },
  {
   "cell_type": "code",
   "execution_count": 73,
   "metadata": {},
   "outputs": [
    {
     "data": {
      "text/plain": [
       "array(['01123', nan, '01110', ..., '97000', '99001', '99009'],\n",
       "      dtype=object)"
      ]
     },
     "execution_count": 73,
     "metadata": {},
     "output_type": "execute_result"
    }
   ],
   "source": [
    "statistics_data['KSIC10_한국표준산업분류'].unique()"
   ]
  },
  {
   "cell_type": "code",
   "execution_count": 74,
   "metadata": {},
   "outputs": [
    {
     "data": {
      "text/html": [
       "<div>\n",
       "<style scoped>\n",
       "    .dataframe tbody tr th:only-of-type {\n",
       "        vertical-align: middle;\n",
       "    }\n",
       "\n",
       "    .dataframe tbody tr th {\n",
       "        vertical-align: top;\n",
       "    }\n",
       "\n",
       "    .dataframe thead th {\n",
       "        text-align: right;\n",
       "    }\n",
       "</style>\n",
       "<table border=\"1\" class=\"dataframe\">\n",
       "  <thead>\n",
       "    <tr style=\"text-align: right;\">\n",
       "      <th></th>\n",
       "      <th>ISIC4_국제표준산업분류</th>\n",
       "      <th>ISIC4_분류명</th>\n",
       "      <th>KSIC10_한국표준산업분류</th>\n",
       "      <th>KSIC10_분류명</th>\n",
       "      <th>HS2017_관세통계통합품목분류</th>\n",
       "      <th>HS2017_분류명</th>\n",
       "    </tr>\n",
       "  </thead>\n",
       "  <tbody>\n",
       "    <tr>\n",
       "      <th>1</th>\n",
       "      <td>NaN</td>\n",
       "      <td>NaN</td>\n",
       "      <td>NaN</td>\n",
       "      <td>NaN</td>\n",
       "      <td>100191.0</td>\n",
       "      <td>종자</td>\n",
       "    </tr>\n",
       "    <tr>\n",
       "      <th>3</th>\n",
       "      <td>NaN</td>\n",
       "      <td>NaN</td>\n",
       "      <td>NaN</td>\n",
       "      <td>NaN</td>\n",
       "      <td>100199.0</td>\n",
       "      <td>기타</td>\n",
       "    </tr>\n",
       "    <tr>\n",
       "      <th>28</th>\n",
       "      <td>0111</td>\n",
       "      <td>곡물(쌀 제외), 콩류, 종실유 재배업</td>\n",
       "      <td>NaN</td>\n",
       "      <td>NaN</td>\n",
       "      <td>100890.0</td>\n",
       "      <td>그 밖의 곡물</td>\n",
       "    </tr>\n",
       "    <tr>\n",
       "      <th>37</th>\n",
       "      <td>NaN</td>\n",
       "      <td>NaN</td>\n",
       "      <td>NaN</td>\n",
       "      <td>NaN</td>\n",
       "      <td>70521.0</td>\n",
       "      <td>위트루프 치커리(Witloof chicory)[시코리엄 인티부스 변종 포리오섬(Ci...</td>\n",
       "    </tr>\n",
       "    <tr>\n",
       "      <th>38</th>\n",
       "      <td>NaN</td>\n",
       "      <td>NaN</td>\n",
       "      <td>NaN</td>\n",
       "      <td>NaN</td>\n",
       "      <td>70529.0</td>\n",
       "      <td>기타</td>\n",
       "    </tr>\n",
       "    <tr>\n",
       "      <th>...</th>\n",
       "      <td>...</td>\n",
       "      <td>...</td>\n",
       "      <td>...</td>\n",
       "      <td>...</td>\n",
       "      <td>...</td>\n",
       "      <td>...</td>\n",
       "    </tr>\n",
       "    <tr>\n",
       "      <th>8336</th>\n",
       "      <td>NaN</td>\n",
       "      <td>NaN</td>\n",
       "      <td>NaN</td>\n",
       "      <td>NaN</td>\n",
       "      <td>NaN</td>\n",
       "      <td>NaN</td>\n",
       "    </tr>\n",
       "    <tr>\n",
       "      <th>8342</th>\n",
       "      <td>8890</td>\n",
       "      <td>기타 비거주 사회복지사업</td>\n",
       "      <td>NaN</td>\n",
       "      <td>NaN</td>\n",
       "      <td>NaN</td>\n",
       "      <td>NaN</td>\n",
       "    </tr>\n",
       "    <tr>\n",
       "      <th>8360</th>\n",
       "      <td>NaN</td>\n",
       "      <td>NaN</td>\n",
       "      <td>NaN</td>\n",
       "      <td>NaN</td>\n",
       "      <td>NaN</td>\n",
       "      <td>NaN</td>\n",
       "    </tr>\n",
       "    <tr>\n",
       "      <th>8386</th>\n",
       "      <td>NaN</td>\n",
       "      <td>NaN</td>\n",
       "      <td>NaN</td>\n",
       "      <td>NaN</td>\n",
       "      <td>NaN</td>\n",
       "      <td>NaN</td>\n",
       "    </tr>\n",
       "    <tr>\n",
       "      <th>8387</th>\n",
       "      <td>NaN</td>\n",
       "      <td>NaN</td>\n",
       "      <td>NaN</td>\n",
       "      <td>NaN</td>\n",
       "      <td>NaN</td>\n",
       "      <td>NaN</td>\n",
       "    </tr>\n",
       "  </tbody>\n",
       "</table>\n",
       "<p>4787 rows × 6 columns</p>\n",
       "</div>"
      ],
      "text/plain": [
       "     ISIC4_국제표준산업분류              ISIC4_분류명 KSIC10_한국표준산업분류 KSIC10_분류명  \\\n",
       "1               NaN                    NaN             NaN        NaN   \n",
       "3               NaN                    NaN             NaN        NaN   \n",
       "28             0111  곡물(쌀 제외), 콩류, 종실유 재배업             NaN        NaN   \n",
       "37              NaN                    NaN             NaN        NaN   \n",
       "38              NaN                    NaN             NaN        NaN   \n",
       "...             ...                    ...             ...        ...   \n",
       "8336            NaN                    NaN             NaN        NaN   \n",
       "8342           8890          기타 비거주 사회복지사업             NaN        NaN   \n",
       "8360            NaN                    NaN             NaN        NaN   \n",
       "8386            NaN                    NaN             NaN        NaN   \n",
       "8387            NaN                    NaN             NaN        NaN   \n",
       "\n",
       "      HS2017_관세통계통합품목분류                                         HS2017_분류명  \n",
       "1              100191.0                                                 종자  \n",
       "3              100199.0                                                 기타  \n",
       "28             100890.0                                            그 밖의 곡물  \n",
       "37              70521.0  위트루프 치커리(Witloof chicory)[시코리엄 인티부스 변종 포리오섬(Ci...  \n",
       "38              70529.0                                                 기타  \n",
       "...                 ...                                                ...  \n",
       "8336                NaN                                                NaN  \n",
       "8342                NaN                                                NaN  \n",
       "8360                NaN                                                NaN  \n",
       "8386                NaN                                                NaN  \n",
       "8387                NaN                                                NaN  \n",
       "\n",
       "[4787 rows x 6 columns]"
      ]
     },
     "execution_count": 74,
     "metadata": {},
     "output_type": "execute_result"
    }
   ],
   "source": [
    "statistics_data[statistics_data['KSIC10_한국표준산업분류'].isnull()]"
   ]
  },
  {
   "cell_type": "markdown",
   "metadata": {},
   "source": [
    "## KSIC10_분류명"
   ]
  },
  {
   "cell_type": "code",
   "execution_count": 75,
   "metadata": {},
   "outputs": [
    {
     "data": {
      "text/plain": [
       "KSIC10_분류명\n",
       "채소, 화훼 및 과실작물 시설 재배업    63\n",
       "채소작물 재배업                42\n",
       "과실작물 재배업                40\n",
       "연근해 어업                  37\n",
       "원양 어업                   35\n",
       "                        ..\n",
       "임시 및 일용 인력 공급업           1\n",
       "고용 알선업                   1\n",
       "독서실 운영업                  1\n",
       "번역 및 통역서비스업              1\n",
       "기타 국제 및 외국기관             1\n",
       "Name: count, Length: 999, dtype: int64"
      ]
     },
     "execution_count": 75,
     "metadata": {},
     "output_type": "execute_result"
    }
   ],
   "source": [
    "statistics_data['KSIC10_분류명'].value_counts()"
   ]
  },
  {
   "cell_type": "code",
   "execution_count": 76,
   "metadata": {},
   "outputs": [
    {
     "data": {
      "text/plain": [
       "array(['종자 및 묘목 생산업', nan, '곡물 및 기타 식량작물 재배업', '채소작물 재배업',\n",
       "       '채소, 화훼 및 과실작물 시설 재배업', '콩나물 재배업', '기타 시설작물 재배업', '과실작물 재배업',\n",
       "       '기타 작물 재배업', '화훼작물 재배업', '젖소 사육업', '육우 사육업', '그 외 기타 축산업',\n",
       "       '말 및 양 사육업', '양돈업', '양계업', '기타 가금류 및 조류 사육업', '수렵 및 관련 서비스업',\n",
       "       '육류 도축업(가금류 제외)', '가금류 도축업', '동물성 유지 제조업', '육림업', '벌목업', '임산물 채취업',\n",
       "       '해수면 양식 어업', '내수면 양식 어업', '원양 어업', '연근해 어업', '내수면 어업', '석탄 광업',\n",
       "       '연탄 및 기타 석탄 가공품 제조업', '원유 및 천연가스 채굴업', '비철금속 광업',\n",
       "       '건설용 석재 채굴 및 쇄석 생산업', '석회석 및 점토광업', '모래 및 자갈 채취업',\n",
       "       '그 외 기타 비금속 광물 광업', '화학용 및 비료원료용 광물 광업', '천일염 생산 및 암염 채취업',\n",
       "       '원자력 발전업', '수력 발전업', '화력 발전업', '태양력 발전업', '기타 발전업',\n",
       "       '연료용 가스 제조 및 배관 공급업', '증기, 냉·온수 및 공기 조절 공급업', '산업용수 공급업',\n",
       "       '생활용수 공급업', '육류 포장육 및 냉동육 가공업(가금류 제외)', '가금류 가공 및 저장 처리업',\n",
       "       '육류 기타 가공 및 저장처리업(가금류 제외)', '건강 보조용 액화식품 제조업', '수산동물 냉동품 제조업',\n",
       "       '기타 수산동물 가공 및 저장처리업', '수산동물 건조 및 염장품 제조업',\n",
       "       '수산동물 훈제, 조리 및 유사 조제식품 제조업', '수산식물 가공 및 저장 처리업',\n",
       "       '기타 과실ㆍ채소 가공 및 저장처리업', '과실 및 그 외 채소 절임식품 제조업', '김치류 제조업',\n",
       "       '두부 및 유사 식품 제조업', '식용 정제유 및 가공유 제조업', '식물성 유지 제조업',\n",
       "       '액상시유 및 기타 낙농 제품 제조업', '아이스크림 및 기타 식용 빙과류 제조업', '그 외 기타 식료품 제조업',\n",
       "       '곡물 제분업', '기타 곡물 가공품 제조업', '곡물 도정업', '그 외 기타 달리 분류 되지 않은 제품 제조업',\n",
       "       '곡물 혼합 분말 및 반죽 제조업', '전분제품 및 당류 제조업', '배합사료 제조업',\n",
       "       '단미사료 및 기타 사료 제조업', '떡류 제조업', '빵류 제조업', '설탕 제조업',\n",
       "       '과자류 및 코코아 제품 제조업', '면류, 마카로니 및 유사 식품 제조업', '커피 가공업', '차류 가공업',\n",
       "       '천연 및 혼합 조제 조미료 제조업', '식초, 발효 및 화학 조미료 제조업', '장류 제조업', '인삼식품 제조업',\n",
       "       '수프 및 균질화 식품 제조업', '기타 식품 첨가물 제조업', '건강 기능식품 제조업', '도시락류 제조업',\n",
       "       '기타 식사용 가공처리 조리식품 제조업', '주정 제조업', '소주 제조업', '기타 증류주 및 합성주 제조업',\n",
       "       '탁주 및 약주 제조업', '기타 발효주 제조업', '맥아 및 맥주 제조업', '생수 생산업', '얼음 제조업',\n",
       "       '기타 비알코올 음료 제조업', '담배제품 제조업', '기타 방적업', '모방적업', '면방적업', '화학섬유 방적업',\n",
       "       '특수직물 및 기타직물 직조업', '모직물 직조업', '면직물 직조업', '화학섬유직물 직조업',\n",
       "       '침구 및 관련제품 제조업', '커튼 및 유사제품 제조업', '자수제품 및 자수용 재료 제조업', '직물포대 제조업',\n",
       "       '천막, 텐트 및 유사 제품 제조업', '기타 직물제품 제조업', '카펫, 마루덮개 및 유사 제품 제조업',\n",
       "       '끈 및 로프 제조업', '어망 및 기타 끈 가공품 제조업', '세폭직물 제조업',\n",
       "       '그 외 기타 분류 안된 섬유제품 제조업', '부직포 및 펠트 제조업', '표면처리 및 적층 직물 제조업',\n",
       "       '특수사 및 코드직물 제조업', '편조원단 제조업', '스타킹 및 기타 양말 제조업', '편조 의복 제조업',\n",
       "       '기타 편조 의복 액세서리 제조업', '남자용 겉옷 제조업', '속옷 및 잠옷 제조업', '셔츠 및 블라우스 제조업',\n",
       "       '여자용 겉옷 제조업', '유아용 의복 제조업', '근무복, 작업복 및 유사의복 제조업',\n",
       "       '그 외 기타 봉제의복 제조업', '한복 제조업', '그 외 기타 의복 액세서리 제조업', '가죽의복 제조업',\n",
       "       '그 외 기타 플라스틱 제품 제조업', '모자 제조업', '모피 및 가죽 제조업', '모피제품 제조업',\n",
       "       '핸드백 및 지갑 제조업', '가방 및 기타 보호용 케이스 제조업', '기타 가죽제품 제조업', '기타 신발 제조업',\n",
       "       '구두류 제조업', '신발 부분품 제조업', '일반 제재업', '표면 가공목재 및 특정 목적용 제재목 제조업',\n",
       "       '목재 보존, 방부처리, 도장 및 유사 처리업', '박판, 합판 및 유사 적층판 제조업',\n",
       "       '강화 및 재생 목재 제조업', '기타 건축용 나무제품 제조업', '목재 문 및 관련 제품 제조업',\n",
       "       '목재 깔판류 및 기타 적재판 제조업', '목재 포장용 상자, 드럼 및 유사용기 제조업',\n",
       "       '목재 도구 및 주방용 나무제품 제조업', '장식용 목제품 제조업', '그 외 기타 나무제품 제조업',\n",
       "       '코르크 및 조물제품 제조업', '펄프 제조업', '신문용지 제조업', '기타 종이 및 판지 제조업',\n",
       "       '인쇄용 및 필기용 원지 제조업', '위생용 원지 제조업', '크라프트지 및 상자용 판지 제조업',\n",
       "       '적층, 합성 및 특수 표면처리 종이 제조업', '골판지 제조업', '종이 포대 및 가방 제조업',\n",
       "       '골판지 상자 및 가공제품 제조업', '판지 상자 및 용기 제조업', '식품 위생용 종이 상자 및 용기 제조업',\n",
       "       '기타 종이 상자 및 용기 제조업', '위생용 종이제품 제조업', '문구용 종이제품 제조업',\n",
       "       '벽지 및 장판지 제조업', '그 외 기타 종이 및 판지 제품 제조업', '교과서 및 학습서적 출판업',\n",
       "       '일반 서적 출판업', '만화 출판업', '신문 발행업', '잡지 및 정기간행물 발행업', '정기 광고 간행물 발행업',\n",
       "       '전시용 모형 제조업', '음악 및 기타 오디오물 출판업', '기타 인쇄물 출판업', '건축 설계 및 관련 서비스업',\n",
       "       '경 인쇄업', '스크린 인쇄업', '오프셋 인쇄업', '기타 인쇄업', '제판 및 조판업',\n",
       "       '코크스 및 관련 제품 제조업', '원유 정제 처리업', '기타 석유 정제물 재처리업', '윤활유 및 그리스 제조업',\n",
       "       '기타 기초 무기 화학 물질 제조업', '석유화학계 기초 화학 물질 제조업',\n",
       "       '석탄 화학계 화합물 및 기타 기초 유기 화학 물질 제조업', '질소화합물, 질소, 인산 및 칼리질 화학비료 제조업',\n",
       "       '산업용 가스 제조업', '무기 안료용 금속 산화물 및 관련 제품 제조업',\n",
       "       '염료, 조제 무기 안료, 유연제 및 기타 착색제 제조업', '천연수지 및 나무 화학 물질 제조업',\n",
       "       '바이오 연료 및 혼합물 제조업', '치약, 비누 및 기타 세제 제조업', '복합비료 및 기타 화학비료 제조업',\n",
       "       '유기질 비료 및 상토 제조업', '화학 살균ㆍ살충제 및 농업용 약제 제조업',\n",
       "       '생물 살균ㆍ살충제 및 식물보호제 제조업', '합성수지 및 기타 플라스틱 물질 제조업', '합성고무 제조업',\n",
       "       '일반용 도료 및 관련제품 제조업', '요업용 도포제 및 관련 제품 제조업', '인쇄잉크 및 회화용 물감 제조업',\n",
       "       '그 외 기타 분류 안된 화학제품 제조업', '의약용 화합물 및 항생물질 제조업', '완제 의약품 제조업',\n",
       "       '동물용 의약품 제조업', '생물학적 제제 제조업', '의료용품 및 기타 의약 관련제품 제조업',\n",
       "       '그 외 분류 안된 화학제품 제조업', '계면활성제 제조업', '화장품 제조업',\n",
       "       '표면 광택제 및 실내 가향제 제조업', '접착제 및 젤라틴 제조업', '화약 및 불꽃 제품 제조업',\n",
       "       '합성섬유 제조업', '재생섬유 제조업', '타이어 및 튜브 제조업', '타이어 재생업',\n",
       "       '산업용 그 외 비경화 고무제품 제조업', '고무 의류 및 기타 위생용 비경화 고무제품 제조업',\n",
       "       '그 외 기타 고무제품 제조업', '플라스틱 선, 봉, 관 및 호스 제조업', '플라스틱 필름 제조업',\n",
       "       '플라스틱 시트 및 판 제조업', '폴리스티렌 발포 성형 제품 제조업', '기타 플라스틱 발포 성형제품 제조업',\n",
       "       '플라스틱 포대, 봉투 및 유사제품 제조업', '포장용 플라스틱 성형 용기 제조업',\n",
       "       '벽 및 바닥 피복용 플라스틱제품 제조업', '플라스틱 접착처리 제품 제조업',\n",
       "       '설치용 및 위생용 플라스틱제품 제조업', '플라스틱 창호 제조업', '기타 건축용 플라스틱 조립제품 제조업',\n",
       "       '운송장비 조립용 플라스틱제품 제조업', '기타 기계·장비 조립용 플라스틱제품 제조업',\n",
       "       '1차 유리제품, 유리섬유 및 광학용 유리 제조업', '판유리 제조업', '디스플레이 장치용 유리 제조업',\n",
       "       '기타 판유리 가공품 제조업', '안전유리 제조업', '기타 산업용 유리제품 제조업', '포장용 유리용기 제조업',\n",
       "       '가정용 유리제품 제조업', '그 외 기타 유리제품 제조업', '위생용 및 산업용 도자기 제조업',\n",
       "       '가정용 및 장식용 도자기 제조업', '기타 일반 도자기 제조업',\n",
       "       '점토 벽돌, 블록 및 유사 비내화 요업제품 제조업', '타일 및 유사 비내화 요업제품 제조업',\n",
       "       '정형 내화 요업제품 제조업', '부정형 내화 요업제품 제조업', '기타 건축용 비내화 요업제품 제조업',\n",
       "       '석회 및 플라스터 제조업', '시멘트 제조업', '비내화 모르타르 제조업', '레미콘 제조업',\n",
       "       '콘크리트 타일, 기와, 벽돌 및 블록 제조업', '플라스터 혼합 제품 제조업',\n",
       "       '콘크리트 관 및 기타 구조용 콘크리트제품 제조업', '그 외 기타 콘크리트 제품 및 유사제품 제조업',\n",
       "       '건설용 석제품 제조업', '기타 석제품 제조업', '연마재 제조업',\n",
       "       '그 외 기타 분류 안된 비금속 광물제품 제조업', '아스팔트 콘크리트 및 혼합제품 제조업', '탄소섬유 제조업',\n",
       "       '비금속광물 분쇄물 생산업', '암면 및 유사 제품 제조업', '자동차용 신품 의자 제조업',\n",
       "       '철도 차량 부품 및 관련 장치물 제조업', '항공기용 부품 제조업', '금속 가구 제조업',\n",
       "       '기타 목재 가구 제조업', '소파 및 기타 내장 가구 제조업', '그 외 기타 가구 제조업',\n",
       "       '주방용 및 음식점용 목재가구 제조업', '매트리스 및 침대 제조업', '귀금속 및 관련 제품 제조업',\n",
       "       '모조 귀금속 및 모조 장신용품 제조업', '건반악기 제조업', '기타 악기 제조업', '전자악기 제조업',\n",
       "       '기타 운동 및 경기 용구 제조업', '체조, 육상 및 체력 단련용 장비 제조업', '놀이터용 장비 제조업',\n",
       "       '낚시 및 수렵용구 제조업', '인형 및 장난감 제조업', '기타 오락용품 제조업', '영상게임기 제조업',\n",
       "       '기타 게임 소프트웨어 개발 및 공급업', '그 외 기타 특수목적용 기계 제조업', '기타 구조용 금속제품 제조업',\n",
       "       '사무 및 회화용품 제조업', '비 및 솔 제조업', '단추 및 유사 파스너 제조업',\n",
       "       '벽 및 바닥 피복용 플라스틱 제품 제조업', '인물사진 및 행사용 영상 촬영업', '상업용 사진 촬영업',\n",
       "       '사진 처리업', '일반 영화 및 비디오물 제작업', '애니메이션 영화 및 비디오물 제작업',\n",
       "       '광고 영화 및 비디오물 제작업', '비공연 예술가', '공영 우편업', '박물관 운영업', '사적지 관리 운영업',\n",
       "       '가발 및 유사 제품 제조업', '라이터, 연소물 및 흡연 용품 제조업', '자전거 및 환자용 차량 제조업',\n",
       "       '제철업', '합금철 제조업', '기타 제철 및 제강업', '제강업', '열간 압연 및 압출 제품 제조업',\n",
       "       '냉간 압연 및 압출 제품 제조업', '도금, 착색 및 기타 표면처리 강재 제조업', '철강선 제조업',\n",
       "       '강관 제조업', '강관 가공품 및 관 연결구류 제조업', '주철관 제조업',\n",
       "       '기타 비철금속 제련, 정련 및 합금 제조업', '기타 1차 비철금속 제조업',\n",
       "       '동 압연, 압출 및 연신 제품 제조업', '동 제련, 정련 및 합금 제조업',\n",
       "       '알루미늄 제련, 정련 및 합금 제조업', '연 및 아연 제련, 정련 및 합금 제조업',\n",
       "       '기타 비철금속 압연, 압출 및 연신 제품 제조업', '알루미늄 압연, 압출 및 연신제품 제조업',\n",
       "       '육상 금속 골조 구조재 제조업', '수상 금속 골조 구조재 제조업', '금속 문, 창, 셔터 및 관련제품 제조업',\n",
       "       '구조용 금속판 제품 및 공작물 제조업', '금속탱크 및 저장용기 제조업', '압축 및 액화 가스용기 제조업',\n",
       "       '핵반응기 및 증기보일러 제조업', '금속 위생용품 제조업', '수동식 식품 가공기기 및 금속 주방용기 제조업',\n",
       "       '날붙이 제조업', '비동력식 수공구 제조업', '톱 및 호환성 공구 제조업', '금속캔 및 기타 포장 용기 제조업',\n",
       "       '금속선 가공제품 제조업', '볼트 및 너트류 제조업', '그 외 금속 파스너 및 나사제품 제조업',\n",
       "       '금속 스프링 제조업', '그 외 기타 분류 안된 금속가공제품 제조업', '일반 철물 제조업',\n",
       "       '그 외 기타 분류 안된 금속 가공제품 제조업', '내연기관 제조업', '자동차용 엔진 제조업',\n",
       "       '항공기용 엔진 제조업', '기타 기관 및 터빈 제조업', '유압기기 제조업', '액체 펌프 제조업',\n",
       "       '기체 펌프 및 압축기 제조업', '탭, 밸브 및 유사장치 제조업', '구름베어링 제조업',\n",
       "       '기어 및 동력 전달장치 제조업', '산업용 오븐, 노 및 노용 버너 제조업', '기타 물품 취급장비 제조업',\n",
       "       '산업용 트럭 및 적재기 제조업', '승강기 제조업', '컨베이어장치 제조업',\n",
       "       '증류기, 열교환기 및 가스발생기 제조업', '공기 조화장치 제조업', '산업용 냉장 및 냉동 장비 제조업',\n",
       "       '액체 여과기 제조업', '기체 여과기 제조업', '용기 세척, 포장 및 충전기 제조업', '일반저울 제조업',\n",
       "       '분사기 및 소화기 제조업', '그 외 기타 일반목적용 기계 제조업', '그 외 기타 일반 목적용 기계 제조업',\n",
       "       '농업 및 임업용 기계 제조업', '음ㆍ식료품 및 담배 가공기계 제조업', '전자 응용 절삭기계 제조업',\n",
       "       '금속 절삭기계 제조업', '디지털 적층 성형기계 제조업', '금속 성형기계 제조업', '기타 가공 공작기계 제조업',\n",
       "       '동력식 수지공구 제조업', '그 외 기타 전기장비 제조업', '고무, 화학섬유 및 플라스틱 성형기 제조업',\n",
       "       '금속 주조 및 기타 야금용 기계 제조업', '광물처리 및 취급 장비 제조업', '건설 및 채업용 기계·장비 제조업',\n",
       "       '기타 섬유, 의복 및 가죽 가공 기계 제조업', '산업용 섬유 세척, 염색, 정리 및 가공 기계 제조업',\n",
       "       '전투용 차량 제조업', '무기 및 총포탄 제조업', '주방용 전기기기 제조업', '기타 가정용 전기기기 제조업',\n",
       "       '가정용 전기 난방기기 제조업', '가정용 비전기식 조리 및 난방 기구 제조업',\n",
       "       '산업용 난방보일러 및 방열기 제조업', '펄프 및 종이 가공용 기계 제조업', '인쇄 및 제책용 기계 제조업',\n",
       "       '주형 및 금형 제조업', '사무용 기계 및 장비 제조업', '반도체 제조용 기계 제조업',\n",
       "       '디스플레이 제조용 기계 제조업', '산업용 로봇 제조업', '기타 주변기기 제조업', '컴퓨터 제조업',\n",
       "       '컴퓨터 프린터 제조업', '기억장치 제조업', '그 외 기타 전자부품 제조업', '전동기 및 발전기 제조업',\n",
       "       '변압기 제조업', '방전램프용 안정기 제조업', '에너지 저장장치 제조업', '기타 전기 변환장치 제조업',\n",
       "       '전기회로 개폐, 보호 장치 제조업', '전기회로 접속장치 제조업', '배전반 및 전기 자동제어반 제조업',\n",
       "       '기타 절연선 및 케이블 제조업', '자동차용 신품 전기 장치 제조업', '자동차 재제조 부품 제조업',\n",
       "       '절연 코드세트 및 기타 도체 제조업', '광섬유 케이블 제조업', '일차전지 제조업', '축전지 제조업',\n",
       "       '전구 및 램프 제조업', '일반용 전기 조명장치 제조업', '전시 및 광고용 조명 장치 제조업',\n",
       "       '기타 조명장치 제조업', '운송장비용 조명장치 제조업', '전기경보 및 신호장치 제조업', '교통 신호장치 제조업',\n",
       "       '전기용 탄소제품 및 절연제품 제조업', '전자축전기 제조업', '전자저항기 제조업', '인쇄회로기판용 적층판 제조업',\n",
       "       '경성 인쇄회로기판 제조업', '연성 및 기타 인쇄회로 기판 제조업', '발광 다이오드 제조업',\n",
       "       '기타 반도체소자 제조업', '메모리용 전자집적회로 제조업', '비메모리용 및 기타 전자집적회로 제조업',\n",
       "       '전자코일, 변성기 및 기타 전자유도자 제조업', '방송장비 제조업', '비디오 및 기타 영상 기기 제조업',\n",
       "       '사진기, 영사기 및 관련장비 제조업', '유선 통신장비 제조업', '이동전화기 제조업',\n",
       "       '기타 무선 통신장비 제조업', '라디오, 녹음 및 재생 기기 제조업', '텔레비전 제조업', '컴퓨터 모니터 제조업',\n",
       "       '기타 음향기기 제조업', '레이더, 항행용 무선 기기 및 측량기구 제조업', '마그네틱 및 광학 매체 제조업',\n",
       "       '전자카드 제조업', '녹음시설 운영업', '정기 광고간행물 발행업', '시스템 소프트웨어 개발 및 공급업',\n",
       "       '응용 소프트웨어 개발 및 공급업', '유선 온라인 게임 소프트웨어 개발 및 공급업',\n",
       "       '모바일 게임 소프트웨어 개발 및 공급업', '방사선 장치 제조업', '전기식 진단 및 요법 기기 제조업',\n",
       "       '치과용 기기 제조업', '그 외 기타 의료용 기기 제조업', '정형외과용 및 신체 보정용 기기 제조업',\n",
       "       '의료용 가구 제조업', '기타 측정, 시험, 항해, 제어 및 정밀기기 제조업',\n",
       "       '전자기 측정, 시험 및 분석기구 제조업', '물질 검사, 측정 및 분석기구 제조업', '속도계 및 적산계기 제조업',\n",
       "       '기기용 자동측정 및 제어장치 제조업', '전자 감지장치 제조업', '광학렌즈 및 광학요소 제조업',\n",
       "       '안경 및 안경렌즈 제조업', '기타 광학기기 제조업', '액정 표시장치 제조업',\n",
       "       '감광재료 및 관련 화학제품 제조업', '시계 및 시계부품 제조업', '화물자동차 및 특수 목적용 자동차 제조업',\n",
       "       '승용차 및 기타 여객용 자동차 제조업', '자동차용 신품 동력 전달장치 제조업',\n",
       "       '자동차용 신품 조향장치 및 현가장치 제조업', '자동차용 신품 제동 장치 제조업',\n",
       "       '그 외 자동차용 신품 부품 제조업', '차체 및 특장차 제조업', '자동차 구조 및 장치 변경업',\n",
       "       '트레일러 및 세미트레일러 제조업', '자동차 차체용 신품 부품 제조업', '강선 건조업', '합성수지선 건조업',\n",
       "       '기타 선박 건조업', '오락 및 스포츠용 보트 건조업', '기관차 및 기타 철도 차량 제조업',\n",
       "       '유인 항공기, 항공 우주선 및 보조장치 제조업', '무인 항공기 및 무인 비행장치 제조업', '모터사이클 제조업',\n",
       "       '그 외 기타 달리 분류 되지 않은 운송장비 제조업', '단독 주택 건설업', '아파트 건설업',\n",
       "       '기타 공동 주택 건설업', '제조업 및 유사 산업용 건물 건설업', '사무·상업용 및 공공 기관용 건물 건설업',\n",
       "       '기타 비주거용 건물 건설업', '도로 건설업', '교량, 터널 및 철도 건설업',\n",
       "       '항만, 수로, 댐 및 유사 구조물 건설업', '기타 토목 시설물 건설업', '일반 통신 공사업', '환경설비 건설업',\n",
       "       '토공사업', '산업 생산시설 종합 건설업', '건물 및 구축물 해체 공사업', '보링, 그라우팅 및 관정 공사업',\n",
       "       '파일공사 및 축조관련 기초 공사업', '철골 및 관련 구조물 공사업', '비계 및 형틀 공사업',\n",
       "       '지붕, 내ㆍ외벽 축조 관련 전문공사업', '기타 옥외 시설물 축조 관련 전문공사업', '콘크리트 및 철근 공사업',\n",
       "       '건물용 금속공작물 설치 공사업', '조적 및 석공사업', '수중 공사업', '그 외 기타 건축 마무리 공사업',\n",
       "       '내부 전기배선 공사업', '내부 통신배선 공사업', '일반 전기공사업', '배관 및 냉ㆍ난방 공사업',\n",
       "       '건물용 기계·장비 설치 공사업', '유리 및 창호 공사업', '미장, 타일 및 방수 공사업', '도장 공사업',\n",
       "       '도배, 실내 장식 및 내장 목공사업', '기타 건물 관련설비 설치 공사업', '시설물 유지관리 공사업', '호텔업',\n",
       "       '여관업', '휴양 콘도 운영업', '청소년 수련시설 운영업', '기타 일반 및 생활 숙박시설 운영업', '민박업',\n",
       "       '기숙사 및 고시원 운영업', '그 외 기타 숙박업', '한식 일반 음식점업', '한식 면요리 전문점',\n",
       "       '한식 육류요리 전문점', '한식 해산물요리 전문점', '중식 음식점업', '일식 음식점업', '서양식 음식점업',\n",
       "       '기타 외국식 음식점업', '기관 구내식당업', '출장 음식 서비스업', '이동 음식점업', '제과점업',\n",
       "       '피자, 햄버거, 샌드위치 및 유사 음식점업', '치킨 전문점', '김밥 및 기타 간이 음식점업',\n",
       "       '간이음식 포장 판매 전문점', '일반 유흥주점업', '무도 유흥주점업', '생맥주 전문점', '기타 주점업',\n",
       "       '커피 전문점', '기타 비알코올 음료점업', '도시철도 운송업', '시내버스 운송업',\n",
       "       '기타 도시 정기 육상 여객 운송업', '택시 운송업', '전세버스 운송업', '특수여객자동차 운송업',\n",
       "       '기타 부정기 여객 육상 운송업', '내륙 수상 여객 및 화물 운송업', '철도 여객운송업', '외항 여객 운송업',\n",
       "       '내항 여객 운송업', '항만 내 여객 운송업', '항공 여객운송업', '시외버스 운송업', '일반 화물자동차 운송업',\n",
       "       '기타 도로화물 운송업', '용달 화물자동차 운송업', '개별 화물자동차 운송업', '철도 화물운송업',\n",
       "       '파이프라인 운송업', '외항 화물 운송업', '내항 화물 운송업', '기타 해상 운송업', '기타 내륙 수상 운송업',\n",
       "       '항공 화물운송업', '항공 및 육상 화물 취급업', '수상 화물 취급업', '물류 터미널 운영업',\n",
       "       '냉장 및 냉동 창고업', '위험물품 보관업', '일반 창고업', '농산물 창고업', '기타 보관 및 창고업',\n",
       "       '철도 운송지원 서비스업', '여객 자동차 터미널 운영업', '도로 및 관련 시설 운영업', '주차장 운영업',\n",
       "       '기타 육상 운송 지원 서비스업', '항구 및 기타 해상 터미널 운영업', '기타 수상 운송 지원 서비스업',\n",
       "       '공항 운영업', '기타 항공 운송 지원 서비스업', '통관 대리 및 관련 서비스업',\n",
       "       '화물 운송 중개, 대리 및 관련 서비스업', '화물 포장, 검수 및 계량 서비스업',\n",
       "       '그 외 기타 분류 안된 운송 관련 서비스업', '택배업', '늘찬 배달업', '송전 및 배전업', '전기 판매업',\n",
       "       '중앙은행', '국내은행', '외국은행', '신용조합', '상호저축은행 및 기타 저축기관', '그 외 기타 여신금융업',\n",
       "       '신용카드 및 할부금융업', '개발금융기관', '금융리스업', '기금 운영업', '신탁업 및 집합투자업',\n",
       "       '생명 보험업', '개인 공제업', '사업 공제업', '건강 보험업', '손해 보험업', '보증 보험업',\n",
       "       '산업재해 및 기타 사회보장 보험업', '재보험업', '그 외 기타 분류 안된 금융업', '증권 중개업',\n",
       "       '선물 중개업', '그 외 기타 금융 지원 서비스업', '기타 금융 투자업',\n",
       "       '증권 발행, 관리, 보관 및 거래 지원 서비스업', '금융시장 관리업', '투자 자문업 및 투자 일임업',\n",
       "       '보험대리 및 중개업', '손해사정업', '기타 보험 및 연금 관련 서비스업', '지주회사', '주거용 건물 임대업',\n",
       "       '비주거용 건물 임대업', '기타 부동산 임대업', '주거용 건물 개발 및 공급업', '비주거용 건물 개발 및 공급업',\n",
       "       '기타 부동산 개발 및 공급업', '주거용 부동산 관리업', '비주거용 부동산 관리업', '부동산 중개 및 대리업',\n",
       "       '부동산 투자자문업', '부동산 감정평가업', '자동차 임대업', '기타 운송장비 임대업',\n",
       "       '기타 산업용 기계 및 장비 임대업', '건설 및 토목공사용 기계·장비 임대업',\n",
       "       '컴퓨터 및 사무용 기계·장비 임대업', '그 외 기타 개인 및 가정용품 임대업', '음반 및 비디오물 임대업',\n",
       "       '스포츠 및 레크리에이션 용품 임대업', '의류 임대업', '서적 임대업', '방송 프로그램 제작업',\n",
       "       '영화, 비디오물 및 방송 프로그램 제작 관련 서비스업', '영화, 비디오물 및 방송 프로그램 배급업',\n",
       "       '그 외 기타 창작 및 예술관련 서비스업', '무형재산권 임대업', '물리, 화학 및 생물학 연구개발업',\n",
       "       '기타 공학 연구개발업', '전기ㆍ전자공학 연구 개발업', '의학 및 약학 연구개발업',\n",
       "       '농림수산학 및 수의학 연구개발업', '기타 자연과학 연구개발업', '자연과학 및 공학 융합 연구개발업',\n",
       "       '기타 인문 및 사회 과학 연구개발업', '경제 및 경영학 연구 개발업', '변호사업', '변리사업', '법무사업',\n",
       "       '기타 법무관련 서비스업', '공인회계사업', '세무사업', '기타 회계 관련 서비스업', '경영컨설팅업',\n",
       "       '제조업 회사본부', '기타 산업 회사본부', '공공관계 서비스업', '컴퓨터시스템 통합 자문 및 구축 서비스업',\n",
       "       '컴퓨터 시설 관리업', '컴퓨터 프로그래밍 서비스업', '호스팅 및 관련 서비스업', '자료 처리업',\n",
       "       '도시계획 및 조경설계 서비스업', '기타 엔지니어링 서비스업', '건물 및 토목엔지니어링 서비스업',\n",
       "       '지질조사 및 탐사업', '측량업', '지도제작업', '그 외 기타 분류 안된 전문, 과학 및 기술 서비스업',\n",
       "       '물질성분 검사 및 분석업', '기타 기술 시험, 검사 및 분석업', '수의업', '광고 대행업',\n",
       "       '옥외 및 전시 광고업', '광고물 문안, 도안, 설계 등 작성업', '그 외 기타 광고 관련 서비스업',\n",
       "       '광고매체 판매업', '라디오 방송업', '지상파 방송업', '유선방송업', '위성 및 기타 방송업',\n",
       "       '포털 및 기타 인터넷 정보 매개 서비스업', '시장조사 및 여론조사업', '인테리어 디자인업', '제품 디자인업',\n",
       "       '패션, 섬유류 및 기타 전문 디자인업', '물품 감정, 계량 및 견본 추출업', '번역 및 통역서비스업',\n",
       "       '매니저업', '사업 및 무형 재산권 중개업', '유선통신업', '무선 및 위성통신업', '그 외 기타 전기 통신업',\n",
       "       '통신 재판매업', '데이터베이스 및 온라인 정보제공업', '뉴스 제공업', '도서관 및 기록보존소 운영업',\n",
       "       '독서실 운영업', '프로그램 공급업', '고용 알선업', '임시 및 일용 인력 공급업',\n",
       "       '상용 인력 공급 및 인사관리 서비스업', '탐정 및 조사 서비스업', '보안시스템 서비스업',\n",
       "       '경비 및 경호 서비스업', '소독, 구충 및 방제 서비스업', '산업설비, 운송장비 및 공공장소 청소업',\n",
       "       '건축물 일반 청소업', '포장 및 충전업', '여행사업', '기타 여행보조 및 예약 서비스업',\n",
       "       '전시, 컨벤션 및 행사 대행업', '신용조사 및 추심 대행업', '콜센터 및 텔레마케팅 서비스업',\n",
       "       '기타 전문 서비스업', '기타 사무지원 서비스업', '복사업', '그 외 기타 분류 안된 사업 지원 서비스업',\n",
       "       '문서 작성업', '조경 관리 및 유지 서비스업', '사업시설 유지관리 서비스업', '그 외 기타 정보 서비스업',\n",
       "       '농산물 건조, 선별 및 기타 수확 후 서비스업', '작물재배 지원 서비스업', '축산 관련 서비스업',\n",
       "       '애완동물 장묘 및 보호 서비스업', '그 외 기타 스포츠 서비스업', '임업 관련 서비스업', '어업 관련 서비스업',\n",
       "       '광업 지원 서비스업', '기타 일반 기계 및 장비 수리업', '컴퓨터 및 주변 기기 수리업', '자동차 종합 수리업',\n",
       "       '자동차 전문 수리업', '자동차 세차업', '모터사이클 수리업', '그 외 기타 개인 및 가정용품 수리업',\n",
       "       '전기·전자 및 정밀기기 수리업', '통신장비 수리업', '가전제품 수리업', '건설·광업용 기계 및 장비 수리업',\n",
       "       '가죽, 가방 및 신발 수리업', '시계, 귀금속 및 악기 수리업', '의복 및 기타 가정용 직물제품 수리업',\n",
       "       '기타 정보 기술 및 컴퓨터운영 관련 서비스업', '연사 및 가공사 제조업', '솜 및 실 염색가공업',\n",
       "       '직물, 편조원단 및 의복류 염색 가공업', '날염 가공업', '섬유제품 기타 정리 및 마무리 가공업',\n",
       "       '근무복, 작업복 및 유사 의복 제조업', '혼성 및 재생 플라스틱 소재 물질 제조업', '가공 및 정제염 제조업',\n",
       "       '한의약품 제조업', '고무패킹류 제조업', '플라스틱 합성피혁 제조업',\n",
       "       '플라스틱 적층, 도포 및 기타 표면처리 제품 제조업', '그 외 기타 1차 철강 제조업', '금속 열처리업',\n",
       "       '도금업', '도장 및 기타 피막 처리업', '절삭 가공 및 유사 처리업', '그 외 기타 금속 가공업',\n",
       "       '금속 표시판 제조업', '유기발광 표시장치 제조업', '기타 표시장치 제조업', '전자부품 실장기판 제조업',\n",
       "       '산업 처리공정 제어 장비 제조업', '자동차 엔진용 신품 부품 제조업', '선박 구성 부분품 제조업',\n",
       "       '간판 및 광고물 제조업', '표구처리업', '제책업', '기타 인쇄 관련 산업', '기록매체 복제업',\n",
       "       '선철 주물 주조업', '강 주물 주조업', '알루미늄 주물 주조업', '동 주물 주조업', '기타 비철금속 주조업',\n",
       "       '분말 야금제품 제조업', '금속 단조제품 제조업', '자동차용 금속 압형 제품 제조업',\n",
       "       '그 외 금속 압형제품 제조업', '금속류 해체 및 선별업', '금속류 원료 재생업', '비금속류 해체 및 선별업',\n",
       "       '비금속류 원료 재생업', '입법기관', '중앙 최고 집행기관', '지방행정 집행기관', '재정 및 경제정책 행정',\n",
       "       '기타 일반 공공 행정', '교육 행정', '보건 및 복지 행정', '환경 행정', '문화 및 관광 행정',\n",
       "       '농림수산 행정', '기타 산업진흥 행정', '건설 및 운송 행정', '우편 및 통신행정',\n",
       "       '정부기관 일반 보조 행정', '노동 행정', '기타 사회서비스 관리 행정', '외무 행정', '국방 행정', '경찰',\n",
       "       '소방서', '법원', '검찰', '교도기관', '기타 사법 및 공공 질서 행정', '연금업', '사회보장 행정',\n",
       "       '유아 교육기관', '특수학교', '외국인학교', '대안학교', '초등학교', '중학교', '일반 고등학교',\n",
       "       '상업 및 정보산업 특성화 고등학교', '공업 특성화 고등학교', '기타 특성화 고등학교', '전문대학', '대학교',\n",
       "       '대학원', '음악학원', '미술학원', '기타 예술학원', '태권도 및 무술 교육기관', '기타 스포츠 교육기관',\n",
       "       '레크리에이션 교육기관', '사회교육시설', '직원훈련기관', '운전학원', '기타 기술 및 직업훈련학원',\n",
       "       '컴퓨터 학원', '일반교과 학원', '외국어학원', '방문 교육학원', '온라인 교육학원', '기타 교습학원',\n",
       "       '그 외 기타 분류 안된 교육기관', '교육관련 자문 및 평가업', '기타 교육지원 서비스업', '종합 병원',\n",
       "       '일반 병원', '요양 병원', '치과 병원', '한방 병원', '일반 의원', '한의원', '치과 의원',\n",
       "       '방사선 진단 및 병리 검사 의원', '그 외 기타 보건업', '앰뷸런스 서비스업', '유사 의료업',\n",
       "       '노인 요양 복지시설 운영업', '노인 양로 복지시설 운영업', '신체 부자유자 거주 복지시설 운영업',\n",
       "       '정신질환, 정신지체 및 약물 중독자 거주 복지시설 운영업', '아동 및 부녀자 거주 복지시설 운영업',\n",
       "       '그 외 기타 거주 복지 시설 운영업', '직업재활원 운영업', '방문 복지서비스 제공업',\n",
       "       '사회복지 상담서비스 제공업', '그 외 기타 비거주 복지 서비스업', '보육시설 운영업', '종합복지관 운영업',\n",
       "       '하수 처리업', '폐수 처리업', '사람 분뇨 처리업', '축산분뇨 처리업', '지정 폐기물 수집, 운반업',\n",
       "       '건설 폐기물 수집, 운반업', '지정 외 폐기물 수집, 운반업', '지정 폐기물 처리업', '건설 폐기물 처리업',\n",
       "       '지정 외 폐기물 처리업', '방사성 폐기물 수집, 운반 및 처리업', '기타 환경 정화 및 복원업',\n",
       "       '토양 및 지하수 정화업', '환경관련 엔지니어링 서비스업', '산업 단체', '전문가 단체', '노동조합',\n",
       "       '불교 단체', '기독교 단체', '천주교 단체', '민족종교 단체', '기타 종교 단체', '정치 단체',\n",
       "       '기타 시민운동 단체', '환경운동 단체', '그 외 기타 협회 및 단체', '영화관 운영업',\n",
       "       '비디오물 감상실 운영업', '공연 기획업', '연극단체', '무용 및 음악단체', '기타 공연단체',\n",
       "       '공연시설 운영업', '공연 예술가', '공연 및 제작관련 대리업', '식물원 및 동물원 운영업', '자연공원 운영업',\n",
       "       '기타 유사 여가관련 서비스업', '스포츠 클럽 운영업', '실내 경기장 운영업', '실외 경기장 운영업',\n",
       "       '경주장 및 동물 경기장 운영업', '골프장 운영업', '스키장 운영업', '종합 스포츠시설 운영업',\n",
       "       '체력단련시설 운영업', '수영장 운영업', '볼링장 운영업', '당구장 운영업', '골프연습장 운영업',\n",
       "       '그 외 기타 스포츠 시설 운영업', '유원지 및 테마파크 운영업', '기타 사행시설 관리 및 운영업',\n",
       "       '복권발행 및 판매업', '전자 게임장 운영업', '컴퓨터 게임방 운영업', '노래연습장 운영업',\n",
       "       '기타 오락장 운영업', '낚시장 운영업', '기타 수상오락 서비스업', '무도장 운영업',\n",
       "       '체육공원 및 유사 공원 운영업', '기원 운영업', '그 외 기타 분류 안된 오락관련 서비스업', '가정용 세탁업',\n",
       "       '산업용 세탁업', '세탁물 공급업', '이용업', '두발미용업', '피부미용업', '기타미용업', '욕탕업',\n",
       "       '마사지업', '기타 미용업', '체형 등 기타 신체관리 서비스업', '화장터 운영, 묘지 분양 및 관리업',\n",
       "       '장례식장 및 장의관련 서비스업', '예식장업', '점술 및 유사 서비스업', '개인 간병 및 유사 서비스업',\n",
       "       '결혼 상담 및 준비 서비스업', '그 외 기타 달리 분류 되지 않은 개인 서비스업', '가구 내 고용활동',\n",
       "       '주한 외국공관', '기타 국제 및 외국기관'], dtype=object)"
      ]
     },
     "execution_count": 76,
     "metadata": {},
     "output_type": "execute_result"
    }
   ],
   "source": [
    "statistics_data['KSIC10_분류명'].unique()"
   ]
  },
  {
   "cell_type": "markdown",
   "metadata": {},
   "source": [
    "- 이것도 좀 업종별로 레이블링 할 수 있을까..?"
   ]
  },
  {
   "cell_type": "code",
   "execution_count": 77,
   "metadata": {},
   "outputs": [
    {
     "data": {
      "text/html": [
       "<div>\n",
       "<style scoped>\n",
       "    .dataframe tbody tr th:only-of-type {\n",
       "        vertical-align: middle;\n",
       "    }\n",
       "\n",
       "    .dataframe tbody tr th {\n",
       "        vertical-align: top;\n",
       "    }\n",
       "\n",
       "    .dataframe thead th {\n",
       "        text-align: right;\n",
       "    }\n",
       "</style>\n",
       "<table border=\"1\" class=\"dataframe\">\n",
       "  <thead>\n",
       "    <tr style=\"text-align: right;\">\n",
       "      <th></th>\n",
       "      <th>ISIC4_국제표준산업분류</th>\n",
       "      <th>ISIC4_분류명</th>\n",
       "      <th>KSIC10_한국표준산업분류</th>\n",
       "      <th>KSIC10_분류명</th>\n",
       "      <th>HS2017_관세통계통합품목분류</th>\n",
       "      <th>HS2017_분류명</th>\n",
       "    </tr>\n",
       "  </thead>\n",
       "  <tbody>\n",
       "    <tr>\n",
       "      <th>1</th>\n",
       "      <td>NaN</td>\n",
       "      <td>NaN</td>\n",
       "      <td>NaN</td>\n",
       "      <td>NaN</td>\n",
       "      <td>100191.0</td>\n",
       "      <td>종자</td>\n",
       "    </tr>\n",
       "    <tr>\n",
       "      <th>3</th>\n",
       "      <td>NaN</td>\n",
       "      <td>NaN</td>\n",
       "      <td>NaN</td>\n",
       "      <td>NaN</td>\n",
       "      <td>100199.0</td>\n",
       "      <td>기타</td>\n",
       "    </tr>\n",
       "    <tr>\n",
       "      <th>28</th>\n",
       "      <td>0111</td>\n",
       "      <td>곡물(쌀 제외), 콩류, 종실유 재배업</td>\n",
       "      <td>NaN</td>\n",
       "      <td>NaN</td>\n",
       "      <td>100890.0</td>\n",
       "      <td>그 밖의 곡물</td>\n",
       "    </tr>\n",
       "    <tr>\n",
       "      <th>37</th>\n",
       "      <td>NaN</td>\n",
       "      <td>NaN</td>\n",
       "      <td>NaN</td>\n",
       "      <td>NaN</td>\n",
       "      <td>70521.0</td>\n",
       "      <td>위트루프 치커리(Witloof chicory)[시코리엄 인티부스 변종 포리오섬(Ci...</td>\n",
       "    </tr>\n",
       "    <tr>\n",
       "      <th>38</th>\n",
       "      <td>NaN</td>\n",
       "      <td>NaN</td>\n",
       "      <td>NaN</td>\n",
       "      <td>NaN</td>\n",
       "      <td>70529.0</td>\n",
       "      <td>기타</td>\n",
       "    </tr>\n",
       "    <tr>\n",
       "      <th>...</th>\n",
       "      <td>...</td>\n",
       "      <td>...</td>\n",
       "      <td>...</td>\n",
       "      <td>...</td>\n",
       "      <td>...</td>\n",
       "      <td>...</td>\n",
       "    </tr>\n",
       "    <tr>\n",
       "      <th>8336</th>\n",
       "      <td>NaN</td>\n",
       "      <td>NaN</td>\n",
       "      <td>NaN</td>\n",
       "      <td>NaN</td>\n",
       "      <td>NaN</td>\n",
       "      <td>NaN</td>\n",
       "    </tr>\n",
       "    <tr>\n",
       "      <th>8342</th>\n",
       "      <td>8890</td>\n",
       "      <td>기타 비거주 사회복지사업</td>\n",
       "      <td>NaN</td>\n",
       "      <td>NaN</td>\n",
       "      <td>NaN</td>\n",
       "      <td>NaN</td>\n",
       "    </tr>\n",
       "    <tr>\n",
       "      <th>8360</th>\n",
       "      <td>NaN</td>\n",
       "      <td>NaN</td>\n",
       "      <td>NaN</td>\n",
       "      <td>NaN</td>\n",
       "      <td>NaN</td>\n",
       "      <td>NaN</td>\n",
       "    </tr>\n",
       "    <tr>\n",
       "      <th>8386</th>\n",
       "      <td>NaN</td>\n",
       "      <td>NaN</td>\n",
       "      <td>NaN</td>\n",
       "      <td>NaN</td>\n",
       "      <td>NaN</td>\n",
       "      <td>NaN</td>\n",
       "    </tr>\n",
       "    <tr>\n",
       "      <th>8387</th>\n",
       "      <td>NaN</td>\n",
       "      <td>NaN</td>\n",
       "      <td>NaN</td>\n",
       "      <td>NaN</td>\n",
       "      <td>NaN</td>\n",
       "      <td>NaN</td>\n",
       "    </tr>\n",
       "  </tbody>\n",
       "</table>\n",
       "<p>4790 rows × 6 columns</p>\n",
       "</div>"
      ],
      "text/plain": [
       "     ISIC4_국제표준산업분류              ISIC4_분류명 KSIC10_한국표준산업분류 KSIC10_분류명  \\\n",
       "1               NaN                    NaN             NaN        NaN   \n",
       "3               NaN                    NaN             NaN        NaN   \n",
       "28             0111  곡물(쌀 제외), 콩류, 종실유 재배업             NaN        NaN   \n",
       "37              NaN                    NaN             NaN        NaN   \n",
       "38              NaN                    NaN             NaN        NaN   \n",
       "...             ...                    ...             ...        ...   \n",
       "8336            NaN                    NaN             NaN        NaN   \n",
       "8342           8890          기타 비거주 사회복지사업             NaN        NaN   \n",
       "8360            NaN                    NaN             NaN        NaN   \n",
       "8386            NaN                    NaN             NaN        NaN   \n",
       "8387            NaN                    NaN             NaN        NaN   \n",
       "\n",
       "      HS2017_관세통계통합품목분류                                         HS2017_분류명  \n",
       "1              100191.0                                                 종자  \n",
       "3              100199.0                                                 기타  \n",
       "28             100890.0                                            그 밖의 곡물  \n",
       "37              70521.0  위트루프 치커리(Witloof chicory)[시코리엄 인티부스 변종 포리오섬(Ci...  \n",
       "38              70529.0                                                 기타  \n",
       "...                 ...                                                ...  \n",
       "8336                NaN                                                NaN  \n",
       "8342                NaN                                                NaN  \n",
       "8360                NaN                                                NaN  \n",
       "8386                NaN                                                NaN  \n",
       "8387                NaN                                                NaN  \n",
       "\n",
       "[4790 rows x 6 columns]"
      ]
     },
     "execution_count": 77,
     "metadata": {},
     "output_type": "execute_result"
    }
   ],
   "source": [
    "statistics_data[statistics_data['KSIC10_분류명'].isnull()]"
   ]
  },
  {
   "cell_type": "markdown",
   "metadata": {},
   "source": [
    "- `nan` 결측치 존재\n",
    "- `KSIC10_한국표준산업분류`와 겹치는 인덱스 확인"
   ]
  },
  {
   "cell_type": "code",
   "execution_count": 78,
   "metadata": {},
   "outputs": [],
   "source": [
    "temp1 = statistics_data[statistics_data['KSIC10_한국표준산업분류'].isnull()].index.tolist()\n",
    "temp2 = statistics_data[statistics_data['KSIC10_분류명'].isnull()].index.tolist()"
   ]
  },
  {
   "cell_type": "code",
   "execution_count": 79,
   "metadata": {},
   "outputs": [
    {
     "name": "stdout",
     "output_type": "stream",
     "text": [
      "[1, 3, 28, 37, 38, 81, 112, 113, 162, 165, 166, 167, 179, 181, 182, 183, 184, 185, 186, 187, 190, 195, 201, 204, 210, 211, 213, 214, 216, 221, 224, 225, 226, 227, 237, 238, 239, 244, 245, 253, 254, 257, 258, 259, 260, 262, 263, 264, 265, 266, 268, 269, 270, 272, 273, 274, 275, 276, 277, 279, 280, 281, 282, 283, 284, 288, 291, 292, 297, 299, 301, 303, 305, 306, 308, 310, 312, 314, 317, 319, 321, 322, 325, 326, 330, 332, 333, 335, 336, 339, 341, 342, 343, 347, 349, 356, 360, 364, 368, 369, 372, 373, 375, 376, 378, 379, 382, 383, 384, 385, 388, 392, 393, 394, 395, 398, 399, 400, 401, 402, 403, 404, 405, 410, 416, 417, 418, 426, 427, 428, 429, 430, 431, 432, 435, 436, 437, 438, 440, 441, 442, 443, 444, 445, 446, 447, 448, 449, 451, 452, 453, 454, 455, 456, 457, 458, 459, 460, 465, 466, 469, 470, 471, 472, 475, 476, 477, 478, 480, 481, 482, 483, 484, 487, 488, 489, 490, 491, 492, 494, 495, 496, 497, 498, 499, 500, 503, 504, 505, 506, 507, 508, 509, 510, 512, 513, 514, 515, 516, 517, 518, 519, 520, 527, 528, 529, 530, 531, 532, 533, 534, 535, 536, 537, 538, 539, 542, 543, 544, 545, 546, 547, 548, 549, 550, 551, 552, 553, 554, 555, 564, 575, 576, 577, 581, 584, 585, 605, 622, 634, 653, 655, 657, 659, 661, 663, 671, 672, 674, 675, 683, 686, 687, 692, 694, 699, 702, 703, 704, 705, 706, 707, 708, 709, 712, 713, 715, 716, 718, 719, 720, 721, 723, 725, 727, 728, 729, 732, 733, 734, 735, 736, 737, 739, 742, 743, 744, 745, 746, 747, 749, 751, 753, 754, 755, 756, 757, 759, 761, 762, 763, 764, 765, 766, 767, 768, 769, 770, 771, 772, 773, 774, 786, 787, 789, 790, 793, 794, 795, 799, 800, 801, 802, 803, 804, 806, 808, 810, 812, 815, 816, 818, 819, 822, 823, 824, 828, 829, 830, 831, 832, 833, 835, 837, 839, 841, 845, 846, 847, 848, 851, 852, 855, 858, 861, 862, 863, 864, 865, 866, 867, 868, 869, 870, 873, 874, 875, 876, 877, 878, 879, 880, 881, 886, 891, 892, 898, 899, 900, 901, 902, 903, 904, 907, 908, 909, 910, 911, 912, 913, 920, 921, 922, 923, 924, 925, 926, 928, 929, 930, 931, 933, 934, 935, 936, 938, 939, 940, 941, 942, 944, 945, 946, 947, 948, 949, 953, 954, 955, 956, 957, 958, 959, 960, 961, 962, 964, 965, 966, 967, 968, 969, 970, 971, 972, 973, 974, 975, 976, 977, 978, 979, 980, 981, 982, 983, 985, 986, 987, 988, 989, 990, 991, 992, 993, 994, 995, 996, 997, 998, 999, 1000, 1001, 1002, 1004, 1005, 1006, 1007, 1008, 1009, 1010, 1012, 1013, 1018, 1020, 1021, 1023, 1025, 1026, 1027, 1028, 1029, 1030, 1032, 1033, 1034, 1035, 1038, 1039, 1042, 1043, 1044, 1045, 1046, 1047, 1048, 1049, 1050, 1051, 1052, 1053, 1054, 1055, 1056, 1057, 1058, 1060, 1061, 1062, 1063, 1064, 1065, 1066, 1067, 1068, 1070, 1071, 1074, 1077, 1080, 1081, 1082, 1083, 1084, 1085, 1088, 1089, 1090, 1091, 1119, 1120, 1121, 1123, 1124, 1125, 1126, 1127, 1129, 1130, 1131, 1132, 1133, 1134, 1135, 1136, 1137, 1138, 1139, 1141, 1142, 1143, 1144, 1146, 1147, 1148, 1149, 1150, 1151, 1152, 1153, 1155, 1156, 1157, 1162, 1165, 1166, 1167, 1168, 1173, 1174, 1175, 1176, 1177, 1178, 1180, 1181, 1182, 1183, 1185, 1189, 1190, 1191, 1192, 1193, 1194, 1195, 1198, 1200, 1201, 1202, 1203, 1204, 1206, 1209, 1210, 1212, 1213, 1214, 1215, 1216, 1217, 1218, 1219, 1220, 1221, 1222, 1223, 1224, 1225, 1228, 1229, 1230, 1231, 1232, 1233, 1234, 1235, 1236, 1237, 1238, 1239, 1240, 1241, 1242, 1243, 1244, 1245, 1251, 1252, 1253, 1254, 1255, 1256, 1257, 1258, 1259, 1260, 1262, 1263, 1265, 1267, 1269, 1271, 1273, 1274, 1275, 1276, 1280, 1281, 1283, 1288, 1290, 1291, 1292, 1293, 1294, 1295, 1296, 1297, 1298, 1301, 1303, 1304, 1306, 1312, 1313, 1314, 1315, 1316, 1317, 1318, 1319, 1320, 1326, 1331, 1332, 1339, 1351, 1352, 1353, 1354, 1355, 1356, 1357, 1360, 1363, 1364, 1365, 1366, 1367, 1368, 1369, 1370, 1371, 1373, 1375, 1379, 1382, 1386, 1388, 1390, 1392, 1393, 1395, 1396, 1398, 1399, 1400, 1401, 1403, 1404, 1405, 1406, 1413, 1415, 1416, 1417, 1419, 1420, 1421, 1422, 1423, 1424, 1425, 1426, 1427, 1429, 1432, 1434, 1437, 1438, 1440, 1441, 1444, 1445, 1447, 1448, 1450, 1451, 1453, 1454, 1456, 1457, 1458, 1459, 1460, 1461, 1462, 1472, 1473, 1474, 1475, 1476, 1478, 1479, 1481, 1482, 1484, 1486, 1487, 1488, 1489, 1491, 1492, 1493, 1496, 1498, 1504, 1506, 1507, 1508, 1509, 1510, 1511, 1513, 1518, 1519, 1520, 1521, 1522, 1523, 1524, 1525, 1526, 1527, 1528, 1529, 1530, 1536, 1537, 1549, 1550, 1551, 1552, 1553, 1555, 1556, 1557, 1558, 1559, 1563, 1564, 1568, 1570, 1572, 1573, 1574, 1575, 1576, 1577, 1578, 1580, 1581, 1586, 1587, 1588, 1589, 1590, 1591, 1592, 1597, 1598, 1599, 1600, 1601, 1602, 1606, 1607, 1610, 1612, 1614, 1616, 1617, 1621, 1622, 1625, 1626, 1628, 1631, 1632, 1635, 1636, 1637, 1638, 1639, 1643, 1644, 1645, 1646, 1648, 1649, 1650, 1651, 1654, 1655, 1657, 1658, 1659, 1660, 1661, 1662, 1663, 1665, 1666, 1667, 1668, 1670, 1671, 1672, 1673, 1674, 1675, 1676, 1677, 1678, 1679, 1680, 1681, 1682, 1683, 1684, 1685, 1686, 1687, 1688, 1689, 1690, 1691, 1692, 1693, 1694, 1695, 1696, 1697, 1698, 1699, 1700, 1701, 1702, 1703, 1704, 1705, 1706, 1707, 1708, 1709, 1710, 1711, 1712, 1713, 1714, 1715, 1716, 1718, 1719, 1720, 1721, 1722, 1723, 1725, 1726, 1727, 1729, 1730, 1731, 1732, 1733, 1734, 1737, 1738, 1739, 1740, 1741, 1742, 1743, 1744, 1745, 1746, 1747, 1748, 1749, 1750, 1751, 1752, 1753, 1754, 1755, 1757, 1758, 1759, 1760, 1763, 1764, 1766, 1767, 1768, 1769, 1770, 1771, 1772, 1773, 1774, 1775, 1777, 1778, 1779, 1781, 1784, 1785, 1786, 1787, 1788, 1789, 1790, 1791, 1792, 1793, 1794, 1795, 1796, 1797, 1798, 1799, 1800, 1801, 1802, 1803, 1804, 1805, 1806, 1807, 1808, 1809, 1810, 1811, 1812, 1813, 1814, 1815, 1816, 1817, 1818, 1819, 1820, 1821, 1822, 1823, 1824, 1825, 1826, 1827, 1828, 1829, 1830, 1831, 1832, 1833, 1834, 1835, 1836, 1837, 1838, 1839, 1840, 1841, 1842, 1843, 1844, 1845, 1846, 1847, 1848, 1849, 1850, 1851, 1852, 1854, 1855, 1856, 1857, 1858, 1859, 1860, 1861, 1862, 1863, 1864, 1865, 1866, 1867, 1868, 1869, 1870, 1871, 1872, 1873, 1874, 1875, 1876, 1877, 1878, 1879, 1880, 1881, 1882, 1883, 1884, 1885, 1886, 1888, 1889, 1890, 1891, 1892, 1894, 1895, 1896, 1897, 1898, 1899, 1900, 1901, 1902, 1903, 1904, 1905, 1906, 1907, 1908, 1909, 1910, 1911, 1912, 1913, 1914, 1915, 1916, 1917, 1918, 1919, 1920, 1921, 1922, 1923, 1924, 1925, 1926, 1927, 1928, 1929, 1930, 1931, 1932, 1933, 1934, 1935, 1936, 1937, 1938, 1939, 1940, 1941, 1942, 1943, 1944, 1946, 1947, 1948, 1949, 1950, 1951, 1952, 1953, 1954, 1955, 1956, 1958, 1959, 1961, 1962, 1963, 1967, 1968, 1969, 1970, 1971, 1972, 1973, 1974, 1975, 1976, 1977, 1978, 1979, 1980, 1981, 1982, 1983, 1984, 1986, 1987, 1988, 1989, 1991, 1992, 1993, 1994, 1995, 1996, 1997, 1998, 2000, 2001, 2002, 2003, 2004, 2006, 2007, 2008, 2009, 2010, 2011, 2013, 2015, 2016, 2017, 2019, 2020, 2021, 2022, 2023, 2024, 2025, 2026, 2027, 2028, 2029, 2030, 2031, 2032, 2033, 2034, 2035, 2036, 2037, 2038, 2039, 2041, 2042, 2043, 2044, 2045, 2047, 2048, 2049, 2051, 2052, 2053, 2054, 2055, 2056, 2057, 2058, 2059, 2061, 2062, 2063, 2065, 2066, 2067, 2069, 2070, 2071, 2073, 2074, 2075, 2076, 2077, 2078, 2079, 2081, 2082, 2083, 2084, 2085, 2088, 2089, 2090, 2091, 2092, 2093, 2094, 2095, 2096, 2097, 2098, 2099, 2100, 2101, 2103, 2104, 2105, 2106, 2107, 2108, 2109, 2110, 2111, 2112, 2113, 2114, 2115, 2117, 2118, 2119, 2120, 2121, 2122, 2123, 2124, 2125, 2126, 2127, 2128, 2129, 2130, 2131, 2132, 2133, 2134, 2135, 2136, 2137, 2138, 2139, 2140, 2141, 2142, 2143, 2144, 2145, 2146, 2147, 2148, 2149, 2150, 2151, 2152, 2153, 2154, 2155, 2156, 2157, 2158, 2159, 2161, 2162, 2163, 2164, 2165, 2166, 2167, 2168, 2170, 2171, 2172, 2173, 2174, 2175, 2176, 2177, 2178, 2179, 2180, 2181, 2182, 2183, 2184, 2185, 2186, 2187, 2188, 2189, 2190, 2191, 2192, 2193, 2194, 2195, 2196, 2197, 2198, 2199, 2200, 2201, 2202, 2204, 2205, 2206, 2207, 2208, 2209, 2210, 2211, 2212, 2213, 2214, 2215, 2216, 2217, 2218, 2219, 2220, 2221, 2222, 2223, 2224, 2225, 2226, 2227, 2228, 2229, 2230, 2231, 2232, 2233, 2234, 2235, 2236, 2237, 2238, 2239, 2240, 2241, 2242, 2243, 2244, 2245, 2246, 2247, 2248, 2249, 2250, 2253, 2255, 2256, 2257, 2258, 2259, 2260, 2261, 2262, 2263, 2264, 2266, 2267, 2268, 2269, 2270, 2271, 2272, 2274, 2275, 2276, 2277, 2278, 2279, 2280, 2281, 2282, 2283, 2284, 2285, 2286, 2287, 2288, 2289, 2290, 2291, 2292, 2293, 2294, 2297, 2298, 2299, 2300, 2301, 2302, 2303, 2304, 2306, 2307, 2308, 2309, 2310, 2311, 2312, 2313, 2314, 2315, 2316, 2317, 2318, 2319, 2320, 2321, 2322, 2323, 2324, 2325, 2326, 2327, 2328, 2329, 2330, 2331, 2332, 2333, 2334, 2335, 2336, 2337, 2340, 2341, 2342, 2343, 2344, 2345, 2346, 2347, 2348, 2349, 2350, 2352, 2353, 2356, 2357, 2358, 2359, 2360, 2361, 2362, 2364, 2365, 2366, 2367, 2368, 2369, 2370, 2371, 2373, 2374, 2375, 2377, 2378, 2379, 2380, 2381, 2382, 2383, 2384, 2385, 2386, 2387, 2388, 2391, 2392, 2396, 2397, 2398, 2399, 2400, 2402, 2403, 2404, 2405, 2406, 2408, 2409, 2410, 2415, 2416, 2417, 2418, 2419, 2420, 2421, 2422, 2423, 2424, 2425, 2426, 2427, 2428, 2429, 2430, 2431, 2432, 2433, 2434, 2435, 2436, 2437, 2438, 2439, 2440, 2443, 2444, 2445, 2446, 2447, 2448, 2449, 2450, 2451, 2452, 2453, 2455, 2456, 2458, 2460, 2461, 2463, 2464, 2465, 2466, 2468, 2469, 2471, 2474, 2476, 2478, 2480, 2481, 2482, 2484, 2485, 2487, 2488, 2489, 2490, 2491, 2492, 2493, 2494, 2495, 2496, 2497, 2498, 2499, 2500, 2502, 2509, 2511, 2513, 2514, 2515, 2518, 2519, 2521, 2523, 2527, 2529, 2530, 2533, 2537, 2538, 2541, 2542, 2543, 2547, 2548, 2549, 2550, 2553, 2556, 2557, 2558, 2560, 2563, 2564, 2566, 2567, 2568, 2569, 2570, 2572, 2573, 2574, 2575, 2576, 2577, 2578, 2579, 2580, 2581, 2583, 2584, 2585, 2586, 2587, 2588, 2589, 2590, 2592, 2593, 2594, 2595, 2596, 2597, 2598, 2602, 2603, 2604, 2605, 2606, 2607, 2608, 2609, 2610, 2613, 2614, 2615, 2616, 2617, 2618, 2619, 2620, 2621, 2622, 2623, 2624, 2625, 2626, 2628, 2629, 2630, 2631, 2634, 2635, 2636, 2637, 2638, 2640, 2641, 2642, 2646, 2647, 2648, 2649, 2650, 2651, 2652, 2653, 2654, 2655, 2656, 2657, 2658, 2659, 2660, 2661, 2662, 2663, 2666, 2672, 2675, 2676, 2678, 2679, 2680, 2681, 2682, 2683, 2685, 2686, 2687, 2689, 2692, 2693, 2694, 2695, 2696, 2697, 2698, 2699, 2700, 2701, 2703, 2705, 2706, 2709, 2711, 2713, 2714, 2716, 2718, 2720, 2735, 2738, 2739, 2746, 2750, 2758, 2763, 2764, 2768, 2770, 2772, 2774, 2776, 2779, 2781, 2782, 2784, 2785, 2786, 2788, 2789, 2791, 2793, 2794, 2795, 2796, 2797, 2799, 2800, 2801, 2802, 2803, 2804, 2805, 2806, 2807, 2808, 2809, 2811, 2812, 2813, 2814, 2815, 2816, 2817, 2818, 2819, 2820, 2821, 2822, 2823, 2824, 2825, 2826, 2827, 2828, 2829, 2830, 2831, 2832, 2833, 2834, 2835, 2836, 2837, 2838, 2839, 2840, 2841, 2842, 2843, 2844, 2845, 2846, 2847, 2848, 2849, 2851, 2852, 2853, 2856, 2857, 2858, 2859, 2860, 2861, 2862, 2863, 2864, 2865, 2866, 2867, 2868, 2869, 2870, 2871, 2872, 2873, 2874, 2875, 2876, 2877, 2878, 2879, 2881, 2882, 2883, 2884, 2885, 2886, 2887, 2888, 2889, 2890, 2891, 2892, 2893, 2894, 2897, 2898, 2899, 2900, 2901, 2902, 2903, 2904, 2905, 2906, 2907, 2908, 2909, 2910, 2911, 2912, 2913, 2914, 2915, 2916, 2917, 2918, 2919, 2920, 2921, 2922, 2923, 2924, 2925, 2926, 2927, 2928, 2929, 2930, 2931, 2932, 2933, 2934, 2935, 2936, 2938, 2939, 2940, 2941, 2942, 2943, 2944, 2945, 2946, 2947, 2948, 2949, 2951, 2952, 2953, 2954, 2955, 2956, 2957, 2958, 2959, 2960, 2961, 2962, 2963, 2964, 2965, 2966, 2967, 2968, 2969, 2970, 2971, 2972, 2973, 2974, 2975, 2976, 2977, 2978, 2979, 2980, 2981, 2982, 2983, 2984, 2985, 2986, 2987, 2988, 2989, 2990, 2991, 2992, 2993, 2994, 2995, 2996, 2997, 2998, 2999, 3002, 3003, 3004, 3005, 3006, 3007, 3008, 3009, 3010, 3011, 3012, 3013, 3014, 3015, 3016, 3017, 3018, 3019, 3020, 3021, 3022, 3023, 3024, 3025, 3026, 3027, 3028, 3029, 3030, 3031, 3032, 3033, 3034, 3035, 3036, 3037, 3038, 3039, 3040, 3041, 3042, 3043, 3044, 3045, 3046, 3047, 3048, 3050, 3051, 3052, 3053, 3054, 3055, 3056, 3057, 3058, 3059, 3061, 3062, 3063, 3064, 3065, 3066, 3067, 3068, 3069, 3070, 3071, 3072, 3073, 3074, 3075, 3076, 3077, 3078, 3080, 3081, 3082, 3083, 3084, 3085, 3086, 3087, 3088, 3089, 3090, 3091, 3092, 3093, 3094, 3095, 3096, 3098, 3100, 3101, 3102, 3103, 3104, 3105, 3106, 3107, 3108, 3109, 3111, 3112, 3113, 3114, 3115, 3116, 3118, 3119, 3120, 3121, 3122, 3123, 3124, 3125, 3126, 3127, 3128, 3129, 3130, 3131, 3132, 3133, 3134, 3135, 3137, 3138, 3139, 3140, 3141, 3142, 3143, 3144, 3145, 3146, 3147, 3148, 3149, 3150, 3151, 3152, 3153, 3154, 3155, 3156, 3157, 3158, 3159, 3160, 3161, 3162, 3163, 3164, 3165, 3166, 3167, 3168, 3169, 3170, 3171, 3172, 3173, 3174, 3175, 3176, 3177, 3183, 3184, 3185, 3186, 3187, 3188, 3189, 3190, 3191, 3192, 3193, 3194, 3195, 3196, 3197, 3198, 3199, 3200, 3201, 3202, 3203, 3204, 3205, 3206, 3207, 3208, 3209, 3210, 3211, 3212, 3213, 3214, 3215, 3216, 3217, 3218, 3219, 3220, 3221, 3222, 3223, 3224, 3225, 3226, 3227, 3228, 3229, 3230, 3231, 3232, 3233, 3234, 3236, 3237, 3238, 3239, 3240, 3241, 3242, 3243, 3244, 3245, 3246, 3247, 3248, 3249, 3251, 3253, 3254, 3255, 3256, 3257, 3258, 3259, 3260, 3261, 3262, 3263, 3265, 3266, 3267, 3268, 3269, 3271, 3273, 3274, 3275, 3276, 3277, 3278, 3279, 3280, 3281, 3282, 3284, 3285, 3286, 3288, 3290, 3291, 3292, 3293, 3294, 3295, 3297, 3298, 3299, 3300, 3301, 3302, 3303, 3304, 3306, 3310, 3311, 3312, 3313, 3314, 3315, 3316, 3317, 3320, 3322, 3330, 3332, 3337, 3342, 3349, 3351, 3352, 3353, 3354, 3355, 3356, 3357, 3364, 3365, 3367, 3368, 3369, 3374, 3375, 3377, 3378, 3379, 3380, 3382, 3383, 3384, 3385, 3387, 3388, 3389, 3390, 3391, 3392, 3393, 3394, 3396, 3397, 3398, 3399, 3400, 3401, 3402, 3403, 3404, 3406, 3407, 3408, 3410, 3411, 3412, 3413, 3414, 3415, 3417, 3420, 3421, 3422, 3423, 3424, 3425, 3426, 3427, 3428, 3429, 3430, 3431, 3432, 3433, 3434, 3435, 3436, 3437, 3439, 3440, 3441, 3442, 3443, 3444, 3445, 3446, 3447, 3448, 3449, 3450, 3451, 3453, 3454, 3455, 3456, 3457, 3458, 3459, 3460, 3461, 3462, 3463, 3464, 3465, 3467, 3469, 3470, 3472, 3473, 3474, 3476, 3477, 3478, 3479, 3480, 3481, 3482, 3483, 3484, 3485, 3486, 3487, 3488, 3489, 3490, 3492, 3494, 3497, 3498, 3500, 3501, 3502, 3503, 3504, 3505, 3506, 3507, 3508, 3509, 3510, 3511, 3512, 3514, 3515, 3516, 3517, 3518, 3519, 3520, 3521, 3522, 3523, 3524, 3525, 3526, 3527, 3528, 3529, 3530, 3533, 3534, 3535, 3536, 3537, 3538, 3539, 3540, 3541, 3543, 3544, 3545, 3546, 3547, 3548, 3549, 3550, 3552, 3553, 3554, 3555, 3556, 3557, 3558, 3559, 3560, 3561, 3562, 3563, 3564, 3565, 3566, 3567, 3568, 3569, 3571, 3572, 3573, 3574, 3575, 3578, 3579, 3580, 3581, 3582, 3583, 3584, 3585, 3586, 3587, 3588, 3589, 3590, 3591, 3592, 3593, 3594, 3595, 3596, 3597, 3598, 3599, 3600, 3601, 3602, 3603, 3604, 3605, 3606, 3607, 3608, 3609, 3610, 3611, 3612, 3613, 3614, 3615, 3616, 3617, 3618, 3619, 3621, 3623, 3624, 3625, 3626, 3627, 3628, 3629, 3630, 3634, 3636, 3638, 3639, 3640, 3642, 3643, 3644, 3646, 3647, 3648, 3650, 3652, 3653, 3654, 3655, 3656, 3657, 3658, 3659, 3660, 3662, 3663, 3664, 3666, 3667, 3668, 3669, 3670, 3671, 3673, 3675, 3677, 3678, 3679, 3682, 3683, 3684, 3685, 3686, 3687, 3688, 3689, 3690, 3692, 3693, 3694, 3695, 3696, 3697, 3698, 3699, 3701, 3702, 3703, 3705, 3706, 3707, 3708, 3710, 3712, 3716, 3718, 3721, 3725, 3726, 3727, 3729, 3730, 3731, 3732, 3733, 3734, 3735, 3736, 3737, 3738, 3739, 3742, 3743, 3744, 3745, 3746, 3747, 3748, 3749, 3750, 3751, 3752, 3753, 3754, 3755, 3756, 3757, 3758, 3759, 3760, 3761, 3763, 3764, 3765, 3766, 3770, 3771, 3772, 3773, 3775, 3776, 3777, 3778, 3779, 3780, 3781, 3782, 3783, 3784, 3785, 3786, 3787, 3788, 3789, 3790, 3791, 3793, 3794, 3795, 3797, 3798, 3799, 3801, 3802, 3803, 3804, 3808, 3811, 3812, 3813, 3814, 3816, 3817, 3818, 3821, 3822, 3823, 3826, 3827, 3828, 3831, 3832, 3833, 3834, 3836, 3837, 3838, 3839, 3840, 3841, 3842, 3844, 3845, 3846, 3847, 3848, 3849, 3850, 3851, 3852, 3854, 3855, 3857, 3858, 3860, 3861, 3863, 3866, 3867, 3868, 3869, 3870, 3872, 3873, 3875, 3876, 3877, 3878, 3879, 3880, 3881, 3882, 3883, 3894, 3895, 3896, 3897, 3898, 3899, 3900, 3901, 3902, 3903, 3904, 3905, 3908, 3909, 3910, 3911, 3912, 3913, 3914, 3915, 3916, 3917, 3919, 3921, 3922, 3923, 3924, 3926, 3928, 3930, 3931, 3933, 3941, 3942, 3947, 3948, 3949, 3951, 3952, 3953, 3954, 3955, 3957, 3958, 3959, 3960, 3961, 3963, 3964, 3965, 3967, 3968, 3969, 3973, 3974, 3975, 3977, 3978, 3979, 3982, 3983, 3985, 3986, 3987, 3989, 3991, 3992, 3994, 3995, 3996, 3997, 3998, 3999, 4000, 4001, 4002, 4006, 4007, 4008, 4012, 4013, 4014, 4015, 4016, 4018, 4020, 4022, 4024, 4025, 4027, 4029, 4030, 4031, 4033, 4035, 4039, 4040, 4044, 4045, 4047, 4048, 4049, 4052, 4053, 4054, 4055, 4058, 4059, 4062, 4063, 4064, 4069, 4070, 4073, 4074, 4076, 4077, 4079, 4084, 4085, 4086, 4091, 4092, 4093, 4094, 4095, 4096, 4098, 4099, 4100, 4101, 4103, 4104, 4106, 4107, 4108, 4109, 4110, 4111, 4112, 4114, 4116, 4118, 4119, 4120, 4126, 4127, 4129, 4130, 4134, 4136, 4137, 4138, 4140, 4141, 4142, 4143, 4144, 4152, 4154, 4155, 4156, 4157, 4160, 4166, 4167, 4169, 4171, 4172, 4173, 4174, 4176, 4177, 4179, 4180, 4181, 4182, 4183, 4184, 4185, 4186, 4188, 4190, 4191, 4194, 4196, 4200, 4202, 4203, 4206, 4207, 4208, 4210, 4211, 4212, 4214, 4217, 4218, 4221, 4222, 4223, 4224, 4225, 4226, 4228, 4229, 4230, 4233, 4241, 4242, 4246, 4248, 4250, 4252, 4254, 4255, 4256, 4257, 4258, 4259, 4260, 4263, 4265, 4266, 4269, 4270, 4273, 4275, 4276, 4277, 4278, 4279, 4281, 4283, 4291, 4292, 4293, 4300, 4301, 4302, 4304, 4305, 4307, 4310, 4311, 4315, 4318, 4319, 4320, 4321, 4322, 4323, 4325, 4326, 4328, 4329, 4332, 4333, 4335, 4336, 4338, 4339, 4340, 4341, 4342, 4343, 4344, 4345, 4346, 4347, 4348, 4349, 4350, 4351, 4352, 4353, 4354, 4355, 4356, 4357, 4358, 4359, 4360, 4361, 4362, 4363, 4364, 4365, 4366, 4367, 4368, 4369, 4370, 4371, 4372, 4373, 4374, 4375, 4376, 4377, 4378, 4379, 4380, 4381, 4382, 4383, 4384, 4385, 4386, 4387, 4388, 4389, 4390, 4391, 4392, 4393, 4394, 4395, 4396, 4397, 4398, 4399, 4400, 4401, 4402, 4403, 4404, 4405, 4406, 4407, 4408, 4409, 4410, 4411, 4412, 4413, 4414, 4415, 4416, 4417, 4418, 4419, 4420, 4421, 4422, 4423, 4424, 4425, 4426, 4427, 4428, 4429, 4430, 4431, 4432, 4433, 4434, 4435, 4436, 4437, 4438, 4439, 4440, 4441, 4442, 4443, 4444, 4445, 4446, 4447, 4448, 4450, 4451, 4453, 4455, 4456, 4457, 4458, 4459, 4460, 4461, 4462, 4463, 4464, 4465, 4466, 4468, 4470, 4471, 4473, 4474, 4475, 4476, 4477, 4479, 4480, 4482, 4484, 4485, 4486, 4487, 4488, 4489, 4490, 4491, 4492, 4493, 4494, 4495, 4497, 4498, 4500, 4501, 4502, 4503, 4504, 4505, 4506, 4507, 4508, 4510, 4511, 4513, 4514, 4515, 4516, 4517, 4518, 4519, 4521, 4523, 4524, 4525, 4526, 4527, 4529, 4531, 4532, 4533, 4534, 4535, 4536, 4537, 4538, 4539, 4540, 4541, 4542, 4543, 4544, 4545, 4546, 4547, 4548, 4549, 4551, 4553, 4554, 4555, 4558, 4559, 4560, 4562, 4563, 4564, 4566, 4567, 4568, 4569, 4571, 4572, 4573, 4575, 4576, 4577, 4579, 4580, 4581, 4582, 4583, 4584, 4585, 4587, 4589, 4590, 4591, 4593, 4594, 4596, 4597, 4598, 4600, 4601, 4602, 4604, 4606, 4608, 4610, 4611, 4618, 4620, 4621, 4622, 4624, 4625, 4626, 4627, 4628, 4632, 4633, 4634, 4640, 4641, 4642, 4649, 4651, 4652, 4653, 4654, 4655, 4656, 4657, 4659, 4660, 4661, 4662, 4663, 4666, 4667, 4670, 4671, 4672, 4673, 4674, 4675, 4676, 4679, 4683, 4684, 4685, 4686, 4687, 4688, 4689, 4691, 4693, 4695, 4698, 4699, 4701, 4702, 4704, 4706, 4708, 4709, 4711, 4712, 4713, 4714, 4716, 4717, 4718, 4719, 4720, 4721, 4722, 4724, 4725, 4726, 4728, 4729, 4730, 4731, 4732, 4735, 4736, 4737, 4739, 4741, 4742, 4744, 4746, 4747, 4749, 4750, 4751, 4753, 4754, 4755, 4757, 4758, 4760, 4761, 4764, 4766, 4768, 4771, 4772, 4773, 4774, 4775, 4776, 4777, 4778, 4779, 4780, 4781, 4782, 4783, 4785, 4786, 4787, 4788, 4789, 4790, 4791, 4792, 4793, 4794, 4795, 4796, 4797, 4798, 4800, 4801, 4802, 4803, 4804, 4811, 4815, 4822, 4823, 4824, 4826, 4828, 4829, 4831, 4832, 4833, 4834, 4835, 4836, 4837, 4838, 4839, 4840, 4841, 4843, 4844, 4845, 4846, 4847, 4848, 4849, 4850, 4852, 4853, 4854, 4855, 4856, 4857, 4859, 4860, 4862, 4863, 4865, 4866, 4867, 4869, 4870, 4871, 4872, 4873, 4874, 4875, 4876, 4877, 4878, 4879, 4880, 4881, 4882, 4883, 4884, 4885, 4886, 4887, 4888, 4889, 4890, 4892, 4893, 4894, 4895, 4896, 4897, 4899, 4900, 4901, 4902, 4903, 4904, 4905, 4906, 4907, 4908, 4909, 4910, 4911, 4912, 4913, 4915, 4916, 4917, 4918, 4919, 4920, 4921, 4922, 4923, 4925, 4926, 4927, 4928, 4929, 4930, 4931, 4932, 4933, 4935, 4937, 4939, 4940, 4942, 4943, 4944, 4945, 4946, 4947, 4948, 4949, 4950, 4954, 4955, 4956, 4957, 4958, 4959, 4962, 4963, 4964, 4965, 4966, 4967, 4968, 4969, 4970, 4972, 4973, 4976, 4977, 4978, 4980, 4981, 4982, 4983, 4984, 4986, 4987, 4988, 4989, 4990, 4991, 4992, 4993, 4994, 4995, 4996, 4997, 4998, 4999, 5003, 5004, 5005, 5006, 5007, 5009, 5010, 5011, 5012, 5018, 5019, 5020, 5021, 5022, 5023, 5024, 5025, 5026, 5027, 5028, 5029, 5030, 5031, 5032, 5033, 5034, 5036, 5037, 5039, 5041, 5042, 5047, 5048, 5049, 5052, 5053, 5055, 5056, 5058, 5059, 5061, 5063, 5064, 5065, 5072, 5074, 5075, 5077, 5078, 5079, 5080, 5081, 5082, 5083, 5084, 5085, 5087, 5088, 5089, 5090, 5092, 5093, 5095, 5096, 5097, 5098, 5105, 5106, 5107, 5108, 5109, 5111, 5114, 5117, 5120, 5121, 5123, 5124, 5126, 5127, 5128, 5129, 5130, 5132, 5133, 5135, 5136, 5137, 5138, 5139, 5140, 5142, 5143, 5144, 5145, 5146, 5147, 5148, 5149, 5151, 5152, 5153, 5154, 5158, 5159, 5160, 5164, 5165, 5166, 5167, 5170, 5172, 5174, 5175, 5176, 5177, 5179, 5180, 5182, 5183, 5186, 5188, 5189, 5191, 5192, 5193, 5194, 5195, 5197, 5198, 5199, 5201, 5202, 5204, 5208, 5209, 5210, 5213, 5214, 5215, 5216, 5218, 5220, 5221, 5222, 5223, 5228, 5230, 5232, 5236, 5245, 5246, 5251, 5252, 5256, 5257, 5258, 5259, 5261, 5262, 5270, 5271, 5273, 5274, 5275, 5276, 5277, 5278, 5280, 5281, 5283, 5284, 5285, 5287, 5288, 5289, 5290, 5291, 5292, 5293, 5294, 5295, 5296, 5299, 5300, 5301, 5302, 5303, 5304, 5305, 5306, 5307, 5308, 5309, 5310, 5311, 5312, 5315, 5316, 5317, 5318, 5319, 5320, 5321, 5324, 5325, 5327, 5328, 5330, 5331, 5332, 5333, 5334, 5335, 5336, 5337, 5338, 5340, 5341, 5342, 5344, 5345, 5347, 5348, 5349, 5350, 5351, 5352, 5353, 5354, 5355, 5356, 5357, 5358, 5359, 5361, 5362, 5369, 5371, 5372, 5382, 5383, 5384, 5385, 5386, 5388, 5389, 5392, 5393, 5394, 5396, 5407, 5408, 5409, 5410, 5412, 5413, 5414, 5415, 5416, 5418, 5423, 5425, 5426, 5427, 5428, 5429, 5430, 5431, 5438, 5439, 5440, 5441, 5442, 5443, 5444, 5445, 5447, 5448, 5449, 5451, 5452, 5453, 5455, 5457, 5459, 5460, 5462, 5463, 5464, 5465, 5466, 5469, 5472, 5473, 5474, 5475, 5476, 5477, 5478, 5479, 5480, 5481, 5482, 5483, 5486, 5487, 5489, 5490, 5491, 5492, 5493, 5495, 5496, 5497, 5500, 5501, 5502, 5504, 5505, 5506, 5507, 5509, 5510, 5511, 5512, 5525, 5526, 5527, 5528, 5529, 5530, 5531, 5532, 5537, 5538, 5550, 5554, 5559, 5561, 5562, 5563, 5564, 5565, 5566, 5567, 5569, 5570, 5571, 5572, 5573, 5574, 5575, 5576, 5579, 5580, 5581, 5582, 5583, 5585, 5586, 5587, 5588, 5589, 5590, 5591, 5592, 5594, 5596, 5597, 5598, 5599, 5600, 5601, 5602, 5603, 5604, 5605, 5606, 5607, 5608, 5616, 5617, 5620, 5621, 5622, 5623, 5624, 5625, 5637, 5638, 5640, 5641, 5645, 5646, 5650, 5651, 5663, 5667, 5669, 5671, 5673, 5674, 5675, 5676, 5678, 5679, 5680, 5681, 5682, 5683, 5684, 5685, 5687, 5688, 5689, 5690, 5691, 5692, 5694, 5695, 5696, 5697, 5698, 5699, 5701, 5702, 5704, 5712, 5713, 5714, 5715, 5720, 5721, 5722, 5723, 5724, 5735, 5740, 5741, 5742, 5744, 5745, 5748, 5749, 5750, 5751, 5752, 5754, 5756, 5757, 5758, 5759, 5763, 5764, 5766, 5767, 5768, 5770, 5772, 5780, 5783, 5786, 5790, 5794, 5795, 5799, 5800, 5801, 5802, 5803, 5807, 5808, 5809, 5824, 5825, 5826, 5827, 5828, 5829, 5831, 5833, 5834, 5836, 5837, 5842, 5843, 5844, 5845, 5846, 5847, 5848, 5849, 5878, 5886, 5887, 5888, 5889, 5890, 5891, 5893, 5894, 5895, 5896, 5897, 5899, 5901, 5902, 5907, 5908, 5910, 5911, 5912, 5913, 5915, 5918, 5919, 5920, 5922, 5938, 5939, 5940, 5943, 5965, 5967, 5969, 5971, 5973, 5981, 5982, 5983, 5984, 5985, 5986, 5987, 5991, 5992, 5995, 5998, 5999, 6000, 6001, 6003, 6004, 6006, 6007, 6008, 6009, 6011, 6012, 6014, 6016, 6019, 6020, 6022, 6024, 6025, 6030, 6034, 6037, 6038, 6039, 6040, 6042, 6043, 6045, 6048, 6049, 6050, 6051, 6054, 6056, 6057, 6059, 6064, 6065, 6066, 6067, 6068, 6069, 6075, 6076, 6077, 6078, 6079, 6080, 6081, 6082, 6083, 6085, 6086, 6088, 6089, 6090, 6091, 6093, 6095, 6097, 6099, 6100, 6101, 6102, 6109, 6112, 6113, 6114, 6115, 6116, 6117, 6120, 6121, 6122, 6123, 6124, 6126, 6127, 6128, 6129, 6130, 6131, 6132, 6133, 6134, 6135, 6136, 6137, 6138, 6139, 6140, 6141, 6142, 6143, 6144, 6145, 6146, 6147, 6148, 6150, 6152, 6155, 6156, 6157, 6158, 6159, 6163, 6164, 6165, 6166, 6167, 6168, 6169, 6170, 6171, 6172, 6173, 6174, 6176, 6177, 6178, 6179, 6180, 6181, 6182, 6183, 6185, 6186, 6188, 6189, 6190, 6191, 6192, 6193, 6194, 6195, 6196, 6197, 6201, 6202, 6203, 6204, 6205, 6206, 6207, 6208, 6209, 6212, 6213, 6214, 6215, 6217, 6218, 6219, 6220, 6221, 6222, 6223, 6224, 6225, 6226, 6227, 6228, 6230, 6231, 6232, 6233, 6234, 6238, 6239, 6240, 6248, 6249, 6250, 6251, 6252, 6253, 6254, 6260, 6261, 6285, 6286, 6289, 6292, 6293, 6297, 6299, 6303, 6304, 6305, 6306, 6308, 6309, 6310, 6311, 6312, 6313, 6314, 6316, 6328, 6329, 6330, 6333, 6334, 6335, 6339, 6341, 6344, 6345, 6346, 6347, 6348, 6349, 6350, 6432, 6450, 6451, 6452, 6453, 6454, 6455, 6456, 6457, 6458, 6459, 6460, 6461, 6462, 6463, 6464, 6465, 6466, 6467, 6468, 6469, 6470, 6471, 6472, 6473, 6474, 6475, 6476, 6477, 6478, 6479, 6480, 6481, 6482, 6483, 6484, 6485, 6486, 6487, 6488, 6489, 6490, 6491, 6492, 6493, 6494, 6495, 6496, 6497, 6498, 6499, 6500, 6501, 6502, 6503, 6504, 6505, 6506, 6507, 6508, 6509, 6510, 6511, 6512, 6513, 6514, 6515, 6516, 6517, 6518, 6519, 6520, 6521, 6522, 6523, 6524, 6525, 6526, 6527, 6528, 6529, 6530, 6531, 6532, 6533, 6534, 6535, 6536, 6537, 6538, 6539, 6540, 6541, 6542, 6543, 6544, 6545, 6546, 6547, 6548, 6549, 6550, 6551, 6552, 6553, 6554, 6555, 6556, 6557, 6558, 6559, 6560, 6561, 6562, 6563, 6564, 6565, 6566, 6567, 6568, 6569, 6570, 6571, 6572, 6573, 6574, 6575, 6576, 6577, 6578, 6579, 6580, 6581, 6582, 6583, 6584, 6585, 6586, 6587, 6588, 6589, 6590, 6591, 6592, 6593, 6594, 6595, 6596, 6597, 6598, 6599, 6600, 6601, 6602, 6603, 6604, 6605, 6606, 6607, 6608, 6609, 6610, 6611, 6612, 6613, 6614, 6615, 6616, 6617, 6618, 6619, 6620, 6621, 6622, 6623, 6624, 6625, 6626, 6627, 6628, 6629, 6630, 6631, 6632, 6633, 6634, 6635, 6636, 6637, 6638, 6639, 6640, 6641, 6642, 6643, 6644, 6645, 6646, 6647, 6648, 6649, 6650, 6651, 6652, 6653, 6654, 6655, 6656, 6657, 6658, 6659, 6660, 6661, 6662, 6663, 6664, 6665, 6666, 6667, 6668, 6669, 6670, 6671, 6672, 6673, 6674, 6675, 6676, 6677, 6678, 6679, 6680, 6681, 6682, 6683, 6684, 6685, 6686, 6687, 6688, 6689, 6690, 6691, 6692, 6693, 6694, 6695, 6696, 6697, 6698, 6699, 6700, 6701, 6702, 6703, 6704, 6705, 6706, 6707, 6708, 6709, 6710, 6711, 6712, 6713, 6714, 6715, 6716, 6717, 6718, 6719, 6720, 6721, 6722, 6723, 6724, 6725, 6726, 6727, 6728, 6729, 6730, 6731, 6732, 6733, 6734, 6735, 6736, 6737, 6738, 6739, 6740, 6741, 6742, 6743, 6744, 6745, 6746, 6747, 6748, 6749, 6750, 6751, 6752, 6753, 6754, 6755, 6756, 6757, 6758, 6759, 6760, 6761, 6762, 6763, 6764, 6765, 6766, 6767, 6768, 6769, 6770, 6771, 6772, 6773, 6774, 6775, 6776, 6777, 6778, 6779, 6780, 6781, 6782, 6783, 6784, 6785, 6786, 6787, 6788, 6789, 6790, 6791, 6792, 6793, 6794, 6795, 6796, 6797, 6798, 6799, 6800, 6801, 6802, 6803, 6804, 6805, 6806, 6807, 6808, 6809, 6810, 6811, 6812, 6813, 6814, 6815, 6816, 6817, 6818, 6819, 6820, 6821, 6822, 6823, 6824, 6825, 6826, 6827, 6828, 6829, 6830, 6831, 6832, 6833, 6834, 6835, 6836, 6837, 6838, 6839, 6840, 6841, 6842, 6843, 6844, 6845, 6846, 6847, 6848, 6849, 6850, 6851, 6852, 6853, 6854, 6855, 6856, 6857, 6858, 6859, 6860, 6861, 6862, 6863, 6864, 6865, 6866, 6867, 6868, 6869, 6870, 6871, 6926, 6929, 6931, 6955, 6993, 7019, 7023, 7031, 7091, 7092, 7105, 7106, 7107, 7108, 7109, 7110, 7112, 7113, 7158, 7159, 7165, 7166, 7366, 7372, 7373, 7374, 7376, 7377, 7378, 7383, 7385, 7386, 7389, 7390, 7393, 7394, 7396, 7397, 7398, 7400, 7401, 7402, 7404, 7405, 7406, 7408, 7409, 7410, 7412, 7413, 7414, 7474, 7483, 7485, 7487, 7489, 7491, 7493, 7494, 7495, 7497, 7546, 7557, 7558, 7559, 7560, 7561, 7562, 7563, 7564, 7565, 7566, 7567, 7568, 7569, 7570, 7571, 7572, 7573, 7574, 7575, 7577, 7578, 7579, 7580, 7581, 7582, 7583, 7590, 7592, 7599, 7601, 7603, 7604, 7606, 7607, 7608, 7609, 7610, 7611, 7612, 7613, 7614, 7615, 7622, 7651, 8252, 8254, 8256, 8258, 8286, 8287, 8288, 8289, 8292, 8293, 8294, 8296, 8297, 8298, 8299, 8318, 8330, 8334, 8336, 8342, 8360, 8386, 8387]\n",
      "[1, 3, 28, 37, 38, 81, 112, 113, 162, 165, 166, 167, 179, 181, 182, 183, 184, 185, 186, 187, 190, 195, 201, 204, 210, 211, 213, 214, 216, 221, 224, 225, 226, 227, 237, 238, 239, 244, 245, 253, 254, 257, 258, 259, 260, 262, 263, 264, 265, 266, 268, 269, 270, 272, 273, 274, 275, 276, 277, 279, 280, 281, 282, 283, 284, 288, 291, 292, 297, 299, 301, 303, 305, 306, 308, 310, 312, 314, 317, 319, 321, 322, 325, 326, 330, 332, 333, 335, 336, 339, 341, 342, 343, 347, 349, 356, 360, 364, 368, 369, 372, 373, 375, 376, 378, 379, 382, 383, 384, 385, 388, 392, 393, 394, 395, 398, 399, 400, 401, 402, 403, 404, 405, 410, 416, 417, 418, 426, 427, 428, 429, 430, 431, 432, 435, 436, 437, 438, 440, 441, 442, 443, 444, 445, 446, 447, 448, 449, 451, 452, 453, 454, 455, 456, 457, 458, 459, 460, 465, 466, 469, 470, 471, 472, 475, 476, 477, 478, 480, 481, 482, 483, 484, 487, 488, 489, 490, 491, 492, 494, 495, 496, 497, 498, 499, 500, 503, 504, 505, 506, 507, 508, 509, 510, 512, 513, 514, 515, 516, 517, 518, 519, 520, 527, 528, 529, 530, 531, 532, 533, 534, 535, 536, 537, 538, 539, 542, 543, 544, 545, 546, 547, 548, 549, 550, 551, 552, 553, 554, 555, 564, 575, 576, 577, 581, 584, 585, 605, 622, 634, 653, 655, 657, 659, 661, 663, 671, 672, 674, 675, 683, 686, 687, 692, 694, 699, 702, 703, 704, 705, 706, 707, 708, 709, 712, 713, 715, 716, 718, 719, 720, 721, 723, 725, 727, 728, 729, 732, 733, 734, 735, 736, 737, 739, 742, 743, 744, 745, 746, 747, 749, 751, 753, 754, 755, 756, 757, 759, 761, 762, 763, 764, 765, 766, 767, 768, 769, 770, 771, 772, 773, 774, 786, 787, 789, 790, 793, 794, 795, 799, 800, 801, 802, 803, 804, 806, 808, 810, 812, 815, 816, 818, 819, 822, 823, 824, 828, 829, 830, 831, 832, 833, 835, 837, 839, 841, 845, 846, 847, 848, 851, 852, 855, 858, 861, 862, 863, 864, 865, 866, 867, 868, 869, 870, 873, 874, 875, 876, 877, 878, 879, 880, 881, 886, 891, 892, 898, 899, 900, 901, 902, 903, 904, 907, 908, 909, 910, 911, 912, 913, 920, 921, 922, 923, 924, 925, 926, 928, 929, 930, 931, 933, 934, 935, 936, 938, 939, 940, 941, 942, 944, 945, 946, 947, 948, 949, 953, 954, 955, 956, 957, 958, 959, 960, 961, 962, 964, 965, 966, 967, 968, 969, 970, 971, 972, 973, 974, 975, 976, 977, 978, 979, 980, 981, 982, 983, 985, 986, 987, 988, 989, 990, 991, 992, 993, 994, 995, 996, 997, 998, 999, 1000, 1001, 1002, 1004, 1005, 1006, 1007, 1008, 1009, 1010, 1012, 1013, 1018, 1020, 1021, 1023, 1025, 1026, 1027, 1028, 1029, 1030, 1032, 1033, 1034, 1035, 1038, 1039, 1042, 1043, 1044, 1045, 1046, 1047, 1048, 1049, 1050, 1051, 1052, 1053, 1054, 1055, 1056, 1057, 1058, 1060, 1061, 1062, 1063, 1064, 1065, 1066, 1067, 1068, 1070, 1071, 1074, 1077, 1080, 1081, 1082, 1083, 1084, 1085, 1088, 1089, 1090, 1091, 1119, 1120, 1121, 1123, 1124, 1125, 1126, 1127, 1129, 1130, 1131, 1132, 1133, 1134, 1135, 1136, 1137, 1138, 1139, 1141, 1142, 1143, 1144, 1146, 1147, 1148, 1149, 1150, 1151, 1152, 1153, 1155, 1156, 1157, 1162, 1165, 1166, 1167, 1168, 1173, 1174, 1175, 1176, 1177, 1178, 1180, 1181, 1182, 1183, 1185, 1189, 1190, 1191, 1192, 1193, 1194, 1195, 1198, 1200, 1201, 1202, 1203, 1204, 1206, 1209, 1210, 1212, 1213, 1214, 1215, 1216, 1217, 1218, 1219, 1220, 1221, 1222, 1223, 1224, 1225, 1228, 1229, 1230, 1231, 1232, 1233, 1234, 1235, 1236, 1237, 1238, 1239, 1240, 1241, 1242, 1243, 1244, 1245, 1251, 1252, 1253, 1254, 1255, 1256, 1257, 1258, 1259, 1260, 1262, 1263, 1265, 1267, 1269, 1271, 1273, 1274, 1275, 1276, 1280, 1281, 1283, 1288, 1290, 1291, 1292, 1293, 1294, 1295, 1296, 1297, 1298, 1301, 1303, 1304, 1306, 1312, 1313, 1314, 1315, 1316, 1317, 1318, 1319, 1320, 1326, 1331, 1332, 1339, 1351, 1352, 1353, 1354, 1355, 1356, 1357, 1360, 1363, 1364, 1365, 1366, 1367, 1368, 1369, 1370, 1371, 1373, 1375, 1379, 1382, 1386, 1388, 1390, 1392, 1393, 1395, 1396, 1398, 1399, 1400, 1401, 1403, 1404, 1405, 1406, 1413, 1415, 1416, 1417, 1419, 1420, 1421, 1422, 1423, 1424, 1425, 1426, 1427, 1429, 1432, 1434, 1437, 1438, 1440, 1441, 1444, 1445, 1447, 1448, 1450, 1451, 1453, 1454, 1456, 1457, 1458, 1459, 1460, 1461, 1462, 1472, 1473, 1474, 1475, 1476, 1478, 1479, 1481, 1482, 1484, 1486, 1487, 1488, 1489, 1491, 1492, 1493, 1496, 1498, 1504, 1506, 1507, 1508, 1509, 1510, 1511, 1513, 1518, 1519, 1520, 1521, 1522, 1523, 1524, 1525, 1526, 1527, 1528, 1529, 1530, 1536, 1537, 1549, 1550, 1551, 1552, 1553, 1555, 1556, 1557, 1558, 1559, 1563, 1564, 1568, 1570, 1572, 1573, 1574, 1575, 1576, 1577, 1578, 1580, 1581, 1586, 1587, 1588, 1589, 1590, 1591, 1592, 1597, 1598, 1599, 1600, 1601, 1602, 1606, 1607, 1610, 1612, 1614, 1616, 1617, 1621, 1622, 1625, 1626, 1628, 1631, 1632, 1635, 1636, 1637, 1638, 1639, 1643, 1644, 1645, 1646, 1648, 1649, 1650, 1651, 1654, 1655, 1657, 1658, 1659, 1660, 1661, 1662, 1663, 1665, 1666, 1667, 1668, 1670, 1671, 1672, 1673, 1674, 1675, 1676, 1677, 1678, 1679, 1680, 1681, 1682, 1683, 1684, 1685, 1686, 1687, 1688, 1689, 1690, 1691, 1692, 1693, 1694, 1695, 1696, 1697, 1698, 1699, 1700, 1701, 1702, 1703, 1704, 1705, 1706, 1707, 1708, 1709, 1710, 1711, 1712, 1713, 1714, 1715, 1716, 1718, 1719, 1720, 1721, 1722, 1723, 1725, 1726, 1727, 1729, 1730, 1731, 1732, 1733, 1734, 1737, 1738, 1739, 1740, 1741, 1742, 1743, 1744, 1745, 1746, 1747, 1748, 1749, 1750, 1751, 1752, 1753, 1754, 1755, 1757, 1758, 1759, 1760, 1763, 1764, 1766, 1767, 1768, 1769, 1770, 1771, 1772, 1773, 1774, 1775, 1777, 1778, 1779, 1781, 1784, 1785, 1786, 1787, 1788, 1789, 1790, 1791, 1792, 1793, 1794, 1795, 1796, 1797, 1798, 1799, 1800, 1801, 1802, 1803, 1804, 1805, 1806, 1807, 1808, 1809, 1810, 1811, 1812, 1813, 1814, 1815, 1816, 1817, 1818, 1819, 1820, 1821, 1822, 1823, 1824, 1825, 1826, 1827, 1828, 1829, 1830, 1831, 1832, 1833, 1834, 1835, 1836, 1837, 1838, 1839, 1840, 1841, 1842, 1843, 1844, 1845, 1846, 1847, 1848, 1849, 1850, 1851, 1852, 1854, 1855, 1856, 1857, 1858, 1859, 1860, 1861, 1862, 1863, 1864, 1865, 1866, 1867, 1868, 1869, 1870, 1871, 1872, 1873, 1874, 1875, 1876, 1877, 1878, 1879, 1880, 1881, 1882, 1883, 1884, 1885, 1886, 1888, 1889, 1890, 1891, 1892, 1894, 1895, 1896, 1897, 1898, 1899, 1900, 1901, 1902, 1903, 1904, 1905, 1906, 1907, 1908, 1909, 1910, 1911, 1912, 1913, 1914, 1915, 1916, 1917, 1918, 1919, 1920, 1921, 1922, 1923, 1924, 1925, 1926, 1927, 1928, 1929, 1930, 1931, 1932, 1933, 1934, 1935, 1936, 1937, 1938, 1939, 1940, 1941, 1942, 1943, 1944, 1946, 1947, 1948, 1949, 1950, 1951, 1952, 1953, 1954, 1955, 1956, 1958, 1959, 1961, 1962, 1963, 1967, 1968, 1969, 1970, 1971, 1972, 1973, 1974, 1975, 1976, 1977, 1978, 1979, 1980, 1981, 1982, 1983, 1984, 1986, 1987, 1988, 1989, 1991, 1992, 1993, 1994, 1995, 1996, 1997, 1998, 2000, 2001, 2002, 2003, 2004, 2006, 2007, 2008, 2009, 2010, 2011, 2013, 2015, 2016, 2017, 2019, 2020, 2021, 2022, 2023, 2024, 2025, 2026, 2027, 2028, 2029, 2030, 2031, 2032, 2033, 2034, 2035, 2036, 2037, 2038, 2039, 2041, 2042, 2043, 2044, 2045, 2047, 2048, 2049, 2051, 2052, 2053, 2054, 2055, 2056, 2057, 2058, 2059, 2061, 2062, 2063, 2065, 2066, 2067, 2069, 2070, 2071, 2073, 2074, 2075, 2076, 2077, 2078, 2079, 2081, 2082, 2083, 2084, 2085, 2088, 2089, 2090, 2091, 2092, 2093, 2094, 2095, 2096, 2097, 2098, 2099, 2100, 2101, 2103, 2104, 2105, 2106, 2107, 2108, 2109, 2110, 2111, 2112, 2113, 2114, 2115, 2117, 2118, 2119, 2120, 2121, 2122, 2123, 2124, 2125, 2126, 2127, 2128, 2129, 2130, 2131, 2132, 2133, 2134, 2135, 2136, 2137, 2138, 2139, 2140, 2141, 2142, 2143, 2144, 2145, 2146, 2147, 2148, 2149, 2150, 2151, 2152, 2153, 2154, 2155, 2156, 2157, 2158, 2159, 2161, 2162, 2163, 2164, 2165, 2166, 2167, 2168, 2170, 2171, 2172, 2173, 2174, 2175, 2176, 2177, 2178, 2179, 2180, 2181, 2182, 2183, 2184, 2185, 2186, 2187, 2188, 2189, 2190, 2191, 2192, 2193, 2194, 2195, 2196, 2197, 2198, 2199, 2200, 2201, 2202, 2204, 2205, 2206, 2207, 2208, 2209, 2210, 2211, 2212, 2213, 2214, 2215, 2216, 2217, 2218, 2219, 2220, 2221, 2222, 2223, 2224, 2225, 2226, 2227, 2228, 2229, 2230, 2231, 2232, 2233, 2234, 2235, 2236, 2237, 2238, 2239, 2240, 2241, 2242, 2243, 2244, 2245, 2246, 2247, 2248, 2249, 2250, 2253, 2255, 2256, 2257, 2258, 2259, 2260, 2261, 2262, 2263, 2264, 2266, 2267, 2268, 2269, 2270, 2271, 2272, 2274, 2275, 2276, 2277, 2278, 2279, 2280, 2281, 2282, 2283, 2284, 2285, 2286, 2287, 2288, 2289, 2290, 2291, 2292, 2293, 2294, 2297, 2298, 2299, 2300, 2301, 2302, 2303, 2304, 2306, 2307, 2308, 2309, 2310, 2311, 2312, 2313, 2314, 2315, 2316, 2317, 2318, 2319, 2320, 2321, 2322, 2323, 2324, 2325, 2326, 2327, 2328, 2329, 2330, 2331, 2332, 2333, 2334, 2335, 2336, 2337, 2340, 2341, 2342, 2343, 2344, 2345, 2346, 2347, 2348, 2349, 2350, 2352, 2353, 2356, 2357, 2358, 2359, 2360, 2361, 2362, 2364, 2365, 2366, 2367, 2368, 2369, 2370, 2371, 2373, 2374, 2375, 2377, 2378, 2379, 2380, 2381, 2382, 2383, 2384, 2385, 2386, 2387, 2388, 2391, 2392, 2396, 2397, 2398, 2399, 2400, 2402, 2403, 2404, 2405, 2406, 2408, 2409, 2410, 2415, 2416, 2417, 2418, 2419, 2420, 2421, 2422, 2423, 2424, 2425, 2426, 2427, 2428, 2429, 2430, 2431, 2432, 2433, 2434, 2435, 2436, 2437, 2438, 2439, 2440, 2443, 2444, 2445, 2446, 2447, 2448, 2449, 2450, 2451, 2452, 2453, 2455, 2456, 2458, 2460, 2461, 2463, 2464, 2465, 2466, 2468, 2469, 2471, 2474, 2476, 2478, 2480, 2481, 2482, 2484, 2485, 2487, 2488, 2489, 2490, 2491, 2492, 2493, 2494, 2495, 2496, 2497, 2498, 2499, 2500, 2502, 2509, 2511, 2513, 2514, 2515, 2518, 2519, 2521, 2523, 2527, 2529, 2530, 2533, 2537, 2538, 2541, 2542, 2543, 2547, 2548, 2549, 2550, 2553, 2556, 2557, 2558, 2560, 2563, 2564, 2566, 2567, 2568, 2569, 2570, 2572, 2573, 2574, 2575, 2576, 2577, 2578, 2579, 2580, 2581, 2583, 2584, 2585, 2586, 2587, 2588, 2589, 2590, 2592, 2593, 2594, 2595, 2596, 2597, 2598, 2602, 2603, 2604, 2605, 2606, 2607, 2608, 2609, 2610, 2613, 2614, 2615, 2616, 2617, 2618, 2619, 2620, 2621, 2622, 2623, 2624, 2625, 2626, 2628, 2629, 2630, 2631, 2634, 2635, 2636, 2637, 2638, 2640, 2641, 2642, 2646, 2647, 2648, 2649, 2650, 2651, 2652, 2653, 2654, 2655, 2656, 2657, 2658, 2659, 2660, 2661, 2662, 2663, 2666, 2672, 2675, 2676, 2678, 2679, 2680, 2681, 2682, 2683, 2685, 2686, 2687, 2689, 2692, 2693, 2694, 2695, 2696, 2697, 2698, 2699, 2700, 2701, 2703, 2705, 2706, 2709, 2711, 2713, 2714, 2716, 2718, 2720, 2735, 2738, 2739, 2746, 2750, 2758, 2763, 2764, 2768, 2770, 2772, 2774, 2776, 2779, 2781, 2782, 2784, 2785, 2786, 2788, 2789, 2791, 2793, 2794, 2795, 2796, 2797, 2799, 2800, 2801, 2802, 2803, 2804, 2805, 2806, 2807, 2808, 2809, 2811, 2812, 2813, 2814, 2815, 2816, 2817, 2818, 2819, 2820, 2821, 2822, 2823, 2824, 2825, 2826, 2827, 2828, 2829, 2830, 2831, 2832, 2833, 2834, 2835, 2836, 2837, 2838, 2839, 2840, 2841, 2842, 2843, 2844, 2845, 2846, 2847, 2848, 2849, 2851, 2852, 2853, 2856, 2857, 2858, 2859, 2860, 2861, 2862, 2863, 2864, 2865, 2866, 2867, 2868, 2869, 2870, 2871, 2872, 2873, 2874, 2875, 2876, 2877, 2878, 2879, 2881, 2882, 2883, 2884, 2885, 2886, 2887, 2888, 2889, 2890, 2891, 2892, 2893, 2894, 2897, 2898, 2899, 2900, 2901, 2902, 2903, 2904, 2905, 2906, 2907, 2908, 2909, 2910, 2911, 2912, 2913, 2914, 2915, 2916, 2917, 2918, 2919, 2920, 2921, 2922, 2923, 2924, 2925, 2926, 2927, 2928, 2929, 2930, 2931, 2932, 2933, 2934, 2935, 2936, 2938, 2939, 2940, 2941, 2942, 2943, 2944, 2945, 2946, 2947, 2948, 2949, 2951, 2952, 2953, 2954, 2955, 2956, 2957, 2958, 2959, 2960, 2961, 2962, 2963, 2964, 2965, 2966, 2967, 2968, 2969, 2970, 2971, 2972, 2973, 2974, 2975, 2976, 2977, 2978, 2979, 2980, 2981, 2982, 2983, 2984, 2985, 2986, 2987, 2988, 2989, 2990, 2991, 2992, 2993, 2994, 2995, 2996, 2997, 2998, 2999, 3002, 3003, 3004, 3005, 3006, 3007, 3008, 3009, 3010, 3011, 3012, 3013, 3014, 3015, 3016, 3017, 3018, 3019, 3020, 3021, 3022, 3023, 3024, 3025, 3026, 3027, 3028, 3029, 3030, 3031, 3032, 3033, 3034, 3035, 3036, 3037, 3038, 3039, 3040, 3041, 3042, 3043, 3044, 3045, 3046, 3047, 3048, 3050, 3051, 3052, 3053, 3054, 3055, 3056, 3057, 3058, 3059, 3061, 3062, 3063, 3064, 3065, 3066, 3067, 3068, 3069, 3070, 3071, 3072, 3073, 3074, 3075, 3076, 3077, 3078, 3080, 3081, 3082, 3083, 3084, 3085, 3086, 3087, 3088, 3089, 3090, 3091, 3092, 3093, 3094, 3095, 3096, 3098, 3100, 3101, 3102, 3103, 3104, 3105, 3106, 3107, 3108, 3109, 3111, 3112, 3113, 3114, 3115, 3116, 3118, 3119, 3120, 3121, 3122, 3123, 3124, 3125, 3126, 3127, 3128, 3129, 3130, 3131, 3132, 3133, 3134, 3135, 3137, 3138, 3139, 3140, 3141, 3142, 3143, 3144, 3145, 3146, 3147, 3148, 3149, 3150, 3151, 3152, 3153, 3154, 3155, 3156, 3157, 3158, 3159, 3160, 3161, 3162, 3163, 3164, 3165, 3166, 3167, 3168, 3169, 3170, 3171, 3172, 3173, 3174, 3175, 3176, 3177, 3183, 3184, 3185, 3186, 3187, 3188, 3189, 3190, 3191, 3192, 3193, 3194, 3195, 3196, 3197, 3198, 3199, 3200, 3201, 3202, 3203, 3204, 3205, 3206, 3207, 3208, 3209, 3210, 3211, 3212, 3213, 3214, 3215, 3216, 3217, 3218, 3219, 3220, 3221, 3222, 3223, 3224, 3225, 3226, 3227, 3228, 3229, 3230, 3231, 3232, 3233, 3234, 3236, 3237, 3238, 3239, 3240, 3241, 3242, 3243, 3244, 3245, 3246, 3247, 3248, 3249, 3251, 3253, 3254, 3255, 3256, 3257, 3258, 3259, 3260, 3261, 3262, 3263, 3265, 3266, 3267, 3268, 3269, 3271, 3273, 3274, 3275, 3276, 3277, 3278, 3279, 3280, 3281, 3282, 3284, 3285, 3286, 3288, 3290, 3291, 3292, 3293, 3294, 3295, 3297, 3298, 3299, 3300, 3301, 3302, 3303, 3304, 3306, 3310, 3311, 3312, 3313, 3314, 3315, 3316, 3317, 3320, 3322, 3330, 3332, 3337, 3342, 3349, 3351, 3352, 3353, 3354, 3355, 3356, 3357, 3364, 3365, 3367, 3368, 3369, 3374, 3375, 3377, 3378, 3379, 3380, 3382, 3383, 3384, 3385, 3387, 3388, 3389, 3390, 3391, 3392, 3393, 3394, 3396, 3397, 3398, 3399, 3400, 3401, 3402, 3403, 3404, 3406, 3407, 3408, 3410, 3411, 3412, 3413, 3414, 3415, 3417, 3420, 3421, 3422, 3423, 3424, 3425, 3426, 3427, 3428, 3429, 3430, 3431, 3432, 3433, 3434, 3435, 3436, 3437, 3439, 3440, 3441, 3442, 3443, 3444, 3445, 3446, 3447, 3448, 3449, 3450, 3451, 3453, 3454, 3455, 3456, 3457, 3458, 3459, 3460, 3461, 3462, 3463, 3464, 3465, 3467, 3469, 3470, 3472, 3473, 3474, 3476, 3477, 3478, 3479, 3480, 3481, 3482, 3483, 3484, 3485, 3486, 3487, 3488, 3489, 3490, 3492, 3494, 3497, 3498, 3500, 3501, 3502, 3503, 3504, 3505, 3506, 3507, 3508, 3509, 3510, 3511, 3512, 3514, 3515, 3516, 3517, 3518, 3519, 3520, 3521, 3522, 3523, 3524, 3525, 3526, 3527, 3528, 3529, 3530, 3533, 3534, 3535, 3536, 3537, 3538, 3539, 3540, 3541, 3543, 3544, 3545, 3546, 3547, 3548, 3549, 3550, 3552, 3553, 3554, 3555, 3556, 3557, 3558, 3559, 3560, 3561, 3562, 3563, 3564, 3565, 3566, 3567, 3568, 3569, 3571, 3572, 3573, 3574, 3575, 3578, 3579, 3580, 3581, 3582, 3583, 3584, 3585, 3586, 3587, 3588, 3589, 3590, 3591, 3592, 3593, 3594, 3595, 3596, 3597, 3598, 3599, 3600, 3601, 3602, 3603, 3604, 3605, 3606, 3607, 3608, 3609, 3610, 3611, 3612, 3613, 3614, 3615, 3616, 3617, 3618, 3619, 3621, 3623, 3624, 3625, 3626, 3627, 3628, 3629, 3630, 3634, 3636, 3638, 3639, 3640, 3642, 3643, 3644, 3646, 3647, 3648, 3650, 3652, 3653, 3654, 3655, 3656, 3657, 3658, 3659, 3660, 3662, 3663, 3664, 3666, 3667, 3668, 3669, 3670, 3671, 3673, 3675, 3677, 3678, 3679, 3682, 3683, 3684, 3685, 3686, 3687, 3688, 3689, 3690, 3692, 3693, 3694, 3695, 3696, 3697, 3698, 3699, 3701, 3702, 3703, 3705, 3706, 3707, 3708, 3710, 3712, 3716, 3718, 3721, 3725, 3726, 3727, 3729, 3730, 3731, 3732, 3733, 3734, 3735, 3736, 3737, 3738, 3739, 3742, 3743, 3744, 3745, 3746, 3747, 3748, 3749, 3750, 3751, 3752, 3753, 3754, 3755, 3756, 3757, 3758, 3759, 3760, 3761, 3763, 3764, 3765, 3766, 3770, 3771, 3772, 3773, 3775, 3776, 3777, 3778, 3779, 3780, 3781, 3782, 3783, 3784, 3785, 3786, 3787, 3788, 3789, 3790, 3791, 3793, 3794, 3795, 3797, 3798, 3799, 3801, 3802, 3803, 3804, 3808, 3811, 3812, 3813, 3814, 3816, 3817, 3818, 3821, 3822, 3823, 3826, 3827, 3828, 3831, 3832, 3833, 3834, 3836, 3837, 3838, 3839, 3840, 3841, 3842, 3844, 3845, 3846, 3847, 3848, 3849, 3850, 3851, 3852, 3854, 3855, 3857, 3858, 3860, 3861, 3863, 3866, 3867, 3868, 3869, 3870, 3872, 3873, 3875, 3876, 3877, 3878, 3879, 3880, 3881, 3882, 3883, 3894, 3895, 3896, 3897, 3898, 3899, 3900, 3901, 3902, 3903, 3904, 3905, 3908, 3909, 3910, 3911, 3912, 3913, 3914, 3915, 3916, 3917, 3919, 3921, 3922, 3923, 3924, 3926, 3928, 3930, 3931, 3933, 3941, 3942, 3947, 3948, 3949, 3951, 3952, 3953, 3954, 3955, 3957, 3958, 3959, 3960, 3961, 3963, 3964, 3965, 3967, 3968, 3969, 3973, 3974, 3975, 3977, 3978, 3979, 3982, 3983, 3985, 3986, 3987, 3989, 3991, 3992, 3994, 3995, 3996, 3997, 3998, 3999, 4000, 4001, 4002, 4006, 4007, 4008, 4012, 4013, 4014, 4015, 4016, 4018, 4020, 4022, 4024, 4025, 4027, 4029, 4030, 4031, 4033, 4035, 4039, 4040, 4044, 4045, 4047, 4048, 4049, 4052, 4053, 4054, 4055, 4058, 4059, 4062, 4063, 4064, 4069, 4070, 4073, 4074, 4076, 4077, 4079, 4084, 4085, 4086, 4091, 4092, 4093, 4094, 4095, 4096, 4098, 4099, 4100, 4101, 4103, 4104, 4106, 4107, 4108, 4109, 4110, 4111, 4112, 4114, 4116, 4118, 4119, 4120, 4126, 4127, 4129, 4130, 4134, 4136, 4137, 4138, 4140, 4141, 4142, 4143, 4144, 4152, 4154, 4155, 4156, 4157, 4160, 4166, 4167, 4169, 4171, 4172, 4173, 4174, 4176, 4177, 4179, 4180, 4181, 4182, 4183, 4184, 4185, 4186, 4188, 4190, 4191, 4194, 4196, 4200, 4202, 4203, 4206, 4207, 4208, 4210, 4211, 4212, 4214, 4217, 4218, 4221, 4222, 4223, 4224, 4225, 4226, 4228, 4229, 4230, 4233, 4241, 4242, 4246, 4248, 4250, 4252, 4254, 4255, 4256, 4257, 4258, 4259, 4260, 4263, 4265, 4266, 4269, 4270, 4273, 4275, 4276, 4277, 4278, 4279, 4281, 4283, 4291, 4292, 4293, 4300, 4301, 4302, 4304, 4305, 4307, 4310, 4311, 4315, 4318, 4319, 4320, 4321, 4322, 4323, 4325, 4326, 4328, 4329, 4332, 4333, 4335, 4336, 4338, 4339, 4340, 4341, 4342, 4343, 4344, 4345, 4346, 4347, 4348, 4349, 4350, 4351, 4352, 4353, 4354, 4355, 4356, 4357, 4358, 4359, 4360, 4361, 4362, 4363, 4364, 4365, 4366, 4367, 4368, 4369, 4370, 4371, 4372, 4373, 4374, 4375, 4376, 4377, 4378, 4379, 4380, 4381, 4382, 4383, 4384, 4385, 4386, 4387, 4388, 4389, 4390, 4391, 4392, 4393, 4394, 4395, 4396, 4397, 4398, 4399, 4400, 4401, 4402, 4403, 4404, 4405, 4406, 4407, 4408, 4409, 4410, 4411, 4412, 4413, 4414, 4415, 4416, 4417, 4418, 4419, 4420, 4421, 4422, 4423, 4424, 4425, 4426, 4427, 4428, 4429, 4430, 4431, 4432, 4433, 4434, 4435, 4436, 4437, 4438, 4439, 4440, 4441, 4442, 4443, 4444, 4445, 4446, 4447, 4448, 4450, 4451, 4453, 4455, 4456, 4457, 4458, 4459, 4460, 4461, 4462, 4463, 4464, 4465, 4466, 4468, 4470, 4471, 4473, 4474, 4475, 4476, 4477, 4479, 4480, 4482, 4484, 4485, 4486, 4487, 4488, 4489, 4490, 4491, 4492, 4493, 4494, 4495, 4497, 4498, 4500, 4501, 4502, 4503, 4504, 4505, 4506, 4507, 4508, 4510, 4511, 4513, 4514, 4515, 4516, 4517, 4518, 4519, 4521, 4523, 4524, 4525, 4526, 4527, 4529, 4531, 4532, 4533, 4534, 4535, 4536, 4537, 4538, 4539, 4540, 4541, 4542, 4543, 4544, 4545, 4546, 4547, 4548, 4549, 4551, 4553, 4554, 4555, 4558, 4559, 4560, 4562, 4563, 4564, 4566, 4567, 4568, 4569, 4571, 4572, 4573, 4575, 4576, 4577, 4579, 4580, 4581, 4582, 4583, 4584, 4585, 4587, 4589, 4590, 4591, 4593, 4594, 4596, 4597, 4598, 4600, 4601, 4602, 4604, 4606, 4608, 4610, 4611, 4618, 4620, 4621, 4622, 4624, 4625, 4626, 4627, 4628, 4632, 4633, 4634, 4640, 4641, 4642, 4649, 4651, 4652, 4653, 4654, 4655, 4656, 4657, 4659, 4660, 4661, 4662, 4663, 4666, 4667, 4670, 4671, 4672, 4673, 4674, 4675, 4676, 4679, 4683, 4684, 4685, 4686, 4687, 4688, 4689, 4691, 4693, 4695, 4698, 4699, 4701, 4702, 4704, 4706, 4708, 4709, 4711, 4712, 4713, 4714, 4716, 4717, 4718, 4719, 4720, 4721, 4722, 4724, 4725, 4726, 4728, 4729, 4730, 4731, 4732, 4735, 4736, 4737, 4739, 4741, 4742, 4744, 4746, 4747, 4749, 4750, 4751, 4753, 4754, 4755, 4757, 4758, 4760, 4761, 4764, 4766, 4768, 4771, 4772, 4773, 4774, 4775, 4776, 4777, 4778, 4779, 4780, 4781, 4782, 4783, 4785, 4786, 4787, 4788, 4789, 4790, 4791, 4792, 4793, 4794, 4795, 4796, 4797, 4798, 4800, 4801, 4802, 4803, 4804, 4811, 4815, 4822, 4823, 4824, 4826, 4828, 4829, 4831, 4832, 4833, 4834, 4835, 4836, 4837, 4838, 4839, 4840, 4841, 4843, 4844, 4845, 4846, 4847, 4848, 4849, 4850, 4852, 4853, 4854, 4855, 4856, 4857, 4859, 4860, 4862, 4863, 4865, 4866, 4867, 4869, 4870, 4871, 4872, 4873, 4874, 4875, 4876, 4877, 4878, 4879, 4880, 4881, 4882, 4883, 4884, 4885, 4886, 4887, 4888, 4889, 4890, 4892, 4893, 4894, 4895, 4896, 4897, 4899, 4900, 4901, 4902, 4903, 4904, 4905, 4906, 4907, 4908, 4909, 4910, 4911, 4912, 4913, 4915, 4916, 4917, 4918, 4919, 4920, 4921, 4922, 4923, 4925, 4926, 4927, 4928, 4929, 4930, 4931, 4932, 4933, 4935, 4937, 4939, 4940, 4942, 4943, 4944, 4945, 4946, 4947, 4948, 4949, 4950, 4954, 4955, 4956, 4957, 4958, 4959, 4962, 4963, 4964, 4965, 4966, 4967, 4968, 4969, 4970, 4972, 4973, 4976, 4977, 4978, 4980, 4981, 4982, 4983, 4984, 4986, 4987, 4988, 4989, 4990, 4991, 4992, 4993, 4994, 4995, 4996, 4997, 4998, 4999, 5003, 5004, 5005, 5006, 5007, 5009, 5010, 5011, 5012, 5015, 5016, 5017, 5018, 5019, 5020, 5021, 5022, 5023, 5024, 5025, 5026, 5027, 5028, 5029, 5030, 5031, 5032, 5033, 5034, 5036, 5037, 5039, 5041, 5042, 5047, 5048, 5049, 5052, 5053, 5055, 5056, 5058, 5059, 5061, 5063, 5064, 5065, 5072, 5074, 5075, 5077, 5078, 5079, 5080, 5081, 5082, 5083, 5084, 5085, 5087, 5088, 5089, 5090, 5092, 5093, 5095, 5096, 5097, 5098, 5105, 5106, 5107, 5108, 5109, 5111, 5114, 5117, 5120, 5121, 5123, 5124, 5126, 5127, 5128, 5129, 5130, 5132, 5133, 5135, 5136, 5137, 5138, 5139, 5140, 5142, 5143, 5144, 5145, 5146, 5147, 5148, 5149, 5151, 5152, 5153, 5154, 5158, 5159, 5160, 5164, 5165, 5166, 5167, 5170, 5172, 5174, 5175, 5176, 5177, 5179, 5180, 5182, 5183, 5186, 5188, 5189, 5191, 5192, 5193, 5194, 5195, 5197, 5198, 5199, 5201, 5202, 5204, 5208, 5209, 5210, 5213, 5214, 5215, 5216, 5218, 5220, 5221, 5222, 5223, 5228, 5230, 5232, 5236, 5245, 5246, 5251, 5252, 5256, 5257, 5258, 5259, 5261, 5262, 5270, 5271, 5273, 5274, 5275, 5276, 5277, 5278, 5280, 5281, 5283, 5284, 5285, 5287, 5288, 5289, 5290, 5291, 5292, 5293, 5294, 5295, 5296, 5299, 5300, 5301, 5302, 5303, 5304, 5305, 5306, 5307, 5308, 5309, 5310, 5311, 5312, 5315, 5316, 5317, 5318, 5319, 5320, 5321, 5324, 5325, 5327, 5328, 5330, 5331, 5332, 5333, 5334, 5335, 5336, 5337, 5338, 5340, 5341, 5342, 5344, 5345, 5347, 5348, 5349, 5350, 5351, 5352, 5353, 5354, 5355, 5356, 5357, 5358, 5359, 5361, 5362, 5369, 5371, 5372, 5382, 5383, 5384, 5385, 5386, 5388, 5389, 5392, 5393, 5394, 5396, 5407, 5408, 5409, 5410, 5412, 5413, 5414, 5415, 5416, 5418, 5423, 5425, 5426, 5427, 5428, 5429, 5430, 5431, 5438, 5439, 5440, 5441, 5442, 5443, 5444, 5445, 5447, 5448, 5449, 5451, 5452, 5453, 5455, 5457, 5459, 5460, 5462, 5463, 5464, 5465, 5466, 5469, 5472, 5473, 5474, 5475, 5476, 5477, 5478, 5479, 5480, 5481, 5482, 5483, 5486, 5487, 5489, 5490, 5491, 5492, 5493, 5495, 5496, 5497, 5500, 5501, 5502, 5504, 5505, 5506, 5507, 5509, 5510, 5511, 5512, 5525, 5526, 5527, 5528, 5529, 5530, 5531, 5532, 5537, 5538, 5550, 5554, 5559, 5561, 5562, 5563, 5564, 5565, 5566, 5567, 5569, 5570, 5571, 5572, 5573, 5574, 5575, 5576, 5579, 5580, 5581, 5582, 5583, 5585, 5586, 5587, 5588, 5589, 5590, 5591, 5592, 5594, 5596, 5597, 5598, 5599, 5600, 5601, 5602, 5603, 5604, 5605, 5606, 5607, 5608, 5616, 5617, 5620, 5621, 5622, 5623, 5624, 5625, 5637, 5638, 5640, 5641, 5645, 5646, 5650, 5651, 5663, 5667, 5669, 5671, 5673, 5674, 5675, 5676, 5678, 5679, 5680, 5681, 5682, 5683, 5684, 5685, 5687, 5688, 5689, 5690, 5691, 5692, 5694, 5695, 5696, 5697, 5698, 5699, 5701, 5702, 5704, 5712, 5713, 5714, 5715, 5720, 5721, 5722, 5723, 5724, 5735, 5740, 5741, 5742, 5744, 5745, 5748, 5749, 5750, 5751, 5752, 5754, 5756, 5757, 5758, 5759, 5763, 5764, 5766, 5767, 5768, 5770, 5772, 5780, 5783, 5786, 5790, 5794, 5795, 5799, 5800, 5801, 5802, 5803, 5807, 5808, 5809, 5824, 5825, 5826, 5827, 5828, 5829, 5831, 5833, 5834, 5836, 5837, 5842, 5843, 5844, 5845, 5846, 5847, 5848, 5849, 5878, 5886, 5887, 5888, 5889, 5890, 5891, 5893, 5894, 5895, 5896, 5897, 5899, 5901, 5902, 5907, 5908, 5910, 5911, 5912, 5913, 5915, 5918, 5919, 5920, 5922, 5938, 5939, 5940, 5943, 5965, 5967, 5969, 5971, 5973, 5981, 5982, 5983, 5984, 5985, 5986, 5987, 5991, 5992, 5995, 5998, 5999, 6000, 6001, 6003, 6004, 6006, 6007, 6008, 6009, 6011, 6012, 6014, 6016, 6019, 6020, 6022, 6024, 6025, 6030, 6034, 6037, 6038, 6039, 6040, 6042, 6043, 6045, 6048, 6049, 6050, 6051, 6054, 6056, 6057, 6059, 6064, 6065, 6066, 6067, 6068, 6069, 6075, 6076, 6077, 6078, 6079, 6080, 6081, 6082, 6083, 6085, 6086, 6088, 6089, 6090, 6091, 6093, 6095, 6097, 6099, 6100, 6101, 6102, 6109, 6112, 6113, 6114, 6115, 6116, 6117, 6120, 6121, 6122, 6123, 6124, 6126, 6127, 6128, 6129, 6130, 6131, 6132, 6133, 6134, 6135, 6136, 6137, 6138, 6139, 6140, 6141, 6142, 6143, 6144, 6145, 6146, 6147, 6148, 6150, 6152, 6155, 6156, 6157, 6158, 6159, 6163, 6164, 6165, 6166, 6167, 6168, 6169, 6170, 6171, 6172, 6173, 6174, 6176, 6177, 6178, 6179, 6180, 6181, 6182, 6183, 6185, 6186, 6188, 6189, 6190, 6191, 6192, 6193, 6194, 6195, 6196, 6197, 6201, 6202, 6203, 6204, 6205, 6206, 6207, 6208, 6209, 6212, 6213, 6214, 6215, 6217, 6218, 6219, 6220, 6221, 6222, 6223, 6224, 6225, 6226, 6227, 6228, 6230, 6231, 6232, 6233, 6234, 6238, 6239, 6240, 6248, 6249, 6250, 6251, 6252, 6253, 6254, 6260, 6261, 6285, 6286, 6289, 6292, 6293, 6297, 6299, 6303, 6304, 6305, 6306, 6308, 6309, 6310, 6311, 6312, 6313, 6314, 6316, 6328, 6329, 6330, 6333, 6334, 6335, 6339, 6341, 6344, 6345, 6346, 6347, 6348, 6349, 6350, 6432, 6450, 6451, 6452, 6453, 6454, 6455, 6456, 6457, 6458, 6459, 6460, 6461, 6462, 6463, 6464, 6465, 6466, 6467, 6468, 6469, 6470, 6471, 6472, 6473, 6474, 6475, 6476, 6477, 6478, 6479, 6480, 6481, 6482, 6483, 6484, 6485, 6486, 6487, 6488, 6489, 6490, 6491, 6492, 6493, 6494, 6495, 6496, 6497, 6498, 6499, 6500, 6501, 6502, 6503, 6504, 6505, 6506, 6507, 6508, 6509, 6510, 6511, 6512, 6513, 6514, 6515, 6516, 6517, 6518, 6519, 6520, 6521, 6522, 6523, 6524, 6525, 6526, 6527, 6528, 6529, 6530, 6531, 6532, 6533, 6534, 6535, 6536, 6537, 6538, 6539, 6540, 6541, 6542, 6543, 6544, 6545, 6546, 6547, 6548, 6549, 6550, 6551, 6552, 6553, 6554, 6555, 6556, 6557, 6558, 6559, 6560, 6561, 6562, 6563, 6564, 6565, 6566, 6567, 6568, 6569, 6570, 6571, 6572, 6573, 6574, 6575, 6576, 6577, 6578, 6579, 6580, 6581, 6582, 6583, 6584, 6585, 6586, 6587, 6588, 6589, 6590, 6591, 6592, 6593, 6594, 6595, 6596, 6597, 6598, 6599, 6600, 6601, 6602, 6603, 6604, 6605, 6606, 6607, 6608, 6609, 6610, 6611, 6612, 6613, 6614, 6615, 6616, 6617, 6618, 6619, 6620, 6621, 6622, 6623, 6624, 6625, 6626, 6627, 6628, 6629, 6630, 6631, 6632, 6633, 6634, 6635, 6636, 6637, 6638, 6639, 6640, 6641, 6642, 6643, 6644, 6645, 6646, 6647, 6648, 6649, 6650, 6651, 6652, 6653, 6654, 6655, 6656, 6657, 6658, 6659, 6660, 6661, 6662, 6663, 6664, 6665, 6666, 6667, 6668, 6669, 6670, 6671, 6672, 6673, 6674, 6675, 6676, 6677, 6678, 6679, 6680, 6681, 6682, 6683, 6684, 6685, 6686, 6687, 6688, 6689, 6690, 6691, 6692, 6693, 6694, 6695, 6696, 6697, 6698, 6699, 6700, 6701, 6702, 6703, 6704, 6705, 6706, 6707, 6708, 6709, 6710, 6711, 6712, 6713, 6714, 6715, 6716, 6717, 6718, 6719, 6720, 6721, 6722, 6723, 6724, 6725, 6726, 6727, 6728, 6729, 6730, 6731, 6732, 6733, 6734, 6735, 6736, 6737, 6738, 6739, 6740, 6741, 6742, 6743, 6744, 6745, 6746, 6747, 6748, 6749, 6750, 6751, 6752, 6753, 6754, 6755, 6756, 6757, 6758, 6759, 6760, 6761, 6762, 6763, 6764, 6765, 6766, 6767, 6768, 6769, 6770, 6771, 6772, 6773, 6774, 6775, 6776, 6777, 6778, 6779, 6780, 6781, 6782, 6783, 6784, 6785, 6786, 6787, 6788, 6789, 6790, 6791, 6792, 6793, 6794, 6795, 6796, 6797, 6798, 6799, 6800, 6801, 6802, 6803, 6804, 6805, 6806, 6807, 6808, 6809, 6810, 6811, 6812, 6813, 6814, 6815, 6816, 6817, 6818, 6819, 6820, 6821, 6822, 6823, 6824, 6825, 6826, 6827, 6828, 6829, 6830, 6831, 6832, 6833, 6834, 6835, 6836, 6837, 6838, 6839, 6840, 6841, 6842, 6843, 6844, 6845, 6846, 6847, 6848, 6849, 6850, 6851, 6852, 6853, 6854, 6855, 6856, 6857, 6858, 6859, 6860, 6861, 6862, 6863, 6864, 6865, 6866, 6867, 6868, 6869, 6870, 6871, 6926, 6929, 6931, 6955, 6993, 7019, 7023, 7031, 7091, 7092, 7105, 7106, 7107, 7108, 7109, 7110, 7112, 7113, 7158, 7159, 7165, 7166, 7366, 7372, 7373, 7374, 7376, 7377, 7378, 7383, 7385, 7386, 7389, 7390, 7393, 7394, 7396, 7397, 7398, 7400, 7401, 7402, 7404, 7405, 7406, 7408, 7409, 7410, 7412, 7413, 7414, 7474, 7483, 7485, 7487, 7489, 7491, 7493, 7494, 7495, 7497, 7546, 7557, 7558, 7559, 7560, 7561, 7562, 7563, 7564, 7565, 7566, 7567, 7568, 7569, 7570, 7571, 7572, 7573, 7574, 7575, 7577, 7578, 7579, 7580, 7581, 7582, 7583, 7590, 7592, 7599, 7601, 7603, 7604, 7606, 7607, 7608, 7609, 7610, 7611, 7612, 7613, 7614, 7615, 7622, 7651, 8252, 8254, 8256, 8258, 8286, 8287, 8288, 8289, 8292, 8293, 8294, 8296, 8297, 8298, 8299, 8318, 8330, 8334, 8336, 8342, 8360, 8386, 8387]\n",
      "'KSIC10_분류명'에는 없고 'KSIC10_한국표준산업분류'에만 있는 결측치 인덱스: []\n",
      "'KSIC10_한국표준산업분류'에는 없고 'KSIC10_분류명'에만 있는 결측치 인덱스: [5016, 5017, 5015]\n"
     ]
    }
   ],
   "source": [
    "in_temp1 = list(set(temp1) - set(temp2))\n",
    "in_temp2 = list(set(temp2) - set(temp1))\n",
    "\n",
    "print(temp1)\n",
    "print(temp2)\n",
    "print(\"'KSIC10_분류명'에는 없고 'KSIC10_한국표준산업분류'에만 있는 결측치 인덱스:\", in_temp1)\n",
    "print(\"'KSIC10_한국표준산업분류'에는 없고 'KSIC10_분류명'에만 있는 결측치 인덱스:\", in_temp2)"
   ]
  },
  {
   "cell_type": "code",
   "execution_count": 80,
   "metadata": {},
   "outputs": [
    {
     "data": {
      "text/html": [
       "<div>\n",
       "<style scoped>\n",
       "    .dataframe tbody tr th:only-of-type {\n",
       "        vertical-align: middle;\n",
       "    }\n",
       "\n",
       "    .dataframe tbody tr th {\n",
       "        vertical-align: top;\n",
       "    }\n",
       "\n",
       "    .dataframe thead th {\n",
       "        text-align: right;\n",
       "    }\n",
       "</style>\n",
       "<table border=\"1\" class=\"dataframe\">\n",
       "  <thead>\n",
       "    <tr style=\"text-align: right;\">\n",
       "      <th></th>\n",
       "      <th>ISIC4_국제표준산업분류</th>\n",
       "      <th>ISIC4_분류명</th>\n",
       "      <th>KSIC10_한국표준산업분류</th>\n",
       "      <th>KSIC10_분류명</th>\n",
       "      <th>HS2017_관세통계통합품목분류</th>\n",
       "      <th>HS2017_분류명</th>\n",
       "    </tr>\n",
       "  </thead>\n",
       "  <tbody>\n",
       "    <tr>\n",
       "      <th>5016</th>\n",
       "      <td>NaN</td>\n",
       "      <td>NaN</td>\n",
       "      <td>24312</td>\n",
       "      <td>NaN</td>\n",
       "      <td>732591.0</td>\n",
       "      <td>분쇄기용 그라인딩볼(grinding ball)과 이와 유사한 물품</td>\n",
       "    </tr>\n",
       "    <tr>\n",
       "      <th>5017</th>\n",
       "      <td>NaN</td>\n",
       "      <td>NaN</td>\n",
       "      <td>24312</td>\n",
       "      <td>NaN</td>\n",
       "      <td>732599.0</td>\n",
       "      <td>기타</td>\n",
       "    </tr>\n",
       "    <tr>\n",
       "      <th>5015</th>\n",
       "      <td>NaN</td>\n",
       "      <td>NaN</td>\n",
       "      <td>24312</td>\n",
       "      <td>NaN</td>\n",
       "      <td>732510.0</td>\n",
       "      <td>비가단주철(非可鍛鑄鐵)로 만든 것</td>\n",
       "    </tr>\n",
       "  </tbody>\n",
       "</table>\n",
       "</div>"
      ],
      "text/plain": [
       "     ISIC4_국제표준산업분류 ISIC4_분류명 KSIC10_한국표준산업분류 KSIC10_분류명  HS2017_관세통계통합품목분류  \\\n",
       "5016            NaN       NaN           24312        NaN           732591.0   \n",
       "5017            NaN       NaN           24312        NaN           732599.0   \n",
       "5015            NaN       NaN           24312        NaN           732510.0   \n",
       "\n",
       "                                HS2017_분류명  \n",
       "5016  분쇄기용 그라인딩볼(grinding ball)과 이와 유사한 물품  \n",
       "5017                                    기타  \n",
       "5015                    비가단주철(非可鍛鑄鐵)로 만든 것  "
      ]
     },
     "execution_count": 80,
     "metadata": {},
     "output_type": "execute_result"
    }
   ],
   "source": [
    "statistics_data.iloc[in_temp2]"
   ]
  },
  {
   "cell_type": "markdown",
   "metadata": {},
   "source": [
    "- `KSIC10_분류명`에만 있는 인덱스를 확인하니 `KSIC10_국제표준산업분류`가 `24312`으로 존재함"
   ]
  },
  {
   "cell_type": "markdown",
   "metadata": {},
   "source": [
    "## HS2017_관세통계통합품목분류"
   ]
  },
  {
   "cell_type": "code",
   "execution_count": 81,
   "metadata": {},
   "outputs": [
    {
     "data": {
      "text/plain": [
       "HS2017_관세통계통합품목분류\n",
       "852329.0    17\n",
       "852349.0    16\n",
       "30199.0     14\n",
       "210690.0    13\n",
       "271019.0    11\n",
       "            ..\n",
       "470200.0     1\n",
       "460290.0     1\n",
       "460219.0     1\n",
       "460212.0     1\n",
       "871499.0     1\n",
       "Name: count, Length: 5358, dtype: int64"
      ]
     },
     "execution_count": 81,
     "metadata": {},
     "output_type": "execute_result"
    }
   ],
   "source": [
    "statistics_data['HS2017_관세통계통합품목분류'].value_counts()"
   ]
  },
  {
   "cell_type": "code",
   "execution_count": 82,
   "metadata": {},
   "outputs": [
    {
     "data": {
      "text/plain": [
       "array([100111., 100191., 100119., ..., 871495., 871496., 871499.])"
      ]
     },
     "execution_count": 82,
     "metadata": {},
     "output_type": "execute_result"
    }
   ],
   "source": [
    "statistics_data['HS2017_관세통계통합품목분류'].unique()"
   ]
  },
  {
   "cell_type": "code",
   "execution_count": 83,
   "metadata": {},
   "outputs": [
    {
     "data": {
      "text/html": [
       "<div>\n",
       "<style scoped>\n",
       "    .dataframe tbody tr th:only-of-type {\n",
       "        vertical-align: middle;\n",
       "    }\n",
       "\n",
       "    .dataframe tbody tr th {\n",
       "        vertical-align: top;\n",
       "    }\n",
       "\n",
       "    .dataframe thead th {\n",
       "        text-align: right;\n",
       "    }\n",
       "</style>\n",
       "<table border=\"1\" class=\"dataframe\">\n",
       "  <thead>\n",
       "    <tr style=\"text-align: right;\">\n",
       "      <th></th>\n",
       "      <th>ISIC4_국제표준산업분류</th>\n",
       "      <th>ISIC4_분류명</th>\n",
       "      <th>KSIC10_한국표준산업분류</th>\n",
       "      <th>KSIC10_분류명</th>\n",
       "      <th>HS2017_관세통계통합품목분류</th>\n",
       "      <th>HS2017_분류명</th>\n",
       "    </tr>\n",
       "  </thead>\n",
       "  <tbody>\n",
       "    <tr>\n",
       "      <th>21</th>\n",
       "      <td>NaN</td>\n",
       "      <td>NaN</td>\n",
       "      <td>01123</td>\n",
       "      <td>종자 및 묘목 생산업</td>\n",
       "      <td>NaN</td>\n",
       "      <td>NaN</td>\n",
       "    </tr>\n",
       "    <tr>\n",
       "      <th>23</th>\n",
       "      <td>NaN</td>\n",
       "      <td>NaN</td>\n",
       "      <td>01123</td>\n",
       "      <td>종자 및 묘목 생산업</td>\n",
       "      <td>NaN</td>\n",
       "      <td>NaN</td>\n",
       "    </tr>\n",
       "    <tr>\n",
       "      <th>25</th>\n",
       "      <td>NaN</td>\n",
       "      <td>NaN</td>\n",
       "      <td>01123</td>\n",
       "      <td>종자 및 묘목 생산업</td>\n",
       "      <td>NaN</td>\n",
       "      <td>NaN</td>\n",
       "    </tr>\n",
       "    <tr>\n",
       "      <th>30</th>\n",
       "      <td>NaN</td>\n",
       "      <td>NaN</td>\n",
       "      <td>01152</td>\n",
       "      <td>채소, 화훼 및 과실작물 시설 재배업</td>\n",
       "      <td>NaN</td>\n",
       "      <td>NaN</td>\n",
       "    </tr>\n",
       "    <tr>\n",
       "      <th>34</th>\n",
       "      <td>NaN</td>\n",
       "      <td>NaN</td>\n",
       "      <td>01152</td>\n",
       "      <td>채소, 화훼 및 과실작물 시설 재배업</td>\n",
       "      <td>NaN</td>\n",
       "      <td>NaN</td>\n",
       "    </tr>\n",
       "    <tr>\n",
       "      <th>...</th>\n",
       "      <td>...</td>\n",
       "      <td>...</td>\n",
       "      <td>...</td>\n",
       "      <td>...</td>\n",
       "      <td>...</td>\n",
       "      <td>...</td>\n",
       "    </tr>\n",
       "    <tr>\n",
       "      <th>8514</th>\n",
       "      <td>NaN</td>\n",
       "      <td>NaN</td>\n",
       "      <td>96995</td>\n",
       "      <td>애완동물 장묘 및 보호 서비스업</td>\n",
       "      <td>NaN</td>\n",
       "      <td>NaN</td>\n",
       "    </tr>\n",
       "    <tr>\n",
       "      <th>8515</th>\n",
       "      <td>NaN</td>\n",
       "      <td>NaN</td>\n",
       "      <td>96999</td>\n",
       "      <td>그 외 기타 달리 분류 되지 않은 개인 서비스업</td>\n",
       "      <td>NaN</td>\n",
       "      <td>NaN</td>\n",
       "    </tr>\n",
       "    <tr>\n",
       "      <th>8516</th>\n",
       "      <td>9700</td>\n",
       "      <td>가구내 고용활동</td>\n",
       "      <td>97000</td>\n",
       "      <td>가구 내 고용활동</td>\n",
       "      <td>NaN</td>\n",
       "      <td>NaN</td>\n",
       "    </tr>\n",
       "    <tr>\n",
       "      <th>8517</th>\n",
       "      <td>9900</td>\n",
       "      <td>국제기구 및 외국기관</td>\n",
       "      <td>99001</td>\n",
       "      <td>주한 외국공관</td>\n",
       "      <td>NaN</td>\n",
       "      <td>NaN</td>\n",
       "    </tr>\n",
       "    <tr>\n",
       "      <th>8518</th>\n",
       "      <td>NaN</td>\n",
       "      <td>NaN</td>\n",
       "      <td>99009</td>\n",
       "      <td>기타 국제 및 외국기관</td>\n",
       "      <td>NaN</td>\n",
       "      <td>NaN</td>\n",
       "    </tr>\n",
       "  </tbody>\n",
       "</table>\n",
       "<p>2458 rows × 6 columns</p>\n",
       "</div>"
      ],
      "text/plain": [
       "     ISIC4_국제표준산업분류    ISIC4_분류명 KSIC10_한국표준산업분류                  KSIC10_분류명  \\\n",
       "21              NaN          NaN           01123                 종자 및 묘목 생산업   \n",
       "23              NaN          NaN           01123                 종자 및 묘목 생산업   \n",
       "25              NaN          NaN           01123                 종자 및 묘목 생산업   \n",
       "30              NaN          NaN           01152        채소, 화훼 및 과실작물 시설 재배업   \n",
       "34              NaN          NaN           01152        채소, 화훼 및 과실작물 시설 재배업   \n",
       "...             ...          ...             ...                         ...   \n",
       "8514            NaN          NaN           96995           애완동물 장묘 및 보호 서비스업   \n",
       "8515            NaN          NaN           96999  그 외 기타 달리 분류 되지 않은 개인 서비스업   \n",
       "8516           9700     가구내 고용활동           97000                   가구 내 고용활동   \n",
       "8517           9900  국제기구 및 외국기관           99001                     주한 외국공관   \n",
       "8518            NaN          NaN           99009                기타 국제 및 외국기관   \n",
       "\n",
       "      HS2017_관세통계통합품목분류 HS2017_분류명  \n",
       "21                  NaN        NaN  \n",
       "23                  NaN        NaN  \n",
       "25                  NaN        NaN  \n",
       "30                  NaN        NaN  \n",
       "34                  NaN        NaN  \n",
       "...                 ...        ...  \n",
       "8514                NaN        NaN  \n",
       "8515                NaN        NaN  \n",
       "8516                NaN        NaN  \n",
       "8517                NaN        NaN  \n",
       "8518                NaN        NaN  \n",
       "\n",
       "[2458 rows x 6 columns]"
      ]
     },
     "execution_count": 83,
     "metadata": {},
     "output_type": "execute_result"
    }
   ],
   "source": [
    "statistics_data[statistics_data['HS2017_관세통계통합품목분류'].isnull()]"
   ]
  },
  {
   "cell_type": "markdown",
   "metadata": {},
   "source": [
    "- `nan` 결측치 존재"
   ]
  },
  {
   "cell_type": "code",
   "execution_count": 84,
   "metadata": {},
   "outputs": [
    {
     "name": "stdout",
     "output_type": "stream",
     "text": [
      "970600.0 10121.0\n"
     ]
    }
   ],
   "source": [
    "print(statistics_data['HS2017_관세통계통합품목분류'].max(), statistics_data['HS2017_관세통계통합품목분류'].min())"
   ]
  },
  {
   "cell_type": "markdown",
   "metadata": {},
   "source": [
    "- 여섯자리로 바꿔줘야 함\n",
    "- int to str"
   ]
  },
  {
   "cell_type": "code",
   "execution_count": 85,
   "metadata": {},
   "outputs": [],
   "source": [
    "def zero_input(x):\n",
    "    if pd.isna(x):\n",
    "        return np.nan\n",
    "    else:\n",
    "        cnt = 6 - len(x)\n",
    "        return '0' * cnt + x\n",
    "\n",
    "statistics_data['HS2017_관세통계통합품목분류'] = statistics_data['HS2017_관세통계통합품목분류'].astype(str)\n",
    "statistics_data['HS2017_관세통계통합품목분류'] = statistics_data['HS2017_관세통계통합품목분류'].replace('nan', np.nan)\n",
    "statistics_data['HS2017_관세통계통합품목분류'] = statistics_data['HS2017_관세통계통합품목분류'].str.replace('.0', '', regex=False)\n",
    "statistics_data['HS2017_관세통계통합품목분류'] = statistics_data['HS2017_관세통계통합품목분류'].apply(lambda x: zero_input(x))"
   ]
  },
  {
   "cell_type": "code",
   "execution_count": 86,
   "metadata": {},
   "outputs": [
    {
     "data": {
      "text/plain": [
       "HS2017_관세통계통합품목분류\n",
       "852329    17\n",
       "852349    16\n",
       "030199    14\n",
       "210690    13\n",
       "271019    11\n",
       "          ..\n",
       "470200     1\n",
       "460290     1\n",
       "460219     1\n",
       "460212     1\n",
       "871499     1\n",
       "Name: count, Length: 5358, dtype: int64"
      ]
     },
     "execution_count": 86,
     "metadata": {},
     "output_type": "execute_result"
    }
   ],
   "source": [
    "statistics_data['HS2017_관세통계통합품목분류'].value_counts()"
   ]
  },
  {
   "cell_type": "code",
   "execution_count": 87,
   "metadata": {},
   "outputs": [
    {
     "data": {
      "text/plain": [
       "array(['100111', '100191', '100119', ..., '871495', '871496', '871499'],\n",
       "      dtype=object)"
      ]
     },
     "execution_count": 87,
     "metadata": {},
     "output_type": "execute_result"
    }
   ],
   "source": [
    "statistics_data['HS2017_관세통계통합품목분류'].unique()"
   ]
  },
  {
   "cell_type": "markdown",
   "metadata": {},
   "source": [
    "## HS2017_분류명"
   ]
  },
  {
   "cell_type": "code",
   "execution_count": 88,
   "metadata": {},
   "outputs": [
    {
     "data": {
      "text/plain": [
       "HS2017_분류명\n",
       "기타                               1276\n",
       "그 밖의 방직용 섬유로 만든 것                  81\n",
       "부분품                                70\n",
       "면으로 만든 것                           65\n",
       "인조섬유로 만든 것                         41\n",
       "                                 ... \n",
       "트리메틸 포스파이트                          1\n",
       "트리에틸 포스파이트                          1\n",
       "엔도설판(ISO)                           1\n",
       "수소                                  1\n",
       "페달과 크랭크기어(crankgear), 이들의 부분품       1\n",
       "Name: count, Length: 3224, dtype: int64"
      ]
     },
     "execution_count": 88,
     "metadata": {},
     "output_type": "execute_result"
    }
   ],
   "source": [
    "statistics_data['HS2017_분류명'].value_counts()"
   ]
  },
  {
   "cell_type": "code",
   "execution_count": 89,
   "metadata": {},
   "outputs": [
    {
     "data": {
      "text/plain": [
       "array(['종자', '기타', '종자용', ...,\n",
       "       '브레이크[코스터 브레이킹허브(coaster braking hub)와 허브브레이크(hub brake)를 포함한다], 그 부분품',\n",
       "       '안장', '페달과 크랭크기어(crankgear), 이들의 부분품'], dtype=object)"
      ]
     },
     "execution_count": 89,
     "metadata": {},
     "output_type": "execute_result"
    }
   ],
   "source": [
    "statistics_data['HS2017_분류명'].unique()"
   ]
  },
  {
   "cell_type": "code",
   "execution_count": 90,
   "metadata": {},
   "outputs": [
    {
     "data": {
      "text/html": [
       "<div>\n",
       "<style scoped>\n",
       "    .dataframe tbody tr th:only-of-type {\n",
       "        vertical-align: middle;\n",
       "    }\n",
       "\n",
       "    .dataframe tbody tr th {\n",
       "        vertical-align: top;\n",
       "    }\n",
       "\n",
       "    .dataframe thead th {\n",
       "        text-align: right;\n",
       "    }\n",
       "</style>\n",
       "<table border=\"1\" class=\"dataframe\">\n",
       "  <thead>\n",
       "    <tr style=\"text-align: right;\">\n",
       "      <th></th>\n",
       "      <th>ISIC4_국제표준산업분류</th>\n",
       "      <th>ISIC4_분류명</th>\n",
       "      <th>KSIC10_한국표준산업분류</th>\n",
       "      <th>KSIC10_분류명</th>\n",
       "      <th>HS2017_관세통계통합품목분류</th>\n",
       "      <th>HS2017_분류명</th>\n",
       "    </tr>\n",
       "  </thead>\n",
       "  <tbody>\n",
       "    <tr>\n",
       "      <th>21</th>\n",
       "      <td>NaN</td>\n",
       "      <td>NaN</td>\n",
       "      <td>01123</td>\n",
       "      <td>종자 및 묘목 생산업</td>\n",
       "      <td>NaN</td>\n",
       "      <td>NaN</td>\n",
       "    </tr>\n",
       "    <tr>\n",
       "      <th>23</th>\n",
       "      <td>NaN</td>\n",
       "      <td>NaN</td>\n",
       "      <td>01123</td>\n",
       "      <td>종자 및 묘목 생산업</td>\n",
       "      <td>NaN</td>\n",
       "      <td>NaN</td>\n",
       "    </tr>\n",
       "    <tr>\n",
       "      <th>25</th>\n",
       "      <td>NaN</td>\n",
       "      <td>NaN</td>\n",
       "      <td>01123</td>\n",
       "      <td>종자 및 묘목 생산업</td>\n",
       "      <td>NaN</td>\n",
       "      <td>NaN</td>\n",
       "    </tr>\n",
       "    <tr>\n",
       "      <th>30</th>\n",
       "      <td>NaN</td>\n",
       "      <td>NaN</td>\n",
       "      <td>01152</td>\n",
       "      <td>채소, 화훼 및 과실작물 시설 재배업</td>\n",
       "      <td>NaN</td>\n",
       "      <td>NaN</td>\n",
       "    </tr>\n",
       "    <tr>\n",
       "      <th>34</th>\n",
       "      <td>NaN</td>\n",
       "      <td>NaN</td>\n",
       "      <td>01152</td>\n",
       "      <td>채소, 화훼 및 과실작물 시설 재배업</td>\n",
       "      <td>NaN</td>\n",
       "      <td>NaN</td>\n",
       "    </tr>\n",
       "    <tr>\n",
       "      <th>...</th>\n",
       "      <td>...</td>\n",
       "      <td>...</td>\n",
       "      <td>...</td>\n",
       "      <td>...</td>\n",
       "      <td>...</td>\n",
       "      <td>...</td>\n",
       "    </tr>\n",
       "    <tr>\n",
       "      <th>8514</th>\n",
       "      <td>NaN</td>\n",
       "      <td>NaN</td>\n",
       "      <td>96995</td>\n",
       "      <td>애완동물 장묘 및 보호 서비스업</td>\n",
       "      <td>NaN</td>\n",
       "      <td>NaN</td>\n",
       "    </tr>\n",
       "    <tr>\n",
       "      <th>8515</th>\n",
       "      <td>NaN</td>\n",
       "      <td>NaN</td>\n",
       "      <td>96999</td>\n",
       "      <td>그 외 기타 달리 분류 되지 않은 개인 서비스업</td>\n",
       "      <td>NaN</td>\n",
       "      <td>NaN</td>\n",
       "    </tr>\n",
       "    <tr>\n",
       "      <th>8516</th>\n",
       "      <td>9700</td>\n",
       "      <td>가구내 고용활동</td>\n",
       "      <td>97000</td>\n",
       "      <td>가구 내 고용활동</td>\n",
       "      <td>NaN</td>\n",
       "      <td>NaN</td>\n",
       "    </tr>\n",
       "    <tr>\n",
       "      <th>8517</th>\n",
       "      <td>9900</td>\n",
       "      <td>국제기구 및 외국기관</td>\n",
       "      <td>99001</td>\n",
       "      <td>주한 외국공관</td>\n",
       "      <td>NaN</td>\n",
       "      <td>NaN</td>\n",
       "    </tr>\n",
       "    <tr>\n",
       "      <th>8518</th>\n",
       "      <td>NaN</td>\n",
       "      <td>NaN</td>\n",
       "      <td>99009</td>\n",
       "      <td>기타 국제 및 외국기관</td>\n",
       "      <td>NaN</td>\n",
       "      <td>NaN</td>\n",
       "    </tr>\n",
       "  </tbody>\n",
       "</table>\n",
       "<p>2458 rows × 6 columns</p>\n",
       "</div>"
      ],
      "text/plain": [
       "     ISIC4_국제표준산업분류    ISIC4_분류명 KSIC10_한국표준산업분류                  KSIC10_분류명  \\\n",
       "21              NaN          NaN           01123                 종자 및 묘목 생산업   \n",
       "23              NaN          NaN           01123                 종자 및 묘목 생산업   \n",
       "25              NaN          NaN           01123                 종자 및 묘목 생산업   \n",
       "30              NaN          NaN           01152        채소, 화훼 및 과실작물 시설 재배업   \n",
       "34              NaN          NaN           01152        채소, 화훼 및 과실작물 시설 재배업   \n",
       "...             ...          ...             ...                         ...   \n",
       "8514            NaN          NaN           96995           애완동물 장묘 및 보호 서비스업   \n",
       "8515            NaN          NaN           96999  그 외 기타 달리 분류 되지 않은 개인 서비스업   \n",
       "8516           9700     가구내 고용활동           97000                   가구 내 고용활동   \n",
       "8517           9900  국제기구 및 외국기관           99001                     주한 외국공관   \n",
       "8518            NaN          NaN           99009                기타 국제 및 외국기관   \n",
       "\n",
       "     HS2017_관세통계통합품목분류 HS2017_분류명  \n",
       "21                 NaN        NaN  \n",
       "23                 NaN        NaN  \n",
       "25                 NaN        NaN  \n",
       "30                 NaN        NaN  \n",
       "34                 NaN        NaN  \n",
       "...                ...        ...  \n",
       "8514               NaN        NaN  \n",
       "8515               NaN        NaN  \n",
       "8516               NaN        NaN  \n",
       "8517               NaN        NaN  \n",
       "8518               NaN        NaN  \n",
       "\n",
       "[2458 rows x 6 columns]"
      ]
     },
     "execution_count": 90,
     "metadata": {},
     "output_type": "execute_result"
    }
   ],
   "source": [
    "statistics_data[statistics_data['HS2017_분류명'].isnull()]"
   ]
  },
  {
   "cell_type": "markdown",
   "metadata": {},
   "source": [
    "- 이것도 좀 업종별로 레이블링 할 수 있을까..?"
   ]
  },
  {
   "cell_type": "markdown",
   "metadata": {},
   "source": [
    "- `nan` 결측치 존재\n",
    "- `HS2017_관세통계통합품목분류`와 겹치는 인덱스 확인"
   ]
  },
  {
   "cell_type": "code",
   "execution_count": 91,
   "metadata": {},
   "outputs": [],
   "source": [
    "temp1 = statistics_data[statistics_data['HS2017_관세통계통합품목분류'].isnull()].index.tolist()\n",
    "temp2 = statistics_data[statistics_data['HS2017_분류명'].isnull()].index.tolist()"
   ]
  },
  {
   "cell_type": "code",
   "execution_count": 92,
   "metadata": {},
   "outputs": [
    {
     "name": "stdout",
     "output_type": "stream",
     "text": [
      "[21, 23, 25, 30, 34, 40, 50, 52, 54, 56, 58, 60, 62, 65, 67, 69, 71, 73, 75, 77, 85, 87, 89, 91, 93, 95, 97, 99, 103, 105, 107, 109, 115, 117, 121, 125, 127, 129, 131, 133, 135, 137, 139, 141, 145, 148, 150, 152, 154, 156, 158, 233, 244, 245, 297, 299, 317, 319, 343, 347, 349, 351, 353, 354, 356, 367, 368, 369, 522, 557, 558, 560, 562, 567, 587, 590, 593, 596, 599, 603, 612, 615, 619, 624, 627, 630, 632, 633, 634, 636, 637, 638, 639, 641, 642, 643, 644, 648, 649, 651, 653, 655, 657, 659, 661, 663, 666, 669, 677, 749, 751, 784, 888, 894, 915, 916, 917, 918, 1094, 1097, 1100, 1103, 1106, 1109, 1112, 1115, 1141, 1142, 1143, 1144, 1146, 1147, 1148, 1149, 1150, 1151, 1152, 1153, 1156, 1157, 1347, 1444, 1445, 1448, 1451, 1453, 1454, 1465, 1467, 1469, 1531, 1566, 2394, 2670, 2722, 2725, 2726, 2733, 2735, 2741, 2742, 2743, 2744, 3337, 3351, 3352, 3353, 3354, 3355, 3356, 3357, 3632, 3716, 3885, 3887, 3891, 3912, 3913, 3914, 3915, 3916, 3917, 3936, 3939, 3942, 3944, 3971, 4037, 4082, 4133, 4134, 4138, 4146, 4163, 4165, 4166, 4167, 4169, 4233, 4285, 4289, 4309, 4310, 4311, 4406, 4613, 4615, 4807, 4809, 4952, 5250, 5251, 5252, 5374, 5375, 5380, 5522, 5523, 5610, 5612, 5627, 5631, 5632, 5633, 5634, 5704, 5707, 5708, 5709, 5717, 5726, 5730, 5733, 5738, 5739, 5740, 5741, 5742, 5775, 5777, 5816, 5817, 5818, 5819, 5820, 5821, 5822, 5831, 5839, 5840, 5859, 5861, 5870, 5871, 5872, 5873, 5874, 5875, 5876, 5924, 5925, 5931, 5932, 5933, 5958, 5959, 5960, 5961, 6093, 6104, 6106, 6161, 6242, 6264, 6265, 6266, 6268, 6270, 6271, 6273, 6275, 6278, 6279, 6281, 6283, 6316, 6318, 6322, 6326, 6341, 6351, 6352, 6353, 6354, 6355, 6356, 6357, 6358, 6359, 6360, 6361, 6362, 6363, 6364, 6365, 6366, 6367, 6368, 6369, 6370, 6371, 6372, 6373, 6374, 6375, 6376, 6377, 6378, 6379, 6380, 6381, 6382, 6383, 6384, 6385, 6386, 6387, 6388, 6389, 6390, 6391, 6392, 6393, 6394, 6395, 6396, 6397, 6398, 6399, 6400, 6401, 6402, 6403, 6404, 6405, 6406, 6407, 6408, 6409, 6410, 6411, 6412, 6413, 6414, 6415, 6416, 6417, 6418, 6419, 6420, 6421, 6422, 6423, 6424, 6425, 6426, 6427, 6428, 6429, 6430, 6431, 6432, 6433, 6434, 6435, 6436, 6437, 6438, 6439, 6440, 6441, 6442, 6443, 6444, 6445, 6446, 6447, 6448, 6449, 6450, 6451, 6452, 6453, 6454, 6455, 6456, 6457, 6458, 6459, 6460, 6461, 6462, 6463, 6464, 6465, 6466, 6467, 6468, 6469, 6470, 6471, 6472, 6473, 6474, 6475, 6476, 6477, 6478, 6479, 6480, 6481, 6482, 6483, 6484, 6485, 6486, 6487, 6488, 6489, 6490, 6491, 6492, 6493, 6494, 6495, 6496, 6497, 6498, 6499, 6500, 6501, 6502, 6503, 6504, 6505, 6506, 6507, 6508, 6509, 6510, 6511, 6512, 6513, 6514, 6515, 6516, 6517, 6518, 6519, 6520, 6521, 6522, 6523, 6524, 6525, 6526, 6527, 6528, 6529, 6530, 6531, 6532, 6533, 6534, 6535, 6536, 6537, 6538, 6539, 6540, 6541, 6542, 6543, 6544, 6545, 6546, 6547, 6548, 6549, 6550, 6551, 6552, 6553, 6554, 6555, 6556, 6557, 6558, 6559, 6560, 6561, 6562, 6563, 6564, 6565, 6566, 6567, 6568, 6569, 6570, 6571, 6572, 6573, 6574, 6575, 6576, 6577, 6578, 6579, 6580, 6581, 6582, 6583, 6584, 6585, 6586, 6587, 6588, 6589, 6590, 6591, 6592, 6593, 6594, 6595, 6596, 6597, 6598, 6599, 6600, 6601, 6602, 6603, 6604, 6605, 6606, 6607, 6608, 6609, 6610, 6611, 6612, 6613, 6614, 6615, 6616, 6617, 6618, 6619, 6620, 6621, 6622, 6623, 6624, 6625, 6626, 6627, 6628, 6629, 6630, 6631, 6632, 6633, 6634, 6635, 6636, 6637, 6638, 6639, 6640, 6641, 6642, 6643, 6644, 6645, 6646, 6647, 6648, 6649, 6650, 6651, 6652, 6653, 6654, 6655, 6656, 6657, 6658, 6659, 6660, 6661, 6662, 6663, 6664, 6665, 6666, 6667, 6668, 6669, 6670, 6671, 6672, 6673, 6674, 6675, 6676, 6677, 6678, 6679, 6680, 6681, 6682, 6683, 6684, 6685, 6686, 6687, 6688, 6689, 6690, 6691, 6692, 6693, 6694, 6695, 6696, 6697, 6698, 6699, 6700, 6701, 6702, 6703, 6704, 6705, 6706, 6707, 6708, 6709, 6710, 6711, 6712, 6713, 6714, 6715, 6716, 6717, 6718, 6719, 6720, 6721, 6722, 6723, 6724, 6725, 6726, 6727, 6728, 6729, 6730, 6731, 6732, 6733, 6734, 6735, 6736, 6737, 6738, 6739, 6740, 6741, 6742, 6743, 6744, 6745, 6746, 6747, 6748, 6749, 6750, 6751, 6752, 6753, 6754, 6755, 6756, 6757, 6758, 6759, 6760, 6761, 6762, 6763, 6764, 6765, 6766, 6767, 6768, 6769, 6770, 6771, 6772, 6773, 6774, 6775, 6776, 6777, 6778, 6779, 6780, 6781, 6782, 6783, 6784, 6785, 6786, 6787, 6788, 6789, 6790, 6791, 6792, 6793, 6794, 6795, 6796, 6797, 6798, 6799, 6800, 6801, 6802, 6803, 6804, 6805, 6806, 6807, 6808, 6809, 6810, 6811, 6812, 6813, 6814, 6815, 6816, 6817, 6818, 6819, 6820, 6821, 6822, 6823, 6824, 6825, 6826, 6827, 6828, 6829, 6830, 6831, 6832, 6833, 6834, 6835, 6836, 6837, 6838, 6839, 6840, 6841, 6842, 6843, 6844, 6845, 6846, 6847, 6848, 6849, 6850, 6851, 6852, 6853, 6854, 6855, 6856, 6857, 6858, 6859, 6860, 6861, 6862, 6863, 6864, 6865, 6866, 6867, 6868, 6869, 6870, 6871, 6872, 6873, 6874, 6875, 6876, 6877, 6878, 6879, 6880, 6881, 6882, 6883, 6884, 6885, 6886, 6887, 6888, 6889, 6890, 6891, 6892, 6893, 6894, 6895, 6896, 6897, 6898, 6899, 6900, 6901, 6902, 6903, 6904, 6905, 6906, 6907, 6908, 6909, 6910, 6911, 6912, 6913, 6914, 6915, 6916, 6917, 6918, 6919, 6920, 6921, 6922, 6923, 6924, 6925, 6926, 6927, 6928, 6929, 6930, 6931, 6932, 6933, 6934, 6935, 6936, 6937, 6938, 6939, 6940, 6941, 6942, 6943, 6944, 6945, 6946, 6947, 6948, 6949, 6950, 6951, 6952, 6953, 6954, 6955, 6956, 6957, 6958, 6959, 6960, 6961, 6962, 6963, 6964, 6965, 6966, 6967, 6968, 6969, 6970, 6971, 6972, 6973, 6974, 6975, 6976, 6977, 6978, 6979, 6980, 6981, 6982, 6983, 6984, 6985, 6986, 6987, 6988, 6989, 6990, 6991, 6992, 6993, 6994, 6995, 6996, 6997, 6998, 6999, 7000, 7001, 7002, 7003, 7004, 7005, 7006, 7007, 7008, 7009, 7010, 7011, 7012, 7013, 7014, 7015, 7016, 7017, 7018, 7019, 7020, 7021, 7022, 7023, 7024, 7025, 7026, 7027, 7028, 7029, 7030, 7031, 7032, 7033, 7034, 7035, 7036, 7037, 7038, 7039, 7040, 7041, 7042, 7043, 7044, 7045, 7046, 7047, 7048, 7049, 7050, 7051, 7052, 7053, 7054, 7055, 7056, 7057, 7058, 7059, 7060, 7061, 7062, 7063, 7064, 7065, 7066, 7067, 7068, 7069, 7070, 7071, 7072, 7073, 7074, 7075, 7076, 7077, 7078, 7079, 7080, 7081, 7082, 7083, 7084, 7085, 7086, 7087, 7088, 7089, 7090, 7091, 7092, 7093, 7094, 7095, 7096, 7097, 7098, 7099, 7100, 7101, 7102, 7103, 7104, 7105, 7106, 7107, 7108, 7109, 7110, 7111, 7112, 7113, 7114, 7115, 7116, 7117, 7118, 7119, 7120, 7121, 7122, 7123, 7124, 7125, 7126, 7127, 7128, 7129, 7130, 7131, 7132, 7133, 7134, 7135, 7136, 7137, 7138, 7139, 7140, 7141, 7142, 7143, 7144, 7145, 7146, 7147, 7148, 7149, 7150, 7151, 7152, 7153, 7154, 7155, 7156, 7157, 7158, 7159, 7160, 7161, 7162, 7163, 7164, 7165, 7166, 7167, 7168, 7169, 7170, 7171, 7172, 7173, 7174, 7175, 7176, 7177, 7178, 7179, 7180, 7181, 7182, 7183, 7184, 7185, 7186, 7187, 7188, 7189, 7190, 7191, 7192, 7193, 7194, 7195, 7196, 7197, 7198, 7199, 7200, 7201, 7202, 7203, 7204, 7205, 7206, 7207, 7208, 7209, 7210, 7211, 7212, 7213, 7214, 7215, 7216, 7217, 7218, 7219, 7220, 7221, 7222, 7223, 7224, 7225, 7226, 7227, 7228, 7229, 7230, 7231, 7232, 7233, 7234, 7235, 7236, 7237, 7238, 7239, 7240, 7241, 7242, 7243, 7244, 7245, 7246, 7247, 7248, 7249, 7250, 7251, 7252, 7253, 7254, 7255, 7256, 7257, 7258, 7259, 7260, 7261, 7262, 7263, 7264, 7265, 7266, 7267, 7268, 7269, 7270, 7271, 7272, 7273, 7274, 7275, 7276, 7277, 7278, 7279, 7280, 7281, 7282, 7283, 7284, 7285, 7286, 7287, 7288, 7289, 7290, 7291, 7292, 7293, 7294, 7295, 7296, 7297, 7298, 7299, 7300, 7301, 7302, 7303, 7304, 7305, 7306, 7307, 7308, 7309, 7310, 7311, 7312, 7313, 7314, 7315, 7316, 7317, 7318, 7319, 7320, 7321, 7322, 7323, 7324, 7325, 7326, 7327, 7328, 7329, 7330, 7331, 7332, 7333, 7334, 7335, 7336, 7337, 7338, 7339, 7340, 7341, 7342, 7343, 7344, 7345, 7346, 7347, 7348, 7349, 7350, 7351, 7352, 7353, 7354, 7355, 7356, 7357, 7358, 7359, 7360, 7361, 7362, 7363, 7364, 7365, 7366, 7367, 7368, 7369, 7370, 7371, 7372, 7373, 7374, 7375, 7376, 7377, 7378, 7379, 7380, 7381, 7382, 7383, 7384, 7385, 7386, 7387, 7388, 7389, 7390, 7391, 7392, 7393, 7394, 7395, 7396, 7397, 7398, 7399, 7400, 7401, 7402, 7403, 7404, 7405, 7406, 7407, 7408, 7409, 7410, 7411, 7412, 7413, 7414, 7415, 7416, 7417, 7418, 7419, 7420, 7421, 7422, 7423, 7424, 7425, 7426, 7427, 7428, 7429, 7430, 7431, 7432, 7433, 7434, 7435, 7436, 7437, 7438, 7439, 7440, 7441, 7442, 7443, 7444, 7445, 7446, 7447, 7448, 7449, 7450, 7451, 7452, 7453, 7454, 7455, 7456, 7457, 7458, 7459, 7460, 7461, 7462, 7463, 7464, 7465, 7466, 7467, 7468, 7469, 7470, 7471, 7472, 7473, 7474, 7475, 7476, 7477, 7478, 7479, 7480, 7481, 7482, 7483, 7484, 7485, 7486, 7487, 7488, 7489, 7490, 7491, 7492, 7493, 7494, 7495, 7496, 7497, 7498, 7499, 7500, 7501, 7502, 7503, 7504, 7505, 7506, 7507, 7508, 7509, 7510, 7511, 7512, 7513, 7514, 7515, 7516, 7517, 7518, 7519, 7520, 7521, 7522, 7523, 7524, 7525, 7526, 7527, 7528, 7529, 7530, 7531, 7532, 7533, 7534, 7535, 7536, 7537, 7538, 7539, 7540, 7541, 7542, 7543, 7544, 7545, 7546, 7547, 7548, 7549, 7550, 7551, 7552, 7553, 7554, 7555, 7556, 7557, 7558, 7559, 7560, 7561, 7562, 7563, 7564, 7565, 7566, 7567, 7568, 7569, 7570, 7571, 7572, 7573, 7574, 7575, 7576, 7577, 7578, 7579, 7580, 7581, 7582, 7583, 7584, 7585, 7586, 7587, 7588, 7589, 7590, 7591, 7592, 7593, 7594, 7595, 7596, 7597, 7598, 7599, 7600, 7601, 7602, 7603, 7604, 7605, 7606, 7607, 7608, 7609, 7610, 7611, 7612, 7613, 7614, 7615, 7616, 7617, 7618, 7619, 7620, 7621, 7622, 7623, 7624, 7625, 7626, 7627, 7628, 7629, 7630, 7631, 7632, 7633, 7634, 7635, 7636, 7637, 7638, 7639, 7640, 7641, 7642, 7643, 7644, 7645, 7646, 7647, 7648, 7649, 7650, 7651, 7652, 7653, 7654, 7655, 7656, 7657, 7658, 7659, 7660, 7661, 7662, 7663, 7664, 7665, 7666, 7667, 7668, 7669, 7670, 7671, 7672, 7673, 7674, 7675, 7676, 7677, 7678, 7679, 7680, 7681, 7682, 7683, 7684, 7685, 7686, 7687, 7688, 7689, 7690, 7691, 7692, 7693, 7694, 7695, 7696, 7697, 7698, 7699, 7700, 7701, 7702, 7703, 7704, 7705, 7706, 7707, 7708, 7709, 7710, 7711, 7712, 7713, 7714, 7715, 7716, 7717, 7718, 7719, 7720, 7721, 7722, 7723, 7724, 7725, 7726, 7727, 7728, 7729, 7730, 7731, 7732, 7733, 7734, 7735, 7736, 7737, 7738, 7739, 7740, 7741, 7742, 7743, 7744, 7745, 7746, 7747, 7748, 7749, 7750, 7751, 7752, 7753, 7754, 7755, 7756, 7757, 7758, 7759, 7760, 7761, 7762, 7763, 7764, 7765, 7766, 7767, 7768, 7769, 7770, 7771, 7772, 7773, 7774, 7775, 7776, 7777, 7778, 7779, 7780, 7781, 7782, 7783, 7784, 7785, 7786, 7787, 7788, 7789, 7790, 7791, 7792, 7793, 7794, 7795, 7796, 7797, 7798, 7799, 7800, 7801, 7802, 7803, 7804, 7805, 7806, 7807, 7808, 7809, 7810, 7811, 7812, 7813, 7814, 7815, 7816, 7817, 7818, 7819, 7820, 7821, 7822, 7823, 7824, 7825, 7826, 7827, 7828, 7829, 7830, 7831, 7832, 7833, 7834, 7835, 7836, 7837, 7838, 7839, 7840, 7841, 7842, 7843, 7844, 7845, 7846, 7847, 7848, 7849, 7850, 7851, 7852, 7853, 7854, 7855, 7856, 7857, 7858, 7859, 7860, 7861, 7862, 7863, 7864, 7865, 7866, 7867, 7868, 7869, 7870, 7871, 7872, 7873, 7874, 7875, 7876, 7877, 7878, 7879, 7880, 7881, 7882, 7883, 7884, 7885, 7886, 7887, 7888, 7889, 7890, 7891, 7892, 7893, 7894, 7895, 7896, 7897, 7898, 7899, 7900, 7901, 7902, 7903, 7904, 7905, 7906, 7907, 7908, 7909, 7910, 7911, 7912, 7913, 7914, 7915, 7916, 7917, 7918, 7919, 7920, 7921, 7922, 7923, 7924, 7925, 7926, 7927, 7928, 7929, 7930, 7931, 7932, 7933, 7934, 7935, 7936, 7937, 7938, 7939, 7940, 7941, 7942, 7943, 7944, 7945, 7946, 7947, 7948, 7949, 7950, 7951, 7952, 7953, 7954, 7955, 7956, 7957, 7958, 7959, 7960, 7961, 7962, 7963, 7964, 7965, 7966, 7967, 7968, 7969, 7970, 7971, 7972, 7973, 7974, 7975, 7976, 7977, 7978, 7979, 7980, 7981, 7982, 7983, 7984, 7985, 7986, 7987, 7988, 7989, 7990, 7991, 7992, 7993, 7994, 7995, 7996, 7997, 7998, 7999, 8000, 8001, 8002, 8003, 8004, 8005, 8006, 8007, 8008, 8009, 8010, 8011, 8012, 8013, 8014, 8015, 8016, 8017, 8018, 8019, 8020, 8021, 8022, 8023, 8024, 8025, 8026, 8027, 8028, 8029, 8030, 8031, 8032, 8033, 8034, 8035, 8036, 8037, 8038, 8039, 8040, 8041, 8042, 8043, 8044, 8045, 8046, 8047, 8048, 8049, 8050, 8051, 8052, 8053, 8054, 8055, 8056, 8057, 8058, 8059, 8060, 8061, 8062, 8063, 8064, 8065, 8066, 8067, 8068, 8069, 8070, 8071, 8072, 8073, 8074, 8075, 8076, 8077, 8078, 8079, 8080, 8081, 8082, 8083, 8084, 8085, 8086, 8087, 8088, 8089, 8090, 8091, 8092, 8093, 8094, 8095, 8096, 8097, 8098, 8099, 8100, 8101, 8102, 8103, 8104, 8105, 8106, 8107, 8108, 8109, 8110, 8111, 8112, 8113, 8114, 8115, 8116, 8117, 8118, 8119, 8120, 8121, 8122, 8123, 8124, 8125, 8126, 8127, 8128, 8129, 8130, 8131, 8132, 8133, 8134, 8135, 8136, 8137, 8138, 8139, 8140, 8141, 8142, 8143, 8144, 8145, 8146, 8147, 8148, 8149, 8150, 8151, 8152, 8153, 8154, 8155, 8156, 8157, 8158, 8159, 8160, 8161, 8162, 8163, 8164, 8165, 8166, 8167, 8168, 8169, 8170, 8171, 8172, 8173, 8174, 8175, 8176, 8177, 8178, 8179, 8180, 8181, 8182, 8183, 8184, 8185, 8186, 8187, 8188, 8189, 8190, 8191, 8192, 8193, 8194, 8195, 8196, 8197, 8198, 8199, 8200, 8201, 8202, 8203, 8204, 8205, 8206, 8207, 8208, 8209, 8210, 8211, 8212, 8213, 8214, 8215, 8216, 8217, 8218, 8219, 8220, 8221, 8222, 8223, 8224, 8225, 8226, 8227, 8228, 8229, 8230, 8231, 8232, 8233, 8234, 8235, 8236, 8237, 8238, 8239, 8240, 8241, 8242, 8243, 8244, 8245, 8246, 8247, 8248, 8249, 8250, 8251, 8252, 8253, 8254, 8255, 8256, 8257, 8258, 8259, 8260, 8261, 8262, 8263, 8264, 8265, 8266, 8267, 8268, 8269, 8270, 8271, 8272, 8273, 8274, 8275, 8276, 8277, 8278, 8279, 8280, 8281, 8282, 8283, 8284, 8285, 8286, 8287, 8288, 8289, 8290, 8291, 8292, 8293, 8294, 8295, 8296, 8297, 8298, 8299, 8300, 8301, 8302, 8303, 8304, 8305, 8306, 8307, 8308, 8309, 8310, 8311, 8312, 8313, 8314, 8315, 8316, 8317, 8318, 8319, 8320, 8321, 8322, 8323, 8324, 8325, 8326, 8327, 8328, 8329, 8330, 8331, 8332, 8333, 8334, 8335, 8336, 8337, 8338, 8339, 8340, 8341, 8342, 8343, 8344, 8345, 8346, 8347, 8348, 8349, 8350, 8351, 8352, 8353, 8354, 8355, 8356, 8357, 8358, 8359, 8360, 8361, 8362, 8363, 8364, 8365, 8366, 8367, 8368, 8369, 8370, 8371, 8372, 8373, 8374, 8375, 8376, 8377, 8378, 8379, 8380, 8381, 8382, 8383, 8384, 8385, 8386, 8387, 8388, 8389, 8390, 8391, 8392, 8393, 8394, 8395, 8396, 8397, 8398, 8399, 8400, 8401, 8402, 8403, 8404, 8405, 8406, 8407, 8408, 8409, 8410, 8411, 8412, 8413, 8414, 8415, 8416, 8417, 8418, 8419, 8420, 8421, 8422, 8423, 8424, 8425, 8426, 8427, 8428, 8429, 8430, 8431, 8432, 8433, 8434, 8435, 8436, 8437, 8438, 8439, 8440, 8441, 8442, 8443, 8444, 8445, 8446, 8447, 8448, 8449, 8450, 8451, 8452, 8453, 8454, 8455, 8456, 8457, 8458, 8459, 8460, 8461, 8462, 8463, 8464, 8465, 8466, 8467, 8468, 8469, 8470, 8471, 8472, 8473, 8474, 8475, 8476, 8477, 8478, 8479, 8480, 8481, 8482, 8483, 8484, 8485, 8486, 8487, 8488, 8489, 8490, 8491, 8492, 8493, 8494, 8495, 8496, 8497, 8498, 8499, 8500, 8501, 8502, 8503, 8504, 8505, 8506, 8507, 8508, 8509, 8510, 8511, 8512, 8513, 8514, 8515, 8516, 8517, 8518]\n",
      "[21, 23, 25, 30, 34, 40, 50, 52, 54, 56, 58, 60, 62, 65, 67, 69, 71, 73, 75, 77, 85, 87, 89, 91, 93, 95, 97, 99, 103, 105, 107, 109, 115, 117, 121, 125, 127, 129, 131, 133, 135, 137, 139, 141, 145, 148, 150, 152, 154, 156, 158, 233, 244, 245, 297, 299, 317, 319, 343, 347, 349, 351, 353, 354, 356, 367, 368, 369, 522, 557, 558, 560, 562, 567, 587, 590, 593, 596, 599, 603, 612, 615, 619, 624, 627, 630, 632, 633, 634, 636, 637, 638, 639, 641, 642, 643, 644, 648, 649, 651, 653, 655, 657, 659, 661, 663, 666, 669, 677, 749, 751, 784, 888, 894, 915, 916, 917, 918, 1094, 1097, 1100, 1103, 1106, 1109, 1112, 1115, 1141, 1142, 1143, 1144, 1146, 1147, 1148, 1149, 1150, 1151, 1152, 1153, 1156, 1157, 1347, 1444, 1445, 1448, 1451, 1453, 1454, 1465, 1467, 1469, 1531, 1566, 2394, 2670, 2722, 2725, 2726, 2733, 2735, 2741, 2742, 2743, 2744, 3337, 3351, 3352, 3353, 3354, 3355, 3356, 3357, 3632, 3716, 3885, 3887, 3891, 3912, 3913, 3914, 3915, 3916, 3917, 3936, 3939, 3942, 3944, 3971, 4037, 4082, 4133, 4134, 4138, 4146, 4163, 4165, 4166, 4167, 4169, 4233, 4285, 4289, 4309, 4310, 4311, 4406, 4613, 4615, 4807, 4809, 4952, 5250, 5251, 5252, 5374, 5375, 5380, 5522, 5523, 5610, 5612, 5627, 5631, 5632, 5633, 5634, 5704, 5707, 5708, 5709, 5717, 5726, 5730, 5733, 5738, 5739, 5740, 5741, 5742, 5775, 5777, 5816, 5817, 5818, 5819, 5820, 5821, 5822, 5831, 5839, 5840, 5859, 5861, 5870, 5871, 5872, 5873, 5874, 5875, 5876, 5924, 5925, 5931, 5932, 5933, 5958, 5959, 5960, 5961, 6093, 6104, 6106, 6161, 6242, 6264, 6265, 6266, 6268, 6270, 6271, 6273, 6275, 6278, 6279, 6281, 6283, 6316, 6318, 6322, 6326, 6341, 6351, 6352, 6353, 6354, 6355, 6356, 6357, 6358, 6359, 6360, 6361, 6362, 6363, 6364, 6365, 6366, 6367, 6368, 6369, 6370, 6371, 6372, 6373, 6374, 6375, 6376, 6377, 6378, 6379, 6380, 6381, 6382, 6383, 6384, 6385, 6386, 6387, 6388, 6389, 6390, 6391, 6392, 6393, 6394, 6395, 6396, 6397, 6398, 6399, 6400, 6401, 6402, 6403, 6404, 6405, 6406, 6407, 6408, 6409, 6410, 6411, 6412, 6413, 6414, 6415, 6416, 6417, 6418, 6419, 6420, 6421, 6422, 6423, 6424, 6425, 6426, 6427, 6428, 6429, 6430, 6431, 6432, 6433, 6434, 6435, 6436, 6437, 6438, 6439, 6440, 6441, 6442, 6443, 6444, 6445, 6446, 6447, 6448, 6449, 6450, 6451, 6452, 6453, 6454, 6455, 6456, 6457, 6458, 6459, 6460, 6461, 6462, 6463, 6464, 6465, 6466, 6467, 6468, 6469, 6470, 6471, 6472, 6473, 6474, 6475, 6476, 6477, 6478, 6479, 6480, 6481, 6482, 6483, 6484, 6485, 6486, 6487, 6488, 6489, 6490, 6491, 6492, 6493, 6494, 6495, 6496, 6497, 6498, 6499, 6500, 6501, 6502, 6503, 6504, 6505, 6506, 6507, 6508, 6509, 6510, 6511, 6512, 6513, 6514, 6515, 6516, 6517, 6518, 6519, 6520, 6521, 6522, 6523, 6524, 6525, 6526, 6527, 6528, 6529, 6530, 6531, 6532, 6533, 6534, 6535, 6536, 6537, 6538, 6539, 6540, 6541, 6542, 6543, 6544, 6545, 6546, 6547, 6548, 6549, 6550, 6551, 6552, 6553, 6554, 6555, 6556, 6557, 6558, 6559, 6560, 6561, 6562, 6563, 6564, 6565, 6566, 6567, 6568, 6569, 6570, 6571, 6572, 6573, 6574, 6575, 6576, 6577, 6578, 6579, 6580, 6581, 6582, 6583, 6584, 6585, 6586, 6587, 6588, 6589, 6590, 6591, 6592, 6593, 6594, 6595, 6596, 6597, 6598, 6599, 6600, 6601, 6602, 6603, 6604, 6605, 6606, 6607, 6608, 6609, 6610, 6611, 6612, 6613, 6614, 6615, 6616, 6617, 6618, 6619, 6620, 6621, 6622, 6623, 6624, 6625, 6626, 6627, 6628, 6629, 6630, 6631, 6632, 6633, 6634, 6635, 6636, 6637, 6638, 6639, 6640, 6641, 6642, 6643, 6644, 6645, 6646, 6647, 6648, 6649, 6650, 6651, 6652, 6653, 6654, 6655, 6656, 6657, 6658, 6659, 6660, 6661, 6662, 6663, 6664, 6665, 6666, 6667, 6668, 6669, 6670, 6671, 6672, 6673, 6674, 6675, 6676, 6677, 6678, 6679, 6680, 6681, 6682, 6683, 6684, 6685, 6686, 6687, 6688, 6689, 6690, 6691, 6692, 6693, 6694, 6695, 6696, 6697, 6698, 6699, 6700, 6701, 6702, 6703, 6704, 6705, 6706, 6707, 6708, 6709, 6710, 6711, 6712, 6713, 6714, 6715, 6716, 6717, 6718, 6719, 6720, 6721, 6722, 6723, 6724, 6725, 6726, 6727, 6728, 6729, 6730, 6731, 6732, 6733, 6734, 6735, 6736, 6737, 6738, 6739, 6740, 6741, 6742, 6743, 6744, 6745, 6746, 6747, 6748, 6749, 6750, 6751, 6752, 6753, 6754, 6755, 6756, 6757, 6758, 6759, 6760, 6761, 6762, 6763, 6764, 6765, 6766, 6767, 6768, 6769, 6770, 6771, 6772, 6773, 6774, 6775, 6776, 6777, 6778, 6779, 6780, 6781, 6782, 6783, 6784, 6785, 6786, 6787, 6788, 6789, 6790, 6791, 6792, 6793, 6794, 6795, 6796, 6797, 6798, 6799, 6800, 6801, 6802, 6803, 6804, 6805, 6806, 6807, 6808, 6809, 6810, 6811, 6812, 6813, 6814, 6815, 6816, 6817, 6818, 6819, 6820, 6821, 6822, 6823, 6824, 6825, 6826, 6827, 6828, 6829, 6830, 6831, 6832, 6833, 6834, 6835, 6836, 6837, 6838, 6839, 6840, 6841, 6842, 6843, 6844, 6845, 6846, 6847, 6848, 6849, 6850, 6851, 6852, 6853, 6854, 6855, 6856, 6857, 6858, 6859, 6860, 6861, 6862, 6863, 6864, 6865, 6866, 6867, 6868, 6869, 6870, 6871, 6872, 6873, 6874, 6875, 6876, 6877, 6878, 6879, 6880, 6881, 6882, 6883, 6884, 6885, 6886, 6887, 6888, 6889, 6890, 6891, 6892, 6893, 6894, 6895, 6896, 6897, 6898, 6899, 6900, 6901, 6902, 6903, 6904, 6905, 6906, 6907, 6908, 6909, 6910, 6911, 6912, 6913, 6914, 6915, 6916, 6917, 6918, 6919, 6920, 6921, 6922, 6923, 6924, 6925, 6926, 6927, 6928, 6929, 6930, 6931, 6932, 6933, 6934, 6935, 6936, 6937, 6938, 6939, 6940, 6941, 6942, 6943, 6944, 6945, 6946, 6947, 6948, 6949, 6950, 6951, 6952, 6953, 6954, 6955, 6956, 6957, 6958, 6959, 6960, 6961, 6962, 6963, 6964, 6965, 6966, 6967, 6968, 6969, 6970, 6971, 6972, 6973, 6974, 6975, 6976, 6977, 6978, 6979, 6980, 6981, 6982, 6983, 6984, 6985, 6986, 6987, 6988, 6989, 6990, 6991, 6992, 6993, 6994, 6995, 6996, 6997, 6998, 6999, 7000, 7001, 7002, 7003, 7004, 7005, 7006, 7007, 7008, 7009, 7010, 7011, 7012, 7013, 7014, 7015, 7016, 7017, 7018, 7019, 7020, 7021, 7022, 7023, 7024, 7025, 7026, 7027, 7028, 7029, 7030, 7031, 7032, 7033, 7034, 7035, 7036, 7037, 7038, 7039, 7040, 7041, 7042, 7043, 7044, 7045, 7046, 7047, 7048, 7049, 7050, 7051, 7052, 7053, 7054, 7055, 7056, 7057, 7058, 7059, 7060, 7061, 7062, 7063, 7064, 7065, 7066, 7067, 7068, 7069, 7070, 7071, 7072, 7073, 7074, 7075, 7076, 7077, 7078, 7079, 7080, 7081, 7082, 7083, 7084, 7085, 7086, 7087, 7088, 7089, 7090, 7091, 7092, 7093, 7094, 7095, 7096, 7097, 7098, 7099, 7100, 7101, 7102, 7103, 7104, 7105, 7106, 7107, 7108, 7109, 7110, 7111, 7112, 7113, 7114, 7115, 7116, 7117, 7118, 7119, 7120, 7121, 7122, 7123, 7124, 7125, 7126, 7127, 7128, 7129, 7130, 7131, 7132, 7133, 7134, 7135, 7136, 7137, 7138, 7139, 7140, 7141, 7142, 7143, 7144, 7145, 7146, 7147, 7148, 7149, 7150, 7151, 7152, 7153, 7154, 7155, 7156, 7157, 7158, 7159, 7160, 7161, 7162, 7163, 7164, 7165, 7166, 7167, 7168, 7169, 7170, 7171, 7172, 7173, 7174, 7175, 7176, 7177, 7178, 7179, 7180, 7181, 7182, 7183, 7184, 7185, 7186, 7187, 7188, 7189, 7190, 7191, 7192, 7193, 7194, 7195, 7196, 7197, 7198, 7199, 7200, 7201, 7202, 7203, 7204, 7205, 7206, 7207, 7208, 7209, 7210, 7211, 7212, 7213, 7214, 7215, 7216, 7217, 7218, 7219, 7220, 7221, 7222, 7223, 7224, 7225, 7226, 7227, 7228, 7229, 7230, 7231, 7232, 7233, 7234, 7235, 7236, 7237, 7238, 7239, 7240, 7241, 7242, 7243, 7244, 7245, 7246, 7247, 7248, 7249, 7250, 7251, 7252, 7253, 7254, 7255, 7256, 7257, 7258, 7259, 7260, 7261, 7262, 7263, 7264, 7265, 7266, 7267, 7268, 7269, 7270, 7271, 7272, 7273, 7274, 7275, 7276, 7277, 7278, 7279, 7280, 7281, 7282, 7283, 7284, 7285, 7286, 7287, 7288, 7289, 7290, 7291, 7292, 7293, 7294, 7295, 7296, 7297, 7298, 7299, 7300, 7301, 7302, 7303, 7304, 7305, 7306, 7307, 7308, 7309, 7310, 7311, 7312, 7313, 7314, 7315, 7316, 7317, 7318, 7319, 7320, 7321, 7322, 7323, 7324, 7325, 7326, 7327, 7328, 7329, 7330, 7331, 7332, 7333, 7334, 7335, 7336, 7337, 7338, 7339, 7340, 7341, 7342, 7343, 7344, 7345, 7346, 7347, 7348, 7349, 7350, 7351, 7352, 7353, 7354, 7355, 7356, 7357, 7358, 7359, 7360, 7361, 7362, 7363, 7364, 7365, 7366, 7367, 7368, 7369, 7370, 7371, 7372, 7373, 7374, 7375, 7376, 7377, 7378, 7379, 7380, 7381, 7382, 7383, 7384, 7385, 7386, 7387, 7388, 7389, 7390, 7391, 7392, 7393, 7394, 7395, 7396, 7397, 7398, 7399, 7400, 7401, 7402, 7403, 7404, 7405, 7406, 7407, 7408, 7409, 7410, 7411, 7412, 7413, 7414, 7415, 7416, 7417, 7418, 7419, 7420, 7421, 7422, 7423, 7424, 7425, 7426, 7427, 7428, 7429, 7430, 7431, 7432, 7433, 7434, 7435, 7436, 7437, 7438, 7439, 7440, 7441, 7442, 7443, 7444, 7445, 7446, 7447, 7448, 7449, 7450, 7451, 7452, 7453, 7454, 7455, 7456, 7457, 7458, 7459, 7460, 7461, 7462, 7463, 7464, 7465, 7466, 7467, 7468, 7469, 7470, 7471, 7472, 7473, 7474, 7475, 7476, 7477, 7478, 7479, 7480, 7481, 7482, 7483, 7484, 7485, 7486, 7487, 7488, 7489, 7490, 7491, 7492, 7493, 7494, 7495, 7496, 7497, 7498, 7499, 7500, 7501, 7502, 7503, 7504, 7505, 7506, 7507, 7508, 7509, 7510, 7511, 7512, 7513, 7514, 7515, 7516, 7517, 7518, 7519, 7520, 7521, 7522, 7523, 7524, 7525, 7526, 7527, 7528, 7529, 7530, 7531, 7532, 7533, 7534, 7535, 7536, 7537, 7538, 7539, 7540, 7541, 7542, 7543, 7544, 7545, 7546, 7547, 7548, 7549, 7550, 7551, 7552, 7553, 7554, 7555, 7556, 7557, 7558, 7559, 7560, 7561, 7562, 7563, 7564, 7565, 7566, 7567, 7568, 7569, 7570, 7571, 7572, 7573, 7574, 7575, 7576, 7577, 7578, 7579, 7580, 7581, 7582, 7583, 7584, 7585, 7586, 7587, 7588, 7589, 7590, 7591, 7592, 7593, 7594, 7595, 7596, 7597, 7598, 7599, 7600, 7601, 7602, 7603, 7604, 7605, 7606, 7607, 7608, 7609, 7610, 7611, 7612, 7613, 7614, 7615, 7616, 7617, 7618, 7619, 7620, 7621, 7622, 7623, 7624, 7625, 7626, 7627, 7628, 7629, 7630, 7631, 7632, 7633, 7634, 7635, 7636, 7637, 7638, 7639, 7640, 7641, 7642, 7643, 7644, 7645, 7646, 7647, 7648, 7649, 7650, 7651, 7652, 7653, 7654, 7655, 7656, 7657, 7658, 7659, 7660, 7661, 7662, 7663, 7664, 7665, 7666, 7667, 7668, 7669, 7670, 7671, 7672, 7673, 7674, 7675, 7676, 7677, 7678, 7679, 7680, 7681, 7682, 7683, 7684, 7685, 7686, 7687, 7688, 7689, 7690, 7691, 7692, 7693, 7694, 7695, 7696, 7697, 7698, 7699, 7700, 7701, 7702, 7703, 7704, 7705, 7706, 7707, 7708, 7709, 7710, 7711, 7712, 7713, 7714, 7715, 7716, 7717, 7718, 7719, 7720, 7721, 7722, 7723, 7724, 7725, 7726, 7727, 7728, 7729, 7730, 7731, 7732, 7733, 7734, 7735, 7736, 7737, 7738, 7739, 7740, 7741, 7742, 7743, 7744, 7745, 7746, 7747, 7748, 7749, 7750, 7751, 7752, 7753, 7754, 7755, 7756, 7757, 7758, 7759, 7760, 7761, 7762, 7763, 7764, 7765, 7766, 7767, 7768, 7769, 7770, 7771, 7772, 7773, 7774, 7775, 7776, 7777, 7778, 7779, 7780, 7781, 7782, 7783, 7784, 7785, 7786, 7787, 7788, 7789, 7790, 7791, 7792, 7793, 7794, 7795, 7796, 7797, 7798, 7799, 7800, 7801, 7802, 7803, 7804, 7805, 7806, 7807, 7808, 7809, 7810, 7811, 7812, 7813, 7814, 7815, 7816, 7817, 7818, 7819, 7820, 7821, 7822, 7823, 7824, 7825, 7826, 7827, 7828, 7829, 7830, 7831, 7832, 7833, 7834, 7835, 7836, 7837, 7838, 7839, 7840, 7841, 7842, 7843, 7844, 7845, 7846, 7847, 7848, 7849, 7850, 7851, 7852, 7853, 7854, 7855, 7856, 7857, 7858, 7859, 7860, 7861, 7862, 7863, 7864, 7865, 7866, 7867, 7868, 7869, 7870, 7871, 7872, 7873, 7874, 7875, 7876, 7877, 7878, 7879, 7880, 7881, 7882, 7883, 7884, 7885, 7886, 7887, 7888, 7889, 7890, 7891, 7892, 7893, 7894, 7895, 7896, 7897, 7898, 7899, 7900, 7901, 7902, 7903, 7904, 7905, 7906, 7907, 7908, 7909, 7910, 7911, 7912, 7913, 7914, 7915, 7916, 7917, 7918, 7919, 7920, 7921, 7922, 7923, 7924, 7925, 7926, 7927, 7928, 7929, 7930, 7931, 7932, 7933, 7934, 7935, 7936, 7937, 7938, 7939, 7940, 7941, 7942, 7943, 7944, 7945, 7946, 7947, 7948, 7949, 7950, 7951, 7952, 7953, 7954, 7955, 7956, 7957, 7958, 7959, 7960, 7961, 7962, 7963, 7964, 7965, 7966, 7967, 7968, 7969, 7970, 7971, 7972, 7973, 7974, 7975, 7976, 7977, 7978, 7979, 7980, 7981, 7982, 7983, 7984, 7985, 7986, 7987, 7988, 7989, 7990, 7991, 7992, 7993, 7994, 7995, 7996, 7997, 7998, 7999, 8000, 8001, 8002, 8003, 8004, 8005, 8006, 8007, 8008, 8009, 8010, 8011, 8012, 8013, 8014, 8015, 8016, 8017, 8018, 8019, 8020, 8021, 8022, 8023, 8024, 8025, 8026, 8027, 8028, 8029, 8030, 8031, 8032, 8033, 8034, 8035, 8036, 8037, 8038, 8039, 8040, 8041, 8042, 8043, 8044, 8045, 8046, 8047, 8048, 8049, 8050, 8051, 8052, 8053, 8054, 8055, 8056, 8057, 8058, 8059, 8060, 8061, 8062, 8063, 8064, 8065, 8066, 8067, 8068, 8069, 8070, 8071, 8072, 8073, 8074, 8075, 8076, 8077, 8078, 8079, 8080, 8081, 8082, 8083, 8084, 8085, 8086, 8087, 8088, 8089, 8090, 8091, 8092, 8093, 8094, 8095, 8096, 8097, 8098, 8099, 8100, 8101, 8102, 8103, 8104, 8105, 8106, 8107, 8108, 8109, 8110, 8111, 8112, 8113, 8114, 8115, 8116, 8117, 8118, 8119, 8120, 8121, 8122, 8123, 8124, 8125, 8126, 8127, 8128, 8129, 8130, 8131, 8132, 8133, 8134, 8135, 8136, 8137, 8138, 8139, 8140, 8141, 8142, 8143, 8144, 8145, 8146, 8147, 8148, 8149, 8150, 8151, 8152, 8153, 8154, 8155, 8156, 8157, 8158, 8159, 8160, 8161, 8162, 8163, 8164, 8165, 8166, 8167, 8168, 8169, 8170, 8171, 8172, 8173, 8174, 8175, 8176, 8177, 8178, 8179, 8180, 8181, 8182, 8183, 8184, 8185, 8186, 8187, 8188, 8189, 8190, 8191, 8192, 8193, 8194, 8195, 8196, 8197, 8198, 8199, 8200, 8201, 8202, 8203, 8204, 8205, 8206, 8207, 8208, 8209, 8210, 8211, 8212, 8213, 8214, 8215, 8216, 8217, 8218, 8219, 8220, 8221, 8222, 8223, 8224, 8225, 8226, 8227, 8228, 8229, 8230, 8231, 8232, 8233, 8234, 8235, 8236, 8237, 8238, 8239, 8240, 8241, 8242, 8243, 8244, 8245, 8246, 8247, 8248, 8249, 8250, 8251, 8252, 8253, 8254, 8255, 8256, 8257, 8258, 8259, 8260, 8261, 8262, 8263, 8264, 8265, 8266, 8267, 8268, 8269, 8270, 8271, 8272, 8273, 8274, 8275, 8276, 8277, 8278, 8279, 8280, 8281, 8282, 8283, 8284, 8285, 8286, 8287, 8288, 8289, 8290, 8291, 8292, 8293, 8294, 8295, 8296, 8297, 8298, 8299, 8300, 8301, 8302, 8303, 8304, 8305, 8306, 8307, 8308, 8309, 8310, 8311, 8312, 8313, 8314, 8315, 8316, 8317, 8318, 8319, 8320, 8321, 8322, 8323, 8324, 8325, 8326, 8327, 8328, 8329, 8330, 8331, 8332, 8333, 8334, 8335, 8336, 8337, 8338, 8339, 8340, 8341, 8342, 8343, 8344, 8345, 8346, 8347, 8348, 8349, 8350, 8351, 8352, 8353, 8354, 8355, 8356, 8357, 8358, 8359, 8360, 8361, 8362, 8363, 8364, 8365, 8366, 8367, 8368, 8369, 8370, 8371, 8372, 8373, 8374, 8375, 8376, 8377, 8378, 8379, 8380, 8381, 8382, 8383, 8384, 8385, 8386, 8387, 8388, 8389, 8390, 8391, 8392, 8393, 8394, 8395, 8396, 8397, 8398, 8399, 8400, 8401, 8402, 8403, 8404, 8405, 8406, 8407, 8408, 8409, 8410, 8411, 8412, 8413, 8414, 8415, 8416, 8417, 8418, 8419, 8420, 8421, 8422, 8423, 8424, 8425, 8426, 8427, 8428, 8429, 8430, 8431, 8432, 8433, 8434, 8435, 8436, 8437, 8438, 8439, 8440, 8441, 8442, 8443, 8444, 8445, 8446, 8447, 8448, 8449, 8450, 8451, 8452, 8453, 8454, 8455, 8456, 8457, 8458, 8459, 8460, 8461, 8462, 8463, 8464, 8465, 8466, 8467, 8468, 8469, 8470, 8471, 8472, 8473, 8474, 8475, 8476, 8477, 8478, 8479, 8480, 8481, 8482, 8483, 8484, 8485, 8486, 8487, 8488, 8489, 8490, 8491, 8492, 8493, 8494, 8495, 8496, 8497, 8498, 8499, 8500, 8501, 8502, 8503, 8504, 8505, 8506, 8507, 8508, 8509, 8510, 8511, 8512, 8513, 8514, 8515, 8516, 8517, 8518]\n",
      "'HS2017_분류명'에는 없고 'HS2017_관세통계통합품목분류'에만 있는 결측치 인덱스: []\n",
      "'HS2017_관세통계통합품목분류'에는 없고 'HS2017_분류명'에만 있는 결측치 인덱스: []\n"
     ]
    }
   ],
   "source": [
    "in_temp1 = list(set(temp1) - set(temp2))\n",
    "in_temp2 = list(set(temp2) - set(temp1))\n",
    "\n",
    "print(temp1)\n",
    "print(temp2)\n",
    "print(\"'HS2017_분류명'에는 없고 'HS2017_관세통계통합품목분류'에만 있는 결측치 인덱스:\", in_temp1)\n",
    "print(\"'HS2017_관세통계통합품목분류'에는 없고 'HS2017_분류명'에만 있는 결측치 인덱스:\", in_temp2)"
   ]
  },
  {
   "cell_type": "markdown",
   "metadata": {},
   "source": [
    "- `HS2017_관세통계통합품목분류`와 `HS2017_분류명` 둘 다 결측치가 겹침"
   ]
  },
  {
   "cell_type": "markdown",
   "metadata": {},
   "source": [
    "# 데이터 다시 확인"
   ]
  },
  {
   "cell_type": "code",
   "execution_count": 93,
   "metadata": {},
   "outputs": [
    {
     "data": {
      "text/html": [
       "<div>\n",
       "<style scoped>\n",
       "    .dataframe tbody tr th:only-of-type {\n",
       "        vertical-align: middle;\n",
       "    }\n",
       "\n",
       "    .dataframe tbody tr th {\n",
       "        vertical-align: top;\n",
       "    }\n",
       "\n",
       "    .dataframe thead th {\n",
       "        text-align: right;\n",
       "    }\n",
       "</style>\n",
       "<table border=\"1\" class=\"dataframe\">\n",
       "  <thead>\n",
       "    <tr style=\"text-align: right;\">\n",
       "      <th></th>\n",
       "      <th>ID</th>\n",
       "      <th>CODE</th>\n",
       "      <th>DSC</th>\n",
       "    </tr>\n",
       "  </thead>\n",
       "  <tbody>\n",
       "    <tr>\n",
       "      <th>0</th>\n",
       "      <td>1</td>\n",
       "      <td>4520</td>\n",
       "      <td>automotive repair shops, nec  specialized auto...</td>\n",
       "    </tr>\n",
       "    <tr>\n",
       "      <th>1</th>\n",
       "      <td>2</td>\n",
       "      <td>0149</td>\n",
       "      <td>general farms, primarily animals, nsk  derives...</td>\n",
       "    </tr>\n",
       "    <tr>\n",
       "      <th>2</th>\n",
       "      <td>3</td>\n",
       "      <td>4630</td>\n",
       "      <td>fish and seafoods  the wholesale distribution ...</td>\n",
       "    </tr>\n",
       "    <tr>\n",
       "      <th>3</th>\n",
       "      <td>4</td>\n",
       "      <td>4510</td>\n",
       "      <td>new and used car dealers, nsk  manufactures a ...</td>\n",
       "    </tr>\n",
       "    <tr>\n",
       "      <th>4</th>\n",
       "      <td>4</td>\n",
       "      <td>2930</td>\n",
       "      <td>automotive stampings, nsk  manufacturing autom...</td>\n",
       "    </tr>\n",
       "  </tbody>\n",
       "</table>\n",
       "</div>"
      ],
      "text/plain": [
       "  ID  CODE                                                DSC\n",
       "0  1  4520  automotive repair shops, nec  specialized auto...\n",
       "1  2  0149  general farms, primarily animals, nsk  derives...\n",
       "2  3  4630  fish and seafoods  the wholesale distribution ...\n",
       "3  4  4510  new and used car dealers, nsk  manufactures a ...\n",
       "4  4  2930  automotive stampings, nsk  manufacturing autom..."
      ]
     },
     "metadata": {},
     "output_type": "display_data"
    },
    {
     "data": {
      "text/html": [
       "<div>\n",
       "<style scoped>\n",
       "    .dataframe tbody tr th:only-of-type {\n",
       "        vertical-align: middle;\n",
       "    }\n",
       "\n",
       "    .dataframe tbody tr th {\n",
       "        vertical-align: top;\n",
       "    }\n",
       "\n",
       "    .dataframe thead th {\n",
       "        text-align: right;\n",
       "    }\n",
       "</style>\n",
       "<table border=\"1\" class=\"dataframe\">\n",
       "  <thead>\n",
       "    <tr style=\"text-align: right;\">\n",
       "      <th></th>\n",
       "      <th>ISIC4_국제표준산업분류</th>\n",
       "      <th>ISIC4_분류명</th>\n",
       "      <th>KSIC10_한국표준산업분류</th>\n",
       "      <th>KSIC10_분류명</th>\n",
       "      <th>HS2017_관세통계통합품목분류</th>\n",
       "      <th>HS2017_분류명</th>\n",
       "    </tr>\n",
       "  </thead>\n",
       "  <tbody>\n",
       "    <tr>\n",
       "      <th>0</th>\n",
       "      <td>0111</td>\n",
       "      <td>곡물(쌀 제외), 콩류, 종실유 재배업</td>\n",
       "      <td>01123</td>\n",
       "      <td>종자 및 묘목 생산업</td>\n",
       "      <td>100111</td>\n",
       "      <td>종자</td>\n",
       "    </tr>\n",
       "    <tr>\n",
       "      <th>1</th>\n",
       "      <td>NaN</td>\n",
       "      <td>NaN</td>\n",
       "      <td>NaN</td>\n",
       "      <td>NaN</td>\n",
       "      <td>100191</td>\n",
       "      <td>종자</td>\n",
       "    </tr>\n",
       "    <tr>\n",
       "      <th>2</th>\n",
       "      <td>0111</td>\n",
       "      <td>곡물(쌀 제외), 콩류, 종실유 재배업</td>\n",
       "      <td>01110</td>\n",
       "      <td>곡물 및 기타 식량작물 재배업</td>\n",
       "      <td>100119</td>\n",
       "      <td>기타</td>\n",
       "    </tr>\n",
       "    <tr>\n",
       "      <th>3</th>\n",
       "      <td>NaN</td>\n",
       "      <td>NaN</td>\n",
       "      <td>NaN</td>\n",
       "      <td>NaN</td>\n",
       "      <td>100199</td>\n",
       "      <td>기타</td>\n",
       "    </tr>\n",
       "    <tr>\n",
       "      <th>4</th>\n",
       "      <td>0111</td>\n",
       "      <td>곡물(쌀 제외), 콩류, 종실유 재배업</td>\n",
       "      <td>01123</td>\n",
       "      <td>종자 및 묘목 생산업</td>\n",
       "      <td>100510</td>\n",
       "      <td>종자용</td>\n",
       "    </tr>\n",
       "  </tbody>\n",
       "</table>\n",
       "</div>"
      ],
      "text/plain": [
       "  ISIC4_국제표준산업분류              ISIC4_분류명 KSIC10_한국표준산업분류        KSIC10_분류명  \\\n",
       "0           0111  곡물(쌀 제외), 콩류, 종실유 재배업           01123       종자 및 묘목 생산업   \n",
       "1            NaN                    NaN             NaN               NaN   \n",
       "2           0111  곡물(쌀 제외), 콩류, 종실유 재배업           01110  곡물 및 기타 식량작물 재배업   \n",
       "3            NaN                    NaN             NaN               NaN   \n",
       "4           0111  곡물(쌀 제외), 콩류, 종실유 재배업           01123       종자 및 묘목 생산업   \n",
       "\n",
       "  HS2017_관세통계통합품목분류 HS2017_분류명  \n",
       "0            100111         종자  \n",
       "1            100191         종자  \n",
       "2            100119         기타  \n",
       "3            100199         기타  \n",
       "4            100510        종자용  "
      ]
     },
     "metadata": {},
     "output_type": "display_data"
    },
    {
     "data": {
      "text/html": [
       "<div>\n",
       "<style scoped>\n",
       "    .dataframe tbody tr th:only-of-type {\n",
       "        vertical-align: middle;\n",
       "    }\n",
       "\n",
       "    .dataframe tbody tr th {\n",
       "        vertical-align: top;\n",
       "    }\n",
       "\n",
       "    .dataframe thead th {\n",
       "        text-align: right;\n",
       "    }\n",
       "</style>\n",
       "<table border=\"1\" class=\"dataframe\">\n",
       "  <thead>\n",
       "    <tr style=\"text-align: right;\">\n",
       "      <th></th>\n",
       "      <th>HS부호</th>\n",
       "      <th>한글품목명</th>\n",
       "      <th>영문품목명</th>\n",
       "      <th>성질통합분류코드</th>\n",
       "      <th>성질통합분류코드명</th>\n",
       "    </tr>\n",
       "  </thead>\n",
       "  <tbody>\n",
       "    <tr>\n",
       "      <th>0</th>\n",
       "      <td>0101211000</td>\n",
       "      <td>농가 사육용</td>\n",
       "      <td>For farm breeding</td>\n",
       "      <td>11020101</td>\n",
       "      <td>말</td>\n",
       "    </tr>\n",
       "    <tr>\n",
       "      <th>1</th>\n",
       "      <td>0101219000</td>\n",
       "      <td>기타</td>\n",
       "      <td>Other</td>\n",
       "      <td>11020101</td>\n",
       "      <td>말</td>\n",
       "    </tr>\n",
       "    <tr>\n",
       "      <th>2</th>\n",
       "      <td>0101291000</td>\n",
       "      <td>경주말</td>\n",
       "      <td>Horses for racing</td>\n",
       "      <td>11020101</td>\n",
       "      <td>말</td>\n",
       "    </tr>\n",
       "    <tr>\n",
       "      <th>3</th>\n",
       "      <td>0101299000</td>\n",
       "      <td>기타</td>\n",
       "      <td>Other</td>\n",
       "      <td>11020101</td>\n",
       "      <td>말</td>\n",
       "    </tr>\n",
       "    <tr>\n",
       "      <th>4</th>\n",
       "      <td>0101300000</td>\n",
       "      <td>당나귀</td>\n",
       "      <td>Asses</td>\n",
       "      <td>11020190</td>\n",
       "      <td>기타 산 동물</td>\n",
       "    </tr>\n",
       "  </tbody>\n",
       "</table>\n",
       "</div>"
      ],
      "text/plain": [
       "         HS부호   한글품목명              영문품목명  성질통합분류코드 성질통합분류코드명\n",
       "0  0101211000  농가 사육용  For farm breeding  11020101         말\n",
       "1  0101219000      기타              Other  11020101         말\n",
       "2  0101291000     경주말  Horses for racing  11020101         말\n",
       "3  0101299000      기타              Other  11020101         말\n",
       "4  0101300000     당나귀              Asses  11020190   기타 산 동물"
      ]
     },
     "metadata": {},
     "output_type": "display_data"
    }
   ],
   "source": [
    "display(text_data.head())\n",
    "display(statistics_data.head())\n",
    "display(customs_data.head())"
   ]
  },
  {
   "cell_type": "code",
   "execution_count": 94,
   "metadata": {},
   "outputs": [
    {
     "name": "stdout",
     "output_type": "stream",
     "text": [
      "<class 'pandas.core.frame.DataFrame'>\n",
      "RangeIndex: 10000 entries, 0 to 9999\n",
      "Data columns (total 3 columns):\n",
      " #   Column  Non-Null Count  Dtype \n",
      "---  ------  --------------  ----- \n",
      " 0   ID      10000 non-null  object\n",
      " 1   CODE    10000 non-null  object\n",
      " 2   DSC     10000 non-null  object\n",
      "dtypes: object(3)\n",
      "memory usage: 234.5+ KB\n"
     ]
    },
    {
     "data": {
      "text/plain": [
       "None"
      ]
     },
     "metadata": {},
     "output_type": "display_data"
    },
    {
     "name": "stdout",
     "output_type": "stream",
     "text": [
      "<class 'pandas.core.frame.DataFrame'>\n",
      "RangeIndex: 8519 entries, 0 to 8518\n",
      "Data columns (total 6 columns):\n",
      " #   Column             Non-Null Count  Dtype \n",
      "---  ------             --------------  ----- \n",
      " 0   ISIC4_국제표준산업분류     2970 non-null   object\n",
      " 1   ISIC4_분류명          2963 non-null   object\n",
      " 2   KSIC10_한국표준산업분류    3732 non-null   object\n",
      " 3   KSIC10_분류명         3729 non-null   object\n",
      " 4   HS2017_관세통계통합품목분류  6061 non-null   object\n",
      " 5   HS2017_분류명         6061 non-null   object\n",
      "dtypes: object(6)\n",
      "memory usage: 399.5+ KB\n"
     ]
    },
    {
     "data": {
      "text/plain": [
       "None"
      ]
     },
     "metadata": {},
     "output_type": "display_data"
    },
    {
     "name": "stdout",
     "output_type": "stream",
     "text": [
      "<class 'pandas.core.frame.DataFrame'>\n",
      "RangeIndex: 12422 entries, 0 to 12421\n",
      "Data columns (total 5 columns):\n",
      " #   Column     Non-Null Count  Dtype \n",
      "---  ------     --------------  ----- \n",
      " 0   HS부호       12422 non-null  object\n",
      " 1   한글품목명      12422 non-null  object\n",
      " 2   영문품목명      12422 non-null  object\n",
      " 3   성질통합분류코드   11294 non-null  object\n",
      " 4   성질통합분류코드명  11294 non-null  object\n",
      "dtypes: object(5)\n",
      "memory usage: 485.4+ KB\n"
     ]
    },
    {
     "data": {
      "text/plain": [
       "None"
      ]
     },
     "metadata": {},
     "output_type": "display_data"
    }
   ],
   "source": [
    "display(text_data.info())\n",
    "display(statistics_data.info())\n",
    "display(customs_data.info())"
   ]
  },
  {
   "cell_type": "markdown",
   "metadata": {},
   "source": [
    "- 다 object로 바꿈"
   ]
  },
  {
   "cell_type": "code",
   "execution_count": 95,
   "metadata": {},
   "outputs": [],
   "source": [
    "text_data.to_csv('./data/비식별된 해외기업별 영문 텍스트데이터.csv', index=False, encoding='utf-8')\n",
    "statistics_data.to_csv('./data/관세청_HS부호_240101.csv', index=False, encoding='utf-8')\n",
    "customs_data.to_csv('./data/통계청 국제표준산업분류 HSCODE 6단위 매핑.csv', index=False, encoding='utf-8')"
   ]
  },
  {
   "cell_type": "code",
   "execution_count": 99,
   "metadata": {},
   "outputs": [],
   "source": [
    "temp0 = pd.read_csv('./data/비식별된 해외기업별 영문 텍스트데이터.csv', dtype=str)\n",
    "temp1 = pd.read_csv('./data/관세청_HS부호_240101.csv', dtype=str)\n",
    "temp2 = pd.read_csv('./data/통계청 국제표준산업분류 HSCODE 6단위 매핑.csv', dtype=str)"
   ]
  },
  {
   "cell_type": "code",
   "execution_count": 100,
   "metadata": {},
   "outputs": [
    {
     "name": "stdout",
     "output_type": "stream",
     "text": [
      "<class 'pandas.core.frame.DataFrame'>\n",
      "RangeIndex: 10000 entries, 0 to 9999\n",
      "Data columns (total 3 columns):\n",
      " #   Column  Non-Null Count  Dtype \n",
      "---  ------  --------------  ----- \n",
      " 0   ID      10000 non-null  object\n",
      " 1   CODE    10000 non-null  object\n",
      " 2   DSC     10000 non-null  object\n",
      "dtypes: object(3)\n",
      "memory usage: 234.5+ KB\n"
     ]
    },
    {
     "data": {
      "text/plain": [
       "None"
      ]
     },
     "metadata": {},
     "output_type": "display_data"
    },
    {
     "name": "stdout",
     "output_type": "stream",
     "text": [
      "<class 'pandas.core.frame.DataFrame'>\n",
      "RangeIndex: 8519 entries, 0 to 8518\n",
      "Data columns (total 6 columns):\n",
      " #   Column             Non-Null Count  Dtype \n",
      "---  ------             --------------  ----- \n",
      " 0   ISIC4_국제표준산업분류     2970 non-null   object\n",
      " 1   ISIC4_분류명          2963 non-null   object\n",
      " 2   KSIC10_한국표준산업분류    3732 non-null   object\n",
      " 3   KSIC10_분류명         3729 non-null   object\n",
      " 4   HS2017_관세통계통합품목분류  6061 non-null   object\n",
      " 5   HS2017_분류명         6061 non-null   object\n",
      "dtypes: object(6)\n",
      "memory usage: 399.5+ KB\n"
     ]
    },
    {
     "data": {
      "text/plain": [
       "None"
      ]
     },
     "metadata": {},
     "output_type": "display_data"
    },
    {
     "name": "stdout",
     "output_type": "stream",
     "text": [
      "<class 'pandas.core.frame.DataFrame'>\n",
      "RangeIndex: 12422 entries, 0 to 12421\n",
      "Data columns (total 5 columns):\n",
      " #   Column     Non-Null Count  Dtype \n",
      "---  ------     --------------  ----- \n",
      " 0   HS부호       12422 non-null  object\n",
      " 1   한글품목명      12422 non-null  object\n",
      " 2   영문품목명      12422 non-null  object\n",
      " 3   성질통합분류코드   11294 non-null  object\n",
      " 4   성질통합분류코드명  11294 non-null  object\n",
      "dtypes: object(5)\n",
      "memory usage: 485.4+ KB\n"
     ]
    },
    {
     "data": {
      "text/plain": [
       "None"
      ]
     },
     "metadata": {},
     "output_type": "display_data"
    }
   ],
   "source": [
    "display(temp0.info())\n",
    "display(temp1.info())\n",
    "display(temp2.info())"
   ]
  },
  {
   "cell_type": "code",
   "execution_count": 101,
   "metadata": {},
   "outputs": [
    {
     "data": {
      "text/html": [
       "<div>\n",
       "<style scoped>\n",
       "    .dataframe tbody tr th:only-of-type {\n",
       "        vertical-align: middle;\n",
       "    }\n",
       "\n",
       "    .dataframe tbody tr th {\n",
       "        vertical-align: top;\n",
       "    }\n",
       "\n",
       "    .dataframe thead th {\n",
       "        text-align: right;\n",
       "    }\n",
       "</style>\n",
       "<table border=\"1\" class=\"dataframe\">\n",
       "  <thead>\n",
       "    <tr style=\"text-align: right;\">\n",
       "      <th></th>\n",
       "      <th>ID</th>\n",
       "      <th>CODE</th>\n",
       "      <th>DSC</th>\n",
       "    </tr>\n",
       "  </thead>\n",
       "  <tbody>\n",
       "    <tr>\n",
       "      <th>0</th>\n",
       "      <td>1</td>\n",
       "      <td>4520</td>\n",
       "      <td>automotive repair shops, nec  specialized auto...</td>\n",
       "    </tr>\n",
       "    <tr>\n",
       "      <th>1</th>\n",
       "      <td>2</td>\n",
       "      <td>0149</td>\n",
       "      <td>general farms, primarily animals, nsk  derives...</td>\n",
       "    </tr>\n",
       "    <tr>\n",
       "      <th>2</th>\n",
       "      <td>3</td>\n",
       "      <td>4630</td>\n",
       "      <td>fish and seafoods  the wholesale distribution ...</td>\n",
       "    </tr>\n",
       "    <tr>\n",
       "      <th>3</th>\n",
       "      <td>4</td>\n",
       "      <td>4510</td>\n",
       "      <td>new and used car dealers, nsk  manufactures a ...</td>\n",
       "    </tr>\n",
       "    <tr>\n",
       "      <th>4</th>\n",
       "      <td>4</td>\n",
       "      <td>2930</td>\n",
       "      <td>automotive stampings, nsk  manufacturing autom...</td>\n",
       "    </tr>\n",
       "  </tbody>\n",
       "</table>\n",
       "</div>"
      ],
      "text/plain": [
       "  ID  CODE                                                DSC\n",
       "0  1  4520  automotive repair shops, nec  specialized auto...\n",
       "1  2  0149  general farms, primarily animals, nsk  derives...\n",
       "2  3  4630  fish and seafoods  the wholesale distribution ...\n",
       "3  4  4510  new and used car dealers, nsk  manufactures a ...\n",
       "4  4  2930  automotive stampings, nsk  manufacturing autom..."
      ]
     },
     "metadata": {},
     "output_type": "display_data"
    },
    {
     "data": {
      "text/html": [
       "<div>\n",
       "<style scoped>\n",
       "    .dataframe tbody tr th:only-of-type {\n",
       "        vertical-align: middle;\n",
       "    }\n",
       "\n",
       "    .dataframe tbody tr th {\n",
       "        vertical-align: top;\n",
       "    }\n",
       "\n",
       "    .dataframe thead th {\n",
       "        text-align: right;\n",
       "    }\n",
       "</style>\n",
       "<table border=\"1\" class=\"dataframe\">\n",
       "  <thead>\n",
       "    <tr style=\"text-align: right;\">\n",
       "      <th></th>\n",
       "      <th>ISIC4_국제표준산업분류</th>\n",
       "      <th>ISIC4_분류명</th>\n",
       "      <th>KSIC10_한국표준산업분류</th>\n",
       "      <th>KSIC10_분류명</th>\n",
       "      <th>HS2017_관세통계통합품목분류</th>\n",
       "      <th>HS2017_분류명</th>\n",
       "    </tr>\n",
       "  </thead>\n",
       "  <tbody>\n",
       "    <tr>\n",
       "      <th>0</th>\n",
       "      <td>0111</td>\n",
       "      <td>곡물(쌀 제외), 콩류, 종실유 재배업</td>\n",
       "      <td>01123</td>\n",
       "      <td>종자 및 묘목 생산업</td>\n",
       "      <td>100111</td>\n",
       "      <td>종자</td>\n",
       "    </tr>\n",
       "    <tr>\n",
       "      <th>1</th>\n",
       "      <td>NaN</td>\n",
       "      <td>NaN</td>\n",
       "      <td>NaN</td>\n",
       "      <td>NaN</td>\n",
       "      <td>100191</td>\n",
       "      <td>종자</td>\n",
       "    </tr>\n",
       "    <tr>\n",
       "      <th>2</th>\n",
       "      <td>0111</td>\n",
       "      <td>곡물(쌀 제외), 콩류, 종실유 재배업</td>\n",
       "      <td>01110</td>\n",
       "      <td>곡물 및 기타 식량작물 재배업</td>\n",
       "      <td>100119</td>\n",
       "      <td>기타</td>\n",
       "    </tr>\n",
       "    <tr>\n",
       "      <th>3</th>\n",
       "      <td>NaN</td>\n",
       "      <td>NaN</td>\n",
       "      <td>NaN</td>\n",
       "      <td>NaN</td>\n",
       "      <td>100199</td>\n",
       "      <td>기타</td>\n",
       "    </tr>\n",
       "    <tr>\n",
       "      <th>4</th>\n",
       "      <td>0111</td>\n",
       "      <td>곡물(쌀 제외), 콩류, 종실유 재배업</td>\n",
       "      <td>01123</td>\n",
       "      <td>종자 및 묘목 생산업</td>\n",
       "      <td>100510</td>\n",
       "      <td>종자용</td>\n",
       "    </tr>\n",
       "  </tbody>\n",
       "</table>\n",
       "</div>"
      ],
      "text/plain": [
       "  ISIC4_국제표준산업분류              ISIC4_분류명 KSIC10_한국표준산업분류        KSIC10_분류명  \\\n",
       "0           0111  곡물(쌀 제외), 콩류, 종실유 재배업           01123       종자 및 묘목 생산업   \n",
       "1            NaN                    NaN             NaN               NaN   \n",
       "2           0111  곡물(쌀 제외), 콩류, 종실유 재배업           01110  곡물 및 기타 식량작물 재배업   \n",
       "3            NaN                    NaN             NaN               NaN   \n",
       "4           0111  곡물(쌀 제외), 콩류, 종실유 재배업           01123       종자 및 묘목 생산업   \n",
       "\n",
       "  HS2017_관세통계통합품목분류 HS2017_분류명  \n",
       "0            100111         종자  \n",
       "1            100191         종자  \n",
       "2            100119         기타  \n",
       "3            100199         기타  \n",
       "4            100510        종자용  "
      ]
     },
     "metadata": {},
     "output_type": "display_data"
    },
    {
     "data": {
      "text/html": [
       "<div>\n",
       "<style scoped>\n",
       "    .dataframe tbody tr th:only-of-type {\n",
       "        vertical-align: middle;\n",
       "    }\n",
       "\n",
       "    .dataframe tbody tr th {\n",
       "        vertical-align: top;\n",
       "    }\n",
       "\n",
       "    .dataframe thead th {\n",
       "        text-align: right;\n",
       "    }\n",
       "</style>\n",
       "<table border=\"1\" class=\"dataframe\">\n",
       "  <thead>\n",
       "    <tr style=\"text-align: right;\">\n",
       "      <th></th>\n",
       "      <th>HS부호</th>\n",
       "      <th>한글품목명</th>\n",
       "      <th>영문품목명</th>\n",
       "      <th>성질통합분류코드</th>\n",
       "      <th>성질통합분류코드명</th>\n",
       "    </tr>\n",
       "  </thead>\n",
       "  <tbody>\n",
       "    <tr>\n",
       "      <th>0</th>\n",
       "      <td>0101211000</td>\n",
       "      <td>농가 사육용</td>\n",
       "      <td>For farm breeding</td>\n",
       "      <td>11020101</td>\n",
       "      <td>말</td>\n",
       "    </tr>\n",
       "    <tr>\n",
       "      <th>1</th>\n",
       "      <td>0101219000</td>\n",
       "      <td>기타</td>\n",
       "      <td>Other</td>\n",
       "      <td>11020101</td>\n",
       "      <td>말</td>\n",
       "    </tr>\n",
       "    <tr>\n",
       "      <th>2</th>\n",
       "      <td>0101291000</td>\n",
       "      <td>경주말</td>\n",
       "      <td>Horses for racing</td>\n",
       "      <td>11020101</td>\n",
       "      <td>말</td>\n",
       "    </tr>\n",
       "    <tr>\n",
       "      <th>3</th>\n",
       "      <td>0101299000</td>\n",
       "      <td>기타</td>\n",
       "      <td>Other</td>\n",
       "      <td>11020101</td>\n",
       "      <td>말</td>\n",
       "    </tr>\n",
       "    <tr>\n",
       "      <th>4</th>\n",
       "      <td>0101300000</td>\n",
       "      <td>당나귀</td>\n",
       "      <td>Asses</td>\n",
       "      <td>11020190</td>\n",
       "      <td>기타 산 동물</td>\n",
       "    </tr>\n",
       "  </tbody>\n",
       "</table>\n",
       "</div>"
      ],
      "text/plain": [
       "         HS부호   한글품목명              영문품목명  성질통합분류코드 성질통합분류코드명\n",
       "0  0101211000  농가 사육용  For farm breeding  11020101         말\n",
       "1  0101219000      기타              Other  11020101         말\n",
       "2  0101291000     경주말  Horses for racing  11020101         말\n",
       "3  0101299000      기타              Other  11020101         말\n",
       "4  0101300000     당나귀              Asses  11020190   기타 산 동물"
      ]
     },
     "metadata": {},
     "output_type": "display_data"
    }
   ],
   "source": [
    "display(temp0.head())\n",
    "display(temp1.head())\n",
    "display(temp2.head())"
   ]
  }
 ],
 "metadata": {
  "kernelspec": {
   "display_name": ".venv",
   "language": "python",
   "name": "python3"
  },
  "language_info": {
   "codemirror_mode": {
    "name": "ipython",
    "version": 3
   },
   "file_extension": ".py",
   "mimetype": "text/x-python",
   "name": "python",
   "nbconvert_exporter": "python",
   "pygments_lexer": "ipython3",
   "version": "3.12.3"
  }
 },
 "nbformat": 4,
 "nbformat_minor": 2
}
