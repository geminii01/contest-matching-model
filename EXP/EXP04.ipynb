{
 "cells": [
  {
   "cell_type": "code",
   "execution_count": 2,
   "metadata": {},
   "outputs": [],
   "source": [
    "from dotenv import load_dotenv\n",
    "load_dotenv()\n",
    "\n",
    "import os\n",
    "import re\n",
    "import csv\n",
    "import json\n",
    "import time\n",
    "import numpy as np\n",
    "import pandas as pd\n",
    "from pprint import pprint\n",
    "\n",
    "from langchain import hub\n",
    "from langchain_text_splitters import RecursiveCharacterTextSplitter\n",
    "from langchain_community.document_loaders import JSONLoader\n",
    "from langchain.schema import Document\n",
    "from langchain_community.vectorstores import FAISS\n",
    "from langchain_community.document_transformers import LongContextReorder\n",
    "from langchain.retrievers import EnsembleRetriever\n",
    "from langchain_community.retrievers import BM25Retriever\n",
    "from langchain_openai import OpenAIEmbeddings\n",
    "from langchain_upstage import ChatUpstage\n",
    "from langchain_core.runnables import RunnablePassthrough\n",
    "from langchain_core.output_parsers import StrOutputParser"
   ]
  },
  {
   "cell_type": "code",
   "execution_count": 3,
   "metadata": {},
   "outputs": [
    {
     "name": "stdout",
     "output_type": "stream",
     "text": [
      "> LangSmith Project: matching_model_EXP04\n"
     ]
    }
   ],
   "source": [
    "OPENAI_API_KEY = os.environ.get('OPENAI_API_KEY')\n",
    "UPSTAGE_API_KEY = os.environ.get('UPSTAGE_API_KEY')\n",
    "LANGCHAIN_API_KEY = os.environ.get('LANGCHAIN_API_KEY')\n",
    "os.environ['LANGCHAIN_PROJECT'] = 'matching_model_EXP04' # 프로젝트명 수정\n",
    "LANGCHAIN_PROJECT = os.environ.get('LANGCHAIN_PROJECT')\n",
    "\n",
    "print(f'> LangSmith Project: {LANGCHAIN_PROJECT}')"
   ]
  },
  {
   "cell_type": "markdown",
   "metadata": {},
   "source": [
    "# 데이터 구성\n",
    "\n",
    "> 전처리, csv to jsonl"
   ]
  },
  {
   "cell_type": "code",
   "execution_count": 4,
   "metadata": {},
   "outputs": [
    {
     "name": "stdout",
     "output_type": "stream",
     "text": [
      "> 데이터 로드 완료\n",
      "> 데이터 전처리 완료\n",
      "> 데이터 결측치 확인\n",
      "-------------------------\n",
      "ID      0\n",
      "CODE    0\n",
      "DSC     0\n",
      "dtype: int64\n",
      "ISIC4_CODE     0\n",
      "ISIC4_NAME     0\n",
      "KSIC10_CODE    0\n",
      "KSIC10_NAME    0\n",
      "HS2017_CODE    0\n",
      "HS2017_NAME    0\n",
      "dtype: int64\n",
      "HS_CODE     0\n",
      "KOR_NAME    0\n",
      "ENG_NAME    0\n",
      "INT_CODE    0\n",
      "INT_NAME    0\n",
      "dtype: int64\n",
      "-------------------------\n",
      "> csv to jsonl 완료\n"
     ]
    }
   ],
   "source": [
    "# 데이터 로드\n",
    "\n",
    "text = pd.read_excel('../data/비식별된 해외기업별 영문 텍스트데이터.xlsx')\n",
    "statis = pd.read_excel('../data/통계청 국제표준산업분류 HSCODE 6단위 매핑.xlsx')\n",
    "customs = pd.read_excel('../data/관세청_HS부호_240101.xlsx')\n",
    "\n",
    "text_copy = text.copy()\n",
    "statis_copy = statis.copy()\n",
    "customs_copy = customs.copy()\n",
    "\n",
    "print('> 데이터 로드 완료')\n",
    "\n",
    "\n",
    "# 데이터 전처리\n",
    "\n",
    "def zero_input(num, x):\n",
    "    if pd.isna(x):\n",
    "        return np.nan\n",
    "    else:\n",
    "        cnt = num - len(x)\n",
    "        return '0' * cnt + x\n",
    "    \n",
    "def re_sub(x):\n",
    "    if pd.isna(x):\n",
    "        return np.nan\n",
    "    else:\n",
    "        return re.sub(r'^\\((.*?)\\)$', r'\\1', x)\n",
    "\n",
    "text_copy['ID'] = text_copy['ID'].astype(str)\n",
    "text_copy['CODE'] = text_copy['CODE'].astype(str)\n",
    "text_copy['CODE'] = text_copy['CODE'].apply(lambda x: zero_input(4, x))\n",
    "\n",
    "statis_copy.columns = [\n",
    "    'ISIC4_CODE', # ISIC4_국제표준산업분류\n",
    "    'ISIC4_NAME', # ISIC4_분류명\n",
    "    'KSIC10_CODE', # KSIC10_한국표준산업분류\n",
    "    'KSIC10_NAME', # KSIC10_분류명\n",
    "    'HS2017_CODE', # HS2017_관세통계통합품목분류\n",
    "    'HS2017_NAME' # HS2017_분류명\n",
    "]\n",
    "\n",
    "statis_copy['ISIC4_CODE'] = statis_copy['ISIC4_CODE'].astype(str)\n",
    "statis_copy['ISIC4_CODE'] = statis_copy['ISIC4_CODE'].replace('nan', np.nan)\n",
    "statis_copy['ISIC4_CODE'] = statis_copy['ISIC4_CODE'].str.replace('.0', '', regex=False)\n",
    "statis_copy['ISIC4_CODE'] = statis_copy['ISIC4_CODE'].apply(lambda x: zero_input(4, x))\n",
    "\n",
    "statis_copy['HS2017_CODE'] = statis_copy['HS2017_CODE'].astype(str)\n",
    "statis_copy['HS2017_CODE'] = statis_copy['HS2017_CODE'].replace('nan', np.nan)\n",
    "statis_copy['HS2017_CODE'] = statis_copy['HS2017_CODE'].str.replace('.0', '', regex=False)\n",
    "statis_copy['HS2017_CODE'] = statis_copy['HS2017_CODE'].apply(lambda x: zero_input(6, x))\n",
    "\n",
    "customs_copy.columns = [\n",
    "    'HS_CODE', # HS부호\n",
    "    'KOR_NAME', # 한글품목명\n",
    "    'ENG_NAME', # 영문품목명\n",
    "    'INT_CODE', # 성질통합분류코드\n",
    "    'INT_NAME' # 성질통합분류명\n",
    "]\n",
    "\n",
    "customs_copy['HS_CODE'] = customs_copy['HS_CODE'].astype(str)\n",
    "customs_copy['HS_CODE'] = customs_copy['HS_CODE'].apply(lambda x: zero_input(10, x))\n",
    "\n",
    "customs_copy['INT_CODE'] = customs_copy['INT_CODE'].astype(str)\n",
    "customs_copy['INT_CODE'] = customs_copy['INT_CODE'].replace('nan', np.nan)\n",
    "customs_copy['INT_CODE'] = customs_copy['INT_CODE'].str.replace('.0', '', regex=False)\n",
    "\n",
    "customs_copy['INT_NAME'] = customs_copy['INT_NAME'].apply(lambda x: re_sub(x))\n",
    "\n",
    "text_copy = text_copy.fillna(' ')\n",
    "statis_copy = statis_copy.fillna(' ')\n",
    "customs_copy = customs_copy.fillna(' ')\n",
    "\n",
    "print('> 데이터 전처리 완료')\n",
    "print('> 데이터 결측치 확인')\n",
    "print('-----' * 5)\n",
    "print(text_copy.isnull().sum())\n",
    "print(statis_copy.isnull().sum())\n",
    "print(customs_copy.isnull().sum())\n",
    "print('-----' * 5)\n",
    "\n",
    "\n",
    "# 데이터 저장 및 로드\n",
    "\n",
    "text_copy.to_csv('../data/prepro_text.csv', index=False, encoding='utf-8')\n",
    "statis_copy.to_csv('../data/prepro_statis.csv', index=False, encoding='utf-8')\n",
    "customs_copy.to_csv('../data/prepro_customs.csv', index=False, encoding='utf-8')\n",
    "\n",
    "text_prepro = pd.read_csv('../data/prepro_text.csv', dtype=str)\n",
    "statis_prepro = pd.read_csv('../data/prepro_statis.csv', dtype=str)\n",
    "customs_prepro = pd.read_csv('../data/prepro_customs.csv', dtype=str)\n",
    "\n",
    "\n",
    "# csv to jsonl\n",
    "\n",
    "def csv_to_jsonl(csv_file_path, jsonl_file_path):\n",
    "    with open(csv_file_path, mode='r', encoding='utf-8') as csv_file:\n",
    "        csv_reader = csv.DictReader(csv_file)\n",
    "        \n",
    "        with open(jsonl_file_path, mode='w', encoding='utf-8') as jsonl_file:\n",
    "            for row in csv_reader:\n",
    "                jsonl_file.write(json.dumps(row, ensure_ascii=False) + '\\n')\n",
    "\n",
    "csv_to_jsonl('../data/prepro_text.csv', '../data/jsonl_prepro_text.jsonl')\n",
    "csv_to_jsonl('../data/prepro_statis.csv', '../data/jsonl_prepro_statis.jsonl')\n",
    "csv_to_jsonl('../data/prepro_customs.csv', '../data/jsonl_prepro_customs.jsonl')\n",
    "print('> csv to jsonl 완료')"
   ]
  },
  {
   "cell_type": "markdown",
   "metadata": {},
   "source": [
    "# Document 구성"
   ]
  },
  {
   "cell_type": "markdown",
   "metadata": {},
   "source": [
    "## text"
   ]
  },
  {
   "cell_type": "code",
   "execution_count": 5,
   "metadata": {},
   "outputs": [
    {
     "name": "stdout",
     "output_type": "stream",
     "text": [
      "Document(page_content='automotive repair shops, nec  specialized automotive repair, not elsewhere classified, such as fuel service carburetor repair, brake relining, front-end and wheel alignment, and radiator repair. motor vehicle repair and maintenance auto brake lining, installation other automotive mechanical and electrical repair and maintenance maintenance and repair of motor vehicles maintenance and repair of motor vehicles maintenance and repair of motor vehiclesother automotive repair and maintenance', metadata={'ID': '1', 'CODE': '4520', 'source': '/root/contest-matching-model/data/jsonl_prepro_text.jsonl', 'seq_num': 1})\n",
      "automotive repair shops, nec  specialized automotive repair, not elsewhere classified, such as fuel service carburetor repair, brake relining, front-end and wheel alignment, and radiator repair. motor vehicle repair and maintenance auto brake lining, installation other automotive mechanical and electrical repair and maintenance maintenance and repair of motor vehicles maintenance and repair of motor vehicles maintenance and repair of motor vehiclesother automotive repair and maintenance\n",
      "{'CODE': '4520',\n",
      " 'ID': '1',\n",
      " 'seq_num': 1,\n",
      " 'source': '/root/contest-matching-model/data/jsonl_prepro_text.jsonl'}\n"
     ]
    }
   ],
   "source": [
    "file_path = '../data/jsonl_prepro_text.jsonl'\n",
    "temp = []\n",
    "with open(file_path, 'r', encoding='utf-8') as file:\n",
    "    for line in file:\n",
    "        temp.append(json.loads(line.strip()))\n",
    "\n",
    "seq_num = 1\n",
    "text_documents = []\n",
    "for data in temp:\n",
    "    doc = Document(\n",
    "        page_content=data['DSC'], \n",
    "        metadata={\n",
    "            'ID': data['ID'],\n",
    "            'CODE': data['CODE'],\n",
    "            'source': '/root/contest-matching-model/data/jsonl_prepro_text.jsonl',\n",
    "            'seq_num': seq_num,\n",
    "        }\n",
    "    )\n",
    "    text_documents.append(doc)\n",
    "    seq_num += 1\n",
    "\n",
    "pprint(text_documents[0])\n",
    "print(text_documents[0].page_content)\n",
    "pprint(text_documents[0].metadata)"
   ]
  },
  {
   "cell_type": "markdown",
   "metadata": {},
   "source": [
    "## statis"
   ]
  },
  {
   "cell_type": "code",
   "execution_count": 6,
   "metadata": {},
   "outputs": [
    {
     "name": "stdout",
     "output_type": "stream",
     "text": [
      "Document(page_content='곡물(쌀 제외), 콩류, 종실유 재배업\\r\\n종자 및 묘목 생산업\\r\\n종자', metadata={'ISIC4_CODE': '0111', 'KSIC10_CODE': '01123', 'HS2017_CODE': '100111', 'source': '/root/contest-matching-model/data/jsonl_prepro_statis.jsonl', 'seq_num': 1})\n",
      "곡물(쌀 제외), 콩류, 종실유 재배업\n",
      "종자 및 묘목 생산업\n",
      "종자\n",
      "{'HS2017_CODE': '100111',\n",
      " 'ISIC4_CODE': '0111',\n",
      " 'KSIC10_CODE': '01123',\n",
      " 'seq_num': 1,\n",
      " 'source': '/root/contest-matching-model/data/jsonl_prepro_statis.jsonl'}\n"
     ]
    }
   ],
   "source": [
    "file_path = '../data/jsonl_prepro_statis.jsonl'\n",
    "temp = []\n",
    "with open(file_path, 'r', encoding='utf-8') as file:\n",
    "    for line in file:\n",
    "        temp.append(json.loads(line.strip()))\n",
    "\n",
    "seq_num = 1\n",
    "statis_documents = []\n",
    "for data in temp:\n",
    "    doc = Document(\n",
    "        page_content=f\"{data['ISIC4_NAME']}\\r\\n{data['KSIC10_NAME']}\\r\\n{data['HS2017_NAME']}\", # ISIC4, KSIC10, HS2017 순으로 작성됨\n",
    "        metadata={\n",
    "            'ISIC4_CODE': data['ISIC4_CODE'],\n",
    "            'KSIC10_CODE': data['KSIC10_CODE'],\n",
    "            'HS2017_CODE': data['HS2017_CODE'],\n",
    "            'source': '/root/contest-matching-model/data/jsonl_prepro_statis.jsonl',\n",
    "            'seq_num': seq_num,\n",
    "        }\n",
    "    )\n",
    "    statis_documents.append(doc)\n",
    "    seq_num += 1\n",
    "\n",
    "pprint(statis_documents[0])\n",
    "print(statis_documents[0].page_content)\n",
    "pprint(statis_documents[0].metadata)"
   ]
  },
  {
   "cell_type": "markdown",
   "metadata": {},
   "source": [
    "## customs"
   ]
  },
  {
   "cell_type": "code",
   "execution_count": 7,
   "metadata": {},
   "outputs": [
    {
     "name": "stdout",
     "output_type": "stream",
     "text": [
      "Document(page_content='농가 사육용\\r\\nFor farm breeding\\r\\n말', metadata={'HS_CODE': '0101211000', 'INT_CODE': '11020101', 'source': '/root/contest-matching-model/data/jsonl_prepro_customs.jsonl', 'seq_num': 1})\n",
      "농가 사육용\n",
      "For farm breeding\n",
      "말\n",
      "{'HS_CODE': '0101211000',\n",
      " 'INT_CODE': '11020101',\n",
      " 'seq_num': 1,\n",
      " 'source': '/root/contest-matching-model/data/jsonl_prepro_customs.jsonl'}\n"
     ]
    }
   ],
   "source": [
    "file_path = '../data/jsonl_prepro_customs.jsonl'\n",
    "temp = []\n",
    "with open(file_path, 'r', encoding='utf-8') as file:\n",
    "    for line in file:\n",
    "        temp.append(json.loads(line.strip()))\n",
    "\n",
    "seq_num = 1\n",
    "customs_documents = []\n",
    "for data in temp:\n",
    "    doc = Document(\n",
    "        page_content=f\"{data['KOR_NAME']}\\r\\n{data['ENG_NAME']}\\r\\n{data['INT_NAME']}\", # 한글품목명, 영어품목명, 성질 통합 분류명 순으로 작성됨\n",
    "        metadata={\n",
    "            'HS_CODE': data['HS_CODE'],\n",
    "            'INT_CODE': data['INT_CODE'],\n",
    "            'source': '/root/contest-matching-model/data/jsonl_prepro_customs.jsonl',\n",
    "            'seq_num': seq_num,\n",
    "        }\n",
    "    )\n",
    "    customs_documents.append(doc)\n",
    "    seq_num += 1\n",
    "\n",
    "pprint(customs_documents[0])\n",
    "print(customs_documents[0].page_content)\n",
    "pprint(customs_documents[0].metadata)"
   ]
  },
  {
   "cell_type": "markdown",
   "metadata": {},
   "source": [
    "# Text Splitter"
   ]
  },
  {
   "cell_type": "markdown",
   "metadata": {},
   "source": [
    "## statis"
   ]
  },
  {
   "cell_type": "code",
   "execution_count": 8,
   "metadata": {},
   "outputs": [],
   "source": [
    "# content 길이 확인\n",
    "length = []\n",
    "content = []\n",
    "for idx in range(0, len(statis_documents)):\n",
    "    cond = statis_documents[idx].page_content\n",
    "    a = len(cond)\n",
    "    b = cond\n",
    "    length.append(a)\n",
    "    content.append(b)\n",
    "\n",
    "df = pd.DataFrame({\n",
    "    'length': length,\n",
    "    'content': content\n",
    "})"
   ]
  },
  {
   "cell_type": "code",
   "execution_count": 9,
   "metadata": {},
   "outputs": [
    {
     "data": {
      "text/html": [
       "<div>\n",
       "<style scoped>\n",
       "    .dataframe tbody tr th:only-of-type {\n",
       "        vertical-align: middle;\n",
       "    }\n",
       "\n",
       "    .dataframe tbody tr th {\n",
       "        vertical-align: top;\n",
       "    }\n",
       "\n",
       "    .dataframe thead th {\n",
       "        text-align: right;\n",
       "    }\n",
       "</style>\n",
       "<table border=\"1\" class=\"dataframe\">\n",
       "  <thead>\n",
       "    <tr style=\"text-align: right;\">\n",
       "      <th></th>\n",
       "      <th>length</th>\n",
       "      <th>content</th>\n",
       "    </tr>\n",
       "  </thead>\n",
       "  <tbody>\n",
       "    <tr>\n",
       "      <th>0</th>\n",
       "      <td>38</td>\n",
       "      <td>곡물(쌀 제외), 콩류, 종실유 재배업\\r\\n종자 및 묘목 생산업\\r\\n종자</td>\n",
       "    </tr>\n",
       "    <tr>\n",
       "      <th>1</th>\n",
       "      <td>8</td>\n",
       "      <td>\\r\\n \\r\\n종자</td>\n",
       "    </tr>\n",
       "    <tr>\n",
       "      <th>2</th>\n",
       "      <td>43</td>\n",
       "      <td>곡물(쌀 제외), 콩류, 종실유 재배업\\r\\n곡물 및 기타 식량작물 재배업\\r\\n기타</td>\n",
       "    </tr>\n",
       "    <tr>\n",
       "      <th>3</th>\n",
       "      <td>8</td>\n",
       "      <td>\\r\\n \\r\\n기타</td>\n",
       "    </tr>\n",
       "    <tr>\n",
       "      <th>4</th>\n",
       "      <td>39</td>\n",
       "      <td>곡물(쌀 제외), 콩류, 종실유 재배업\\r\\n종자 및 묘목 생산업\\r\\n종자용</td>\n",
       "    </tr>\n",
       "  </tbody>\n",
       "</table>\n",
       "</div>"
      ],
      "text/plain": [
       "   length                                          content\n",
       "0      38       곡물(쌀 제외), 콩류, 종실유 재배업\\r\\n종자 및 묘목 생산업\\r\\n종자\n",
       "1       8                                      \\r\\n \\r\\n종자\n",
       "2      43  곡물(쌀 제외), 콩류, 종실유 재배업\\r\\n곡물 및 기타 식량작물 재배업\\r\\n기타\n",
       "3       8                                      \\r\\n \\r\\n기타\n",
       "4      39      곡물(쌀 제외), 콩류, 종실유 재배업\\r\\n종자 및 묘목 생산업\\r\\n종자용"
      ]
     },
     "execution_count": 9,
     "metadata": {},
     "output_type": "execute_result"
    }
   ],
   "source": [
    "df.head()"
   ]
  },
  {
   "cell_type": "code",
   "execution_count": 10,
   "metadata": {},
   "outputs": [
    {
     "data": {
      "text/html": [
       "<div>\n",
       "<style scoped>\n",
       "    .dataframe tbody tr th:only-of-type {\n",
       "        vertical-align: middle;\n",
       "    }\n",
       "\n",
       "    .dataframe tbody tr th {\n",
       "        vertical-align: top;\n",
       "    }\n",
       "\n",
       "    .dataframe thead th {\n",
       "        text-align: right;\n",
       "    }\n",
       "</style>\n",
       "<table border=\"1\" class=\"dataframe\">\n",
       "  <thead>\n",
       "    <tr style=\"text-align: right;\">\n",
       "      <th></th>\n",
       "      <th>length</th>\n",
       "    </tr>\n",
       "  </thead>\n",
       "  <tbody>\n",
       "    <tr>\n",
       "      <th>count</th>\n",
       "      <td>8519.000000</td>\n",
       "    </tr>\n",
       "    <tr>\n",
       "      <th>mean</th>\n",
       "      <td>31.357554</td>\n",
       "    </tr>\n",
       "    <tr>\n",
       "      <th>std</th>\n",
       "      <td>28.675302</td>\n",
       "    </tr>\n",
       "    <tr>\n",
       "      <th>min</th>\n",
       "      <td>7.000000</td>\n",
       "    </tr>\n",
       "    <tr>\n",
       "      <th>25%</th>\n",
       "      <td>13.000000</td>\n",
       "    </tr>\n",
       "    <tr>\n",
       "      <th>50%</th>\n",
       "      <td>24.000000</td>\n",
       "    </tr>\n",
       "    <tr>\n",
       "      <th>75%</th>\n",
       "      <td>40.000000</td>\n",
       "    </tr>\n",
       "    <tr>\n",
       "      <th>max</th>\n",
       "      <td>299.000000</td>\n",
       "    </tr>\n",
       "  </tbody>\n",
       "</table>\n",
       "</div>"
      ],
      "text/plain": [
       "            length\n",
       "count  8519.000000\n",
       "mean     31.357554\n",
       "std      28.675302\n",
       "min       7.000000\n",
       "25%      13.000000\n",
       "50%      24.000000\n",
       "75%      40.000000\n",
       "max     299.000000"
      ]
     },
     "execution_count": 10,
     "metadata": {},
     "output_type": "execute_result"
    }
   ],
   "source": [
    "df.describe()"
   ]
  },
  {
   "cell_type": "code",
   "execution_count": 11,
   "metadata": {},
   "outputs": [
    {
     "data": {
      "text/plain": [
       "' \\r\\n \\r\\n '"
      ]
     },
     "execution_count": 11,
     "metadata": {},
     "output_type": "execute_result"
    }
   ],
   "source": [
    "df[df['length'] == 7].reset_index().loc[0, 'content']"
   ]
  },
  {
   "cell_type": "code",
   "execution_count": 12,
   "metadata": {},
   "outputs": [
    {
     "name": "stdout",
     "output_type": "stream",
     "text": [
      "> Text Splitter 적용 전 문서 개수: 8519\n",
      "> Text Splitter 적용 후 문서 개수: 8373\n",
      "\n",
      "\n",
      "Text Splitter 적용 전 page_content:\n",
      "곡물(쌀 제외), 콩류, 종실유 재배업\n",
      "종자 및 묘목 생산업\n",
      "종자\n",
      "\n",
      "Text Splitter 적용 후 page_content:\n",
      "곡물(쌀 제외), 콩류, 종실유 재배업\n",
      "종자 및 묘목 생산업\n",
      "종자\n"
     ]
    }
   ],
   "source": [
    "# Split\n",
    "splitter = RecursiveCharacterTextSplitter(\n",
    "    separators=['\\r\\n', '. ', ', ', ' ', ''],\n",
    "    chunk_size=100,\n",
    "    chunk_overlap=0,\n",
    "    length_function=len,\n",
    ")\n",
    "statis_splits = splitter.split_documents(statis_documents)\n",
    "\n",
    "print(f'> Text Splitter 적용 전 문서 개수: {len(statis_documents)}\\n> Text Splitter 적용 후 문서 개수: {len(statis_splits)}')\n",
    "print(f'\\n\\nText Splitter 적용 전 page_content:\\n{statis_documents[0].page_content}\\n\\nText Splitter 적용 후 page_content:\\n{statis_splits[0].page_content}')"
   ]
  },
  {
   "cell_type": "markdown",
   "metadata": {},
   "source": [
    "## customs"
   ]
  },
  {
   "cell_type": "code",
   "execution_count": 13,
   "metadata": {},
   "outputs": [],
   "source": [
    "# content 길이 확인\n",
    "length = []\n",
    "content = []\n",
    "for idx in range(0, len(customs_documents)):\n",
    "    cond = customs_documents[idx].page_content\n",
    "    a = len(cond)\n",
    "    b = cond\n",
    "    length.append(a)\n",
    "    content.append(b)\n",
    "\n",
    "df = pd.DataFrame({\n",
    "    'length': length,\n",
    "    'content': content\n",
    "})"
   ]
  },
  {
   "cell_type": "code",
   "execution_count": 14,
   "metadata": {},
   "outputs": [
    {
     "data": {
      "text/html": [
       "<div>\n",
       "<style scoped>\n",
       "    .dataframe tbody tr th:only-of-type {\n",
       "        vertical-align: middle;\n",
       "    }\n",
       "\n",
       "    .dataframe tbody tr th {\n",
       "        vertical-align: top;\n",
       "    }\n",
       "\n",
       "    .dataframe thead th {\n",
       "        text-align: right;\n",
       "    }\n",
       "</style>\n",
       "<table border=\"1\" class=\"dataframe\">\n",
       "  <thead>\n",
       "    <tr style=\"text-align: right;\">\n",
       "      <th></th>\n",
       "      <th>length</th>\n",
       "      <th>content</th>\n",
       "    </tr>\n",
       "  </thead>\n",
       "  <tbody>\n",
       "    <tr>\n",
       "      <th>0</th>\n",
       "      <td>28</td>\n",
       "      <td>농가 사육용\\r\\nFor farm breeding\\r\\n말</td>\n",
       "    </tr>\n",
       "    <tr>\n",
       "      <th>1</th>\n",
       "      <td>12</td>\n",
       "      <td>기타\\r\\nOther\\r\\n말</td>\n",
       "    </tr>\n",
       "    <tr>\n",
       "      <th>2</th>\n",
       "      <td>25</td>\n",
       "      <td>경주말\\r\\nHorses for racing\\r\\n말</td>\n",
       "    </tr>\n",
       "    <tr>\n",
       "      <th>3</th>\n",
       "      <td>12</td>\n",
       "      <td>기타\\r\\nOther\\r\\n말</td>\n",
       "    </tr>\n",
       "    <tr>\n",
       "      <th>4</th>\n",
       "      <td>19</td>\n",
       "      <td>당나귀\\r\\nAsses\\r\\n기타 산 동물</td>\n",
       "    </tr>\n",
       "  </tbody>\n",
       "</table>\n",
       "</div>"
      ],
      "text/plain": [
       "   length                           content\n",
       "0      28  농가 사육용\\r\\nFor farm breeding\\r\\n말\n",
       "1      12                  기타\\r\\nOther\\r\\n말\n",
       "2      25     경주말\\r\\nHorses for racing\\r\\n말\n",
       "3      12                  기타\\r\\nOther\\r\\n말\n",
       "4      19           당나귀\\r\\nAsses\\r\\n기타 산 동물"
      ]
     },
     "execution_count": 14,
     "metadata": {},
     "output_type": "execute_result"
    }
   ],
   "source": [
    "df.head()"
   ]
  },
  {
   "cell_type": "code",
   "execution_count": 15,
   "metadata": {},
   "outputs": [
    {
     "data": {
      "text/html": [
       "<div>\n",
       "<style scoped>\n",
       "    .dataframe tbody tr th:only-of-type {\n",
       "        vertical-align: middle;\n",
       "    }\n",
       "\n",
       "    .dataframe tbody tr th {\n",
       "        vertical-align: top;\n",
       "    }\n",
       "\n",
       "    .dataframe thead th {\n",
       "        text-align: right;\n",
       "    }\n",
       "</style>\n",
       "<table border=\"1\" class=\"dataframe\">\n",
       "  <thead>\n",
       "    <tr style=\"text-align: right;\">\n",
       "      <th></th>\n",
       "      <th>length</th>\n",
       "    </tr>\n",
       "  </thead>\n",
       "  <tbody>\n",
       "    <tr>\n",
       "      <th>count</th>\n",
       "      <td>12422.000000</td>\n",
       "    </tr>\n",
       "    <tr>\n",
       "      <th>mean</th>\n",
       "      <td>47.491547</td>\n",
       "    </tr>\n",
       "    <tr>\n",
       "      <th>std</th>\n",
       "      <td>49.001142</td>\n",
       "    </tr>\n",
       "    <tr>\n",
       "      <th>min</th>\n",
       "      <td>10.000000</td>\n",
       "    </tr>\n",
       "    <tr>\n",
       "      <th>25%</th>\n",
       "      <td>19.000000</td>\n",
       "    </tr>\n",
       "    <tr>\n",
       "      <th>50%</th>\n",
       "      <td>32.000000</td>\n",
       "    </tr>\n",
       "    <tr>\n",
       "      <th>75%</th>\n",
       "      <td>56.000000</td>\n",
       "    </tr>\n",
       "    <tr>\n",
       "      <th>max</th>\n",
       "      <td>869.000000</td>\n",
       "    </tr>\n",
       "  </tbody>\n",
       "</table>\n",
       "</div>"
      ],
      "text/plain": [
       "             length\n",
       "count  12422.000000\n",
       "mean      47.491547\n",
       "std       49.001142\n",
       "min       10.000000\n",
       "25%       19.000000\n",
       "50%       32.000000\n",
       "75%       56.000000\n",
       "max      869.000000"
      ]
     },
     "execution_count": 15,
     "metadata": {},
     "output_type": "execute_result"
    }
   ],
   "source": [
    "df.describe()"
   ]
  },
  {
   "cell_type": "code",
   "execution_count": 16,
   "metadata": {},
   "outputs": [
    {
     "data": {
      "text/plain": [
       "'틸라피아[오레오크로미스(Oreochromis)속], 메기[판가시우스(Pangasius)속ㆍ실루러스(Silurus)속ㆍ클라리아스(Clarias)속ㆍ익타루러스(Ictalurus)속], 잉어[사이프리너스(Cyprinus)속ㆍ카라시우스(Carassius)속ㆍ크테노파린고돈 이델루스(Ctenopharyngodon idellus)ㆍ하이포프탈미크티스(Hypophthalmichthys)속ㆍ시리누스(Cirrhinus)속ㆍ마일로파린고돈 피세우스(Mylopharyngodon piceus)ㆍ카틀라 카틀라(Catla catla)ㆍ라베오(Labeo)속ㆍ오스테오킬루스 하셀티(Osteochilus hasselti)ㆍ렙토바르부스 호에베니(Leptobarbus hoeveni)ㆍ메갈로브라마(Megalobrama)속], 뱀장어[앙귈라(Anguilla)속], 나일 퍼치[라테스 니로티쿠스(Lates niloticus)], 가물치[카나(Channa)속]\\r\\nTilapias (Oreochromis spp.), catfish (Pangasius spp., Silurus spp., Clarias spp., Ictalurus spp.), carp (Cyprinus spp., Carassius spp., Ctenopharyngodon idellus, Hypophthalmichthys spp., Cirrhinus spp., Mylopharyngodon piceus, Catla catla, Labeo spp., Osteochilus hasselti, Leptobarbus hoeveni, Megalobrama spp.), eels (Anguilla spp.), Nile perch (Lates niloticus) and snakeheads (Channa spp.)\\r\\n기타 어류(훈제)'"
      ]
     },
     "execution_count": 16,
     "metadata": {},
     "output_type": "execute_result"
    }
   ],
   "source": [
    "df[df['length'] >= 800].reset_index().loc[0, 'content']"
   ]
  },
  {
   "cell_type": "code",
   "execution_count": 17,
   "metadata": {},
   "outputs": [
    {
     "name": "stdout",
     "output_type": "stream",
     "text": [
      "> Text Splitter 적용 전 문서 개수: 12422\n",
      "> Text Splitter 적용 후 문서 개수: 17076\n",
      "\n",
      "\n",
      "Text Splitter 적용 전 page_content:\n",
      "농가 사육용\n",
      "For farm breeding\n",
      "말\n",
      "\n",
      "Text Splitter 적용 후 page_content:\n",
      "농가 사육용\n",
      "For farm breeding\n",
      "말\n"
     ]
    }
   ],
   "source": [
    "# Split\n",
    "splitter = RecursiveCharacterTextSplitter(\n",
    "    separators=['\\r\\n', '. ', ', ', ' ', ''],\n",
    "    chunk_size=70,\n",
    "    chunk_overlap=0,\n",
    "    length_function=len,\n",
    ")\n",
    "customs_splits = splitter.split_documents(customs_documents)\n",
    "\n",
    "print(f'> Text Splitter 적용 전 문서 개수: {len(customs_documents)}\\n> Text Splitter 적용 후 문서 개수: {len(customs_splits)}')\n",
    "print(f'\\n\\nText Splitter 적용 전 page_content:\\n{customs_documents[0].page_content}\\n\\nText Splitter 적용 후 page_content:\\n{customs_splits[0].page_content}')"
   ]
  },
  {
   "cell_type": "markdown",
   "metadata": {},
   "source": [
    "# 벡터스토어 생성\n",
    "\n",
    "> 통계청, 관세청만 해당함 (텍스트는 인풋 값이어서 벡터스토어에 안 넣음)"
   ]
  },
  {
   "cell_type": "code",
   "execution_count": 37,
   "metadata": {},
   "outputs": [],
   "source": [
    "# Embedding\n",
    "embeddings = OpenAIEmbeddings(\n",
    "    api_key=OPENAI_API_KEY,\n",
    "    model='text-embedding-ada-002'\n",
    ")\n",
    "# text-embedding-3-large, text-embedding-3-small, text-embedding-ada-002"
   ]
  },
  {
   "cell_type": "markdown",
   "metadata": {},
   "source": [
    "## statis"
   ]
  },
  {
   "cell_type": "code",
   "execution_count": 38,
   "metadata": {},
   "outputs": [
    {
     "name": "stdout",
     "output_type": "stream",
     "text": [
      "> \"./faiss_statis_EXP03\" 로컬에서 불러옴\n"
     ]
    }
   ],
   "source": [
    "name = 'statis'\n",
    "folder_path = f'./vectorstore/EXP03/{name}'\n",
    "if not os.path.exists(folder_path):\n",
    "    print(f'> \"{folder_path}\" 생성 중')\n",
    "    statis_vectorstore = FAISS.from_documents(\n",
    "        documents=statis_splits,\n",
    "        embedding=embeddings,\n",
    "    )\n",
    "    statis_vectorstore.save_local(folder_path=folder_path)\n",
    "    print(f'> \"{folder_path}\" 생성 및 로컬 저장 완료')\n",
    "else:\n",
    "    statis_vectorstore = FAISS.load_local(\n",
    "        folder_path=folder_path, \n",
    "        embeddings=embeddings, \n",
    "        allow_dangerous_deserialization=True\n",
    "    )\n",
    "    print(f'> \"{folder_path}\" 로컬에서 불러옴')"
   ]
  },
  {
   "cell_type": "code",
   "execution_count": 39,
   "metadata": {},
   "outputs": [],
   "source": [
    "statis_faiss_retriever = statis_vectorstore.as_retriever(k=5)"
   ]
  },
  {
   "cell_type": "markdown",
   "metadata": {},
   "source": [
    "## customs"
   ]
  },
  {
   "cell_type": "code",
   "execution_count": 40,
   "metadata": {},
   "outputs": [
    {
     "name": "stdout",
     "output_type": "stream",
     "text": [
      "> \"./faiss_customs_EXP03\" 로컬에서 불러옴\n"
     ]
    }
   ],
   "source": [
    "name = 'customs'\n",
    "folder_path = f'./vectorstore/EXP03/{name}'\n",
    "if not os.path.exists(folder_path):\n",
    "    print(f'> \"{folder_path}\" 생성 중')\n",
    "    customs_vectorstore = FAISS.from_documents(\n",
    "        documents=customs_splits,\n",
    "        embedding=embeddings,\n",
    "    )\n",
    "    customs_vectorstore.save_local(folder_path=folder_path)\n",
    "    print(f'> \"{folder_path}\" 생성 및 로컬 저장 완료')\n",
    "else:\n",
    "    customs_vectorstore = FAISS.load_local(\n",
    "        folder_path=folder_path, \n",
    "        embeddings=embeddings, \n",
    "        allow_dangerous_deserialization=True\n",
    "    )\n",
    "    print(f'> \"{folder_path}\" 로컬에서 불러옴')"
   ]
  },
  {
   "cell_type": "code",
   "execution_count": 41,
   "metadata": {},
   "outputs": [],
   "source": [
    "customs_faiss_retriever = customs_vectorstore.as_retriever(k=5)"
   ]
  },
  {
   "cell_type": "markdown",
   "metadata": {},
   "source": [
    "# bm25"
   ]
  },
  {
   "cell_type": "code",
   "execution_count": 42,
   "metadata": {},
   "outputs": [],
   "source": [
    "statis_bm25_retriever = BM25Retriever.from_documents(\n",
    "    documents=statis_splits\n",
    ")\n",
    "statis_bm25_retriever.k = 5"
   ]
  },
  {
   "cell_type": "code",
   "execution_count": 43,
   "metadata": {},
   "outputs": [],
   "source": [
    "customs_bm25_retriever = BM25Retriever.from_documents(\n",
    "    documents=customs_splits\n",
    ")\n",
    "customs_bm25_retriever.k = 5"
   ]
  },
  {
   "cell_type": "markdown",
   "metadata": {},
   "source": [
    "# 적절한 HS CODE 찾는 프로세스\n",
    "\n",
    "> 텍스트의 jsonl 한 줄 들어옴\n",
    "\n",
    "> 텍스트의 ISIC4와 통계청의 ISIC4 같은거 찾기 (metadata 끼리 비교)<br>근데 ISIC4_CODE 결측치 존재함.<br>텍스트가 답인 것 같음! 유사도 검색 수행도 해서 비교하기\n",
    "\n",
    "> 조건 거친 통계청의 page_content와(topk(아마 k=5 예상)) 텍스트의 page_content를 컨텍스트로 주고, 관세청의 page_content와 비교\n",
    "\n",
    "> 관세청 HS_CODE topk(k >= 10) 추출\n",
    "\n",
    "> 위 과정에서 레퍼런스 잘 챙기기 "
   ]
  },
  {
   "cell_type": "markdown",
   "metadata": {},
   "source": [
    "## Emsemble: 통계청"
   ]
  },
  {
   "cell_type": "code",
   "execution_count": 59,
   "metadata": {},
   "outputs": [
    {
     "name": "stdout",
     "output_type": "stream",
     "text": [
      "general farms, primarily animals, nsk  derives 50 percent or more of its total value  of sales of agricultural products from livestock and animal specialties and their products, but less than 50 percent from products of any single three-digit industry group. crop and animal production general farms, primarily animals all other animal production mixed farming raising of other animals mixed farmingother livestock farming not elsewhere classified\n",
      "0149\n"
     ]
    }
   ],
   "source": [
    "query = text_documents[1].page_content\n",
    "print(query)\n",
    "print(text_documents[1].metadata['CODE'])"
   ]
  },
  {
   "cell_type": "code",
   "execution_count": 67,
   "metadata": {},
   "outputs": [],
   "source": [
    "ensemble_retriever = EnsembleRetriever(\n",
    "    retrievers=[statis_bm25_retriever, statis_faiss_retriever],\n",
    "    weights=[0.3, 0.7],\n",
    ")"
   ]
  },
  {
   "cell_type": "code",
   "execution_count": 68,
   "metadata": {},
   "outputs": [],
   "source": [
    "ensemble_result = ensemble_retriever.invoke(query)\n",
    "bm25_result = statis_bm25_retriever.invoke(query)\n",
    "faiss_result = statis_faiss_retriever.invoke(query)"
   ]
  },
  {
   "cell_type": "code",
   "execution_count": 69,
   "metadata": {},
   "outputs": [
    {
     "name": "stdout",
     "output_type": "stream",
     "text": [
      "[Ensemble Retriever]\n",
      "[Document(page_content='낙타과 동물 사육업\\r\\n그 외 기타 축산업\\r\\n기타', metadata={'ISIC4_CODE': '0143', 'KSIC10_CODE': '01299', 'HS2017_CODE': '510219', 'source': '/root/contest-matching-model/data/jsonl_prepro_statis.jsonl', 'seq_num': 367}),\n",
      " Document(page_content='기타 축산업\\r\\n기타 가금류 및 조류 사육업\\r\\n맹금류', metadata={'ISIC4_CODE': '0149', 'KSIC10_CODE': '01239', 'HS2017_CODE': '010631', 'source': '/root/contest-matching-model/data/jsonl_prepro_statis.jsonl', 'seq_num': 325}),\n",
      " Document(page_content='기타 축산업\\r\\n그 외 기타 축산업\\r\\n따로 분류되지 않은 식용인 동물성 생산품', metadata={'ISIC4_CODE': '0149', 'KSIC10_CODE': '01299', 'HS2017_CODE': '041000', 'source': '/root/contest-matching-model/data/jsonl_prepro_statis.jsonl', 'seq_num': 362}),\n",
      " Document(page_content='가금류 사육업\\r\\n기타 가금류 및 조류 사육업\\r\\n기타', metadata={'ISIC4_CODE': '0146', 'KSIC10_CODE': '01239', 'HS2017_CODE': '040729', 'source': '/root/contest-matching-model/data/jsonl_prepro_statis.jsonl', 'seq_num': 349}),\n",
      " Document(page_content='표백하지 않은 것', metadata={'ISIC4_CODE': ' ', 'KSIC10_CODE': ' ', 'HS2017_CODE': '480411', 'source': '/root/contest-matching-model/data/jsonl_prepro_statis.jsonl', 'seq_num': 2615}),\n",
      " Document(page_content='포도당과 포도당시럽(건조 상태에서 과당의 함유량이 전 중량의 100분의 20 이상 100분의 50 미만인 것으로 한정한다). 다만, 전화당(轉化糖)은 제외한다.', metadata={'ISIC4_CODE': '1062', 'KSIC10_CODE': ' ', 'HS2017_CODE': '170240', 'source': '/root/contest-matching-model/data/jsonl_prepro_statis.jsonl', 'seq_num': 1448}),\n",
      " Document(page_content='기타 국제 및 외국기관', metadata={'ISIC4_CODE': ' ', 'KSIC10_CODE': '99009', 'HS2017_CODE': ' ', 'source': '/root/contest-matching-model/data/jsonl_prepro_statis.jsonl', 'seq_num': 8519}),\n",
      " Document(page_content='화장지ㆍ안면용 티슈스톡, 타월ㆍ냅킨스톡과 이와 유사한 가정용이나 위생용 종이, 셀룰로오스워딩ㆍ셀룰로오스섬유의 웹(web)[주름지거나(creped) 구겨진(crinkled) 것', metadata={'ISIC4_CODE': '1701', 'KSIC10_CODE': '17125', 'HS2017_CODE': '480300', 'source': '/root/contest-matching-model/data/jsonl_prepro_statis.jsonl', 'seq_num': 2612})]\n",
      "\n",
      "\n",
      "[BM25 Retriever]\n",
      "[Document(page_content='포도당과 포도당시럽(건조 상태에서 과당의 함유량이 전 중량의 100분의 20 이상 100분의 50 미만인 것으로 한정한다). 다만, 전화당(轉化糖)은 제외한다.', metadata={'ISIC4_CODE': '1062', 'KSIC10_CODE': ' ', 'HS2017_CODE': '170240', 'source': '/root/contest-matching-model/data/jsonl_prepro_statis.jsonl', 'seq_num': 1448}),\n",
      " Document(page_content='기타 국제 및 외국기관', metadata={'ISIC4_CODE': ' ', 'KSIC10_CODE': '99009', 'HS2017_CODE': ' ', 'source': '/root/contest-matching-model/data/jsonl_prepro_statis.jsonl', 'seq_num': 8519}),\n",
      " Document(page_content='화장지ㆍ안면용 티슈스톡, 타월ㆍ냅킨스톡과 이와 유사한 가정용이나 위생용 종이, 셀룰로오스워딩ㆍ셀룰로오스섬유의 웹(web)[주름지거나(creped) 구겨진(crinkled) 것', metadata={'ISIC4_CODE': '1701', 'KSIC10_CODE': '17125', 'HS2017_CODE': '480300', 'source': '/root/contest-matching-model/data/jsonl_prepro_statis.jsonl', 'seq_num': 2612}),\n",
      " Document(page_content='표백하지 않은 것', metadata={'ISIC4_CODE': ' ', 'KSIC10_CODE': ' ', 'HS2017_CODE': '480411', 'source': '/root/contest-matching-model/data/jsonl_prepro_statis.jsonl', 'seq_num': 2615}),\n",
      " Document(page_content='표백하지 않은 것', metadata={'ISIC4_CODE': ' ', 'KSIC10_CODE': ' ', 'HS2017_CODE': '480411', 'source': '/root/contest-matching-model/data/jsonl_prepro_statis.jsonl', 'seq_num': 2614})]\n",
      "\n",
      "\n",
      "[FAISS Retriever]\n",
      "[Document(page_content='낙타과 동물 사육업\\r\\n그 외 기타 축산업\\r\\n기타', metadata={'ISIC4_CODE': '0143', 'KSIC10_CODE': '01299', 'HS2017_CODE': '510219', 'source': '/root/contest-matching-model/data/jsonl_prepro_statis.jsonl', 'seq_num': 367}),\n",
      " Document(page_content='기타 축산업\\r\\n기타 가금류 및 조류 사육업\\r\\n맹금류', metadata={'ISIC4_CODE': '0149', 'KSIC10_CODE': '01239', 'HS2017_CODE': '010631', 'source': '/root/contest-matching-model/data/jsonl_prepro_statis.jsonl', 'seq_num': 325}),\n",
      " Document(page_content='기타 축산업\\r\\n그 외 기타 축산업\\r\\n따로 분류되지 않은 식용인 동물성 생산품', metadata={'ISIC4_CODE': '0149', 'KSIC10_CODE': '01299', 'HS2017_CODE': '041000', 'source': '/root/contest-matching-model/data/jsonl_prepro_statis.jsonl', 'seq_num': 362}),\n",
      " Document(page_content='가금류 사육업\\r\\n기타 가금류 및 조류 사육업\\r\\n기타', metadata={'ISIC4_CODE': '0146', 'KSIC10_CODE': '01239', 'HS2017_CODE': '040729', 'source': '/root/contest-matching-model/data/jsonl_prepro_statis.jsonl', 'seq_num': 349})]\n"
     ]
    }
   ],
   "source": [
    "print(\"[Ensemble Retriever]\")\n",
    "pprint(ensemble_result)\n",
    "print('\\n')\n",
    "print(\"[BM25 Retriever]\")\n",
    "pprint(bm25_result)\n",
    "print('\\n')\n",
    "print(\"[FAISS Retriever]\")\n",
    "pprint(faiss_result)"
   ]
  },
  {
   "cell_type": "markdown",
   "metadata": {},
   "source": [
    "## Emsemble: 통계청"
   ]
  },
  {
   "cell_type": "code",
   "execution_count": 70,
   "metadata": {},
   "outputs": [
    {
     "name": "stdout",
     "output_type": "stream",
     "text": [
      "general farms, primarily animals, nsk  derives 50 percent or more of its total value  of sales of agricultural products from livestock and animal specialties and their products, but less than 50 percent from products of any single three-digit industry group. crop and animal production general farms, primarily animals all other animal production mixed farming raising of other animals mixed farmingother livestock farming not elsewhere classified\n",
      "0149\n"
     ]
    }
   ],
   "source": [
    "query = text_documents[1].page_content\n",
    "print(query)\n",
    "print(text_documents[1].metadata['CODE'])"
   ]
  },
  {
   "cell_type": "code",
   "execution_count": 71,
   "metadata": {},
   "outputs": [],
   "source": [
    "ensemble_retriever = EnsembleRetriever(\n",
    "    retrievers=[customs_bm25_retriever, customs_faiss_retriever],\n",
    "    weights=[0.3, 0.7],\n",
    ")"
   ]
  },
  {
   "cell_type": "code",
   "execution_count": 72,
   "metadata": {},
   "outputs": [],
   "source": [
    "ensemble_result = ensemble_retriever.invoke(query)\n",
    "bm25_result = customs_bm25_retriever.invoke(query)\n",
    "faiss_result = customs_faiss_retriever.invoke(query)"
   ]
  },
  {
   "cell_type": "code",
   "execution_count": 74,
   "metadata": {},
   "outputs": [
    {
     "name": "stdout",
     "output_type": "stream",
     "text": [
      "[Ensemble Retriever]\n",
      "Fertilisers produced by the mixing or chemical treatment of animal\n",
      "agricultural purposes\n",
      "Agricultural fertilizers or for manufacturing agricultural\n",
      "Of machinery for the extraction or preparation of animal or fixed\n",
      "Dead animals, other than products of dead animals of Chapter 3\n",
      "Posts and beams other than products of subheadings 4418.81 to\n",
      "Cobalt mattes and other intermediate products of cobalt metallurgy\n",
      ", tubs and other coopers' products and parts thereof, of wood\n",
      "diffusion and oxidation furnaces for production of semiconductor\n",
      "\n",
      "\n",
      "[BM25 Retriever]\n",
      "Dead animals, other than products of dead animals of Chapter 3\n",
      "Posts and beams other than products of subheadings 4418.81 to\n",
      "Cobalt mattes and other intermediate products of cobalt metallurgy\n",
      ", tubs and other coopers' products and parts thereof, of wood\n",
      "diffusion and oxidation furnaces for production of semiconductor\n",
      "\n",
      "\n",
      "[FAISS Retriever]\n",
      "Fertilisers produced by the mixing or chemical treatment of animal\n",
      "agricultural purposes\n",
      "Agricultural fertilizers or for manufacturing agricultural\n",
      "Of machinery for the extraction or preparation of animal or fixed\n"
     ]
    }
   ],
   "source": [
    "print(\"[Ensemble Retriever]\")\n",
    "for res in ensemble_result:\n",
    "    print(res.page_content)\n",
    "print('\\n')\n",
    "print(\"[BM25 Retriever]\")\n",
    "for res in bm25_result:\n",
    "    print(res.page_content)\n",
    "print('\\n')\n",
    "print(\"[FAISS Retriever]\")\n",
    "for res in faiss_result:\n",
    "    print(res.page_content)"
   ]
  }
 ],
 "metadata": {
  "kernelspec": {
   "display_name": "base",
   "language": "python",
   "name": "python3"
  },
  "language_info": {
   "codemirror_mode": {
    "name": "ipython",
    "version": 3
   },
   "file_extension": ".py",
   "mimetype": "text/x-python",
   "name": "python",
   "nbconvert_exporter": "python",
   "pygments_lexer": "ipython3",
   "version": "3.10.13"
  }
 },
 "nbformat": 4,
 "nbformat_minor": 2
}
